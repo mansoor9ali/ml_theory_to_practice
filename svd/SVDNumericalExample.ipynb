{
 "cells": [
  {
   "cell_type": "code",
   "execution_count": 1,
   "id": "f7e40479",
   "metadata": {},
   "outputs": [],
   "source": [
    "import numpy as np"
   ]
  },
  {
   "cell_type": "code",
   "execution_count": 2,
   "id": "e730887f",
   "metadata": {},
   "outputs": [],
   "source": [
    "A = np.array([[1, 0], [0, 1], [2, 2]])"
   ]
  },
  {
   "cell_type": "code",
   "execution_count": 3,
   "id": "13ddcff4",
   "metadata": {},
   "outputs": [
    {
     "data": {
      "text/plain": [
       "(array([[-2.35702260e-01,  7.07106781e-01, -6.66666667e-01],\n",
       "        [-2.35702260e-01, -7.07106781e-01, -6.66666667e-01],\n",
       "        [-9.42809042e-01, -1.11022302e-16,  3.33333333e-01]]),\n",
       " array([3., 1.]),\n",
       " array([[-0.70710678, -0.70710678],\n",
       "        [ 0.70710678, -0.70710678]]))"
      ]
     },
     "execution_count": 3,
     "metadata": {},
     "output_type": "execute_result"
    }
   ],
   "source": [
    "np.linalg.svd(A)"
   ]
  },
  {
   "cell_type": "markdown",
   "id": "de1772dc",
   "metadata": {},
   "source": [
    "Truncated SVD"
   ]
  },
  {
   "cell_type": "code",
   "execution_count": 4,
   "id": "2447785a",
   "metadata": {},
   "outputs": [
    {
     "data": {
      "text/plain": [
       "array([[0.5, 0.5],\n",
       "       [0.5, 0.5],\n",
       "       [2. , 2. ]])"
      ]
     },
     "execution_count": 4,
     "metadata": {},
     "output_type": "execute_result"
    }
   ],
   "source": [
    "U, S, Vt = np.linalg.svd(A)\n",
    "\n",
    "k = 1  # target rank\n",
    "U_k = U[:, :k]\n",
    "S_k = np.diag(S[:k])\n",
    "Vt_k = Vt[:k, :]\n",
    "\n",
    "A_k = U_k @ S_k @ Vt_k\n",
    "A_k"
   ]
  },
  {
   "cell_type": "markdown",
   "id": "6b34e05d",
   "metadata": {},
   "source": [
    "Dimensionality reduction"
   ]
  },
  {
   "cell_type": "code",
   "execution_count": 5,
   "id": "756be6e9",
   "metadata": {},
   "outputs": [
    {
     "data": {
      "text/plain": [
       "array([[-0.70710678],\n",
       "       [-0.70710678],\n",
       "       [-2.82842712]])"
      ]
     },
     "execution_count": 5,
     "metadata": {},
     "output_type": "execute_result"
    }
   ],
   "source": [
    "V_k = Vt.T[:, :k]\n",
    "\n",
    "A @ V_k"
   ]
  },
  {
   "cell_type": "code",
   "execution_count": 6,
   "id": "2367e30f",
   "metadata": {},
   "outputs": [
    {
     "data": {
      "text/plain": [
       "array([[-0.70710678],\n",
       "       [-0.70710678],\n",
       "       [-2.82842712]])"
      ]
     },
     "execution_count": 6,
     "metadata": {},
     "output_type": "execute_result"
    }
   ],
   "source": [
    "U_k @ S_k"
   ]
  },
  {
   "cell_type": "code",
   "execution_count": 7,
   "id": "687f7e13",
   "metadata": {},
   "outputs": [
    {
     "data": {
      "text/plain": [
       "array([[0.70710678],\n",
       "       [0.70710678],\n",
       "       [2.82842712]])"
      ]
     },
     "execution_count": 7,
     "metadata": {},
     "output_type": "execute_result"
    }
   ],
   "source": [
    "from sklearn.decomposition import TruncatedSVD\n",
    "\n",
    "svd = TruncatedSVD(n_components=1, random_state=0)\n",
    "A_reduced = svd.fit_transform(A)\n",
    "A_reduced"
   ]
  },
  {
   "cell_type": "code",
   "execution_count": null,
   "id": "596330d1",
   "metadata": {},
   "outputs": [],
   "source": []
  }
 ],
 "metadata": {
  "kernelspec": {
   "display_name": "Python 3 (ipykernel)",
   "language": "python",
   "name": "python3"
  },
  "language_info": {
   "codemirror_mode": {
    "name": "ipython",
    "version": 3
   },
   "file_extension": ".py",
   "mimetype": "text/x-python",
   "name": "python",
   "nbconvert_exporter": "python",
   "pygments_lexer": "ipython3",
   "version": "3.9.12"
  }
 },
 "nbformat": 4,
 "nbformat_minor": 5
}
