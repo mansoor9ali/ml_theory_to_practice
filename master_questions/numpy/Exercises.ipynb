{
 "cells": [
  {
   "cell_type": "code",
   "execution_count": 1,
   "id": "74f5621d",
   "metadata": {},
   "outputs": [],
   "source": [
    "import numpy as np"
   ]
  },
  {
   "cell_type": "markdown",
   "id": "48787502",
   "metadata": {},
   "source": [
    "Q1. Given an array A, print all the numbers that appear more than twice in the array."
   ]
  },
  {
   "cell_type": "code",
   "execution_count": 8,
   "id": "bf0a4099",
   "metadata": {},
   "outputs": [],
   "source": [
    "A = np.array([1, 2, 2, 3, 3, 4, 1, 3, 1])"
   ]
  },
  {
   "cell_type": "code",
   "execution_count": 9,
   "id": "947a0074",
   "metadata": {},
   "outputs": [
    {
     "data": {
      "text/plain": [
       "array([1, 3])"
      ]
     },
     "execution_count": 9,
     "metadata": {},
     "output_type": "execute_result"
    }
   ],
   "source": [
    "values, counts = np.unique(A, return_counts=True)\n",
    "values[counts > 2]"
   ]
  },
  {
   "cell_type": "markdown",
   "id": "55a37350",
   "metadata": {},
   "source": [
    "Q2. Given an array A and a number v, find the closest value in A to v."
   ]
  },
  {
   "cell_type": "code",
   "execution_count": 12,
   "id": "f75456ed",
   "metadata": {},
   "outputs": [],
   "source": [
    "A = np.array([10, 3, 7, 8, 15])\n",
    "v = 4"
   ]
  },
  {
   "cell_type": "code",
   "execution_count": 13,
   "id": "0d37e166",
   "metadata": {},
   "outputs": [
    {
     "data": {
      "text/plain": [
       "3"
      ]
     },
     "execution_count": 13,
     "metadata": {},
     "output_type": "execute_result"
    }
   ],
   "source": [
    "A[np.argmin(np.abs(A - v))]"
   ]
  },
  {
   "cell_type": "markdown",
   "id": "53432902",
   "metadata": {},
   "source": [
    "Q3. Given a matrix A, print the number of rows in the matrix that contain the number 5."
   ]
  },
  {
   "cell_type": "code",
   "execution_count": 14,
   "id": "5d4c3358",
   "metadata": {},
   "outputs": [],
   "source": [
    "A = np.array([[1, 5, 8], [2, 3, 4], [5, 9, 0]])"
   ]
  },
  {
   "cell_type": "code",
   "execution_count": 15,
   "id": "c4edda08",
   "metadata": {},
   "outputs": [
    {
     "data": {
      "text/plain": [
       "2"
      ]
     },
     "execution_count": 15,
     "metadata": {},
     "output_type": "execute_result"
    }
   ],
   "source": [
    "np.count_nonzero(np.any(A == 5, axis=1))"
   ]
  },
  {
   "cell_type": "markdown",
   "id": "d32a2bc9",
   "metadata": {},
   "source": [
    "Q4. Given a matrix A, print the indices of the columns that contain a number greater than 7."
   ]
  },
  {
   "cell_type": "code",
   "execution_count": 16,
   "id": "033fac1c",
   "metadata": {},
   "outputs": [],
   "source": [
    "A = np.array([[1, 2, 8], [3, 4, 1], [10, 5, 5]])"
   ]
  },
  {
   "cell_type": "code",
   "execution_count": 18,
   "id": "313b1778",
   "metadata": {},
   "outputs": [
    {
     "data": {
      "text/plain": [
       "array([0, 2], dtype=int64)"
      ]
     },
     "execution_count": 18,
     "metadata": {},
     "output_type": "execute_result"
    }
   ],
   "source": [
    "np.where(np.any(A > 7, axis=0))[0]"
   ]
  },
  {
   "cell_type": "markdown",
   "id": "02113bd4",
   "metadata": {},
   "source": [
    "Q5. Given a matrix A, nor|malize its rows such that the numbers in each row sum to 1."
   ]
  },
  {
   "cell_type": "code",
   "execution_count": 21,
   "id": "25bcf102",
   "metadata": {},
   "outputs": [],
   "source": [
    "A = np.array([[1, 2, 1], [1, 4, 5]])"
   ]
  },
  {
   "cell_type": "code",
   "execution_count": 20,
   "id": "69c233b4",
   "metadata": {},
   "outputs": [
    {
     "data": {
      "text/plain": [
       "array([[0.25, 0.5 , 0.25],\n",
       "       [0.1 , 0.4 , 0.5 ]])"
      ]
     },
     "execution_count": 20,
     "metadata": {},
     "output_type": "execute_result"
    }
   ],
   "source": [
    "A = A / np.sum(A, axis=1).reshape(-1, 1) # broadcast an array of shape (m, n) with a column vector (m, 1)\n",
    "A"
   ]
  },
  {
   "cell_type": "markdown",
   "id": "0dfeb37f",
   "metadata": {},
   "source": [
    "Q6. Given a matrix A, zero out all the rows that contain a negative number."
   ]
  },
  {
   "cell_type": "code",
   "execution_count": 27,
   "id": "9df2021a",
   "metadata": {},
   "outputs": [],
   "source": [
    "A = np.array([[-1, 2, 1], [1, 4, 5]])"
   ]
  },
  {
   "cell_type": "code",
   "execution_count": 28,
   "id": "7ce3302a",
   "metadata": {},
   "outputs": [
    {
     "data": {
      "text/plain": [
       "array([[0, 0, 0],\n",
       "       [1, 4, 5]])"
      ]
     },
     "execution_count": 28,
     "metadata": {},
     "output_type": "execute_result"
    }
   ],
   "source": [
    "A[np.where(np.any(A < 0, axis=1))] = np.zeros(A.shape[1])\n",
    "A"
   ]
  },
  {
   "cell_type": "markdown",
   "id": "6c0ec148",
   "metadata": {},
   "source": [
    "Q7. Given an array A, find all the even numbers in the array that are followed by an odd number."
   ]
  },
  {
   "cell_type": "code",
   "execution_count": 30,
   "id": "45d034e5",
   "metadata": {},
   "outputs": [],
   "source": [
    "A = np.array([4, 2, 7, 11, 8, 5, 10, 14])"
   ]
  },
  {
   "cell_type": "code",
   "execution_count": 32,
   "id": "a8451d2c",
   "metadata": {},
   "outputs": [
    {
     "data": {
      "text/plain": [
       "array([2, 8])"
      ]
     },
     "execution_count": 32,
     "metadata": {},
     "output_type": "execute_result"
    }
   ],
   "source": [
    "even = (A % 2 == 0)\n",
    "next_odd = (np.roll(A, -1) % 2 == 1)\n",
    "A[even & next_odd]"
   ]
  },
  {
   "cell_type": "markdown",
   "id": "67d84e78",
   "metadata": {},
   "source": [
    "Q8. Given an array A, find all the local maxima (peaks) in the array. A local maximum is a number that is greater or equal to its two neighbors. "
   ]
  },
  {
   "cell_type": "code",
   "execution_count": 33,
   "id": "d1a8e033",
   "metadata": {},
   "outputs": [],
   "source": [
    "A = np.array([5, 8, 3, 1, 10, 9, 12])"
   ]
  },
  {
   "cell_type": "code",
   "execution_count": 34,
   "id": "66ea6bb1",
   "metadata": {},
   "outputs": [
    {
     "data": {
      "text/plain": [
       "array([ 8, 10])"
      ]
     },
     "execution_count": 34,
     "metadata": {},
     "output_type": "execute_result"
    }
   ],
   "source": [
    "B = A[1:-1]  # the first and last numbers cannot be peaks\n",
    "B[(B > A[:-2]) & (B > A[2:])]"
   ]
  },
  {
   "cell_type": "markdown",
   "id": "32104550",
   "metadata": {},
   "source": [
    "Q9. Given a matrix A, find how many rows in A contain duplicate values."
   ]
  },
  {
   "cell_type": "code",
   "execution_count": 36,
   "id": "2eb5ffd1",
   "metadata": {},
   "outputs": [],
   "source": [
    "A = np.array([[1, 2, 3], [1, 1, 1], [2, 8, 8]])"
   ]
  },
  {
   "cell_type": "code",
   "execution_count": 37,
   "id": "597e2238",
   "metadata": {},
   "outputs": [
    {
     "data": {
      "text/plain": [
       "2"
      ]
     },
     "execution_count": 37,
     "metadata": {},
     "output_type": "execute_result"
    }
   ],
   "source": [
    "s = np.sort(A, axis=1)\n",
    "np.count_nonzero(np.any(s[:, 1:] == s[:, :-1], axis=1))"
   ]
  },
  {
   "cell_type": "markdown",
   "id": "369124d9",
   "metadata": {},
   "source": [
    "Q10. Given a matrix A, find all the saddle points in A. An element in the matrix is a saddle point, if it is both the minimum of its row and maximum of its column or vice versa."
   ]
  },
  {
   "cell_type": "code",
   "execution_count": 38,
   "id": "0576985c",
   "metadata": {},
   "outputs": [],
   "source": [
    "A = np.array([[9, 12, 7, 3, 12], \n",
    "              [3, 10, 6, 2, 4],\n",
    "              [18, 24, 17, 6, 11],\n",
    "              [15, 21, 13, 8, 12],\n",
    "              [1, 18, 22, 4, 15]])"
   ]
  },
  {
   "cell_type": "code",
   "execution_count": 41,
   "id": "3c52592c",
   "metadata": {},
   "outputs": [
    {
     "data": {
      "text/plain": [
       "array([10,  8])"
      ]
     },
     "execution_count": 41,
     "metadata": {},
     "output_type": "execute_result"
    }
   ],
   "source": [
    "n1 = np.argmin(A, axis=0)\n",
    "m1 = np.argmax(A, axis=1)\n",
    "\n",
    "n2 = np.argmax(A, axis=0)\n",
    "m2 = np.argmin(A, axis=1)\n",
    "\n",
    "i = np.arange(A.shape[0])\n",
    "idx1 = np.where(m1[n1[i]] == i)[0]\n",
    "idx2 = np.where(m2[n2[i]] == i)[0]\n",
    "\n",
    "saddle1 = A[idx1, n1[idx1]]\n",
    "saddle2 = A[idx2, n2[idx2]]\n",
    "np.hstack((saddle1, saddle2))"
   ]
  },
  {
   "cell_type": "code",
   "execution_count": null,
   "id": "5e088004",
   "metadata": {},
   "outputs": [],
   "source": []
  }
 ],
 "metadata": {
  "kernelspec": {
   "display_name": "Python 3 (ipykernel)",
   "language": "python",
   "name": "python3"
  },
  "language_info": {
   "codemirror_mode": {
    "name": "ipython",
    "version": 3
   },
   "file_extension": ".py",
   "mimetype": "text/x-python",
   "name": "python",
   "nbconvert_exporter": "python",
   "pygments_lexer": "ipython3",
   "version": "3.9.12"
  }
 },
 "nbformat": 4,
 "nbformat_minor": 5
}
