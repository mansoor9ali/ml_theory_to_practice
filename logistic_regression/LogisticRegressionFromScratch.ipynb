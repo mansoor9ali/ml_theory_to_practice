{
 "cells": [
  {
   "cell_type": "markdown",
   "id": "8f0ac360",
   "metadata": {},
   "source": [
    "### 1. Loading the Data"
   ]
  },
  {
   "cell_type": "code",
   "execution_count": 1,
   "id": "f6448980",
   "metadata": {},
   "outputs": [],
   "source": [
    "import numpy as np\n",
    "import pandas as pd\n",
    "import matplotlib.pyplot as plt\n",
    "import seaborn as sns\n",
    "\n",
    "np.random.seed(0)"
   ]
  },
  {
   "cell_type": "code",
   "execution_count": 2,
   "id": "a125655b",
   "metadata": {},
   "outputs": [],
   "source": [
    "from sklearn.datasets import load_iris\n",
    "\n",
    "iris = load_iris()\n",
    "X = iris.data[:, :2]  # Take only the first two features\n",
    "y = iris.target\n",
    "\n",
    "# Take only the setosa and versicolor flowers\n",
    "X = X[(y == 0) | (y == 1)]\n",
    "y = y[(y == 0) | (y == 1)]"
   ]
  },
  {
   "cell_type": "markdown",
   "id": "903e6c87",
   "metadata": {},
   "source": [
    "### 2. Visualizing the Data"
   ]
  },
  {
   "cell_type": "code",
   "execution_count": 3,
   "id": "edcf01f6",
   "metadata": {},
   "outputs": [],
   "source": [
    "def plot_data(X, y):\n",
    "    sns.scatterplot(x=X[:, 0], y=X[:, 1], hue=iris.target_names[y], style=iris.target_names[y], \n",
    "                    palette=['r','b'], markers=('s','o'), edgecolor='k')\n",
    "    plt.xlabel(iris.feature_names[0])\n",
    "    plt.ylabel(iris.feature_names[1])\n",
    "    plt.legend()    "
   ]
  },
  {
   "cell_type": "code",
   "execution_count": 4,
   "id": "d5af2e3b",
   "metadata": {},
   "outputs": [
    {
     "data": {
      "image/png": "[encoded data removed]",
      "text/plain": [
       "<Figure size 432x288 with 1 Axes>"
      ]
     },
     "metadata": {
      "needs_background": "light"
     },
     "output_type": "display_data"
    }
   ],
   "source": [
    "plot_data(X, y)\n",
    "plt.savefig('figures/iris_data.pdf')"
   ]
  },
  {
   "cell_type": "code",
   "execution_count": 5,
   "id": "f00a5bd2",
   "metadata": {},
   "outputs": [],
   "source": [
    "# Add a column for the bias\n",
    "n = X.shape[0] \n",
    "X_with_bias = np.hstack((np.ones((n, 1)), X))"
   ]
  },
  {
   "cell_type": "code",
   "execution_count": 6,
   "id": "d1f8dc7f",
   "metadata": {},
   "outputs": [],
   "source": [
    "from sklearn.model_selection import train_test_split\n",
    "\n",
    "X_train, X_test, y_train, y_test = train_test_split(X_with_bias, y, random_state=0)"
   ]
  },
  {
   "cell_type": "markdown",
   "id": "27a3f3b8",
   "metadata": {},
   "source": [
    "### 3. Model Implementation"
   ]
  },
  {
   "cell_type": "markdown",
   "id": "bab9aa48",
   "metadata": {},
   "source": [
    "Logistic regression hypothesis: \n",
    "\n",
    "$$h_\\textbf{w}(\\textbf{x}) = p = \\sigma(\\textbf{w}^T\\textbf{x})$$\n",
    "\n",
    "$$\\sigma(z) = \\frac{1}{1+e^{-z}}$$"
   ]
  },
  {
   "cell_type": "markdown",
   "id": "fc20dda3",
   "metadata": {},
   "source": [
    "#### 3.1 Sigmoid function"
   ]
  },
  {
   "cell_type": "code",
   "execution_count": 7,
   "id": "a13be4b7",
   "metadata": {},
   "outputs": [],
   "source": [
    "def sigmoid(z):\n",
    "    \"\"\" Compute the sigmoid of z (z can be a scalar or a vector). \"\"\"\n",
    "    z = np.array(z)\n",
    "    return 1 / (1 + np.exp(-z))"
   ]
  },
  {
   "cell_type": "markdown",
   "id": "8ac4c28c",
   "metadata": {},
   "source": [
    "#### 3.2 Cost function and gradient"
   ]
  },
  {
   "cell_type": "markdown",
   "id": "a2acc6f0",
   "metadata": {},
   "source": [
    "Cost function in logistic regression is:\n",
    "\n",
    "$$J(\\textbf{w}) = -\\frac{1}{n}\\sum_{i=1}^n\\left[y_i \\log p_i + (1-y_i)\\log(1-p_i)\\right]$$\n",
    "\n",
    "Vectorized implementation:\n",
    "\n",
    "$\\textbf{p} = \\sigma(X\\textbf{w})$\n",
    "\n",
    "$J(\\textbf{w}) = -\\frac{1}{n}\\left(\\textbf{y}^T \\log(\\textbf{p})+(\\textbf{1}-\\textbf{y})^T\\log(\\textbf{1}-\\textbf{p})\\right)$\n",
    "\n",
    "\n",
    "\n",
    "The gradient of the cost is a vector of the same length as $\\textbf{w}$ where $j^{th}$ element (for $j=0,1,...,m$) is defined as follows:\n",
    "\n",
    "$$\\frac{\\partial J(\\textbf{w})}{\\partial w_j} = \\frac{1}{n} \\sum_{i=1}^n [(p_i - y_i) \\cdot x_{ij}]$$\n",
    "\n",
    "Vectorized:\n",
    "$\\nabla J(\\textbf{w}) = \\frac{1}{n} X^T (\\textbf{p} - \\textbf{y})$"
   ]
  },
  {
   "cell_type": "code",
   "execution_count": 8,
   "id": "53f0e152",
   "metadata": {},
   "outputs": [],
   "source": [
    "def cost_function(X, y, w):\n",
    "    \"\"\" J, grad = cost_function(X, y, w) computes the cost of a logistic regression model \n",
    "        with parameters w and the gradient of the cost w.r.t. to the parameters. \"\"\"\n",
    "    # Compute the cost\n",
    "    p = sigmoid(X @ w)    \n",
    "    J = -(1/n) * (y @ np.log(p) + (1-y) @ np.log(1-p)) \n",
    "    \n",
    "    # Compute the gradient    \n",
    "    grad = (1/n) * X.T @ (p - y)  \n",
    "    return J, grad"
   ]
  },
  {
   "cell_type": "code",
   "execution_count": 9,
   "id": "37670083",
   "metadata": {},
   "outputs": [
    {
     "name": "stdout",
     "output_type": "stream",
     "text": [
      "w: [0.5488135  0.71518937 0.60276338]\n",
      "Cost at w: 2.314505839067951\n",
      "Gradient at w: [0.36855061 1.86634895 1.27264487]\n"
     ]
    }
   ],
   "source": [
    "w = np.random.rand(X_train.shape[1])\n",
    "cost, grad = cost_function(X_train, y_train, w)\n",
    "\n",
    "print('w:', w)\n",
    "print('Cost at w:', cost)\n",
    "print('Gradient at w:', grad)"
   ]
  },
  {
   "cell_type": "markdown",
   "id": "d74943c8",
   "metadata": {},
   "source": [
    "#### 3.3 Gradient descent"
   ]
  },
  {
   "cell_type": "code",
   "execution_count": 10,
   "id": "549f8d25",
   "metadata": {},
   "outputs": [],
   "source": [
    "def optimize_model(X, y, alpha=0.01, max_iter=5000, tol=0.0001):\n",
    "    \"\"\" Optimize the model using gradient descent.\n",
    "        X, y: The training set        \n",
    "        alpha: The learning rate\n",
    "        max_iter: The maximum number of passes over the training set (epochs)\n",
    "        tol: The stopping criterion. Training will stop when (new_cost > cost - tol)\n",
    "    \"\"\"\n",
    "    w = np.random.rand(X.shape[1])\n",
    "    cost, grad = cost_function(X, y, w)\n",
    "    \n",
    "    for i in range(max_iter + 1):\n",
    "        w = w - alpha * grad\n",
    "        new_cost, grad = cost_function(X, y, w)        \n",
    "        if new_cost > cost - tol:\n",
    "            print(f'Converged after {i} iterations')\n",
    "            return w, new_cost\n",
    "        cost = new_cost\n",
    "    \n",
    "    print('Maximum number of iterations reached')\n",
    "    return w, cost"
   ]
  },
  {
   "cell_type": "code",
   "execution_count": 11,
   "id": "8143e594",
   "metadata": {},
   "outputs": [
    {
     "name": "stdout",
     "output_type": "stream",
     "text": [
      "Converged after 1413 iterations\n",
      "opt_w: [ 0.28014029  0.80541854 -1.48367938]\n",
      "Cost at opt_w: 0.28389717767222555\n"
     ]
    }
   ],
   "source": [
    "opt_w, cost = optimize_model(X_train, y_train)\n",
    "\n",
    "print('opt_w:', opt_w)\n",
    "print('Cost at opt_w:', cost)"
   ]
  },
  {
   "cell_type": "markdown",
   "id": "585f8514",
   "metadata": {},
   "source": [
    "### 4. Using the Model for Predictions"
   ]
  },
  {
   "cell_type": "code",
   "execution_count": 12,
   "id": "a87dc492",
   "metadata": {},
   "outputs": [],
   "source": [
    "def predict_prob(X, w):\n",
    "    \"\"\" Return the probability that samples in X belong to the positive class\n",
    "        X: the feature matrix (every row in X represents one sample)\n",
    "        w: the learned logistic regression parameters  \n",
    "    \"\"\"\n",
    "    p = sigmoid(X @ w)\n",
    "    return p"
   ]
  },
  {
   "cell_type": "code",
   "execution_count": 13,
   "id": "f065ec46",
   "metadata": {},
   "outputs": [
    {
     "data": {
      "text/plain": [
       "array([0.89522808])"
      ]
     },
     "execution_count": 13,
     "metadata": {},
     "output_type": "execute_result"
    }
   ],
   "source": [
    "predict_prob([[1, 6, 2]], opt_w)"
   ]
  },
  {
   "cell_type": "code",
   "execution_count": 14,
   "id": "61ef2a47",
   "metadata": {},
   "outputs": [
    {
     "data": {
      "text/plain": [
       "array([0.56436688])"
      ]
     },
     "execution_count": 14,
     "metadata": {},
     "output_type": "execute_result"
    }
   ],
   "source": [
    "predict_prob([[1, 5.5, 3]], opt_w)"
   ]
  },
  {
   "cell_type": "code",
   "execution_count": 15,
   "id": "444ff435",
   "metadata": {},
   "outputs": [],
   "source": [
    "def predict(X, w):\n",
    "    \"\"\" Predict whether the label is 0 or 1 for the samples in X using a threshold of 0.5\n",
    "        (i.e., if sigmoid(X @ theta) >= 0.5, predict 1)\n",
    "    \"\"\"\n",
    "    p = sigmoid(X @ w)\n",
    "    y_pred = (p >= 0.5).astype(int)\n",
    "    return y_pred"
   ]
  },
  {
   "cell_type": "code",
   "execution_count": 16,
   "id": "a95d6116",
   "metadata": {},
   "outputs": [
    {
     "data": {
      "text/plain": [
       "array([1, 1])"
      ]
     },
     "execution_count": 16,
     "metadata": {},
     "output_type": "execute_result"
    }
   ],
   "source": [
    "predict([[1, 6, 2], [1, 5.5, 3]], opt_w)"
   ]
  },
  {
   "cell_type": "markdown",
   "id": "e7c16512",
   "metadata": {},
   "source": [
    "### 5. Evaluating the Model"
   ]
  },
  {
   "cell_type": "code",
   "execution_count": 17,
   "id": "8e2b4e8a",
   "metadata": {},
   "outputs": [],
   "source": [
    "def evaluate_model(X, y, w):\n",
    "    y_pred = predict(X, w)\n",
    "    accuracy = np.mean(y == y_pred)\n",
    "    return accuracy"
   ]
  },
  {
   "cell_type": "markdown",
   "id": "bd6295fd",
   "metadata": {},
   "source": [
    "#### 4.1 Accuracy on the training set"
   ]
  },
  {
   "cell_type": "code",
   "execution_count": 18,
   "id": "b7ba7c50",
   "metadata": {},
   "outputs": [
    {
     "name": "stdout",
     "output_type": "stream",
     "text": [
      "Train accuracy: 98.667%\n"
     ]
    }
   ],
   "source": [
    "train_accuracy = evaluate_model(X_train, y_train, opt_w)\n",
    "print(f'Train accuracy: {train_accuracy * 100:.3f}%')"
   ]
  },
  {
   "cell_type": "code",
   "execution_count": 19,
   "id": "f317172e",
   "metadata": {},
   "outputs": [
    {
     "name": "stdout",
     "output_type": "stream",
     "text": [
      "Test accuracy: 100.000%\n"
     ]
    }
   ],
   "source": [
    "test_accuracy = evaluate_model(X_test, y_test, opt_w)\n",
    "print(f'Test accuracy: {test_accuracy * 100:.3f}%')"
   ]
  },
  {
   "cell_type": "markdown",
   "id": "a6a6612b",
   "metadata": {},
   "source": [
    "#### 4.2 Decision boundary"
   ]
  },
  {
   "cell_type": "code",
   "execution_count": 20,
   "id": "c934251c",
   "metadata": {},
   "outputs": [],
   "source": [
    "def plot_decision_boundary(X, y, w):\n",
    "    \"\"\" Plot the decision boundary between the classes \"\"\"\n",
    "    plot_data(X, y)\n",
    "    \n",
    "    line_x = np.array(plt.gca().get_xlim())\n",
    "    line_y = -1 / w[2] * (w[1] * line_x + w[0])\n",
    "    plt.plot(line_x, line_y, c='k', ls='--')"
   ]
  },
  {
   "cell_type": "code",
   "execution_count": 21,
   "id": "14337424",
   "metadata": {},
   "outputs": [
    {
     "data": {
      "image/png": "[encoded data removed]",
      "text/plain": [
       "<Figure size 432x288 with 1 Axes>"
      ]
     },
     "metadata": {
      "needs_background": "light"
     },
     "output_type": "display_data"
    }
   ],
   "source": [
    "plot_decision_boundary(X, y, opt_w)\n",
    "plt.savefig('figures/decision_boundary.pdf')"
   ]
  },
  {
   "cell_type": "code",
   "execution_count": null,
   "id": "27ba373b",
   "metadata": {},
   "outputs": [],
   "source": []
  }
 ],
 "metadata": {
  "kernelspec": {
   "display_name": "Python 3 (ipykernel)",
   "language": "python",
   "name": "python3"
  },
  "language_info": {
   "codemirror_mode": {
    "name": "ipython",
    "version": 3
   },
   "file_extension": ".py",
   "mimetype": "text/x-python",
   "name": "python",
   "nbconvert_exporter": "python",
   "pygments_lexer": "ipython3",
   "version": "3.9.12"
  }
 },
 "nbformat": 4,
 "nbformat_minor": 5
}
