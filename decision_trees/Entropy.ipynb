{
 "cells": [
  {
   "cell_type": "code",
   "execution_count": 1,
   "id": "b3afefcc",
   "metadata": {},
   "outputs": [],
   "source": [
    "import numpy as np\n",
    "import matplotlib.pyplot as plt"
   ]
  },
  {
   "cell_type": "code",
   "execution_count": 2,
   "id": "72429760",
   "metadata": {},
   "outputs": [
    {
     "data": {
      "text/plain": [
       "0.2575424759098898"
      ]
     },
     "execution_count": 2,
     "metadata": {},
     "output_type": "execute_result"
    }
   ],
   "source": [
    "-0.8 * np.log2(0.8)"
   ]
  },
  {
   "cell_type": "code",
   "execution_count": 3,
   "id": "f8b21541",
   "metadata": {},
   "outputs": [
    {
     "data": {
      "text/plain": [
       "0.46438561897747244"
      ]
     },
     "execution_count": 3,
     "metadata": {},
     "output_type": "execute_result"
    }
   ],
   "source": [
    "-0.2 * np.log2(0.2)"
   ]
  },
  {
   "cell_type": "code",
   "execution_count": 4,
   "id": "74bc0963",
   "metadata": {},
   "outputs": [
    {
     "data": {
      "text/plain": [
       "0.7219280948873623"
      ]
     },
     "execution_count": 4,
     "metadata": {},
     "output_type": "execute_result"
    }
   ],
   "source": [
    "-0.8 * np.log2(0.8) -0.2 * np.log2(0.2)"
   ]
  },
  {
   "cell_type": "code",
   "execution_count": 5,
   "id": "1e5f65ce",
   "metadata": {},
   "outputs": [
    {
     "data": {
      "text/plain": [
       "1.5219280948873621"
      ]
     },
     "execution_count": 5,
     "metadata": {},
     "output_type": "execute_result"
    }
   ],
   "source": [
    "-(2/10) * np.log2(2/10) - (4/10) * np.log2(4/10) - (4/10) * np.log2(4/10) "
   ]
  },
  {
   "cell_type": "code",
   "execution_count": 6,
   "id": "d47909f7",
   "metadata": {},
   "outputs": [
    {
     "data": {
      "text/plain": [
       "1.584962500721156"
      ]
     },
     "execution_count": 6,
     "metadata": {},
     "output_type": "execute_result"
    }
   ],
   "source": [
    "np.log2(3)"
   ]
  },
  {
   "cell_type": "code",
   "execution_count": 7,
   "id": "47a57c15",
   "metadata": {},
   "outputs": [
    {
     "data": {
      "text/plain": [
       "0.6399999999999999"
      ]
     },
     "execution_count": 7,
     "metadata": {},
     "output_type": "execute_result"
    }
   ],
   "source": [
    "1 -(2/10)**2 - (4/10)**2 - (4/10)**2"
   ]
  },
  {
   "cell_type": "markdown",
   "id": "365e4bfd",
   "metadata": {},
   "source": [
    "Entropy of Bernoulli variable"
   ]
  },
  {
   "cell_type": "code",
   "execution_count": 8,
   "id": "61dbd028",
   "metadata": {},
   "outputs": [
    {
     "name": "stderr",
     "output_type": "stream",
     "text": [
      "C:\\Users\\roi_y\\AppData\\Local\\Temp\\ipykernel_4172\\317683311.py:2: RuntimeWarning: divide by zero encountered in log2\n",
      "  H = np.where((p == 0) | (p == 1), 0, -p * np.log2(p) - (1 - p) * np.log2(1 - p))\n",
      "C:\\Users\\roi_y\\AppData\\Local\\Temp\\ipykernel_4172\\317683311.py:2: RuntimeWarning: invalid value encountered in multiply\n",
      "  H = np.where((p == 0) | (p == 1), 0, -p * np.log2(p) - (1 - p) * np.log2(1 - p))\n"
     ]
    },
    {
     "data": {
      "image/png": "[encoded data removed]",
      "text/plain": [
       "<Figure size 432x288 with 1 Axes>"
      ]
     },
     "metadata": {
      "needs_background": "light"
     },
     "output_type": "display_data"
    }
   ],
   "source": [
    "p = np.linspace(0, 1, 100)\n",
    "H = np.where((p == 0) | (p == 1), 0, -p * np.log2(p) - (1 - p) * np.log2(1 - p))\n",
    "\n",
    "plt.plot(p, H)\n",
    "plt.xlabel('$p$', fontsize=14)\n",
    "plt.ylabel('$H(X)$', fontsize=14)\n",
    "plt.xticks(np.linspace(0, 1, 11))\n",
    "plt.grid()\n",
    "plt.savefig('figures/entropy.pdf')"
   ]
  },
  {
   "cell_type": "markdown",
   "id": "673b82cf",
   "metadata": {},
   "source": [
    "Tree Construction Example"
   ]
  },
  {
   "cell_type": "code",
   "execution_count": 9,
   "id": "104cd36e",
   "metadata": {},
   "outputs": [],
   "source": [
    "def I(*args):\n",
    "    total = sum(args)\n",
    "    H = 0    \n",
    "    for arg in args:\n",
    "        if arg != 0:\n",
    "            H += -(arg/total) * np.log2(arg/total)\n",
    "    return H"
   ]
  },
  {
   "cell_type": "code",
   "execution_count": 10,
   "id": "dd41953d",
   "metadata": {},
   "outputs": [
    {
     "data": {
      "text/plain": [
       "0.8112781244591328"
      ]
     },
     "execution_count": 10,
     "metadata": {},
     "output_type": "execute_result"
    }
   ],
   "source": [
    "I(6, 2)"
   ]
  },
  {
   "cell_type": "code",
   "execution_count": 11,
   "id": "78cf7737",
   "metadata": {},
   "outputs": [
    {
     "data": {
      "text/plain": [
       "0.9402859586706311"
      ]
     },
     "execution_count": 11,
     "metadata": {},
     "output_type": "execute_result"
    }
   ],
   "source": [
    "I(9, 5)"
   ]
  },
  {
   "cell_type": "code",
   "execution_count": 12,
   "id": "046b318c",
   "metadata": {},
   "outputs": [
    {
     "data": {
      "text/plain": [
       "0.04799999999999999"
      ]
     },
     "execution_count": 12,
     "metadata": {},
     "output_type": "execute_result"
    }
   ],
   "source": [
    "0.94 - (8/14) * 0.811 - 6/14"
   ]
  },
  {
   "cell_type": "code",
   "execution_count": 13,
   "id": "b60028e9",
   "metadata": {},
   "outputs": [
    {
     "data": {
      "text/plain": [
       "0.9910760598382222"
      ]
     },
     "execution_count": 13,
     "metadata": {},
     "output_type": "execute_result"
    }
   ],
   "source": [
    "I(5, 4)"
   ]
  },
  {
   "cell_type": "code",
   "execution_count": 14,
   "id": "0fc6ba1f",
   "metadata": {},
   "outputs": [
    {
     "data": {
      "text/plain": [
       "0.7219280948873623"
      ]
     },
     "execution_count": 14,
     "metadata": {},
     "output_type": "execute_result"
    }
   ],
   "source": [
    "I(4, 1)"
   ]
  },
  {
   "cell_type": "code",
   "execution_count": 15,
   "id": "0ad8271e",
   "metadata": {},
   "outputs": [
    {
     "data": {
      "text/plain": [
       "0.045071428571428485"
      ]
     },
     "execution_count": 15,
     "metadata": {},
     "output_type": "execute_result"
    }
   ],
   "source": [
    "0.94 - (9/14) * 0.991 - (5/14) * 0.722"
   ]
  },
  {
   "cell_type": "code",
   "execution_count": 16,
   "id": "0b002090",
   "metadata": {},
   "outputs": [
    {
     "data": {
      "text/plain": [
       "0.9709505944546686"
      ]
     },
     "execution_count": 16,
     "metadata": {},
     "output_type": "execute_result"
    }
   ],
   "source": [
    "I(2, 3)"
   ]
  },
  {
   "cell_type": "code",
   "execution_count": 17,
   "id": "dc0b1fc6",
   "metadata": {},
   "outputs": [
    {
     "data": {
      "text/plain": [
       "0.24642857142857139"
      ]
     },
     "execution_count": 17,
     "metadata": {},
     "output_type": "execute_result"
    }
   ],
   "source": [
    "0.94 - (5/14) * 0.971 - (5/14) * 0.971"
   ]
  },
  {
   "cell_type": "code",
   "execution_count": 18,
   "id": "4d4600ea",
   "metadata": {},
   "outputs": [
    {
     "data": {
      "text/plain": [
       "0.8112781244591328"
      ]
     },
     "execution_count": 18,
     "metadata": {},
     "output_type": "execute_result"
    }
   ],
   "source": [
    "I(6, 2)"
   ]
  },
  {
   "cell_type": "code",
   "execution_count": 19,
   "id": "f53a4a30",
   "metadata": {},
   "outputs": [
    {
     "data": {
      "text/plain": [
       "0.9182958340544896"
      ]
     },
     "execution_count": 19,
     "metadata": {},
     "output_type": "execute_result"
    }
   ],
   "source": [
    "I(1, 2)"
   ]
  },
  {
   "cell_type": "code",
   "execution_count": 20,
   "id": "012ce117",
   "metadata": {},
   "outputs": [
    {
     "data": {
      "text/plain": [
       "0.020199999999999996"
      ]
     },
     "execution_count": 20,
     "metadata": {},
     "output_type": "execute_result"
    }
   ],
   "source": [
    "0.971 - (3/5) * 0.918 - (2/5) * 1"
   ]
  },
  {
   "cell_type": "code",
   "execution_count": 21,
   "id": "6cdb0812",
   "metadata": {},
   "outputs": [
    {
     "data": {
      "text/plain": [
       "0.8112781244591328"
      ]
     },
     "execution_count": 21,
     "metadata": {},
     "output_type": "execute_result"
    }
   ],
   "source": [
    "I(1, 3)"
   ]
  },
  {
   "cell_type": "code",
   "execution_count": 22,
   "id": "01376dc3",
   "metadata": {},
   "outputs": [
    {
     "data": {
      "text/plain": [
       "0.32219999999999993"
      ]
     },
     "execution_count": 22,
     "metadata": {},
     "output_type": "execute_result"
    }
   ],
   "source": [
    "0.971 - (4/5) * 0.811 - (1/5) * 0"
   ]
  },
  {
   "cell_type": "code",
   "execution_count": 23,
   "id": "8b9aa434",
   "metadata": {},
   "outputs": [
    {
     "data": {
      "text/plain": [
       "0.020199999999999996"
      ]
     },
     "execution_count": 23,
     "metadata": {},
     "output_type": "execute_result"
    }
   ],
   "source": [
    "0.971 - (2/5) * 1 - (3/5) * 0.918"
   ]
  },
  {
   "cell_type": "markdown",
   "id": "4eb36b61",
   "metadata": {},
   "source": [
    "Continuous Features"
   ]
  },
  {
   "cell_type": "code",
   "execution_count": 24,
   "id": "b042dfce",
   "metadata": {},
   "outputs": [
    {
     "data": {
      "text/plain": [
       "0.9402859586706311"
      ]
     },
     "execution_count": 24,
     "metadata": {},
     "output_type": "execute_result"
    }
   ],
   "source": [
    "14/14 * I(9, 5) + 0/14 * I(0, 0)"
   ]
  },
  {
   "cell_type": "code",
   "execution_count": 25,
   "id": "386c56f3",
   "metadata": {},
   "outputs": [
    {
     "data": {
      "text/plain": [
       "0.8268850944895277"
      ]
     },
     "execution_count": 25,
     "metadata": {},
     "output_type": "execute_result"
    }
   ],
   "source": [
    "1/14 * I(0, 1) + 13/14 * I(9, 4)"
   ]
  },
  {
   "cell_type": "code",
   "execution_count": 26,
   "id": "d94377e0",
   "metadata": {},
   "outputs": [
    {
     "data": {
      "text/plain": [
       "0.6953812495363996"
      ]
     },
     "execution_count": 26,
     "metadata": {},
     "output_type": "execute_result"
    }
   ],
   "source": [
    "2/14 * I(0, 2) + 12/14 * I(9, 3)"
   ]
  },
  {
   "cell_type": "code",
   "execution_count": 27,
   "id": "b0d6422a",
   "metadata": {},
   "outputs": [
    {
     "data": {
      "text/plain": [
       "0.8609819860721621"
      ]
     },
     "execution_count": 27,
     "metadata": {},
     "output_type": "execute_result"
    }
   ],
   "source": [
    "3/14 * I(1, 2) + 11/14 * I(8, 3)"
   ]
  },
  {
   "cell_type": "code",
   "execution_count": 28,
   "id": "7a60b519",
   "metadata": {},
   "outputs": [
    {
     "data": {
      "text/plain": [
       "0.9152077851647805"
      ]
     },
     "execution_count": 28,
     "metadata": {},
     "output_type": "execute_result"
    }
   ],
   "source": [
    "4/14 * I(2, 2) + 10/14 * I(7, 3)"
   ]
  },
  {
   "cell_type": "code",
   "execution_count": 29,
   "id": "dbbd8d31",
   "metadata": {},
   "outputs": [
    {
     "data": {
      "text/plain": [
       "0.9371011056259821"
      ]
     },
     "execution_count": 29,
     "metadata": {},
     "output_type": "execute_result"
    }
   ],
   "source": [
    "5/14 * I(3, 2) + 9/14 * I(6, 3)"
   ]
  },
  {
   "cell_type": "code",
   "execution_count": 30,
   "id": "c1a2ffca",
   "metadata": {},
   "outputs": [
    {
     "data": {
      "text/plain": [
       "0.9389462162661898"
      ]
     },
     "execution_count": 30,
     "metadata": {},
     "output_type": "execute_result"
    }
   ],
   "source": [
    "6/14 * I(4, 2) + 8/14 * I(5, 3)"
   ]
  },
  {
   "cell_type": "code",
   "execution_count": 31,
   "id": "5f74f7ec",
   "metadata": {},
   "outputs": [
    {
     "data": {
      "text/plain": [
       "0.9241743523004413"
      ]
     },
     "execution_count": 31,
     "metadata": {},
     "output_type": "execute_result"
    }
   ],
   "source": [
    "7/14 * I(5, 2) + 7/14 * I(4, 3)"
   ]
  },
  {
   "cell_type": "code",
   "execution_count": 32,
   "id": "d6400454",
   "metadata": {},
   "outputs": [
    {
     "data": {
      "text/plain": [
       "0.8921589282623617"
      ]
     },
     "execution_count": 32,
     "metadata": {},
     "output_type": "execute_result"
    }
   ],
   "source": [
    "8/14 * I(6, 2) + 6/14 * I(3, 3)"
   ]
  },
  {
   "cell_type": "code",
   "execution_count": 33,
   "id": "666001b6",
   "metadata": {},
   "outputs": [
    {
     "data": {
      "text/plain": [
       "0.8380423950607804"
      ]
     },
     "execution_count": 33,
     "metadata": {},
     "output_type": "execute_result"
    }
   ],
   "source": [
    "9/14 * I(7, 2) + 5/14 * I(2, 3)"
   ]
  },
  {
   "cell_type": "code",
   "execution_count": 34,
   "id": "bed5962f",
   "metadata": {},
   "outputs": [
    {
     "data": {
      "text/plain": [
       "0.9152077851647805"
      ]
     },
     "execution_count": 34,
     "metadata": {},
     "output_type": "execute_result"
    }
   ],
   "source": [
    "10/14 * I(7, 3) + 4/14 * I(2, 2)"
   ]
  },
  {
   "cell_type": "code",
   "execution_count": 35,
   "id": "1438a9da",
   "metadata": {},
   "outputs": [
    {
     "data": {
      "text/plain": [
       "0.9397964894836077"
      ]
     },
     "execution_count": 35,
     "metadata": {},
     "output_type": "execute_result"
    }
   ],
   "source": [
    "11/14 * I(7, 4) + 3/14 * I(2, 1)"
   ]
  },
  {
   "cell_type": "code",
   "execution_count": 36,
   "id": "12d57275",
   "metadata": {},
   "outputs": [
    {
     "data": {
      "text/plain": [
       "0.839887505700988"
      ]
     },
     "execution_count": 36,
     "metadata": {},
     "output_type": "execute_result"
    }
   ],
   "source": [
    "12/14 * I(7, 5) + 2/14 * I(2, 0)"
   ]
  },
  {
   "cell_type": "code",
   "execution_count": 37,
   "id": "9a2f7510",
   "metadata": {},
   "outputs": [
    {
     "data": {
      "text/plain": [
       "0.8925768472426705"
      ]
     },
     "execution_count": 37,
     "metadata": {},
     "output_type": "execute_result"
    }
   ],
   "source": [
    "13/14 * I(8, 5) + 1/14 * I(1, 0)"
   ]
  },
  {
   "cell_type": "code",
   "execution_count": 38,
   "id": "2dffb2d9",
   "metadata": {},
   "outputs": [
    {
     "data": {
      "text/plain": [
       "0.9402859586706311"
      ]
     },
     "execution_count": 38,
     "metadata": {},
     "output_type": "execute_result"
    }
   ],
   "source": [
    "14/14 * I(9, 5) + 0/14 * I(0, 0)"
   ]
  },
  {
   "cell_type": "code",
   "execution_count": 39,
   "id": "28b8bdbc",
   "metadata": {},
   "outputs": [
    {
     "data": {
      "text/plain": [
       "0.245"
      ]
     },
     "execution_count": 39,
     "metadata": {},
     "output_type": "execute_result"
    }
   ],
   "source": [
    "IG = 0.940 - 0.695\n",
    "IG"
   ]
  },
  {
   "cell_type": "code",
   "execution_count": 40,
   "id": "2616dce8",
   "metadata": {},
   "outputs": [
    {
     "data": {
      "text/plain": [
       "0.24490470913423157"
      ]
     },
     "execution_count": 40,
     "metadata": {},
     "output_type": "execute_result"
    }
   ],
   "source": [
    "I(9, 5) - (2/14 * I(0, 2) + 12/14 * I(9, 3))"
   ]
  },
  {
   "cell_type": "code",
   "execution_count": null,
   "id": "5de202fc",
   "metadata": {},
   "outputs": [],
   "source": []
  }
 ],
 "metadata": {
  "kernelspec": {
   "display_name": "Python 3 (ipykernel)",
   "language": "python",
   "name": "python3"
  },
  "language_info": {
   "codemirror_mode": {
    "name": "ipython",
    "version": 3
   },
   "file_extension": ".py",
   "mimetype": "text/x-python",
   "name": "python",
   "nbconvert_exporter": "python",
   "pygments_lexer": "ipython3",
   "version": "3.9.12"
  }
 },
 "nbformat": 4,
 "nbformat_minor": 5
}
