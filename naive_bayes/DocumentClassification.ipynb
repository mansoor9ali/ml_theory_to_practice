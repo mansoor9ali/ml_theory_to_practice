{
 "cells": [
  {
   "cell_type": "code",
   "execution_count": 1,
   "id": "bf10b551",
   "metadata": {},
   "outputs": [],
   "source": [
    "# Author: Roi Yehoshua <roiyeho@gmail.com>\n",
    "# License: MIT\n",
    "\n",
    "import numpy as np\n",
    "import matplotlib.pyplot as plt\n",
    "import pandas as pd\n",
    "\n",
    "np.random.seed(0)"
   ]
  },
  {
   "cell_type": "markdown",
   "id": "552a43a1",
   "metadata": {},
   "source": [
    "### 1. Loading the Data Set"
   ]
  },
  {
   "cell_type": "code",
   "execution_count": 2,
   "id": "4c1c299c",
   "metadata": {},
   "outputs": [],
   "source": [
    "from sklearn.datasets import fetch_20newsgroups\n",
    "\n",
    "train_set = fetch_20newsgroups(subset='train', remove=('headers', 'footers', 'quotes'))\n",
    "test_set = fetch_20newsgroups(subset='test', remove=('headers', 'footers', 'quotes'))"
   ]
  },
  {
   "cell_type": "code",
   "execution_count": 3,
   "id": "001dac12",
   "metadata": {},
   "outputs": [],
   "source": [
    "X_train, y_train = train_set.data, train_set.target\n",
    "X_test, y_test = test_set.data, test_set.target"
   ]
  },
  {
   "cell_type": "markdown",
   "id": "9fe5511f",
   "metadata": {},
   "source": [
    "### 2. Data Exploration"
   ]
  },
  {
   "cell_type": "code",
   "execution_count": 4,
   "id": "2993851d",
   "metadata": {},
   "outputs": [
    {
     "name": "stdout",
     "output_type": "stream",
     "text": [
      "Documents in training set: 11314\n",
      "Documents in test set: 7532\n"
     ]
    }
   ],
   "source": [
    "print('Documents in training set:', len(X_train))\n",
    "print('Documents in test set:', len(X_test))"
   ]
  },
  {
   "cell_type": "code",
   "execution_count": 5,
   "id": "0f381877",
   "metadata": {},
   "outputs": [
    {
     "data": {
      "text/plain": [
       "['alt.atheism',\n",
       " 'comp.graphics',\n",
       " 'comp.os.ms-windows.misc',\n",
       " 'comp.sys.ibm.pc.hardware',\n",
       " 'comp.sys.mac.hardware',\n",
       " 'comp.windows.x',\n",
       " 'misc.forsale',\n",
       " 'rec.autos',\n",
       " 'rec.motorcycles',\n",
       " 'rec.sport.baseball',\n",
       " 'rec.sport.hockey',\n",
       " 'sci.crypt',\n",
       " 'sci.electronics',\n",
       " 'sci.med',\n",
       " 'sci.space',\n",
       " 'soc.religion.christian',\n",
       " 'talk.politics.guns',\n",
       " 'talk.politics.mideast',\n",
       " 'talk.politics.misc',\n",
       " 'talk.religion.misc']"
      ]
     },
     "execution_count": 5,
     "metadata": {},
     "output_type": "execute_result"
    }
   ],
   "source": [
    "categories = train_set.target_names\n",
    "categories"
   ]
  },
  {
   "cell_type": "code",
   "execution_count": 6,
   "id": "beb563cd",
   "metadata": {},
   "outputs": [
    {
     "name": "stdout",
     "output_type": "stream",
     "text": [
      "I was wondering if anyone out there could enlighten me on this car I saw\n",
      "the other day. It was a 2-door sports car, looked to be from the late 60s/\n",
      "early 70s. It was called a Bricklin. The doors were really small. In addition,\n",
      "the front bumper was separate from the rest of the body. This is \n",
      "all I know. If anyone can tellme a model name, engine specs, years\n",
      "of production, where this car is made, history, or whatever info you\n",
      "have on this funky looking car, please e-mail.\n"
     ]
    }
   ],
   "source": [
    "print(X_train[0])"
   ]
  },
  {
   "cell_type": "code",
   "execution_count": 7,
   "id": "351be261",
   "metadata": {},
   "outputs": [
    {
     "data": {
      "text/plain": [
       "'rec.autos'"
      ]
     },
     "execution_count": 7,
     "metadata": {},
     "output_type": "execute_result"
    }
   ],
   "source": [
    "categories[y_train[0]]"
   ]
  },
  {
   "cell_type": "markdown",
   "id": "2f80ca44",
   "metadata": {},
   "source": [
    "### 3. Vectorizing the text"
   ]
  },
  {
   "cell_type": "code",
   "execution_count": 8,
   "id": "4d4695d1",
   "metadata": {},
   "outputs": [],
   "source": [
    "from sklearn.feature_extraction.text import TfidfVectorizer\n",
    "\n",
    "vectorizer = TfidfVectorizer(stop_words='english')\n",
    "X_train_vec = vectorizer.fit_transform(X_train)"
   ]
  },
  {
   "cell_type": "code",
   "execution_count": 9,
   "id": "a6b8842a",
   "metadata": {},
   "outputs": [
    {
     "name": "stdout",
     "output_type": "stream",
     "text": [
      "(11314, 101322)\n"
     ]
    }
   ],
   "source": [
    "print(X_train_vec.shape)"
   ]
  },
  {
   "cell_type": "code",
   "execution_count": 10,
   "id": "a886e15d",
   "metadata": {},
   "outputs": [
    {
     "name": "stdout",
     "output_type": "stream",
     "text": [
      "['innacurate' 'innappropriate' 'innards' 'innate' 'innately' 'inneficient'\n",
      " 'inner' 'innermost' 'innertubes' 'innervation']\n"
     ]
    }
   ],
   "source": [
    "vocab = vectorizer.get_feature_names_out()\n",
    "print(vocab[50000:50010]) # pick a subset of the tokens"
   ]
  },
  {
   "cell_type": "code",
   "execution_count": 11,
   "id": "403984b9",
   "metadata": {},
   "outputs": [
    {
     "name": "stdout",
     "output_type": "stream",
     "text": [
      "66.802987449178\n"
     ]
    }
   ],
   "source": [
    "print(X_train_vec.nnz / X_train_vec.shape[0])"
   ]
  },
  {
   "cell_type": "code",
   "execution_count": 12,
   "id": "57b5623b",
   "metadata": {},
   "outputs": [],
   "source": [
    "X_test_vec = vectorizer.transform(X_test)"
   ]
  },
  {
   "cell_type": "markdown",
   "id": "817dcf61",
   "metadata": {},
   "source": [
    "### 4. Building a Multinomial NB Classifier"
   ]
  },
  {
   "cell_type": "code",
   "execution_count": 13,
   "id": "bb3d0d30",
   "metadata": {},
   "outputs": [
    {
     "data": {
      "text/plain": [
       "MultinomialNB(alpha=0.01)"
      ]
     },
     "execution_count": 13,
     "metadata": {},
     "output_type": "execute_result"
    }
   ],
   "source": [
    "from sklearn.naive_bayes import MultinomialNB\n",
    "\n",
    "clf = MultinomialNB(alpha=0.01)\n",
    "clf.fit(X_train_vec, y_train)"
   ]
  },
  {
   "cell_type": "markdown",
   "id": "508f8261",
   "metadata": {},
   "source": [
    "### 5. Evaluating the model"
   ]
  },
  {
   "cell_type": "code",
   "execution_count": 14,
   "id": "720ce305",
   "metadata": {},
   "outputs": [
    {
     "name": "stdout",
     "output_type": "stream",
     "text": [
      "Accuracy (train): 0.9595\n",
      "F1 score (train): 0.9622\n"
     ]
    }
   ],
   "source": [
    "from sklearn.metrics import f1_score\n",
    "\n",
    "accuracy_train = clf.score(X_train_vec, y_train)\n",
    "y_train_pred = clf.predict(X_train_vec)\n",
    "f1_train = f1_score(y_train, y_train_pred, average='macro')\n",
    "\n",
    "print(f'Accuracy (train): {accuracy_train:.4f}')\n",
    "print(f'F1 score (train): {f1_train:.4f}')"
   ]
  },
  {
   "cell_type": "code",
   "execution_count": 15,
   "id": "95b82660",
   "metadata": {},
   "outputs": [
    {
     "name": "stdout",
     "output_type": "stream",
     "text": [
      "Accuracy (test): 0.7010\n",
      "F1 score (test): 0.6844\n"
     ]
    }
   ],
   "source": [
    "accuracy_test = clf.score(X_test_vec, y_test)\n",
    "y_test_pred = clf.predict(X_test_vec)\n",
    "f1_test = f1_score(y_test, y_test_pred, average='macro')\n",
    "\n",
    "print(f'Accuracy (test): {accuracy_test:.4f}')\n",
    "print(f'F1 score (test): {f1_test:.4f}')"
   ]
  },
  {
   "cell_type": "code",
   "execution_count": 16,
   "id": "33660fa3",
   "metadata": {},
   "outputs": [
    {
     "data": {
      "image/png": "[encoded data removed]",
      "text/plain": [
       "<Figure size 720x576 with 2 Axes>"
      ]
     },
     "metadata": {
      "needs_background": "light"
     },
     "output_type": "display_data"
    }
   ],
   "source": [
    "from sklearn.metrics import confusion_matrix, ConfusionMatrixDisplay\n",
    "\n",
    "cm = confusion_matrix(y_test, y_test_pred)\n",
    "disp = ConfusionMatrixDisplay(confusion_matrix=cm, display_labels=clf.classes_)\n",
    "fig, ax = plt.subplots(figsize=(10, 8))\n",
    "disp.plot(ax=ax, cmap='Blues')\n",
    "\n",
    "plt.savefig('figures/confusion_matrix.pdf')"
   ]
  },
  {
   "cell_type": "markdown",
   "id": "7d85956b",
   "metadata": {},
   "source": [
    "### 6. Benchmarking"
   ]
  },
  {
   "cell_type": "code",
   "execution_count": 17,
   "id": "2d702a39",
   "metadata": {},
   "outputs": [],
   "source": [
    "import time\n",
    "\n",
    "def benchmark(classifiers, names, X_train, y_train, X_test, y_test, verbose=True):\n",
    "    evaluations = []\n",
    "    \n",
    "    for clf, name in zip(classifiers, names):\n",
    "        evaluation = {}\n",
    "        evaluation['classifier'] = name\n",
    "\n",
    "        start_time = time.time()\n",
    "        clf.fit(X_train, y_train)\n",
    "        evaluation['training_time'] = time.time() - start_time\n",
    "\n",
    "        evaluation['accuracy'] = clf.score(X_test, y_test)\n",
    "        y_test_pred = clf.predict(X_test)\n",
    "        evaluation['f1_score'] = f1_score(y_test, y_test_pred, average='macro')\n",
    "        \n",
    "        if verbose:\n",
    "            print(evaluation)\n",
    "        evaluations.append(evaluation)\n",
    "    return evaluations"
   ]
  },
  {
   "cell_type": "code",
   "execution_count": null,
   "id": "401389fd",
   "metadata": {},
   "outputs": [
    {
     "name": "stdout",
     "output_type": "stream",
     "text": [
      "{'classifier': 'Multinomial NB', 'training_time': 0.06881546974182129, 'accuracy': 0.7010090281465746, 'f1_score': 0.6844389919212164}\n",
      "{'classifier': 'Logistic Regression', 'training_time': 36.39215636253357, 'accuracy': 0.6909187466808284, 'f1_score': 0.6778246092753284}\n",
      "{'classifier': 'KNN', 'training_time': 0.0059583187103271484, 'accuracy': 0.08218268720127456, 'f1_score': 0.07567337211476842}\n"
     ]
    }
   ],
   "source": [
    "from sklearn.linear_model import LogisticRegression\n",
    "from sklearn.neighbors import KNeighborsClassifier\n",
    "from sklearn.ensemble import RandomForestClassifier, AdaBoostClassifier\n",
    "\n",
    "classifiers = [clf, LogisticRegression(), KNeighborsClassifier(), RandomForestClassifier(), AdaBoostClassifier()]\n",
    "names = ['Multinomial NB', 'Logistic Regression', 'KNN', 'Random Forest', 'AdaBoost']\n",
    "\n",
    "evaluations = benchmark(classifiers, names, X_train_vec, y_train, X_test_vec, y_test)"
   ]
  },
  {
   "cell_type": "code",
   "execution_count": null,
   "id": "9c944ed1",
   "metadata": {},
   "outputs": [],
   "source": [
    "df = pd.DataFrame(evaluations).set_index('classifier')\n",
    "\n",
    "df['accuracy'].plot.barh()\n",
    "plt.xlabel('Accuracy (test)')\n",
    "plt.ylabel('Classifier')\n",
    "plt.savefig('figures/benchmark_accuracy.pdf', bbox_inches='tight')"
   ]
  },
  {
   "cell_type": "code",
   "execution_count": null,
   "id": "3a92d0f0",
   "metadata": {},
   "outputs": [],
   "source": [
    "df['f1_score'].plot.barh(color='purple')\n",
    "plt.xlabel('F1 score (test)')\n",
    "plt.ylabel('Classifier')\n",
    "plt.savefig('figures/benchmark_f1_score.pdf', bbox_inches='tight')"
   ]
  },
  {
   "cell_type": "code",
   "execution_count": null,
   "id": "fd6091fe",
   "metadata": {},
   "outputs": [],
   "source": [
    "df['training_time'].plot.barh(color='green')\n",
    "plt.xlabel('Training time (sec)')\n",
    "plt.ylabel('Classifier')\n",
    "plt.savefig('figures/benchmark_training_time.pdf', bbox_inches='tight')"
   ]
  },
  {
   "cell_type": "markdown",
   "id": "9838f20a",
   "metadata": {},
   "source": [
    "### 7. Find the Most Informative Features"
   ]
  },
  {
   "cell_type": "code",
   "execution_count": null,
   "id": "66a1ebea",
   "metadata": {},
   "outputs": [],
   "source": [
    "def show_top_n_features(clf, vectorizer, categories, n=10):\n",
    "    feature_names = vectorizer.get_feature_names_out()\n",
    "    \n",
    "    for i, category in enumerate(categories):       \n",
    "        top_n = np.argsort(clf.feature_log_prob_[i])[-n:]\n",
    "        print(f\"{category}: {' '.join(feature_names[top_n])}\")"
   ]
  },
  {
   "cell_type": "code",
   "execution_count": null,
   "id": "747596df",
   "metadata": {},
   "outputs": [],
   "source": [
    "show_top_n_features(clf, vectorizer, categories)"
   ]
  },
  {
   "cell_type": "code",
   "execution_count": null,
   "id": "f79effde",
   "metadata": {},
   "outputs": [],
   "source": []
  }
 ],
 "metadata": {
  "kernelspec": {
   "display_name": "Python 3 (ipykernel)",
   "language": "python",
   "name": "python3"
  },
  "language_info": {
   "codemirror_mode": {
    "name": "ipython",
    "version": 3
   },
   "file_extension": ".py",
   "mimetype": "text/x-python",
   "name": "python",
   "nbconvert_exporter": "python",
   "pygments_lexer": "ipython3",
   "version": "3.9.12"
  }
 },
 "nbformat": 4,
 "nbformat_minor": 5
}
