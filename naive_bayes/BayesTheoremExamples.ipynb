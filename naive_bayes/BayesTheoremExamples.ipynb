{
 "cells": [
  {
   "cell_type": "code",
   "execution_count": 1,
   "id": "671411d9",
   "metadata": {},
   "outputs": [],
   "source": [
    "import numpy as np"
   ]
  },
  {
   "cell_type": "markdown",
   "id": "e1657e8d",
   "metadata": {},
   "source": [
    "Bayes Theorem Example"
   ]
  },
  {
   "cell_type": "code",
   "execution_count": 2,
   "id": "f0281507",
   "metadata": {},
   "outputs": [],
   "source": [
    "prob_C_L = 0.25"
   ]
  },
  {
   "cell_type": "code",
   "execution_count": 3,
   "id": "040ac2dc",
   "metadata": {},
   "outputs": [
    {
     "data": {
      "text/plain": [
       "0.0005"
      ]
     },
     "execution_count": 3,
     "metadata": {},
     "output_type": "execute_result"
    }
   ],
   "source": [
    "prob_L = 50/100000\n",
    "prob_L"
   ]
  },
  {
   "cell_type": "code",
   "execution_count": 4,
   "id": "3086c8e1",
   "metadata": {},
   "outputs": [
    {
     "data": {
      "text/plain": [
       "0.015"
      ]
     },
     "execution_count": 4,
     "metadata": {},
     "output_type": "execute_result"
    }
   ],
   "source": [
    "prob_C = 1500/100000\n",
    "prob_C"
   ]
  },
  {
   "cell_type": "code",
   "execution_count": 5,
   "id": "cda6624c",
   "metadata": {},
   "outputs": [
    {
     "data": {
      "text/plain": [
       "0.008333333333333333"
      ]
     },
     "execution_count": 5,
     "metadata": {},
     "output_type": "execute_result"
    }
   ],
   "source": [
    "prob_L_C = (prob_C_L * prob_L) / prob_C\n",
    "prob_L_C"
   ]
  },
  {
   "cell_type": "markdown",
   "id": "37573865",
   "metadata": {},
   "source": [
    "Customer Purchase Example"
   ]
  },
  {
   "cell_type": "code",
   "execution_count": 6,
   "id": "abd74818",
   "metadata": {},
   "outputs": [
    {
     "data": {
      "text/plain": [
       "0.014844433307400002"
      ]
     },
     "execution_count": 6,
     "metadata": {},
     "output_type": "execute_result"
    }
   ],
   "source": [
    "prob_buy = 0.6 * 0.333 * 0.667 * 0.167 * 0.667\n",
    "prob_buy"
   ]
  },
  {
   "cell_type": "code",
   "execution_count": 7,
   "id": "eb865a8b",
   "metadata": {},
   "outputs": [
    {
     "data": {
      "text/plain": [
       "0.0125"
      ]
     },
     "execution_count": 7,
     "metadata": {},
     "output_type": "execute_result"
    }
   ],
   "source": [
    "prob_no_buy = 0.4 * 0.5 * 0.5 * 0.5 * 0.25\n",
    "prob_no_buy"
   ]
  },
  {
   "cell_type": "code",
   "execution_count": 8,
   "id": "2bdef688",
   "metadata": {},
   "outputs": [
    {
     "data": {
      "text/plain": [
       "36.63003663003663"
      ]
     },
     "execution_count": 8,
     "metadata": {},
     "output_type": "execute_result"
    }
   ],
   "source": [
    "alpha = 1 / (0.0148 + 0.0125)\n",
    "alpha"
   ]
  },
  {
   "cell_type": "code",
   "execution_count": 9,
   "id": "2e7b6401",
   "metadata": {},
   "outputs": [
    {
     "data": {
      "text/plain": [
       "0.542124"
      ]
     },
     "execution_count": 9,
     "metadata": {},
     "output_type": "execute_result"
    }
   ],
   "source": [
    "0.0148 * 36.63"
   ]
  },
  {
   "cell_type": "markdown",
   "id": "5e947bd7",
   "metadata": {},
   "source": [
    "Spam Filter Example"
   ]
  },
  {
   "cell_type": "code",
   "execution_count": 48,
   "id": "d8555993",
   "metadata": {},
   "outputs": [
    {
     "data": {
      "text/plain": [
       "200"
      ]
     },
     "execution_count": 48,
     "metadata": {},
     "output_type": "execute_result"
    }
   ],
   "source": [
    "ham = 80 + 5 + 5 + 20 + 50 + 40\n",
    "ham"
   ]
  },
  {
   "cell_type": "code",
   "execution_count": 53,
   "id": "b30ce72c",
   "metadata": {},
   "outputs": [
    {
     "data": {
      "text/plain": [
       "120"
      ]
     },
     "execution_count": 53,
     "metadata": {},
     "output_type": "execute_result"
    }
   ],
   "source": [
    "spam = 20 + 20 + 30 + 25 + 25\n",
    "spam"
   ]
  },
  {
   "cell_type": "code",
   "execution_count": 15,
   "id": "b06a1bd5",
   "metadata": {},
   "outputs": [
    {
     "data": {
      "text/plain": [
       "0.025"
      ]
     },
     "execution_count": 15,
     "metadata": {},
     "output_type": "execute_result"
    }
   ],
   "source": [
    "5/200"
   ]
  },
  {
   "cell_type": "code",
   "execution_count": 16,
   "id": "fa6ac8c5",
   "metadata": {},
   "outputs": [
    {
     "data": {
      "text/plain": [
       "0.25"
      ]
     },
     "execution_count": 16,
     "metadata": {},
     "output_type": "execute_result"
    }
   ],
   "source": [
    "30/120"
   ]
  },
  {
   "cell_type": "code",
   "execution_count": 49,
   "id": "6f3b53b0",
   "metadata": {},
   "outputs": [
    {
     "data": {
      "text/plain": [
       "0.4"
      ]
     },
     "execution_count": 49,
     "metadata": {},
     "output_type": "execute_result"
    }
   ],
   "source": [
    "80/200"
   ]
  },
  {
   "cell_type": "code",
   "execution_count": 54,
   "id": "57a2118d",
   "metadata": {},
   "outputs": [
    {
     "data": {
      "text/plain": [
       "0.16666666666666666"
      ]
     },
     "execution_count": 54,
     "metadata": {},
     "output_type": "execute_result"
    }
   ],
   "source": [
    "20/120"
   ]
  },
  {
   "cell_type": "code",
   "execution_count": 37,
   "id": "551c0dbe",
   "metadata": {},
   "outputs": [
    {
     "data": {
      "text/plain": [
       "0.25"
      ]
     },
     "execution_count": 37,
     "metadata": {},
     "output_type": "execute_result"
    }
   ],
   "source": [
    "50/200"
   ]
  },
  {
   "cell_type": "code",
   "execution_count": 20,
   "id": "095ee8f8",
   "metadata": {},
   "outputs": [
    {
     "data": {
      "text/plain": [
       "0.20833333333333334"
      ]
     },
     "execution_count": 20,
     "metadata": {},
     "output_type": "execute_result"
    }
   ],
   "source": [
    "25/120"
   ]
  },
  {
   "cell_type": "code",
   "execution_count": 38,
   "id": "6a18f62b",
   "metadata": {},
   "outputs": [
    {
     "data": {
      "text/plain": [
       "0.1"
      ]
     },
     "execution_count": 38,
     "metadata": {},
     "output_type": "execute_result"
    }
   ],
   "source": [
    "20/200"
   ]
  },
  {
   "cell_type": "code",
   "execution_count": 26,
   "id": "9e1ea0f8",
   "metadata": {},
   "outputs": [
    {
     "data": {
      "text/plain": [
       "0.20833333333333334"
      ]
     },
     "execution_count": 26,
     "metadata": {},
     "output_type": "execute_result"
    }
   ],
   "source": [
    "25/120"
   ]
  },
  {
   "cell_type": "code",
   "execution_count": 56,
   "id": "babe0ec1",
   "metadata": {},
   "outputs": [
    {
     "data": {
      "text/plain": [
       "0.00020000000000000006"
      ]
     },
     "execution_count": 56,
     "metadata": {},
     "output_type": "execute_result"
    }
   ],
   "source": [
    "prob_ham = 0.8 * 0.025 * 0.4 * 0.25 * 0.1\n",
    "prob_ham"
   ]
  },
  {
   "cell_type": "code",
   "execution_count": 57,
   "id": "1fbb7715",
   "metadata": {},
   "outputs": [
    {
     "data": {
      "text/plain": [
       "0.0003612544"
      ]
     },
     "execution_count": 57,
     "metadata": {},
     "output_type": "execute_result"
    }
   ],
   "source": [
    "prob_spam = 0.2 * 0.25 * 0.167 * 0.208 * 0.208\n",
    "prob_spam"
   ]
  },
  {
   "cell_type": "markdown",
   "id": "7d1a0133",
   "metadata": {},
   "source": [
    "Before Laplace smoothing"
   ]
  },
  {
   "cell_type": "code",
   "execution_count": 58,
   "id": "82ac0276",
   "metadata": {},
   "outputs": [
    {
     "data": {
      "text/plain": [
       "2.500000000000001e-06"
      ]
     },
     "execution_count": 58,
     "metadata": {},
     "output_type": "execute_result"
    }
   ],
   "source": [
    "0.8 * (40/200) * (5/200) * (5/200) * (5/200)"
   ]
  },
  {
   "cell_type": "code",
   "execution_count": 59,
   "id": "2bf991ed",
   "metadata": {},
   "outputs": [
    {
     "data": {
      "text/plain": [
       "0.0"
      ]
     },
     "execution_count": 59,
     "metadata": {},
     "output_type": "execute_result"
    }
   ],
   "source": [
    "0.2 * (0/120) * (30/120) * (30/120) * (20/120) "
   ]
  },
  {
   "cell_type": "markdown",
   "id": "1738397e",
   "metadata": {},
   "source": [
    "After Laplace smoothing"
   ]
  },
  {
   "cell_type": "code",
   "execution_count": 46,
   "id": "61eb6cf4",
   "metadata": {},
   "outputs": [
    {
     "data": {
      "text/plain": [
       "3.93422064817067e-06"
      ]
     },
     "execution_count": 46,
     "metadata": {},
     "output_type": "execute_result"
    }
   ],
   "source": [
    "0.8 * (41/206) * (6/206) * (6/206) * (6/206)"
   ]
  },
  {
   "cell_type": "code",
   "execution_count": 47,
   "id": "7f235e4f",
   "metadata": {},
   "outputs": [
    {
     "data": {
      "text/plain": [
       "1.6013656099319992e-05"
      ]
     },
     "execution_count": 47,
     "metadata": {},
     "output_type": "execute_result"
    }
   ],
   "source": [
    "0.2 * (1/126) * (31/126) * (31/126) * (21/126) "
   ]
  },
  {
   "cell_type": "code",
   "execution_count": null,
   "id": "e68462c4",
   "metadata": {},
   "outputs": [],
   "source": []
  }
 ],
 "metadata": {
  "kernelspec": {
   "display_name": "Python 3 (ipykernel)",
   "language": "python",
   "name": "python3"
  },
  "language_info": {
   "codemirror_mode": {
    "name": "ipython",
    "version": 3
   },
   "file_extension": ".py",
   "mimetype": "text/x-python",
   "name": "python",
   "nbconvert_exporter": "python",
   "pygments_lexer": "ipython3",
   "version": "3.9.12"
  }
 },
 "nbformat": 4,
 "nbformat_minor": 5
}
