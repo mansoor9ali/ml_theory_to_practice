{
 "cells": [
  {
   "cell_type": "code",
   "execution_count": 1,
   "id": "dcd4844f",
   "metadata": {},
   "outputs": [],
   "source": [
    "import numpy as np\n",
    "import matplotlib.pyplot as plt\n",
    "\n",
    "np.random.seed(0)"
   ]
  },
  {
   "cell_type": "code",
   "execution_count": 2,
   "id": "67c8c08f",
   "metadata": {},
   "outputs": [],
   "source": [
    "def plot_samples(x1, x2, y, D):\n",
    "    plt.scatter(x1[y == 1], x2[y == 1], marker='+', c='blue', s=D[y == 1] * 2000)\n",
    "    plt.scatter(x1[y == -1], x2[y == -1], marker='_', c='red', s=D[y == -1] * 2000)\n",
    "    plt.xlabel('$x_1$')\n",
    "    plt.ylabel('$x_2$')"
   ]
  },
  {
   "cell_type": "code",
   "execution_count": 3,
   "id": "20018d17",
   "metadata": {},
   "outputs": [
    {
     "data": {
      "image/png": "[encoded data removed]",
      "text/plain": [
       "<Figure size 432x288 with 1 Axes>"
      ]
     },
     "metadata": {
      "needs_background": "light"
     },
     "output_type": "display_data"
    }
   ],
   "source": [
    "x1 = np.array([3, 3.2, 3.7, 4, 4.5, 5, 5.1, 5.5, 6.5, 7])\n",
    "x2 = np.array([4, 2, 1, 4.5, 6, 4, 7, 5.5, 2, 6])\n",
    "y = np.array([1, 1, -1, -1, 1, -1, 1, 1, -1, -1])\n",
    "D1 = np.ones(10) / 10\n",
    "\n",
    "plot_samples(x1, x2, y, D1)\n",
    "plt.savefig('Round1.pdf')"
   ]
  },
  {
   "cell_type": "code",
   "execution_count": 4,
   "id": "5484010a",
   "metadata": {},
   "outputs": [],
   "source": [
    "def update_distribution(D, alpha, incorrect_samples):\n",
    "    next_D = np.ones(len(D))\n",
    "    for i in range(len(next_D)):\n",
    "        if i in incorrect_samples:\n",
    "            next_D[i] = D[i] * np.exp(alpha)\n",
    "        else:\n",
    "            next_D[i] = D[i] * np.exp(-alpha)\n",
    "    print(next_D)\n",
    "    next_D /= np.sum(next_D)\n",
    "    return next_D"
   ]
  },
  {
   "cell_type": "markdown",
   "id": "51c80223",
   "metadata": {},
   "source": [
    "First round"
   ]
  },
  {
   "cell_type": "code",
   "execution_count": 5,
   "id": "27243681",
   "metadata": {},
   "outputs": [
    {
     "data": {
      "text/plain": [
       "0.42364893019360184"
      ]
     },
     "execution_count": 5,
     "metadata": {},
     "output_type": "execute_result"
    }
   ],
   "source": [
    "# h1 = (x1 <= 3.5)\n",
    "incorrect = [4, 6, 7]\n",
    "e1 = 0.3\n",
    "alpha1 = 0.5 * np.log((1 - e1) / e1)\n",
    "alpha1"
   ]
  },
  {
   "cell_type": "code",
   "execution_count": 6,
   "id": "5dc8a00b",
   "metadata": {},
   "outputs": [
    {
     "name": "stdout",
     "output_type": "stream",
     "text": [
      "[0.06546537 0.06546537 0.06546537 0.06546537 0.15275252 0.06546537\n",
      " 0.15275252 0.15275252 0.06546537 0.06546537]\n"
     ]
    },
    {
     "data": {
      "text/plain": [
       "array([0.07142857, 0.07142857, 0.07142857, 0.07142857, 0.16666667,\n",
       "       0.07142857, 0.16666667, 0.16666667, 0.07142857, 0.07142857])"
      ]
     },
     "execution_count": 6,
     "metadata": {},
     "output_type": "execute_result"
    }
   ],
   "source": [
    "D2 = update_distribution(D1, alpha1, incorrect)\n",
    "D2"
   ]
  },
  {
   "cell_type": "code",
   "execution_count": 7,
   "id": "8fc60152",
   "metadata": {},
   "outputs": [
    {
     "data": {
      "image/png": "[encoded data removed]",
      "text/plain": [
       "<Figure size 432x288 with 1 Axes>"
      ]
     },
     "metadata": {
      "needs_background": "light"
     },
     "output_type": "display_data"
    }
   ],
   "source": [
    "plot_samples(x1, x2, y, D2)\n",
    "plt.savefig('Round2.pdf')"
   ]
  },
  {
   "cell_type": "markdown",
   "id": "c546ace0",
   "metadata": {},
   "source": [
    "Second round"
   ]
  },
  {
   "cell_type": "code",
   "execution_count": 8,
   "id": "f431d395",
   "metadata": {},
   "outputs": [
    {
     "data": {
      "text/plain": [
       "0.21428571428571427"
      ]
     },
     "execution_count": 8,
     "metadata": {},
     "output_type": "execute_result"
    }
   ],
   "source": [
    "# h2 = (x1 >= 6)\n",
    "incorrect = [2, 3, 5]\n",
    "e2 = np.sum(D2[incorrect])\n",
    "e2"
   ]
  },
  {
   "cell_type": "code",
   "execution_count": 9,
   "id": "f6660358",
   "metadata": {},
   "outputs": [
    {
     "data": {
      "text/plain": [
       "0.6496414920651304"
      ]
     },
     "execution_count": 9,
     "metadata": {},
     "output_type": "execute_result"
    }
   ],
   "source": [
    "alpha2 = 0.5 * np.log((1 - e2) / e2)\n",
    "alpha2"
   ]
  },
  {
   "cell_type": "code",
   "execution_count": 10,
   "id": "0fda891c",
   "metadata": {},
   "outputs": [
    {
     "name": "stdout",
     "output_type": "stream",
     "text": [
      "[0.03730235 0.03730235 0.1367753  0.1367753  0.08703883 0.1367753\n",
      " 0.08703883 0.08703883 0.03730235 0.03730235]\n"
     ]
    },
    {
     "data": {
      "text/plain": [
       "array([0.04545455, 0.04545455, 0.16666667, 0.16666667, 0.10606061,\n",
       "       0.16666667, 0.10606061, 0.10606061, 0.04545455, 0.04545455])"
      ]
     },
     "execution_count": 10,
     "metadata": {},
     "output_type": "execute_result"
    }
   ],
   "source": [
    "D3 = update_distribution(D2, alpha2, incorrect)\n",
    "D3"
   ]
  },
  {
   "cell_type": "code",
   "execution_count": 11,
   "id": "a9728830",
   "metadata": {},
   "outputs": [
    {
     "data": {
      "image/png": "[encoded data removed]",
      "text/plain": [
       "<Figure size 432x288 with 1 Axes>"
      ]
     },
     "metadata": {
      "needs_background": "light"
     },
     "output_type": "display_data"
    }
   ],
   "source": [
    "plot_samples(x1, x2, y, D3)\n",
    "plt.savefig('Round3.pdf')"
   ]
  },
  {
   "cell_type": "markdown",
   "id": "db743799",
   "metadata": {},
   "source": [
    "Third round"
   ]
  },
  {
   "cell_type": "code",
   "execution_count": 12,
   "id": "249420f3",
   "metadata": {},
   "outputs": [
    {
     "data": {
      "text/plain": [
       "0.13636363636363635"
      ]
     },
     "execution_count": 12,
     "metadata": {},
     "output_type": "execute_result"
    }
   ],
   "source": [
    "# h3 = (x2 >= 5)\n",
    "incorrect = [0, 1, 9]\n",
    "e3 = np.sum(D3[incorrect])\n",
    "e3"
   ]
  },
  {
   "cell_type": "code",
   "execution_count": 13,
   "id": "be550a43",
   "metadata": {},
   "outputs": [
    {
     "data": {
      "text/plain": [
       "0.9229133452491655"
      ]
     },
     "execution_count": 13,
     "metadata": {},
     "output_type": "execute_result"
    }
   ],
   "source": [
    "alpha3 = 0.5 * np.log((1 - e3) / e3)\n",
    "alpha3"
   ]
  },
  {
   "cell_type": "code",
   "execution_count": 14,
   "id": "ea4f81ec",
   "metadata": {},
   "outputs": [
    {
     "data": {
      "text/plain": [
       "0.15037707700956682"
      ]
     },
     "execution_count": 14,
     "metadata": {},
     "output_type": "execute_result"
    }
   ],
   "source": [
    "alpha1 + alpha2 - alpha3"
   ]
  },
  {
   "cell_type": "code",
   "execution_count": 15,
   "id": "6a982e42",
   "metadata": {},
   "outputs": [
    {
     "data": {
      "text/plain": [
       "-0.6969207833776369"
      ]
     },
     "execution_count": 15,
     "metadata": {},
     "output_type": "execute_result"
    }
   ],
   "source": [
    "-alpha1 + alpha2 - alpha3"
   ]
  },
  {
   "cell_type": "code",
   "execution_count": 16,
   "id": "20577494",
   "metadata": {},
   "outputs": [
    {
     "data": {
      "text/plain": [
       "1.1489059071206942"
      ]
     },
     "execution_count": 16,
     "metadata": {},
     "output_type": "execute_result"
    }
   ],
   "source": [
    "-alpha1 + alpha2 + alpha3"
   ]
  },
  {
   "cell_type": "code",
   "execution_count": 17,
   "id": "7da3682e",
   "metadata": {},
   "outputs": [
    {
     "data": {
      "text/plain": [
       "-1.9962037675078976"
      ]
     },
     "execution_count": 17,
     "metadata": {},
     "output_type": "execute_result"
    }
   ],
   "source": [
    "-alpha1 - alpha2 - alpha3"
   ]
  },
  {
   "cell_type": "code",
   "execution_count": 18,
   "id": "61f0e40e",
   "metadata": {},
   "outputs": [
    {
     "data": {
      "text/plain": [
       "-0.15037707700956682"
      ]
     },
     "execution_count": 18,
     "metadata": {},
     "output_type": "execute_result"
    }
   ],
   "source": [
    "-alpha1 - alpha2 + alpha3"
   ]
  },
  {
   "cell_type": "code",
   "execution_count": null,
   "id": "fcce9c5b",
   "metadata": {},
   "outputs": [],
   "source": []
  }
 ],
 "metadata": {
  "kernelspec": {
   "display_name": "Python 3 (ipykernel)",
   "language": "python",
   "name": "python3"
  },
  "language_info": {
   "codemirror_mode": {
    "name": "ipython",
    "version": 3
   },
   "file_extension": ".py",
   "mimetype": "text/x-python",
   "name": "python",
   "nbconvert_exporter": "python",
   "pygments_lexer": "ipython3",
   "version": "3.9.12"
  }
 },
 "nbformat": 4,
 "nbformat_minor": 5
}
