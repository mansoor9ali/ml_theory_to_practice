{
 "cells": [
  {
   "cell_type": "code",
   "execution_count": 16,
   "id": "c29ebb45",
   "metadata": {},
   "outputs": [],
   "source": [
    "import numpy as np\n",
    "import matplotlib.pyplot as plt"
   ]
  },
  {
   "cell_type": "code",
   "execution_count": 6,
   "id": "a4c47752",
   "metadata": {},
   "outputs": [
    {
     "data": {
      "text/plain": [
       "0.9801"
      ]
     },
     "execution_count": 6,
     "metadata": {},
     "output_type": "execute_result"
    }
   ],
   "source": [
    "0.99 * 0.99"
   ]
  },
  {
   "cell_type": "code",
   "execution_count": 5,
   "id": "fd6f34bb",
   "metadata": {},
   "outputs": [
    {
     "data": {
      "text/plain": [
       "0.01990000000000003"
      ]
     },
     "execution_count": 5,
     "metadata": {},
     "output_type": "execute_result"
    }
   ],
   "source": [
    "1 - (0.99 * 0.99)"
   ]
  },
  {
   "cell_type": "code",
   "execution_count": 7,
   "id": "37a9a029",
   "metadata": {},
   "outputs": [
    {
     "data": {
      "text/plain": [
       "4.317124741065786e-05"
      ]
     },
     "execution_count": 7,
     "metadata": {},
     "output_type": "execute_result"
    }
   ],
   "source": [
    "0.99 ** 1000"
   ]
  },
  {
   "cell_type": "code",
   "execution_count": 14,
   "id": "ff9a5eec",
   "metadata": {},
   "outputs": [
    {
     "data": {
      "text/plain": [
       "0.9999568287525893"
      ]
     },
     "execution_count": 14,
     "metadata": {},
     "output_type": "execute_result"
    }
   ],
   "source": [
    "1 - (0.99 ** 1000)"
   ]
  },
  {
   "cell_type": "markdown",
   "id": "46475590",
   "metadata": {},
   "source": [
    "Average side length of k-neighborhood"
   ]
  },
  {
   "cell_type": "code",
   "execution_count": 23,
   "id": "4dde7c38",
   "metadata": {},
   "outputs": [
    {
     "data": {
      "image/png": "[encoded data removed]",
      "text/plain": [
       "<Figure size 432x288 with 1 Axes>"
      ]
     },
     "metadata": {
      "needs_background": "light"
     },
     "output_type": "display_data"
    }
   ],
   "source": [
    "k = 10\n",
    "n = 10**6\n",
    "d = np.arange(1, 501)\n",
    "l = (k/n)**(1/d)\n",
    "\n",
    "plt.plot(d, l)\n",
    "plt.xlabel('Number of dimensions')\n",
    "plt.ylabel('Side length of $k$-neighborhood')\n",
    "\n",
    "plt.savefig('figures/k-neighborhood.pdf')"
   ]
  },
  {
   "cell_type": "code",
   "execution_count": null,
   "id": "36bc25ba",
   "metadata": {},
   "outputs": [],
   "source": []
  }
 ],
 "metadata": {
  "kernelspec": {
   "display_name": "Python 3 (ipykernel)",
   "language": "python",
   "name": "python3"
  },
  "language_info": {
   "codemirror_mode": {
    "name": "ipython",
    "version": 3
   },
   "file_extension": ".py",
   "mimetype": "text/x-python",
   "name": "python",
   "nbconvert_exporter": "python",
   "pygments_lexer": "ipython3",
   "version": "3.9.12"
  }
 },
 "nbformat": 4,
 "nbformat_minor": 5
}
