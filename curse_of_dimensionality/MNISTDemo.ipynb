{
 "cells": [
  {
   "cell_type": "code",
   "execution_count": 1,
   "id": "1696f74a",
   "metadata": {},
   "outputs": [],
   "source": [
    "# Author: Roi Yehoshua <roiyeho@gmail.com>\n",
    "# License: MIT\n",
    "\n",
    "import numpy as np\n",
    "import matplotlib.pyplot as plt\n",
    "\n",
    "np.random.seed(0)"
   ]
  },
  {
   "cell_type": "code",
   "execution_count": 2,
   "id": "20554a68",
   "metadata": {},
   "outputs": [],
   "source": [
    "from sklearn.datasets import fetch_openml\n",
    "\n",
    "X, y = fetch_openml('mnist_784', return_X_y=True, as_frame=False)"
   ]
  },
  {
   "cell_type": "code",
   "execution_count": 3,
   "id": "7e4fbfbb",
   "metadata": {},
   "outputs": [],
   "source": [
    "X = X / 255"
   ]
  },
  {
   "cell_type": "code",
   "execution_count": 4,
   "id": "f0afb40b",
   "metadata": {},
   "outputs": [],
   "source": [
    "random_subset = np.random.choice(range(len(X)), size=1000)\n",
    "X_sample = X[random_subset]\n",
    "y_sample = y[random_subset]"
   ]
  },
  {
   "cell_type": "code",
   "execution_count": 5,
   "id": "6071da26",
   "metadata": {},
   "outputs": [],
   "source": [
    "from sklearn.model_selection import train_test_split\n",
    "\n",
    "X_train, X_test, y_train, y_test = train_test_split(X_sample, y_sample, test_size=0.2, random_state=0)"
   ]
  },
  {
   "cell_type": "code",
   "execution_count": 6,
   "id": "4440e230",
   "metadata": {},
   "outputs": [
    {
     "data": {
      "text/plain": [
       "KNeighborsClassifier()"
      ]
     },
     "execution_count": 6,
     "metadata": {},
     "output_type": "execute_result"
    }
   ],
   "source": [
    "from sklearn.neighbors import KNeighborsClassifier\n",
    "\n",
    "knn = KNeighborsClassifier()\n",
    "knn.fit(X_train, y_train)"
   ]
  },
  {
   "cell_type": "code",
   "execution_count": 7,
   "id": "63fec03f",
   "metadata": {},
   "outputs": [
    {
     "name": "stdout",
     "output_type": "stream",
     "text": [
      "Accuracy on training set: 0.92125\n",
      "Accuracy on test set: 0.855\n"
     ]
    }
   ],
   "source": [
    "print('Accuracy on training set:', knn.score(X_train, y_train))\n",
    "print('Accuracy on test set:', knn.score(X_test, y_test))"
   ]
  },
  {
   "cell_type": "markdown",
   "id": "2d8ca1fc",
   "metadata": {},
   "source": [
    "Dimensionality Reduction using PCA"
   ]
  },
  {
   "cell_type": "code",
   "execution_count": 8,
   "id": "3337f60a",
   "metadata": {},
   "outputs": [],
   "source": [
    "from sklearn.decomposition import PCA\n",
    "\n",
    "pca = PCA(n_components=50)"
   ]
  },
  {
   "cell_type": "code",
   "execution_count": 9,
   "id": "252db35b",
   "metadata": {},
   "outputs": [],
   "source": [
    "X_train_reduced = pca.fit_transform(X_train)\n",
    "X_test_reduced = pca.transform(X_test)"
   ]
  },
  {
   "cell_type": "code",
   "execution_count": 10,
   "id": "21f6bdb0",
   "metadata": {},
   "outputs": [
    {
     "data": {
      "text/plain": [
       "KNeighborsClassifier()"
      ]
     },
     "execution_count": 10,
     "metadata": {},
     "output_type": "execute_result"
    }
   ],
   "source": [
    "knn.fit(X_train_reduced, y_train)"
   ]
  },
  {
   "cell_type": "code",
   "execution_count": 11,
   "id": "ae1e9f4e",
   "metadata": {},
   "outputs": [
    {
     "name": "stdout",
     "output_type": "stream",
     "text": [
      "Accuracy on training set: 0.93375\n",
      "Accuracy on test set: 0.88\n"
     ]
    }
   ],
   "source": [
    "print('Accuracy on training set:', knn.score(X_train_reduced, y_train))\n",
    "print('Accuracy on test set:', knn.score(X_test_reduced, y_test))"
   ]
  },
  {
   "cell_type": "code",
   "execution_count": 12,
   "id": "1a78d8a5",
   "metadata": {},
   "outputs": [],
   "source": [
    "dimensions = range(10, 701, 10)\n",
    "scores = []\n",
    "\n",
    "for n_dimensions in dimensions:\n",
    "    pca = PCA(n_components=n_dimensions)\n",
    "    X_train_reduced = pca.fit_transform(X_train)\n",
    "    X_test_reduced = pca.transform(X_test)\n",
    "    knn.fit(X_train_reduced, y_train)\n",
    "    score = knn.score(X_test_reduced, y_test)\n",
    "    scores.append(score)"
   ]
  },
  {
   "cell_type": "code",
   "execution_count": 13,
   "id": "26e54037",
   "metadata": {},
   "outputs": [
    {
     "data": {
      "image/png": "[encoded data removed]",
      "text/plain": [
       "<Figure size 432x288 with 1 Axes>"
      ]
     },
     "metadata": {
      "needs_background": "light"
     },
     "output_type": "display_data"
    }
   ],
   "source": [
    "plt.plot(dimensions, scores)\n",
    "plt.xlabel('Number of dimensions')\n",
    "plt.ylabel('Test accuracy')\n",
    "\n",
    "plt.savefig('figures/MNIST_results.pdf')"
   ]
  },
  {
   "cell_type": "code",
   "execution_count": null,
   "id": "3bdf366a",
   "metadata": {},
   "outputs": [],
   "source": []
  }
 ],
 "metadata": {
  "kernelspec": {
   "display_name": "Python 3 (ipykernel)",
   "language": "python",
   "name": "python3"
  },
  "language_info": {
   "codemirror_mode": {
    "name": "ipython",
    "version": 3
   },
   "file_extension": ".py",
   "mimetype": "text/x-python",
   "name": "python",
   "nbconvert_exporter": "python",
   "pygments_lexer": "ipython3",
   "version": "3.9.12"
  }
 },
 "nbformat": 4,
 "nbformat_minor": 5
}
