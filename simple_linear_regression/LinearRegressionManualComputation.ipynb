{
 "cells": [
  {
   "cell_type": "code",
   "execution_count": 1,
   "id": "0df6bbc1",
   "metadata": {},
   "outputs": [],
   "source": [
    "import numpy as np"
   ]
  },
  {
   "cell_type": "code",
   "execution_count": 2,
   "id": "5a7e0d6d",
   "metadata": {},
   "outputs": [],
   "source": [
    "x = np.array([1.55, 1.60, 1.63, 1.68, 1.70, 1.73, 1.75, 1.78, 1.80, 1.83])\n",
    "y = np.array([55.84, 58.57, 59.93, 63.11, 64.47, 66.28, 68.10, 69.92, 72.19, 74.46])"
   ]
  },
  {
   "cell_type": "code",
   "execution_count": 3,
   "id": "031d56fc",
   "metadata": {},
   "outputs": [
    {
     "data": {
      "text/plain": [
       "17.05"
      ]
     },
     "execution_count": 3,
     "metadata": {},
     "output_type": "execute_result"
    }
   ],
   "source": [
    "np.sum(x)"
   ]
  },
  {
   "cell_type": "code",
   "execution_count": 4,
   "id": "eadfffe4",
   "metadata": {},
   "outputs": [
    {
     "data": {
      "text/plain": [
       "652.87"
      ]
     },
     "execution_count": 4,
     "metadata": {},
     "output_type": "execute_result"
    }
   ],
   "source": [
    "np.sum(y)"
   ]
  },
  {
   "cell_type": "code",
   "execution_count": 5,
   "id": "17091c65",
   "metadata": {},
   "outputs": [
    {
     "data": {
      "text/plain": [
       "array([3118.1056, 3430.4449, 3591.6049, 3982.8721, 4156.3809, 4393.0384,\n",
       "       4637.61  , 4888.8064, 5211.3961, 5544.2916])"
      ]
     },
     "execution_count": 5,
     "metadata": {},
     "output_type": "execute_result"
    }
   ],
   "source": [
    "y**2"
   ]
  },
  {
   "cell_type": "code",
   "execution_count": 6,
   "id": "5c9f3b9a",
   "metadata": {},
   "outputs": [
    {
     "data": {
      "text/plain": [
       "42954.5509"
      ]
     },
     "execution_count": 6,
     "metadata": {},
     "output_type": "execute_result"
    }
   ],
   "source": [
    "np.sum(y**2)"
   ]
  },
  {
   "cell_type": "code",
   "execution_count": 7,
   "id": "9be79b57",
   "metadata": {},
   "outputs": [
    {
     "data": {
      "text/plain": [
       "array([ 86.552 ,  93.712 ,  97.6859, 106.0248, 109.599 , 114.6644,\n",
       "       119.175 , 124.4576, 129.942 , 136.2618])"
      ]
     },
     "execution_count": 7,
     "metadata": {},
     "output_type": "execute_result"
    }
   ],
   "source": [
    "x * y"
   ]
  },
  {
   "cell_type": "code",
   "execution_count": 8,
   "id": "56ce17a5",
   "metadata": {},
   "outputs": [
    {
     "data": {
      "text/plain": [
       "1118.0745"
      ]
     },
     "execution_count": 8,
     "metadata": {},
     "output_type": "execute_result"
    }
   ],
   "source": [
    "np.sum(x * y)"
   ]
  },
  {
   "cell_type": "code",
   "execution_count": 9,
   "id": "14887274",
   "metadata": {},
   "outputs": [
    {
     "data": {
      "text/plain": [
       "66.41279461279636"
      ]
     },
     "execution_count": 9,
     "metadata": {},
     "output_type": "execute_result"
    }
   ],
   "source": [
    "w1 = (10 * 1118.0745 - 17.05 * 652.87) / (10 * 29.1445 - 17.05**2)\n",
    "w1"
   ]
  },
  {
   "cell_type": "code",
   "execution_count": 10,
   "id": "66cbc8c5",
   "metadata": {},
   "outputs": [
    {
     "data": {
      "text/plain": [
       "-47.94665350000001"
      ]
     },
     "execution_count": 10,
     "metadata": {},
     "output_type": "execute_result"
    }
   ],
   "source": [
    "w0 = (652.87 - 66.4127 * 17.05) / 10\n",
    "w0"
   ]
  }
 ],
 "metadata": {
  "kernelspec": {
   "display_name": "Python 3 (ipykernel)",
   "language": "python",
   "name": "python3"
  },
  "language_info": {
   "codemirror_mode": {
    "name": "ipython",
    "version": 3
   },
   "file_extension": ".py",
   "mimetype": "text/x-python",
   "name": "python",
   "nbconvert_exporter": "python",
   "pygments_lexer": "ipython3",
   "version": "3.9.12"
  }
 },
 "nbformat": 4,
 "nbformat_minor": 5
}
