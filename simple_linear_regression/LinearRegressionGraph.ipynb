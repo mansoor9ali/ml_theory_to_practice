{
 "cells": [
  {
   "cell_type": "code",
   "execution_count": 72,
   "id": "94f393bc",
   "metadata": {},
   "outputs": [],
   "source": [
    "# Author: Roi Yehoshua <roiyeho@gmail.com>\n",
    "# License: MIT\n",
    "\n",
    "import numpy as np\n",
    "import matplotlib.pyplot as plt"
   ]
  },
  {
   "cell_type": "code",
   "execution_count": 73,
   "id": "7fc950c6",
   "metadata": {},
   "outputs": [],
   "source": [
    "def find_coefficients(x, y):\n",
    "    n = len(x)\n",
    "    w1 = (n * x @ y - x.sum() * y.sum()) / (n * (x**2).sum() - x.sum()**2)\n",
    "    w0 = (y.sum() - w1 * x.sum()) / n\n",
    "    return w0, w1"
   ]
  },
  {
   "cell_type": "code",
   "execution_count": 74,
   "id": "94afde25",
   "metadata": {},
   "outputs": [],
   "source": [
    "x = np.array([0, 1, 2.1, 3.5, 4.5, 5.8, 6.7, 8, 9, 10])\n",
    "y = np.array([5, 22, 20, 19, 15, 42, 40, 100, 122, 83])"
   ]
  },
  {
   "cell_type": "code",
   "execution_count": 75,
   "id": "409efabb",
   "metadata": {},
   "outputs": [
    {
     "name": "stdout",
     "output_type": "stream",
     "text": [
      "w0 = -4.543129293005961\n",
      "w1 = 10.146863496641494\n"
     ]
    }
   ],
   "source": [
    "w0, w1 = find_coefficients(x, y)\n",
    "print('w0 =', w0)\n",
    "print('w1 =', w1)"
   ]
  },
  {
   "cell_type": "code",
   "execution_count": 76,
   "id": "adda8bfd",
   "metadata": {},
   "outputs": [],
   "source": [
    "def plot_data(x, y):\n",
    "    plt.scatter(x, y, color='k')\n",
    "    plt.xlabel('$x$', fontsize=14)\n",
    "    plt.ylabel('$y$', fontsize=14)"
   ]
  },
  {
   "cell_type": "code",
   "execution_count": 77,
   "id": "ccb37c75",
   "metadata": {},
   "outputs": [],
   "source": [
    "def plot_regression_line(x, y, w0, w1):\n",
    "    p_x = np.array([x.min(), x.max()])\n",
    "    p_y = w0 + w1 * p_x\n",
    "    plt.plot(p_x, p_y, 'r')"
   ]
  },
  {
   "cell_type": "code",
   "execution_count": 78,
   "id": "4533cc4e",
   "metadata": {},
   "outputs": [
    {
     "data": {
      "image/png": "[encoded data removed]",
      "text/plain": [
       "<Figure size 432x288 with 1 Axes>"
      ]
     },
     "metadata": {
      "needs_background": "light"
     },
     "output_type": "display_data"
    }
   ],
   "source": [
    "plot_data(x, y)\n",
    "plot_regression_line(x, y, w0, w1)\n",
    "plt.savefig('figures/example_regression_line.pdf')"
   ]
  },
  {
   "cell_type": "code",
   "execution_count": null,
   "id": "8d95d684",
   "metadata": {},
   "outputs": [],
   "source": []
  }
 ],
 "metadata": {
  "kernelspec": {
   "display_name": "Python 3 (ipykernel)",
   "language": "python",
   "name": "python3"
  },
  "language_info": {
   "codemirror_mode": {
    "name": "ipython",
    "version": 3
   },
   "file_extension": ".py",
   "mimetype": "text/x-python",
   "name": "python",
   "nbconvert_exporter": "python",
   "pygments_lexer": "ipython3",
   "version": "3.9.12"
  }
 },
 "nbformat": 4,
 "nbformat_minor": 5
}
