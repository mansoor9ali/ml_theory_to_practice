{
 "cells": [
  {
   "cell_type": "code",
   "execution_count": 23,
   "id": "d4417b0e",
   "metadata": {},
   "outputs": [],
   "source": [
    "# Author: Roi Yehoshua <roiyeho@gmail.com>\n",
    "# License: MIT\n",
    "\n",
    "import numpy as np\n",
    "import matplotlib.pyplot as plt"
   ]
  },
  {
   "cell_type": "code",
   "execution_count": 24,
   "id": "e3b1dabf",
   "metadata": {},
   "outputs": [],
   "source": [
    "def find_coefficients(x, y):\n",
    "    n = len(x)\n",
    "    w1 = (n * x @ y - x.sum() * y.sum()) / (n * (x**2).sum() - x.sum()**2)\n",
    "    w0 = (y.sum() - w1 * x.sum()) / n\n",
    "    return w0, w1"
   ]
  },
  {
   "cell_type": "code",
   "execution_count": 25,
   "id": "a470d05f",
   "metadata": {},
   "outputs": [],
   "source": [
    "x = np.array([1.55, 1.60, 1.63, 1.68, 1.70, 1.73, 1.75, 1.78, 1.80, 1.83])\n",
    "y = np.array([55.84, 58.57, 59.93, 63.11, 64.47, 66.28, 68.10, 69.92, 72.19, 74.46])"
   ]
  },
  {
   "cell_type": "code",
   "execution_count": 26,
   "id": "11afd999",
   "metadata": {},
   "outputs": [],
   "source": [
    "def plot_data(x, y):\n",
    "    plt.scatter(x, y)\n",
    "    plt.xlabel('Height (m)')\n",
    "    plt.ylabel('Weight (kg)')\n",
    "    plt.grid()"
   ]
  },
  {
   "cell_type": "code",
   "execution_count": 27,
   "id": "c5271552",
   "metadata": {},
   "outputs": [
    {
     "data": {
      "image/png": "[encoded data removed]",
      "text/plain": [
       "<Figure size 432x288 with 1 Axes>"
      ]
     },
     "metadata": {
      "needs_background": "light"
     },
     "output_type": "display_data"
    }
   ],
   "source": [
    "plot_data(x, y)\n",
    "plt.savefig('figures/regression_data.pdf')"
   ]
  },
  {
   "cell_type": "code",
   "execution_count": 29,
   "id": "b686187a",
   "metadata": {},
   "outputs": [
    {
     "name": "stdout",
     "output_type": "stream",
     "text": [
      "w0 = -47.94681481481781\n",
      "w1 = 66.41279461279636\n"
     ]
    }
   ],
   "source": [
    "w0, w1 = find_coefficients(x, y)\n",
    "print('w0 =', w0)\n",
    "print('w1 =', w1)"
   ]
  },
  {
   "cell_type": "code",
   "execution_count": 15,
   "id": "4fcade96",
   "metadata": {},
   "outputs": [],
   "source": [
    "def plot_regression_line(x, y, w0, w1):\n",
    "    p_x = np.array([x.min(), x.max()])\n",
    "    p_y = w0 + w1 * p_x\n",
    "    plt.plot(p_x, p_y, 'r')"
   ]
  },
  {
   "cell_type": "code",
   "execution_count": 16,
   "id": "f53f54e7",
   "metadata": {},
   "outputs": [
    {
     "data": {
      "image/png": "[encoded data removed]",
      "text/plain": [
       "<Figure size 432x288 with 1 Axes>"
      ]
     },
     "metadata": {
      "needs_background": "light"
     },
     "output_type": "display_data"
    }
   ],
   "source": [
    "plot_data(x, y)\n",
    "plot_regression_line(x, y, w0, w1)\n",
    "plt.savefig('figures/regression_line.pdf')"
   ]
  },
  {
   "cell_type": "markdown",
   "id": "299c7710",
   "metadata": {},
   "source": [
    "Evaluation metrics"
   ]
  },
  {
   "cell_type": "code",
   "execution_count": 30,
   "id": "86186788",
   "metadata": {},
   "outputs": [],
   "source": [
    "y_pred = w0 + w1 * x"
   ]
  },
  {
   "cell_type": "code",
   "execution_count": 37,
   "id": "940c20d7",
   "metadata": {},
   "outputs": [
    {
     "name": "stdout",
     "output_type": "stream",
     "text": [
      "RMSE: 0.55998\n"
     ]
    }
   ],
   "source": [
    "from sklearn.metrics import mean_squared_error as MSE\n",
    "\n",
    "rmse = np.sqrt(MSE(y, y_pred))\n",
    "print(f'RMSE: {rmse:.5f}')"
   ]
  },
  {
   "cell_type": "code",
   "execution_count": 38,
   "id": "17f4c51a",
   "metadata": {},
   "outputs": [
    {
     "name": "stdout",
     "output_type": "stream",
     "text": [
      "R2 score: 0.99052\n"
     ]
    }
   ],
   "source": [
    "from sklearn.metrics import r2_score\n",
    "\n",
    "score = r2_score(y, y_pred)\n",
    "print(f'R2 score: {score:.5f}')"
   ]
  },
  {
   "cell_type": "code",
   "execution_count": null,
   "id": "6c89c148",
   "metadata": {},
   "outputs": [],
   "source": []
  }
 ],
 "metadata": {
  "kernelspec": {
   "display_name": "Python 3 (ipykernel)",
   "language": "python",
   "name": "python3"
  },
  "language_info": {
   "codemirror_mode": {
    "name": "ipython",
    "version": 3
   },
   "file_extension": ".py",
   "mimetype": "text/x-python",
   "name": "python",
   "nbconvert_exporter": "python",
   "pygments_lexer": "ipython3",
   "version": "3.9.12"
  }
 },
 "nbformat": 4,
 "nbformat_minor": 5
}
