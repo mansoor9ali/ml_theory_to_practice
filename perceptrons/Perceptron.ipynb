{
 "cells": [
  {
   "cell_type": "code",
   "execution_count": 1,
   "id": "272dfad0",
   "metadata": {},
   "outputs": [],
   "source": [
    "import numpy as np\n",
    "import matplotlib.pyplot as plt\n",
    "import seaborn as sns\n",
    "\n",
    "np.random.seed(0)"
   ]
  },
  {
   "cell_type": "code",
   "execution_count": 2,
   "id": "a43e7568",
   "metadata": {},
   "outputs": [],
   "source": [
    "from sklearn.base import BaseEstimator\n",
    "\n",
    "class Perceptron(BaseEstimator):\n",
    "    def __init__(self, alpha, n_epochs):\n",
    "        self.alpha = alpha\n",
    "        self.n_epochs = n_epochs\n",
    "        \n",
    "    def fit(self, X, y):\n",
    "        (n, m) = X.shape\n",
    "        \n",
    "        # Initialize the weights\n",
    "        self.w = np.random.randn(m)\n",
    "        self.b = 0\n",
    "        \n",
    "        # The training loop\n",
    "        for epoch in range(self.n_epochs):\n",
    "            n_errors = 0\n",
    "            \n",
    "            for i in range(n):\n",
    "                o = self.predict(X[i])\n",
    "                if o != y[i]:\n",
    "                    self.w += self.alpha * (y[i] - o) * X[i]\n",
    "                    self.b += self.alpha * (y[i] - o)\n",
    "                    n_errors += 1\n",
    "            \n",
    "            accuracy = 1 - (n_errors / n)\n",
    "            print(f'Epoch {epoch + 1}: accuracy = {accuracy:.3f}')\n",
    "            \n",
    "            if n_errors == 0:\n",
    "                break\n",
    "                \n",
    "    def predict(self, X):\n",
    "        z = X @ self.w + self.b\n",
    "        return np.heaviside(z, 1)"
   ]
  },
  {
   "cell_type": "code",
   "execution_count": 3,
   "id": "ed2a593e",
   "metadata": {},
   "outputs": [],
   "source": [
    "from sklearn.datasets import make_blobs\n",
    "\n",
    "X, y = make_blobs(n_samples=100, n_features=2, centers=2, cluster_std=0.5)"
   ]
  },
  {
   "cell_type": "code",
   "execution_count": 4,
   "id": "2933b0fd",
   "metadata": {},
   "outputs": [
    {
     "data": {
      "image/png": "[encoded data removed]",
      "text/plain": [
       "<Figure size 432x288 with 1 Axes>"
      ]
     },
     "metadata": {
      "needs_background": "light"
     },
     "output_type": "display_data"
    }
   ],
   "source": [
    "sns.scatterplot(x=X[:, 0], y=X[:, 1], hue=y, style=y, markers=('s', 'o'), \n",
    "                palette=('r', 'b'), edgecolor='black')\n",
    "plt.savefig('figures/blobs_data.pdf')"
   ]
  },
  {
   "cell_type": "code",
   "execution_count": 5,
   "id": "26956a5d",
   "metadata": {},
   "outputs": [
    {
     "name": "stdout",
     "output_type": "stream",
     "text": [
      "Epoch 1: accuracy = 0.250\n",
      "Epoch 2: accuracy = 0.950\n",
      "Epoch 3: accuracy = 1.000\n"
     ]
    }
   ],
   "source": [
    "perceptron = Perceptron(alpha=0.01, n_epochs=10)\n",
    "perceptron.fit(X, y)"
   ]
  },
  {
   "cell_type": "code",
   "execution_count": null,
   "id": "3e765060",
   "metadata": {},
   "outputs": [],
   "source": []
  }
 ],
 "metadata": {
  "kernelspec": {
   "display_name": "Python 3 (ipykernel)",
   "language": "python",
   "name": "python3"
  },
  "language_info": {
   "codemirror_mode": {
    "name": "ipython",
    "version": 3
   },
   "file_extension": ".py",
   "mimetype": "text/x-python",
   "name": "python",
   "nbconvert_exporter": "python",
   "pygments_lexer": "ipython3",
   "version": "3.9.12"
  }
 },
 "nbformat": 4,
 "nbformat_minor": 5
}
