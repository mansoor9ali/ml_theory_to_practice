{
 "cells": [
  {
   "cell_type": "code",
   "execution_count": 1,
   "id": "e2015bdc",
   "metadata": {},
   "outputs": [],
   "source": [
    "# Author: Roi Yehoshua <roiyeho@gmail.com>\n",
    "# License: MIT\n",
    "\n",
    "import numpy as np\n",
    "import matplotlib.pyplot as plt\n",
    "\n",
    "np.random.seed(0)"
   ]
  },
  {
   "cell_type": "code",
   "execution_count": 2,
   "id": "e24fa37f",
   "metadata": {},
   "outputs": [],
   "source": [
    "from sklearn.datasets import fetch_california_housing\n",
    "\n",
    "data = fetch_california_housing()\n",
    "X, y = data.data, data.target\n",
    "feature_names = data.feature_names"
   ]
  },
  {
   "cell_type": "code",
   "execution_count": 3,
   "id": "f85dcef8",
   "metadata": {},
   "outputs": [],
   "source": [
    "from sklearn.model_selection import train_test_split\n",
    "\n",
    "X_train, X_test, y_train, y_test = train_test_split(X, y, test_size=0.2, random_state=0)"
   ]
  },
  {
   "cell_type": "code",
   "execution_count": 4,
   "id": "0e75ad3d",
   "metadata": {},
   "outputs": [
    {
     "data": {
      "text/plain": [
       "GradientBoostingRegressor(random_state=0)"
      ]
     },
     "execution_count": 4,
     "metadata": {},
     "output_type": "execute_result"
    }
   ],
   "source": [
    "from sklearn.ensemble import GradientBoostingRegressor\n",
    "\n",
    "reg = GradientBoostingRegressor(random_state=0)\n",
    "reg.fit(X_train, y_train)"
   ]
  },
  {
   "cell_type": "code",
   "execution_count": 5,
   "id": "ef5c6538",
   "metadata": {},
   "outputs": [
    {
     "name": "stdout",
     "output_type": "stream",
     "text": [
      "R2 score (train): 0.8027\n",
      "R2 score (test): 0.7774\n"
     ]
    }
   ],
   "source": [
    "train_score = reg.score(X_train, y_train)\n",
    "print(f'R2 score (train): {train_score:.4f}')\n",
    "\n",
    "test_score = reg.score(X_test, y_test)\n",
    "print(f'R2 score (test): {test_score:.4f}')"
   ]
  },
  {
   "cell_type": "markdown",
   "id": "a29ed11b",
   "metadata": {},
   "source": [
    "Grid Search"
   ]
  },
  {
   "cell_type": "code",
   "execution_count": 6,
   "id": "5e1f7240",
   "metadata": {},
   "outputs": [
    {
     "name": "stdout",
     "output_type": "stream",
     "text": [
      "{'subsample': 0.7999999999999999, 'n_estimators': 500, 'max_features': 'log2', 'max_depth': 7}\n"
     ]
    }
   ],
   "source": [
    "from sklearn.model_selection import RandomizedSearchCV\n",
    "\n",
    "params = {\n",
    "    'n_estimators': [10, 50, 100, 200, 500],\n",
    "    'max_depth': np.arange(3, 11),\n",
    "    'subsample': np.arange(0.5, 1.0, 0.1),\n",
    "    'max_features': ['sqrt', 'log2', None]    \n",
    "}\n",
    "\n",
    "search = RandomizedSearchCV(GradientBoostingRegressor(random_state=0), params, n_iter=50, cv=3, n_jobs=-1)\n",
    "search.fit(X_train, y_train)\n",
    "\n",
    "print(search.best_params_)"
   ]
  },
  {
   "cell_type": "code",
   "execution_count": 7,
   "id": "5c383ae0",
   "metadata": {},
   "outputs": [
    {
     "name": "stdout",
     "output_type": "stream",
     "text": [
      "R2 score (train): 0.9849\n",
      "R2 score (test): 0.8519\n"
     ]
    }
   ],
   "source": [
    "best_reg = search.best_estimator_\n",
    "print(f'R2 score (train): {best_reg.score(X_train, y_train):.4f}')\n",
    "print(f'R2 score (test): {best_reg.score(X_test, y_test):.4f}')"
   ]
  },
  {
   "cell_type": "markdown",
   "id": "ff2e5f79",
   "metadata": {},
   "source": [
    "Learning curve"
   ]
  },
  {
   "cell_type": "code",
   "execution_count": 8,
   "id": "976bc566",
   "metadata": {},
   "outputs": [
    {
     "data": {
      "image/png": "[encoded data removed]",
      "text/plain": [
       "<Figure size 432x288 with 1 Axes>"
      ]
     },
     "metadata": {
      "needs_background": "light"
     },
     "output_type": "display_data"
    }
   ],
   "source": [
    "from sklearn.metrics import mean_squared_error as MSE\n",
    "\n",
    "test_score = np.zeros(best_reg.n_estimators_)\n",
    "for i, y_test_pred in enumerate(best_reg.staged_predict(X_test)):\n",
    "    test_score[i] = MSE(y_test, y_test_pred)\n",
    "    \n",
    "plt.plot(np.arange(best_reg.n_estimators), best_reg.train_score_, label='Training loss')\n",
    "plt.plot(np.arange(best_reg.n_estimators), test_score, 'r', label='Test loss')\n",
    "\n",
    "plt.xlabel('Boosting iterations')\n",
    "plt.ylabel('MSE')\n",
    "plt.legend()\n",
    "\n",
    "plt.savefig('figures/california_gbdt_learning_curve.pdf')"
   ]
  },
  {
   "cell_type": "markdown",
   "id": "b73bd0c1",
   "metadata": {},
   "source": [
    "Using Early Stopping"
   ]
  },
  {
   "cell_type": "code",
   "execution_count": 9,
   "id": "a6b58b46",
   "metadata": {},
   "outputs": [
    {
     "name": "stdout",
     "output_type": "stream",
     "text": [
      "{'subsample': 0.8999999999999999, 'max_features': 'log2', 'max_depth': 7}\n",
      "R2 score (train): 0.9227\n",
      "R2 score (test): 0.8402\n"
     ]
    }
   ],
   "source": [
    "from sklearn.model_selection import RandomizedSearchCV\n",
    "\n",
    "params = {    \n",
    "    'max_depth': np.arange(3, 11),\n",
    "    'subsample': np.arange(0.5, 1.0, 0.1),\n",
    "    'max_features': ['sqrt', 'log2', None]    \n",
    "}\n",
    "\n",
    "search = RandomizedSearchCV(GradientBoostingRegressor(random_state=0, n_estimators=500, n_iter_no_change=5), \n",
    "                            params, n_iter=50, cv=3, n_jobs=-1)\n",
    "search.fit(X_train, y_train)\n",
    "\n",
    "print(search.best_params_)\n",
    "\n",
    "reg = search.best_estimator_\n",
    "print(f'R2 score (train): {reg.score(X_train, y_train):.4f}')\n",
    "print(f'R2 score (test): {reg.score(X_test, y_test):.4f}')"
   ]
  },
  {
   "cell_type": "code",
   "execution_count": 10,
   "id": "98de6cf5",
   "metadata": {},
   "outputs": [
    {
     "data": {
      "text/plain": [
       "118"
      ]
     },
     "execution_count": 10,
     "metadata": {},
     "output_type": "execute_result"
    }
   ],
   "source": [
    "reg.n_estimators_"
   ]
  },
  {
   "cell_type": "markdown",
   "id": "8e645a6e",
   "metadata": {},
   "source": [
    "Feature importance"
   ]
  },
  {
   "cell_type": "code",
   "execution_count": 11,
   "id": "74aed017",
   "metadata": {},
   "outputs": [
    {
     "data": {
      "image/png": "[encoded data removed]",
      "text/plain": [
       "<Figure size 432x288 with 1 Axes>"
      ]
     },
     "metadata": {
      "needs_background": "light"
     },
     "output_type": "display_data"
    }
   ],
   "source": [
    "# Sort the features by their importance\n",
    "feature_importance = best_reg.feature_importances_\n",
    "sorted_idx = np.argsort(feature_importance)\n",
    "\n",
    "# Plot the feature importances\n",
    "pos = np.arange(len(feature_importance))\n",
    "plt.barh(pos, feature_importance[sorted_idx])\n",
    "plt.yticks(pos, np.array(feature_names)[sorted_idx])\n",
    "plt.xlabel('Feature importance')\n",
    "\n",
    "plt.savefig('figures/california_gbdt_feature_importance.pdf', bbox_inches='tight')"
   ]
  },
  {
   "cell_type": "code",
   "execution_count": null,
   "id": "3517a03c",
   "metadata": {},
   "outputs": [],
   "source": []
  }
 ],
 "metadata": {
  "kernelspec": {
   "display_name": "Python 3 (ipykernel)",
   "language": "python",
   "name": "python3"
  },
  "language_info": {
   "codemirror_mode": {
    "name": "ipython",
    "version": 3
   },
   "file_extension": ".py",
   "mimetype": "text/x-python",
   "name": "python",
   "nbconvert_exporter": "python",
   "pygments_lexer": "ipython3",
   "version": "3.9.12"
  }
 },
 "nbformat": 4,
 "nbformat_minor": 5
}
