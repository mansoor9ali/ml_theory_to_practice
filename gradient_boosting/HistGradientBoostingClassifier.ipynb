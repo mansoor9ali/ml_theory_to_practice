{
 "cells": [
  {
   "cell_type": "code",
   "id": "7152e435",
   "metadata": {
    "ExecuteTime": {
     "end_time": "2025-10-27T04:20:15.718465Z",
     "start_time": "2025-10-27T04:20:15.174927Z"
    }
   },
   "source": [
    "# Author: Roi Yehoshua <roiyeho@gmail.com>\n",
    "# License: MIT\n",
    "\n",
    "import numpy as np\n",
    "import matplotlib.pyplot as plt\n",
    "\n",
    "np.random.seed(0)"
   ],
   "outputs": [],
   "execution_count": 1
  },
  {
   "cell_type": "code",
   "id": "50ea2d99",
   "metadata": {
    "ExecuteTime": {
     "end_time": "2025-10-27T04:20:16.848451Z",
     "start_time": "2025-10-27T04:20:15.729068Z"
    }
   },
   "source": [
    "from sklearn.datasets import make_hastie_10_2\n",
    "\n",
    "X, y = make_hastie_10_2(n_samples=50000, random_state=0)"
   ],
   "outputs": [],
   "execution_count": 2
  },
  {
   "cell_type": "code",
   "id": "692df52b",
   "metadata": {
    "ExecuteTime": {
     "end_time": "2025-10-27T04:20:16.995745Z",
     "start_time": "2025-10-27T04:20:16.938744Z"
    }
   },
   "source": [
    "from sklearn.model_selection import train_test_split\n",
    "\n",
    "X_train, X_test, y_train, y_test = train_test_split(X, y, test_size=0.2, random_state=0)"
   ],
   "outputs": [],
   "execution_count": 3
  },
  {
   "cell_type": "code",
   "id": "2bfc96e9",
   "metadata": {
    "ExecuteTime": {
     "end_time": "2025-10-27T04:22:54.158616Z",
     "start_time": "2025-10-27T04:20:17.012383Z"
    }
   },
   "source": [
    "from sklearn.ensemble import GradientBoostingClassifier\n",
    "\n",
    "clf = GradientBoostingClassifier(random_state=0)\n",
    "%timeit clf.fit(X_train, y_train)"
   ],
   "outputs": [
    {
     "name": "stdout",
     "output_type": "stream",
     "text": [
      "19.7 s ± 380 ms per loop (mean ± std. dev. of 7 runs, 1 loop each)\n"
     ]
    }
   ],
   "execution_count": 4
  },
  {
   "cell_type": "code",
   "id": "0701265b",
   "metadata": {
    "ExecuteTime": {
     "end_time": "2025-10-27T04:24:12.560589Z",
     "start_time": "2025-10-27T04:24:12.491096Z"
    }
   },
   "source": [
    "print(f'Train accuracy: {clf.score(X_train, y_train):.4f}')\n",
    "print(f'Test accuracy: {clf.score(X_test, y_test):.4f}')"
   ],
   "outputs": [
    {
     "name": "stdout",
     "output_type": "stream",
     "text": [
      "Train accuracy: 0.9392\n",
      "Test accuracy: 0.9231\n"
     ]
    }
   ],
   "execution_count": 5
  },
  {
   "cell_type": "code",
   "id": "6af50621",
   "metadata": {
    "ExecuteTime": {
     "end_time": "2025-10-27T04:24:20.462504Z",
     "start_time": "2025-10-27T04:24:12.660404Z"
    }
   },
   "source": [
    "from sklearn.ensemble import HistGradientBoostingClassifier\n",
    "\n",
    "clf = HistGradientBoostingClassifier(random_state=0)\n",
    "%timeit clf.fit(X_train, y_train)"
   ],
   "outputs": [
    {
     "name": "stdout",
     "output_type": "stream",
     "text": [
      "507 ms ± 34.5 ms per loop (mean ± std. dev. of 7 runs, 1 loop each)\n"
     ]
    }
   ],
   "execution_count": 6
  },
  {
   "cell_type": "code",
   "id": "2e3b89f0",
   "metadata": {
    "ExecuteTime": {
     "end_time": "2025-10-27T04:24:20.586553Z",
     "start_time": "2025-10-27T04:24:20.498562Z"
    }
   },
   "source": [
    "print(f'Train accuracy: {clf.score(X_train, y_train):.4f}')\n",
    "print(f'Test accuracy: {clf.score(X_test, y_test):.4f}')"
   ],
   "outputs": [
    {
     "name": "stdout",
     "output_type": "stream",
     "text": [
      "Train accuracy: 0.9725\n",
      "Test accuracy: 0.9467\n"
     ]
    }
   ],
   "execution_count": 7
  },
  {
   "cell_type": "code",
   "id": "11af282e",
   "metadata": {
    "ExecuteTime": {
     "end_time": "2025-10-27T04:24:20.598827Z",
     "start_time": "2025-10-27T04:24:20.594780Z"
    }
   },
   "source": [],
   "outputs": [],
   "execution_count": null
  }
 ],
 "metadata": {
  "kernelspec": {
   "display_name": "Python 3 (ipykernel)",
   "language": "python",
   "name": "python3"
  },
  "language_info": {
   "codemirror_mode": {
    "name": "ipython",
    "version": 3
   },
   "file_extension": ".py",
   "mimetype": "text/x-python",
   "name": "python",
   "nbconvert_exporter": "python",
   "pygments_lexer": "ipython3",
   "version": "3.9.12"
  }
 },
 "nbformat": 4,
 "nbformat_minor": 5
}
