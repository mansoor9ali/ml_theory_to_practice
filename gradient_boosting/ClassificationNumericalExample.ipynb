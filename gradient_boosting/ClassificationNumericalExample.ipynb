{
 "cells": [
  {
   "cell_type": "code",
   "id": "abe67f02",
   "metadata": {
    "ExecuteTime": {
     "end_time": "2025-10-27T04:20:58.760987Z",
     "start_time": "2025-10-27T04:20:58.649295Z"
    }
   },
   "source": [
    "import numpy as np"
   ],
   "outputs": [],
   "execution_count": 1
  },
  {
   "cell_type": "code",
   "id": "77f73e99",
   "metadata": {
    "ExecuteTime": {
     "end_time": "2025-10-27T04:20:58.781229Z",
     "start_time": "2025-10-27T04:20:58.777142Z"
    }
   },
   "source": [
    "def sigmoid(x):\n",
    "    return 1 / (1 + np.exp(-x))"
   ],
   "outputs": [],
   "execution_count": 2
  },
  {
   "cell_type": "markdown",
   "id": "5d2b25b8",
   "metadata": {},
   "source": [
    "### First iteration"
   ]
  },
  {
   "cell_type": "code",
   "id": "672d9c83",
   "metadata": {
    "ExecuteTime": {
     "end_time": "2025-10-27T04:20:58.802972Z",
     "start_time": "2025-10-27T04:20:58.796886Z"
    }
   },
   "source": [
    "h0 = np.log(4/6 / (2/6))\n",
    "h0"
   ],
   "outputs": [
    {
     "data": {
      "text/plain": [
       "np.float64(0.6931471805599453)"
      ]
     },
     "execution_count": 3,
     "metadata": {},
     "output_type": "execute_result"
    }
   ],
   "execution_count": 3
  },
  {
   "cell_type": "code",
   "id": "d05a2184",
   "metadata": {
    "ExecuteTime": {
     "end_time": "2025-10-27T04:20:58.933431Z",
     "start_time": "2025-10-27T04:20:58.925310Z"
    }
   },
   "source": [
    "sigmoid(h0)"
   ],
   "outputs": [
    {
     "data": {
      "text/plain": [
       "np.float64(0.6666666666666666)"
      ]
     },
     "execution_count": 4,
     "metadata": {},
     "output_type": "execute_result"
    }
   ],
   "execution_count": 4
  },
  {
   "cell_type": "code",
   "id": "cc912f6e",
   "metadata": {
    "ExecuteTime": {
     "end_time": "2025-10-27T04:20:59.068843Z",
     "start_time": "2025-10-27T04:20:59.060073Z"
    }
   },
   "source": [
    "1 - 0.667"
   ],
   "outputs": [
    {
     "data": {
      "text/plain": [
       "0.33299999999999996"
      ]
     },
     "execution_count": 5,
     "metadata": {},
     "output_type": "execute_result"
    }
   ],
   "execution_count": 5
  },
  {
   "cell_type": "code",
   "id": "de35a3bf",
   "metadata": {
    "ExecuteTime": {
     "end_time": "2025-10-27T04:20:59.144998Z",
     "start_time": "2025-10-27T04:20:59.136253Z"
    }
   },
   "source": [
    "0 - 0.667"
   ],
   "outputs": [
    {
     "data": {
      "text/plain": [
       "-0.667"
      ]
     },
     "execution_count": 6,
     "metadata": {},
     "output_type": "execute_result"
    }
   ],
   "execution_count": 6
  },
  {
   "cell_type": "markdown",
   "id": "95d2fd19",
   "metadata": {},
   "source": [
    "### Second iteration"
   ]
  },
  {
   "cell_type": "code",
   "id": "b6ea26c5",
   "metadata": {
    "ExecuteTime": {
     "end_time": "2025-10-27T04:20:59.278361Z",
     "start_time": "2025-10-27T04:20:59.271863Z"
    }
   },
   "source": [
    "g_root = [0.333, 0.333, 0.333, -0.667, -0.667, 0.333]"
   ],
   "outputs": [],
   "execution_count": 7
  },
  {
   "cell_type": "code",
   "id": "37f6b467",
   "metadata": {
    "ExecuteTime": {
     "end_time": "2025-10-27T04:20:59.305500Z",
     "start_time": "2025-10-27T04:20:59.295685Z"
    }
   },
   "source": [
    "g_mean = (4 * 0.333 + 2 * (-0.667)) / 6\n",
    "g_mean"
   ],
   "outputs": [
    {
     "data": {
      "text/plain": [
       "-0.00033333333333333365"
      ]
     },
     "execution_count": 8,
     "metadata": {},
     "output_type": "execute_result"
    }
   ],
   "execution_count": 8
  },
  {
   "cell_type": "code",
   "id": "f078e5c7",
   "metadata": {
    "ExecuteTime": {
     "end_time": "2025-10-27T04:20:59.372552Z",
     "start_time": "2025-10-27T04:20:59.364033Z"
    }
   },
   "source": [
    "g_var = (4 * 0.333**2 + 2 * (-0.667)**2) / 6\n",
    "g_var"
   ],
   "outputs": [
    {
     "data": {
      "text/plain": [
       "0.22222233333333338"
      ]
     },
     "execution_count": 9,
     "metadata": {},
     "output_type": "execute_result"
    }
   ],
   "execution_count": 9
  },
  {
   "cell_type": "code",
   "id": "8529a2b0",
   "metadata": {
    "ExecuteTime": {
     "end_time": "2025-10-27T04:20:59.452739Z",
     "start_time": "2025-10-27T04:20:59.445062Z"
    }
   },
   "source": [
    "np.var(g_root)"
   ],
   "outputs": [
    {
     "data": {
      "text/plain": [
       "np.float64(0.22222222222222224)"
      ]
     },
     "execution_count": 10,
     "metadata": {},
     "output_type": "execute_result"
    }
   ],
   "execution_count": 10
  },
  {
   "cell_type": "markdown",
   "id": "46114d9c",
   "metadata": {},
   "source": [
    "Income = Low"
   ]
  },
  {
   "cell_type": "code",
   "id": "fa6528f4",
   "metadata": {
    "ExecuteTime": {
     "end_time": "2025-10-27T04:20:59.599202Z",
     "start_time": "2025-10-27T04:20:59.589661Z"
    }
   },
   "source": [
    "g_left = [0.333, 0.333, -0.667]\n",
    "np.var(g_left)"
   ],
   "outputs": [
    {
     "data": {
      "text/plain": [
       "np.float64(0.22222222222222224)"
      ]
     },
     "execution_count": 11,
     "metadata": {},
     "output_type": "execute_result"
    }
   ],
   "execution_count": 11
  },
  {
   "cell_type": "code",
   "id": "f5651340",
   "metadata": {
    "ExecuteTime": {
     "end_time": "2025-10-27T04:20:59.706184Z",
     "start_time": "2025-10-27T04:20:59.696356Z"
    }
   },
   "source": [
    "g_right = [0.333, -0.667, 0.333]\n",
    "np.var(g_right)"
   ],
   "outputs": [
    {
     "data": {
      "text/plain": [
       "np.float64(0.2222222222222223)"
      ]
     },
     "execution_count": 12,
     "metadata": {},
     "output_type": "execute_result"
    }
   ],
   "execution_count": 12
  },
  {
   "cell_type": "code",
   "id": "6eec5484",
   "metadata": {
    "ExecuteTime": {
     "end_time": "2025-10-27T04:20:59.801416Z",
     "start_time": "2025-10-27T04:20:59.791420Z"
    }
   },
   "source": [
    "gain = 0.222 - (3/6) * 0.222 - (3/6) * 0.222\n",
    "gain"
   ],
   "outputs": [
    {
     "data": {
      "text/plain": [
       "0.0"
      ]
     },
     "execution_count": 13,
     "metadata": {},
     "output_type": "execute_result"
    }
   ],
   "execution_count": 13
  },
  {
   "cell_type": "markdown",
   "id": "e21357ec",
   "metadata": {},
   "source": [
    "Income = Medium"
   ]
  },
  {
   "cell_type": "code",
   "id": "2c359d0e",
   "metadata": {
    "ExecuteTime": {
     "end_time": "2025-10-27T04:20:59.913831Z",
     "start_time": "2025-10-27T04:20:59.904014Z"
    }
   },
   "source": [
    "g_left = [0.333, -0.667]\n",
    "np.var(g_left)"
   ],
   "outputs": [
    {
     "data": {
      "text/plain": [
       "np.float64(0.25)"
      ]
     },
     "execution_count": 14,
     "metadata": {},
     "output_type": "execute_result"
    }
   ],
   "execution_count": 14
  },
  {
   "cell_type": "code",
   "id": "38d1f6e8",
   "metadata": {
    "ExecuteTime": {
     "end_time": "2025-10-27T04:21:00.066204Z",
     "start_time": "2025-10-27T04:21:00.055347Z"
    }
   },
   "source": [
    "g_right = [0.333, 0.333, -0.667, 0.333] \n",
    "np.var(g_right)"
   ],
   "outputs": [
    {
     "data": {
      "text/plain": [
       "np.float64(0.1875)"
      ]
     },
     "execution_count": 15,
     "metadata": {},
     "output_type": "execute_result"
    }
   ],
   "execution_count": 15
  },
  {
   "cell_type": "code",
   "id": "7c773f82",
   "metadata": {
    "ExecuteTime": {
     "end_time": "2025-10-27T04:21:00.167950Z",
     "start_time": "2025-10-27T04:21:00.158714Z"
    }
   },
   "source": [
    "gain = 0.222 - (2/6) * 0.25 - (4/6) * 0.1875\n",
    "gain"
   ],
   "outputs": [
    {
     "data": {
      "text/plain": [
       "0.01366666666666666"
      ]
     },
     "execution_count": 16,
     "metadata": {},
     "output_type": "execute_result"
    }
   ],
   "execution_count": 16
  },
  {
   "cell_type": "markdown",
   "id": "5d59bcd5",
   "metadata": {},
   "source": [
    "Income = High"
   ]
  },
  {
   "cell_type": "code",
   "id": "ff08b41c",
   "metadata": {
    "ExecuteTime": {
     "end_time": "2025-10-27T04:21:00.296612Z",
     "start_time": "2025-10-27T04:21:00.286511Z"
    }
   },
   "source": [
    "g_left = [0.333]\n",
    "np.var(g_left)"
   ],
   "outputs": [
    {
     "data": {
      "text/plain": [
       "np.float64(0.0)"
      ]
     },
     "execution_count": 17,
     "metadata": {},
     "output_type": "execute_result"
    }
   ],
   "execution_count": 17
  },
  {
   "cell_type": "code",
   "id": "b5a07182",
   "metadata": {
    "ExecuteTime": {
     "end_time": "2025-10-27T04:21:00.441276Z",
     "start_time": "2025-10-27T04:21:00.431627Z"
    }
   },
   "source": [
    "g_right = [0.333, 0.333, 0.333, -0.667, -0.667] \n",
    "np.var(g_right)"
   ],
   "outputs": [
    {
     "data": {
      "text/plain": [
       "np.float64(0.24000000000000005)"
      ]
     },
     "execution_count": 18,
     "metadata": {},
     "output_type": "execute_result"
    }
   ],
   "execution_count": 18
  },
  {
   "cell_type": "code",
   "id": "6c5e40dd",
   "metadata": {
    "ExecuteTime": {
     "end_time": "2025-10-27T04:21:00.560173Z",
     "start_time": "2025-10-27T04:21:00.551166Z"
    }
   },
   "source": [
    "gain = 0.222 - (1/6) * 0 - (5/6) * 0.24\n",
    "gain"
   ],
   "outputs": [
    {
     "data": {
      "text/plain": [
       "0.021999999999999992"
      ]
     },
     "execution_count": 19,
     "metadata": {},
     "output_type": "execute_result"
    }
   ],
   "execution_count": 19
  },
  {
   "cell_type": "markdown",
   "id": "0c826452",
   "metadata": {},
   "source": [
    "Education = High School"
   ]
  },
  {
   "cell_type": "code",
   "id": "e885c0a9",
   "metadata": {
    "ExecuteTime": {
     "end_time": "2025-10-27T04:21:00.605379Z",
     "start_time": "2025-10-27T04:21:00.596057Z"
    }
   },
   "source": [
    "g_left = [0.333, -0.667]\n",
    "np.var(g_left)"
   ],
   "outputs": [
    {
     "data": {
      "text/plain": [
       "np.float64(0.25)"
      ]
     },
     "execution_count": 20,
     "metadata": {},
     "output_type": "execute_result"
    }
   ],
   "execution_count": 20
  },
  {
   "cell_type": "code",
   "id": "3ce158a2",
   "metadata": {
    "ExecuteTime": {
     "end_time": "2025-10-27T04:21:00.625146Z",
     "start_time": "2025-10-27T04:21:00.618250Z"
    }
   },
   "source": [
    "g_right = [0.333, 0.333, -0.667, 0.333] \n",
    "np.var(g_right)"
   ],
   "outputs": [
    {
     "data": {
      "text/plain": [
       "np.float64(0.1875)"
      ]
     },
     "execution_count": 21,
     "metadata": {},
     "output_type": "execute_result"
    }
   ],
   "execution_count": 21
  },
  {
   "cell_type": "code",
   "id": "c61feebc",
   "metadata": {
    "ExecuteTime": {
     "end_time": "2025-10-27T04:21:00.667265Z",
     "start_time": "2025-10-27T04:21:00.660289Z"
    }
   },
   "source": [
    "gain = 0.222 - (2/6) * 0.25 - (4/6) * 0.1875\n",
    "gain"
   ],
   "outputs": [
    {
     "data": {
      "text/plain": [
       "0.01366666666666666"
      ]
     },
     "execution_count": 22,
     "metadata": {},
     "output_type": "execute_result"
    }
   ],
   "execution_count": 22
  },
  {
   "cell_type": "markdown",
   "id": "a43f2f50",
   "metadata": {},
   "source": [
    "Age < 23.5"
   ]
  },
  {
   "cell_type": "code",
   "id": "2fbbc8a3",
   "metadata": {
    "ExecuteTime": {
     "end_time": "2025-10-27T04:21:00.783900Z",
     "start_time": "2025-10-27T04:21:00.774542Z"
    }
   },
   "source": [
    "g_left = [0.333]\n",
    "np.var(g_left)"
   ],
   "outputs": [
    {
     "data": {
      "text/plain": [
       "np.float64(0.0)"
      ]
     },
     "execution_count": 23,
     "metadata": {},
     "output_type": "execute_result"
    }
   ],
   "execution_count": 23
  },
  {
   "cell_type": "code",
   "id": "b61a4439",
   "metadata": {
    "ExecuteTime": {
     "end_time": "2025-10-27T04:21:00.895378Z",
     "start_time": "2025-10-27T04:21:00.884083Z"
    }
   },
   "source": [
    "g_right = [0.333, 0.333, -0.667, -0.667, 0.333] \n",
    "np.var(g_right)"
   ],
   "outputs": [
    {
     "data": {
      "text/plain": [
       "np.float64(0.24000000000000005)"
      ]
     },
     "execution_count": 24,
     "metadata": {},
     "output_type": "execute_result"
    }
   ],
   "execution_count": 24
  },
  {
   "cell_type": "code",
   "id": "3582c169",
   "metadata": {
    "ExecuteTime": {
     "end_time": "2025-10-27T04:21:01.029589Z",
     "start_time": "2025-10-27T04:21:01.023431Z"
    }
   },
   "source": [
    "gain = 0.222 - (1/6) * 0 - (5/6) * 0.24\n",
    "gain"
   ],
   "outputs": [
    {
     "data": {
      "text/plain": [
       "0.021999999999999992"
      ]
     },
     "execution_count": 25,
     "metadata": {},
     "output_type": "execute_result"
    }
   ],
   "execution_count": 25
  },
  {
   "cell_type": "markdown",
   "id": "39cd5a02",
   "metadata": {},
   "source": [
    "Age < 26.5"
   ]
  },
  {
   "cell_type": "code",
   "id": "bb88d757",
   "metadata": {
    "ExecuteTime": {
     "end_time": "2025-10-27T04:21:01.132839Z",
     "start_time": "2025-10-27T04:21:01.125310Z"
    }
   },
   "source": [
    "g_left = [0.333, 0.333]\n",
    "np.var(g_left)"
   ],
   "outputs": [
    {
     "data": {
      "text/plain": [
       "np.float64(0.0)"
      ]
     },
     "execution_count": 26,
     "metadata": {},
     "output_type": "execute_result"
    }
   ],
   "execution_count": 26
  },
  {
   "cell_type": "code",
   "id": "e865f0a6",
   "metadata": {
    "ExecuteTime": {
     "end_time": "2025-10-27T04:21:01.217261Z",
     "start_time": "2025-10-27T04:21:01.206209Z"
    }
   },
   "source": [
    "g_right = [0.333, -0.667, -0.667, 0.333] \n",
    "np.var(g_right)"
   ],
   "outputs": [
    {
     "data": {
      "text/plain": [
       "np.float64(0.25)"
      ]
     },
     "execution_count": 27,
     "metadata": {},
     "output_type": "execute_result"
    }
   ],
   "execution_count": 27
  },
  {
   "cell_type": "code",
   "id": "ce2584e8",
   "metadata": {
    "ExecuteTime": {
     "end_time": "2025-10-27T04:21:01.346482Z",
     "start_time": "2025-10-27T04:21:01.336689Z"
    }
   },
   "source": [
    "gain = 0.222 - (2/6) * 0 - (4/6) * 0.25\n",
    "gain"
   ],
   "outputs": [
    {
     "data": {
      "text/plain": [
       "0.055333333333333345"
      ]
     },
     "execution_count": 28,
     "metadata": {},
     "output_type": "execute_result"
    }
   ],
   "execution_count": 28
  },
  {
   "cell_type": "markdown",
   "id": "55ce848a",
   "metadata": {},
   "source": [
    "Age < 29"
   ]
  },
  {
   "cell_type": "code",
   "id": "ebc9f18d",
   "metadata": {
    "ExecuteTime": {
     "end_time": "2025-10-27T04:21:01.463947Z",
     "start_time": "2025-10-27T04:21:01.455228Z"
    }
   },
   "source": [
    "g_left = [0.333, 0.333, -0.667]\n",
    "np.var(g_left)"
   ],
   "outputs": [
    {
     "data": {
      "text/plain": [
       "np.float64(0.22222222222222224)"
      ]
     },
     "execution_count": 29,
     "metadata": {},
     "output_type": "execute_result"
    }
   ],
   "execution_count": 29
  },
  {
   "cell_type": "code",
   "id": "44d3aaf1",
   "metadata": {
    "ExecuteTime": {
     "end_time": "2025-10-27T04:21:01.529718Z",
     "start_time": "2025-10-27T04:21:01.520402Z"
    }
   },
   "source": [
    "g_right = [0.333, -0.667, 0.333]\n",
    "np.var(g_right)"
   ],
   "outputs": [
    {
     "data": {
      "text/plain": [
       "np.float64(0.2222222222222223)"
      ]
     },
     "execution_count": 30,
     "metadata": {},
     "output_type": "execute_result"
    }
   ],
   "execution_count": 30
  },
  {
   "cell_type": "code",
   "id": "c6c4443b",
   "metadata": {
    "ExecuteTime": {
     "end_time": "2025-10-27T04:21:01.679229Z",
     "start_time": "2025-10-27T04:21:01.672818Z"
    }
   },
   "source": [
    "gain = 0.222 - (3/6) * 0.222 - (3/6) * 0.222\n",
    "gain"
   ],
   "outputs": [
    {
     "data": {
      "text/plain": [
       "0.0"
      ]
     },
     "execution_count": 31,
     "metadata": {},
     "output_type": "execute_result"
    }
   ],
   "execution_count": 31
  },
  {
   "cell_type": "markdown",
   "id": "d4c4f299",
   "metadata": {},
   "source": [
    "Age < 32.5"
   ]
  },
  {
   "cell_type": "code",
   "id": "3caa6e39",
   "metadata": {
    "ExecuteTime": {
     "end_time": "2025-10-27T04:21:01.763777Z",
     "start_time": "2025-10-27T04:21:01.753691Z"
    }
   },
   "source": [
    "g_left = [0.333, 0.333, 0.333, -0.667]\n",
    "np.var(g_left)"
   ],
   "outputs": [
    {
     "data": {
      "text/plain": [
       "np.float64(0.1875)"
      ]
     },
     "execution_count": 32,
     "metadata": {},
     "output_type": "execute_result"
    }
   ],
   "execution_count": 32
  },
  {
   "cell_type": "code",
   "id": "c61b6a04",
   "metadata": {
    "ExecuteTime": {
     "end_time": "2025-10-27T04:21:01.861036Z",
     "start_time": "2025-10-27T04:21:01.850243Z"
    }
   },
   "source": [
    "g_right = [-0.667, 0.333]\n",
    "np.var(g_right)"
   ],
   "outputs": [
    {
     "data": {
      "text/plain": [
       "np.float64(0.25)"
      ]
     },
     "execution_count": 33,
     "metadata": {},
     "output_type": "execute_result"
    }
   ],
   "execution_count": 33
  },
  {
   "cell_type": "code",
   "id": "aedd3600",
   "metadata": {
    "ExecuteTime": {
     "end_time": "2025-10-27T04:21:01.968174Z",
     "start_time": "2025-10-27T04:21:01.958625Z"
    }
   },
   "source": [
    "gain = 0.222 - (4/6) * 0.1875 - (2/6) * 0.25\n",
    "gain"
   ],
   "outputs": [
    {
     "data": {
      "text/plain": [
       "0.013666666666666674"
      ]
     },
     "execution_count": 34,
     "metadata": {},
     "output_type": "execute_result"
    }
   ],
   "execution_count": 34
  },
  {
   "cell_type": "markdown",
   "id": "12f18162",
   "metadata": {},
   "source": [
    "Age < 37.5"
   ]
  },
  {
   "cell_type": "code",
   "id": "53ff9183",
   "metadata": {
    "ExecuteTime": {
     "end_time": "2025-10-27T04:21:02.105207Z",
     "start_time": "2025-10-27T04:21:02.095525Z"
    }
   },
   "source": [
    "g_left = [0.333, 0.333, 0.333, -0.667, -0.667]\n",
    "np.var(g_left)"
   ],
   "outputs": [
    {
     "data": {
      "text/plain": [
       "np.float64(0.24000000000000005)"
      ]
     },
     "execution_count": 35,
     "metadata": {},
     "output_type": "execute_result"
    }
   ],
   "execution_count": 35
  },
  {
   "cell_type": "code",
   "id": "de35ce43",
   "metadata": {
    "ExecuteTime": {
     "end_time": "2025-10-27T04:21:02.230205Z",
     "start_time": "2025-10-27T04:21:02.219045Z"
    }
   },
   "source": [
    "g_right = [0.333]\n",
    "np.var(g_right)"
   ],
   "outputs": [
    {
     "data": {
      "text/plain": [
       "np.float64(0.0)"
      ]
     },
     "execution_count": 36,
     "metadata": {},
     "output_type": "execute_result"
    }
   ],
   "execution_count": 36
  },
  {
   "cell_type": "code",
   "id": "35be4d93",
   "metadata": {
    "ExecuteTime": {
     "end_time": "2025-10-27T04:21:02.327595Z",
     "start_time": "2025-10-27T04:21:02.317743Z"
    }
   },
   "source": [
    "gain = 0.222 - (5/6) * 0.24 - (1/6) * 0\n",
    "gain"
   ],
   "outputs": [
    {
     "data": {
      "text/plain": [
       "0.021999999999999992"
      ]
     },
     "execution_count": 37,
     "metadata": {},
     "output_type": "execute_result"
    }
   ],
   "execution_count": 37
  },
  {
   "cell_type": "markdown",
   "id": "119b6813",
   "metadata": {},
   "source": [
    "Splitting by Age < 26.5"
   ]
  },
  {
   "cell_type": "markdown",
   "id": "ffdefbd3",
   "metadata": {},
   "source": [
    "#### Second level of the tree"
   ]
  },
  {
   "cell_type": "code",
   "id": "649ed1cb",
   "metadata": {
    "ExecuteTime": {
     "end_time": "2025-10-27T04:21:02.391486Z",
     "start_time": "2025-10-27T04:21:02.380855Z"
    }
   },
   "source": [
    "g_root = [0.333, -0.667, -0.667, 0.333]\n",
    "np.mean(g_root)"
   ],
   "outputs": [
    {
     "data": {
      "text/plain": [
       "np.float64(-0.16700000000000004)"
      ]
     },
     "execution_count": 38,
     "metadata": {},
     "output_type": "execute_result"
    }
   ],
   "execution_count": 38
  },
  {
   "cell_type": "code",
   "id": "b9dcb7a6",
   "metadata": {
    "ExecuteTime": {
     "end_time": "2025-10-27T04:21:02.474122Z",
     "start_time": "2025-10-27T04:21:02.463579Z"
    }
   },
   "source": [
    "(2 * (0.333 - (-0.167))**2 + 2 * (-0.667 - (-0.167))**2) / 4"
   ],
   "outputs": [
    {
     "data": {
      "text/plain": [
       "0.25"
      ]
     },
     "execution_count": 39,
     "metadata": {},
     "output_type": "execute_result"
    }
   ],
   "execution_count": 39
  },
  {
   "cell_type": "code",
   "id": "eee9e8b8",
   "metadata": {
    "ExecuteTime": {
     "end_time": "2025-10-27T04:21:02.556283Z",
     "start_time": "2025-10-27T04:21:02.547545Z"
    }
   },
   "source": [
    "np.var(g_root)"
   ],
   "outputs": [
    {
     "data": {
      "text/plain": [
       "np.float64(0.25)"
      ]
     },
     "execution_count": 40,
     "metadata": {},
     "output_type": "execute_result"
    }
   ],
   "execution_count": 40
  },
  {
   "cell_type": "markdown",
   "id": "cd651f17",
   "metadata": {},
   "source": [
    "Income = Low"
   ]
  },
  {
   "cell_type": "code",
   "id": "b56dd38f",
   "metadata": {
    "ExecuteTime": {
     "end_time": "2025-10-27T04:21:02.632347Z",
     "start_time": "2025-10-27T04:21:02.622423Z"
    }
   },
   "source": [
    "g_left = [0.333, -0.667]\n",
    "np.var(g_left)"
   ],
   "outputs": [
    {
     "data": {
      "text/plain": [
       "np.float64(0.25)"
      ]
     },
     "execution_count": 41,
     "metadata": {},
     "output_type": "execute_result"
    }
   ],
   "execution_count": 41
  },
  {
   "cell_type": "code",
   "id": "08b28278",
   "metadata": {
    "ExecuteTime": {
     "end_time": "2025-10-27T04:21:02.679284Z",
     "start_time": "2025-10-27T04:21:02.669439Z"
    }
   },
   "source": [
    "g_right = [-0.667, 0.333]\n",
    "np.var(g_right)"
   ],
   "outputs": [
    {
     "data": {
      "text/plain": [
       "np.float64(0.25)"
      ]
     },
     "execution_count": 42,
     "metadata": {},
     "output_type": "execute_result"
    }
   ],
   "execution_count": 42
  },
  {
   "cell_type": "code",
   "id": "138653c1",
   "metadata": {
    "ExecuteTime": {
     "end_time": "2025-10-27T04:21:02.700314Z",
     "start_time": "2025-10-27T04:21:02.692222Z"
    }
   },
   "source": [
    "gain = 0.25 - (2/4) * 0.25 - (2/4) * 0.25\n",
    "gain"
   ],
   "outputs": [
    {
     "data": {
      "text/plain": [
       "0.0"
      ]
     },
     "execution_count": 43,
     "metadata": {},
     "output_type": "execute_result"
    }
   ],
   "execution_count": 43
  },
  {
   "cell_type": "markdown",
   "id": "b10cb544",
   "metadata": {},
   "source": [
    "Income = Medium"
   ]
  },
  {
   "cell_type": "code",
   "id": "bd5ac943",
   "metadata": {
    "ExecuteTime": {
     "end_time": "2025-10-27T04:21:02.718952Z",
     "start_time": "2025-10-27T04:21:02.713912Z"
    }
   },
   "source": [
    "g_left = [-0.667]\n",
    "np.var(g_left)"
   ],
   "outputs": [
    {
     "data": {
      "text/plain": [
       "np.float64(0.0)"
      ]
     },
     "execution_count": 44,
     "metadata": {},
     "output_type": "execute_result"
    }
   ],
   "execution_count": 44
  },
  {
   "cell_type": "code",
   "id": "d6ed83ea",
   "metadata": {
    "ExecuteTime": {
     "end_time": "2025-10-27T04:21:02.763742Z",
     "start_time": "2025-10-27T04:21:02.757934Z"
    }
   },
   "source": [
    "g_right = [0.333, -0.667, 0.333] \n",
    "np.var(g_right)"
   ],
   "outputs": [
    {
     "data": {
      "text/plain": [
       "np.float64(0.2222222222222223)"
      ]
     },
     "execution_count": 45,
     "metadata": {},
     "output_type": "execute_result"
    }
   ],
   "execution_count": 45
  },
  {
   "cell_type": "code",
   "id": "d556a007",
   "metadata": {
    "ExecuteTime": {
     "end_time": "2025-10-27T04:21:02.829783Z",
     "start_time": "2025-10-27T04:21:02.822697Z"
    }
   },
   "source": [
    "gain = 0.25 - (1/4) * 0 - (3/4) * 0.222\n",
    "gain"
   ],
   "outputs": [
    {
     "data": {
      "text/plain": [
       "0.08349999999999999"
      ]
     },
     "execution_count": 46,
     "metadata": {},
     "output_type": "execute_result"
    }
   ],
   "execution_count": 46
  },
  {
   "cell_type": "markdown",
   "id": "90b3e840",
   "metadata": {},
   "source": [
    "Income = High"
   ]
  },
  {
   "cell_type": "code",
   "id": "5e1614c6",
   "metadata": {
    "ExecuteTime": {
     "end_time": "2025-10-27T04:21:02.919497Z",
     "start_time": "2025-10-27T04:21:02.909942Z"
    }
   },
   "source": [
    "g_left = [0.333]\n",
    "np.var(g_left)"
   ],
   "outputs": [
    {
     "data": {
      "text/plain": [
       "np.float64(0.0)"
      ]
     },
     "execution_count": 47,
     "metadata": {},
     "output_type": "execute_result"
    }
   ],
   "execution_count": 47
  },
  {
   "cell_type": "code",
   "id": "235c703e",
   "metadata": {
    "ExecuteTime": {
     "end_time": "2025-10-27T04:21:02.997221Z",
     "start_time": "2025-10-27T04:21:02.992734Z"
    }
   },
   "source": [
    "g_right = [0.333, -0.667, -0.667] \n",
    "np.var(g_right)"
   ],
   "outputs": [
    {
     "data": {
      "text/plain": [
       "np.float64(0.22222222222222224)"
      ]
     },
     "execution_count": 48,
     "metadata": {},
     "output_type": "execute_result"
    }
   ],
   "execution_count": 48
  },
  {
   "cell_type": "code",
   "id": "eadf1d60",
   "metadata": {
    "ExecuteTime": {
     "end_time": "2025-10-27T04:21:03.086798Z",
     "start_time": "2025-10-27T04:21:03.077103Z"
    }
   },
   "source": [
    "gain = 0.25 - (1/4) * 0 - (3/4) * 0.222\n",
    "gain"
   ],
   "outputs": [
    {
     "data": {
      "text/plain": [
       "0.08349999999999999"
      ]
     },
     "execution_count": 49,
     "metadata": {},
     "output_type": "execute_result"
    }
   ],
   "execution_count": 49
  },
  {
   "cell_type": "markdown",
   "id": "a9cb6531",
   "metadata": {},
   "source": [
    "Education = High School"
   ]
  },
  {
   "cell_type": "code",
   "id": "c801899a",
   "metadata": {
    "ExecuteTime": {
     "end_time": "2025-10-27T04:21:03.149880Z",
     "start_time": "2025-10-27T04:21:03.143163Z"
    }
   },
   "source": [
    "g_left = [-0.667]\n",
    "np.var(g_left)"
   ],
   "outputs": [
    {
     "data": {
      "text/plain": [
       "np.float64(0.0)"
      ]
     },
     "execution_count": 50,
     "metadata": {},
     "output_type": "execute_result"
    }
   ],
   "execution_count": 50
  },
  {
   "cell_type": "code",
   "id": "2a223baf",
   "metadata": {
    "ExecuteTime": {
     "end_time": "2025-10-27T04:21:03.200291Z",
     "start_time": "2025-10-27T04:21:03.192786Z"
    }
   },
   "source": [
    "g_right = [0.333, -0.667, 0.333] \n",
    "np.var(g_right)"
   ],
   "outputs": [
    {
     "data": {
      "text/plain": [
       "np.float64(0.2222222222222223)"
      ]
     },
     "execution_count": 51,
     "metadata": {},
     "output_type": "execute_result"
    }
   ],
   "execution_count": 51
  },
  {
   "cell_type": "code",
   "id": "855aba67",
   "metadata": {
    "ExecuteTime": {
     "end_time": "2025-10-27T04:21:03.225867Z",
     "start_time": "2025-10-27T04:21:03.218455Z"
    }
   },
   "source": [
    "gain = 0.25 - (1/4) * 0 - (3/4) * 0.222\n",
    "gain"
   ],
   "outputs": [
    {
     "data": {
      "text/plain": [
       "0.08349999999999999"
      ]
     },
     "execution_count": 52,
     "metadata": {},
     "output_type": "execute_result"
    }
   ],
   "execution_count": 52
  },
  {
   "cell_type": "markdown",
   "id": "c2481a01",
   "metadata": {},
   "source": [
    "Age < 29"
   ]
  },
  {
   "cell_type": "code",
   "id": "974532c8",
   "metadata": {
    "ExecuteTime": {
     "end_time": "2025-10-27T04:21:03.253603Z",
     "start_time": "2025-10-27T04:21:03.245431Z"
    }
   },
   "source": [
    "g_left = [-0.667]\n",
    "np.var(g_left)"
   ],
   "outputs": [
    {
     "data": {
      "text/plain": [
       "np.float64(0.0)"
      ]
     },
     "execution_count": 53,
     "metadata": {},
     "output_type": "execute_result"
    }
   ],
   "execution_count": 53
  },
  {
   "cell_type": "code",
   "id": "f1bb32f9",
   "metadata": {
    "ExecuteTime": {
     "end_time": "2025-10-27T04:21:03.274736Z",
     "start_time": "2025-10-27T04:21:03.269272Z"
    }
   },
   "source": [
    "g_right = [0.333, -0.667, 0.333] \n",
    "np.var(g_right)"
   ],
   "outputs": [
    {
     "data": {
      "text/plain": [
       "np.float64(0.2222222222222223)"
      ]
     },
     "execution_count": 54,
     "metadata": {},
     "output_type": "execute_result"
    }
   ],
   "execution_count": 54
  },
  {
   "cell_type": "code",
   "id": "e5987683",
   "metadata": {
    "ExecuteTime": {
     "end_time": "2025-10-27T04:21:03.296391Z",
     "start_time": "2025-10-27T04:21:03.291478Z"
    }
   },
   "source": [
    "gain = 0.25 - (1/4) * 0 - (3/4) * 0.222\n",
    "gain"
   ],
   "outputs": [
    {
     "data": {
      "text/plain": [
       "0.08349999999999999"
      ]
     },
     "execution_count": 55,
     "metadata": {},
     "output_type": "execute_result"
    }
   ],
   "execution_count": 55
  },
  {
   "cell_type": "markdown",
   "id": "96cccb58",
   "metadata": {},
   "source": [
    "Age < 32.5"
   ]
  },
  {
   "cell_type": "code",
   "id": "5f8cec78",
   "metadata": {
    "ExecuteTime": {
     "end_time": "2025-10-27T04:21:03.318225Z",
     "start_time": "2025-10-27T04:21:03.312089Z"
    }
   },
   "source": [
    "g_left = [0.333, -0.667]\n",
    "np.var(g_left)"
   ],
   "outputs": [
    {
     "data": {
      "text/plain": [
       "np.float64(0.25)"
      ]
     },
     "execution_count": 56,
     "metadata": {},
     "output_type": "execute_result"
    }
   ],
   "execution_count": 56
  },
  {
   "cell_type": "code",
   "id": "53c6e50c",
   "metadata": {
    "ExecuteTime": {
     "end_time": "2025-10-27T04:21:03.365287Z",
     "start_time": "2025-10-27T04:21:03.355917Z"
    }
   },
   "source": [
    "g_right = [-0.667, 0.333] \n",
    "np.var(g_right)"
   ],
   "outputs": [
    {
     "data": {
      "text/plain": [
       "np.float64(0.25)"
      ]
     },
     "execution_count": 57,
     "metadata": {},
     "output_type": "execute_result"
    }
   ],
   "execution_count": 57
  },
  {
   "cell_type": "code",
   "id": "d130deea",
   "metadata": {
    "ExecuteTime": {
     "end_time": "2025-10-27T04:21:03.457133Z",
     "start_time": "2025-10-27T04:21:03.447224Z"
    }
   },
   "source": [
    "gain = 0.25 - (1/4) * 0 - (3/4) * 0.222\n",
    "gain"
   ],
   "outputs": [
    {
     "data": {
      "text/plain": [
       "0.08349999999999999"
      ]
     },
     "execution_count": 58,
     "metadata": {},
     "output_type": "execute_result"
    }
   ],
   "execution_count": 58
  },
  {
   "cell_type": "markdown",
   "id": "af7c53c5",
   "metadata": {},
   "source": [
    "Age < 37.5"
   ]
  },
  {
   "cell_type": "code",
   "id": "0ad63839",
   "metadata": {
    "ExecuteTime": {
     "end_time": "2025-10-27T04:21:03.576586Z",
     "start_time": "2025-10-27T04:21:03.566957Z"
    }
   },
   "source": [
    "g_left = [0.333, -0.667, -0.667]\n",
    "np.var(g_left)"
   ],
   "outputs": [
    {
     "data": {
      "text/plain": [
       "np.float64(0.22222222222222224)"
      ]
     },
     "execution_count": 59,
     "metadata": {},
     "output_type": "execute_result"
    }
   ],
   "execution_count": 59
  },
  {
   "cell_type": "code",
   "id": "6515dd5d",
   "metadata": {
    "ExecuteTime": {
     "end_time": "2025-10-27T04:21:03.726256Z",
     "start_time": "2025-10-27T04:21:03.716583Z"
    }
   },
   "source": [
    "g_right = [0.333] \n",
    "np.var(g_right)"
   ],
   "outputs": [
    {
     "data": {
      "text/plain": [
       "np.float64(0.0)"
      ]
     },
     "execution_count": 60,
     "metadata": {},
     "output_type": "execute_result"
    }
   ],
   "execution_count": 60
  },
  {
   "cell_type": "code",
   "id": "893f9ccd",
   "metadata": {
    "ExecuteTime": {
     "end_time": "2025-10-27T04:21:03.842441Z",
     "start_time": "2025-10-27T04:21:03.832769Z"
    }
   },
   "source": [
    "gain = 0.25 - (3/4) * 0.222 - (1/4) * 0\n",
    "gain"
   ],
   "outputs": [
    {
     "data": {
      "text/plain": [
       "0.08349999999999999"
      ]
     },
     "execution_count": 61,
     "metadata": {},
     "output_type": "execute_result"
    }
   ],
   "execution_count": 61
  },
  {
   "cell_type": "markdown",
   "id": "e6eb956c",
   "metadata": {},
   "source": [
    "Splitting by Income = Medium"
   ]
  },
  {
   "cell_type": "markdown",
   "id": "2dfa79af",
   "metadata": {},
   "source": [
    "Computing gamma"
   ]
  },
  {
   "cell_type": "code",
   "id": "eea28e6e",
   "metadata": {
    "ExecuteTime": {
     "end_time": "2025-10-27T04:21:03.936252Z",
     "start_time": "2025-10-27T04:21:03.927844Z"
    }
   },
   "source": [
    "gamma1 = (2 * 0.333) / (2 * 0.667 * (1 - 0.667))\n",
    "gamma1"
   ],
   "outputs": [
    {
     "data": {
      "text/plain": [
       "1.499250374812594"
      ]
     },
     "execution_count": 62,
     "metadata": {},
     "output_type": "execute_result"
    }
   ],
   "execution_count": 62
  },
  {
   "cell_type": "code",
   "id": "dd384f79",
   "metadata": {
    "ExecuteTime": {
     "end_time": "2025-10-27T04:21:04.007525Z",
     "start_time": "2025-10-27T04:21:03.998900Z"
    }
   },
   "source": [
    "gamma2 = (-0.667) / (0.667 * (1 - 0.667))\n",
    "gamma2"
   ],
   "outputs": [
    {
     "data": {
      "text/plain": [
       "-3.0030030030030037"
      ]
     },
     "execution_count": 63,
     "metadata": {},
     "output_type": "execute_result"
    }
   ],
   "execution_count": 63
  },
  {
   "cell_type": "code",
   "id": "b3d379e0",
   "metadata": {
    "ExecuteTime": {
     "end_time": "2025-10-27T04:21:04.074623Z",
     "start_time": "2025-10-27T04:21:04.064753Z"
    }
   },
   "source": [
    "gamma3 = (2 * 0.333 + (-0.667)) / (3 * 0.667 * (1 - 0.667))\n",
    "gamma3"
   ],
   "outputs": [
    {
     "data": {
      "text/plain": [
       "-0.0015007511259385335"
      ]
     },
     "execution_count": 64,
     "metadata": {},
     "output_type": "execute_result"
    }
   ],
   "execution_count": 64
  },
  {
   "cell_type": "markdown",
   "id": "0bb09c74",
   "metadata": {},
   "source": [
    "New predictions"
   ]
  },
  {
   "cell_type": "code",
   "id": "8769bb2c",
   "metadata": {
    "ExecuteTime": {
     "end_time": "2025-10-27T04:21:04.122523Z",
     "start_time": "2025-10-27T04:21:04.113855Z"
    }
   },
   "source": [
    "0.693 + 0.5 * 1.5"
   ],
   "outputs": [
    {
     "data": {
      "text/plain": [
       "1.443"
      ]
     },
     "execution_count": 65,
     "metadata": {},
     "output_type": "execute_result"
    }
   ],
   "execution_count": 65
  },
  {
   "cell_type": "code",
   "id": "d7f6ac3c",
   "metadata": {
    "ExecuteTime": {
     "end_time": "2025-10-27T04:21:04.181797Z",
     "start_time": "2025-10-27T04:21:04.172260Z"
    }
   },
   "source": [
    "sigmoid(1.443)"
   ],
   "outputs": [
    {
     "data": {
      "text/plain": [
       "np.float64(0.8089187887784832)"
      ]
     },
     "execution_count": 66,
     "metadata": {},
     "output_type": "execute_result"
    }
   ],
   "execution_count": 66
  },
  {
   "cell_type": "code",
   "id": "64221378",
   "metadata": {
    "ExecuteTime": {
     "end_time": "2025-10-27T04:21:04.231607Z",
     "start_time": "2025-10-27T04:21:04.223240Z"
    }
   },
   "source": [
    "0.693 + 0.5 * 0"
   ],
   "outputs": [
    {
     "data": {
      "text/plain": [
       "0.693"
      ]
     },
     "execution_count": 67,
     "metadata": {},
     "output_type": "execute_result"
    }
   ],
   "execution_count": 67
  },
  {
   "cell_type": "code",
   "id": "3486c31d",
   "metadata": {
    "ExecuteTime": {
     "end_time": "2025-10-27T04:21:04.284344Z",
     "start_time": "2025-10-27T04:21:04.274816Z"
    }
   },
   "source": [
    "sigmoid(0.693)"
   ],
   "outputs": [
    {
     "data": {
      "text/plain": [
       "np.float64(0.6666339590733064)"
      ]
     },
     "execution_count": 68,
     "metadata": {},
     "output_type": "execute_result"
    }
   ],
   "execution_count": 68
  },
  {
   "cell_type": "code",
   "id": "5acaa990",
   "metadata": {
    "ExecuteTime": {
     "end_time": "2025-10-27T04:21:04.324789Z",
     "start_time": "2025-10-27T04:21:04.314781Z"
    }
   },
   "source": [
    "0.693 + 0.5 * (-3)"
   ],
   "outputs": [
    {
     "data": {
      "text/plain": [
       "-0.807"
      ]
     },
     "execution_count": 69,
     "metadata": {},
     "output_type": "execute_result"
    }
   ],
   "execution_count": 69
  },
  {
   "cell_type": "code",
   "id": "4d77f279",
   "metadata": {
    "ExecuteTime": {
     "end_time": "2025-10-27T04:21:04.387176Z",
     "start_time": "2025-10-27T04:21:04.378197Z"
    }
   },
   "source": [
    "sigmoid(-0.807)"
   ],
   "outputs": [
    {
     "data": {
      "text/plain": [
       "np.float64(0.30853014568206916)"
      ]
     },
     "execution_count": 70,
     "metadata": {},
     "output_type": "execute_result"
    }
   ],
   "execution_count": 70
  },
  {
   "cell_type": "markdown",
   "id": "c83bf786",
   "metadata": {},
   "source": [
    "New pseudo-residuals"
   ]
  },
  {
   "cell_type": "code",
   "id": "613853b1",
   "metadata": {
    "ExecuteTime": {
     "end_time": "2025-10-27T04:21:04.451376Z",
     "start_time": "2025-10-27T04:21:04.446546Z"
    }
   },
   "source": [
    "1 - 0.809"
   ],
   "outputs": [
    {
     "data": {
      "text/plain": [
       "0.19099999999999995"
      ]
     },
     "execution_count": 71,
     "metadata": {},
     "output_type": "execute_result"
    }
   ],
   "execution_count": 71
  },
  {
   "cell_type": "code",
   "id": "be287be0",
   "metadata": {
    "ExecuteTime": {
     "end_time": "2025-10-27T04:21:04.520075Z",
     "start_time": "2025-10-27T04:21:04.514051Z"
    }
   },
   "source": [
    "1 - 0.667"
   ],
   "outputs": [
    {
     "data": {
      "text/plain": [
       "0.33299999999999996"
      ]
     },
     "execution_count": 72,
     "metadata": {},
     "output_type": "execute_result"
    }
   ],
   "execution_count": 72
  },
  {
   "cell_type": "code",
   "id": "f1c602af",
   "metadata": {
    "ExecuteTime": {
     "end_time": "2025-10-27T04:21:04.634992Z",
     "start_time": "2025-10-27T04:21:04.625698Z"
    }
   },
   "source": [
    "0 - 0.667"
   ],
   "outputs": [
    {
     "data": {
      "text/plain": [
       "-0.667"
      ]
     },
     "execution_count": 73,
     "metadata": {},
     "output_type": "execute_result"
    }
   ],
   "execution_count": 73
  },
  {
   "cell_type": "code",
   "id": "a393e7e4",
   "metadata": {
    "ExecuteTime": {
     "end_time": "2025-10-27T04:21:04.758019Z",
     "start_time": "2025-10-27T04:21:04.747491Z"
    }
   },
   "source": [
    "0 - 0.309"
   ],
   "outputs": [
    {
     "data": {
      "text/plain": [
       "-0.309"
      ]
     },
     "execution_count": 74,
     "metadata": {},
     "output_type": "execute_result"
    }
   ],
   "execution_count": 74
  },
  {
   "cell_type": "markdown",
   "id": "9a73bd25",
   "metadata": {},
   "source": [
    "### Third iteration"
   ]
  },
  {
   "cell_type": "code",
   "id": "2f80ae7e",
   "metadata": {
    "ExecuteTime": {
     "end_time": "2025-10-27T04:21:04.837033Z",
     "start_time": "2025-10-27T04:21:04.830126Z"
    }
   },
   "source": [
    "g_root = [0.191, 0.333, 0.191, -0.667, -0.309, 0.333]"
   ],
   "outputs": [],
   "execution_count": 75
  },
  {
   "cell_type": "code",
   "id": "6a866059",
   "metadata": {
    "ExecuteTime": {
     "end_time": "2025-10-27T04:21:04.895485Z",
     "start_time": "2025-10-27T04:21:04.885491Z"
    }
   },
   "source": [
    "g_mean = (2 * 0.191 + 2 * 0.333 + (-0.667) + (-0.309)) / 6\n",
    "g_mean"
   ],
   "outputs": [
    {
     "data": {
      "text/plain": [
       "0.012000000000000002"
      ]
     },
     "execution_count": 76,
     "metadata": {},
     "output_type": "execute_result"
    }
   ],
   "execution_count": 76
  },
  {
   "cell_type": "code",
   "id": "345995ac",
   "metadata": {
    "ExecuteTime": {
     "end_time": "2025-10-27T04:21:04.946402Z",
     "start_time": "2025-10-27T04:21:04.936705Z"
    }
   },
   "source": [
    "g_var = (2 * (0.191 - 0.012)**2 + 2 * (0.333 - 0.012)**2 + (-0.667 - 0.012)**2 + (-0.309 - 0.012)**2) / 6\n",
    "g_var"
   ],
   "outputs": [
    {
     "data": {
      "text/plain": [
       "0.13904100000000003"
      ]
     },
     "execution_count": 77,
     "metadata": {},
     "output_type": "execute_result"
    }
   ],
   "execution_count": 77
  },
  {
   "cell_type": "code",
   "id": "8fe55bd7",
   "metadata": {
    "ExecuteTime": {
     "end_time": "2025-10-27T04:21:05.046369Z",
     "start_time": "2025-10-27T04:21:05.036338Z"
    }
   },
   "source": [
    "np.var(g_root)"
   ],
   "outputs": [
    {
     "data": {
      "text/plain": [
       "np.float64(0.13904100000000005)"
      ]
     },
     "execution_count": 78,
     "metadata": {},
     "output_type": "execute_result"
    }
   ],
   "execution_count": 78
  },
  {
   "cell_type": "markdown",
   "id": "0f637361",
   "metadata": {},
   "source": [
    "Income = Low"
   ]
  },
  {
   "cell_type": "code",
   "id": "9f3147f3",
   "metadata": {
    "ExecuteTime": {
     "end_time": "2025-10-27T04:21:05.170590Z",
     "start_time": "2025-10-27T04:21:05.163706Z"
    }
   },
   "source": [
    "g_left = [0.191, 0.333, -0.667]\n",
    "np.var(g_left)"
   ],
   "outputs": [
    {
     "data": {
      "text/plain": [
       "np.float64(0.1951475555555556)"
      ]
     },
     "execution_count": 79,
     "metadata": {},
     "output_type": "execute_result"
    }
   ],
   "execution_count": 79
  },
  {
   "cell_type": "code",
   "id": "61acf9cc",
   "metadata": {
    "ExecuteTime": {
     "end_time": "2025-10-27T04:21:05.235563Z",
     "start_time": "2025-10-27T04:21:05.225517Z"
    }
   },
   "source": [
    "g_right = [0.191, -0.309, 0.333]\n",
    "np.var(g_right)"
   ],
   "outputs": [
    {
     "data": {
      "text/plain": [
       "np.float64(0.07581422222222223)"
      ]
     },
     "execution_count": 80,
     "metadata": {},
     "output_type": "execute_result"
    }
   ],
   "execution_count": 80
  },
  {
   "cell_type": "code",
   "id": "862cae4d",
   "metadata": {
    "ExecuteTime": {
     "end_time": "2025-10-27T04:21:05.281521Z",
     "start_time": "2025-10-27T04:21:05.272101Z"
    }
   },
   "source": [
    "gain = 0.139 - (3/6) * 0.195 - (3/6) * 0.0758\n",
    "gain"
   ],
   "outputs": [
    {
     "data": {
      "text/plain": [
       "0.003600000000000006"
      ]
     },
     "execution_count": 81,
     "metadata": {},
     "output_type": "execute_result"
    }
   ],
   "execution_count": 81
  },
  {
   "cell_type": "markdown",
   "id": "7a79c735",
   "metadata": {},
   "source": [
    "Income = Medium"
   ]
  },
  {
   "cell_type": "code",
   "id": "08d0d493",
   "metadata": {
    "ExecuteTime": {
     "end_time": "2025-10-27T04:21:05.309390Z",
     "start_time": "2025-10-27T04:21:05.300715Z"
    }
   },
   "source": [
    "g_left = [0.191, -0.309]\n",
    "np.var(g_left)"
   ],
   "outputs": [
    {
     "data": {
      "text/plain": [
       "np.float64(0.0625)"
      ]
     },
     "execution_count": 82,
     "metadata": {},
     "output_type": "execute_result"
    }
   ],
   "execution_count": 82
  },
  {
   "cell_type": "code",
   "id": "1091ba03",
   "metadata": {
    "ExecuteTime": {
     "end_time": "2025-10-27T04:21:05.348653Z",
     "start_time": "2025-10-27T04:21:05.339387Z"
    }
   },
   "source": [
    "g_right = [0.191, 0.333, -0.667, 0.333] \n",
    "np.var(g_right)"
   ],
   "outputs": [
    {
     "data": {
      "text/plain": [
       "np.float64(0.17353075)"
      ]
     },
     "execution_count": 83,
     "metadata": {},
     "output_type": "execute_result"
    }
   ],
   "execution_count": 83
  },
  {
   "cell_type": "code",
   "id": "2beca416",
   "metadata": {
    "ExecuteTime": {
     "end_time": "2025-10-27T04:21:05.412441Z",
     "start_time": "2025-10-27T04:21:05.402736Z"
    }
   },
   "source": [
    "gain = 0.139 - (2/6) * 0.0625 - (4/6) * 0.174\n",
    "gain"
   ],
   "outputs": [
    {
     "data": {
      "text/plain": [
       "0.0021666666666666917"
      ]
     },
     "execution_count": 84,
     "metadata": {},
     "output_type": "execute_result"
    }
   ],
   "execution_count": 84
  },
  {
   "cell_type": "markdown",
   "id": "cb523b26",
   "metadata": {},
   "source": [
    "Income = High"
   ]
  },
  {
   "cell_type": "code",
   "id": "4b2f2205",
   "metadata": {
    "ExecuteTime": {
     "end_time": "2025-10-27T04:21:05.501234Z",
     "start_time": "2025-10-27T04:21:05.491617Z"
    }
   },
   "source": [
    "g_left = [0.333]\n",
    "np.var(g_left)"
   ],
   "outputs": [
    {
     "data": {
      "text/plain": [
       "np.float64(0.0)"
      ]
     },
     "execution_count": 85,
     "metadata": {},
     "output_type": "execute_result"
    }
   ],
   "execution_count": 85
  },
  {
   "cell_type": "code",
   "id": "370f6939",
   "metadata": {
    "ExecuteTime": {
     "end_time": "2025-10-27T04:21:05.652431Z",
     "start_time": "2025-10-27T04:21:05.641907Z"
    }
   },
   "source": [
    "g_right = [0.191, 0.333, 0.191, -0.667, -0.309] \n",
    "np.var(g_right)"
   ],
   "outputs": [
    {
     "data": {
      "text/plain": [
       "np.float64(0.14211936000000003)"
      ]
     },
     "execution_count": 86,
     "metadata": {},
     "output_type": "execute_result"
    }
   ],
   "execution_count": 86
  },
  {
   "cell_type": "code",
   "id": "22e7502f",
   "metadata": {
    "ExecuteTime": {
     "end_time": "2025-10-27T04:21:05.728347Z",
     "start_time": "2025-10-27T04:21:05.722528Z"
    }
   },
   "source": [
    "gain = 0.139 - (1/6) * 0 - (5/6) * 0.142\n",
    "gain"
   ],
   "outputs": [
    {
     "data": {
      "text/plain": [
       "0.02066666666666668"
      ]
     },
     "execution_count": 87,
     "metadata": {},
     "output_type": "execute_result"
    }
   ],
   "execution_count": 87
  },
  {
   "cell_type": "markdown",
   "id": "7292d0c5",
   "metadata": {},
   "source": [
    "Education = High School"
   ]
  },
  {
   "cell_type": "code",
   "id": "13fa3c89",
   "metadata": {
    "ExecuteTime": {
     "end_time": "2025-10-27T04:21:05.817185Z",
     "start_time": "2025-10-27T04:21:05.807516Z"
    }
   },
   "source": [
    "g_left = [0.191, -0.667]\n",
    "np.var(g_left)"
   ],
   "outputs": [
    {
     "data": {
      "text/plain": [
       "np.float64(0.18404100000000004)"
      ]
     },
     "execution_count": 88,
     "metadata": {},
     "output_type": "execute_result"
    }
   ],
   "execution_count": 88
  },
  {
   "cell_type": "code",
   "id": "d532a82f",
   "metadata": {
    "ExecuteTime": {
     "end_time": "2025-10-27T04:21:05.867870Z",
     "start_time": "2025-10-27T04:21:05.857806Z"
    }
   },
   "source": [
    "g_right = [0.333, 0.191, -0.309, 0.333] \n",
    "np.var(g_right)"
   ],
   "outputs": [
    {
     "data": {
      "text/plain": [
       "np.float64(0.069666)"
      ]
     },
     "execution_count": 89,
     "metadata": {},
     "output_type": "execute_result"
    }
   ],
   "execution_count": 89
  },
  {
   "cell_type": "code",
   "id": "4680b5b7",
   "metadata": {
    "ExecuteTime": {
     "end_time": "2025-10-27T04:21:05.899524Z",
     "start_time": "2025-10-27T04:21:05.890558Z"
    }
   },
   "source": [
    "gain = 0.139 - (2/6) * 0.184 - (4/6) * 0.0697\n",
    "gain"
   ],
   "outputs": [
    {
     "data": {
      "text/plain": [
       "0.031200000000000026"
      ]
     },
     "execution_count": 90,
     "metadata": {},
     "output_type": "execute_result"
    }
   ],
   "execution_count": 90
  },
  {
   "cell_type": "markdown",
   "id": "2ede0b14",
   "metadata": {},
   "source": [
    "Age < 23.5"
   ]
  },
  {
   "cell_type": "code",
   "id": "9843db57",
   "metadata": {
    "ExecuteTime": {
     "end_time": "2025-10-27T04:21:05.920483Z",
     "start_time": "2025-10-27T04:21:05.911893Z"
    }
   },
   "source": [
    "g_left = [0.191]\n",
    "np.var(g_left)"
   ],
   "outputs": [
    {
     "data": {
      "text/plain": [
       "np.float64(0.0)"
      ]
     },
     "execution_count": 91,
     "metadata": {},
     "output_type": "execute_result"
    }
   ],
   "execution_count": 91
  },
  {
   "cell_type": "code",
   "id": "60811329",
   "metadata": {
    "ExecuteTime": {
     "end_time": "2025-10-27T04:21:05.944008Z",
     "start_time": "2025-10-27T04:21:05.934487Z"
    }
   },
   "source": [
    "g_right = [0.191, 0.333, -0.667, -0.309, 0.333] \n",
    "np.var(g_right)"
   ],
   "outputs": [
    {
     "data": {
      "text/plain": [
       "np.float64(0.15915936000000003)"
      ]
     },
     "execution_count": 92,
     "metadata": {},
     "output_type": "execute_result"
    }
   ],
   "execution_count": 92
  },
  {
   "cell_type": "code",
   "id": "5d371877",
   "metadata": {
    "ExecuteTime": {
     "end_time": "2025-10-27T04:21:05.973769Z",
     "start_time": "2025-10-27T04:21:05.966735Z"
    }
   },
   "source": [
    "gain = 0.139 - (1/6) * 0 - (5/6) * 0.159\n",
    "gain"
   ],
   "outputs": [
    {
     "data": {
      "text/plain": [
       "0.006500000000000006"
      ]
     },
     "execution_count": 93,
     "metadata": {},
     "output_type": "execute_result"
    }
   ],
   "execution_count": 93
  },
  {
   "cell_type": "markdown",
   "id": "92ff2560",
   "metadata": {},
   "source": [
    "Age < 26.5"
   ]
  },
  {
   "cell_type": "code",
   "id": "f7d366b3",
   "metadata": {
    "ExecuteTime": {
     "end_time": "2025-10-27T04:21:05.997104Z",
     "start_time": "2025-10-27T04:21:05.990029Z"
    }
   },
   "source": [
    "g_left = [0.191, 0.191]\n",
    "np.var(g_left)"
   ],
   "outputs": [
    {
     "data": {
      "text/plain": [
       "np.float64(0.0)"
      ]
     },
     "execution_count": 94,
     "metadata": {},
     "output_type": "execute_result"
    }
   ],
   "execution_count": 94
  },
  {
   "cell_type": "code",
   "id": "31ecd4da",
   "metadata": {
    "ExecuteTime": {
     "end_time": "2025-10-27T04:21:06.077357Z",
     "start_time": "2025-10-27T04:21:06.068134Z"
    }
   },
   "source": [
    "g_right = [0.333, -0.667, -0.309, 0.333] \n",
    "np.var(g_right)"
   ],
   "outputs": [
    {
     "data": {
      "text/plain": [
       "np.float64(0.18453075000000002)"
      ]
     },
     "execution_count": 95,
     "metadata": {},
     "output_type": "execute_result"
    }
   ],
   "execution_count": 95
  },
  {
   "cell_type": "code",
   "id": "bbd8b8d5",
   "metadata": {
    "ExecuteTime": {
     "end_time": "2025-10-27T04:21:06.118479Z",
     "start_time": "2025-10-27T04:21:06.109959Z"
    }
   },
   "source": [
    "gain = 0.139 - (2/6) * 0 - (4/6) * 0.185\n",
    "gain"
   ],
   "outputs": [
    {
     "data": {
      "text/plain": [
       "0.01566666666666669"
      ]
     },
     "execution_count": 96,
     "metadata": {},
     "output_type": "execute_result"
    }
   ],
   "execution_count": 96
  },
  {
   "cell_type": "markdown",
   "id": "53ff9d84",
   "metadata": {},
   "source": [
    "Age < 29"
   ]
  },
  {
   "cell_type": "code",
   "id": "6dab56fe",
   "metadata": {
    "ExecuteTime": {
     "end_time": "2025-10-27T04:21:06.137739Z",
     "start_time": "2025-10-27T04:21:06.131379Z"
    }
   },
   "source": [
    "g_left = [0.191, 0.191, -0.309]\n",
    "np.var(g_left)"
   ],
   "outputs": [
    {
     "data": {
      "text/plain": [
       "np.float64(0.05555555555555555)"
      ]
     },
     "execution_count": 97,
     "metadata": {},
     "output_type": "execute_result"
    }
   ],
   "execution_count": 97
  },
  {
   "cell_type": "code",
   "id": "c85a0c51",
   "metadata": {
    "ExecuteTime": {
     "end_time": "2025-10-27T04:21:06.161154Z",
     "start_time": "2025-10-27T04:21:06.153477Z"
    }
   },
   "source": [
    "g_right = [0.333, -0.667, 0.333]\n",
    "np.var(g_right)"
   ],
   "outputs": [
    {
     "data": {
      "text/plain": [
       "np.float64(0.2222222222222223)"
      ]
     },
     "execution_count": 98,
     "metadata": {},
     "output_type": "execute_result"
    }
   ],
   "execution_count": 98
  },
  {
   "cell_type": "code",
   "id": "aa222c74",
   "metadata": {
    "ExecuteTime": {
     "end_time": "2025-10-27T04:21:06.194224Z",
     "start_time": "2025-10-27T04:21:06.187158Z"
    }
   },
   "source": [
    "gain = 0.139 - (3/6) * 0.0555 - (3/6) * 0.222\n",
    "gain"
   ],
   "outputs": [
    {
     "data": {
      "text/plain": [
       "0.0002500000000000141"
      ]
     },
     "execution_count": 99,
     "metadata": {},
     "output_type": "execute_result"
    }
   ],
   "execution_count": 99
  },
  {
   "cell_type": "markdown",
   "id": "7c09fe84",
   "metadata": {},
   "source": [
    "Age < 32.5"
   ]
  },
  {
   "cell_type": "code",
   "id": "ecc5f973",
   "metadata": {
    "ExecuteTime": {
     "end_time": "2025-10-27T04:21:06.238076Z",
     "start_time": "2025-10-27T04:21:06.231759Z"
    }
   },
   "source": [
    "g_left = [0.191, 0.333, 0.191, -0.309]\n",
    "np.var(g_left)"
   ],
   "outputs": [
    {
     "data": {
      "text/plain": [
       "np.float64(0.05953075000000001)"
      ]
     },
     "execution_count": 100,
     "metadata": {},
     "output_type": "execute_result"
    }
   ],
   "execution_count": 100
  },
  {
   "cell_type": "code",
   "id": "8a38d855",
   "metadata": {
    "ExecuteTime": {
     "end_time": "2025-10-27T04:21:06.259673Z",
     "start_time": "2025-10-27T04:21:06.252684Z"
    }
   },
   "source": [
    "g_right = [-0.667, 0.333]\n",
    "np.var(g_right)"
   ],
   "outputs": [
    {
     "data": {
      "text/plain": [
       "np.float64(0.25)"
      ]
     },
     "execution_count": 101,
     "metadata": {},
     "output_type": "execute_result"
    }
   ],
   "execution_count": 101
  },
  {
   "cell_type": "code",
   "id": "d79a9afd",
   "metadata": {
    "ExecuteTime": {
     "end_time": "2025-10-27T04:21:06.292460Z",
     "start_time": "2025-10-27T04:21:06.284319Z"
    }
   },
   "source": [
    "gain = 0.139 - (4/6) * 0.0595 - (2/6) * 0.25\n",
    "gain"
   ],
   "outputs": [
    {
     "data": {
      "text/plain": [
       "0.016000000000000028"
      ]
     },
     "execution_count": 102,
     "metadata": {},
     "output_type": "execute_result"
    }
   ],
   "execution_count": 102
  },
  {
   "cell_type": "markdown",
   "id": "5b8d6879",
   "metadata": {},
   "source": [
    "Age < 37.5"
   ]
  },
  {
   "cell_type": "code",
   "id": "2c2f27b1",
   "metadata": {
    "ExecuteTime": {
     "end_time": "2025-10-27T04:21:06.325785Z",
     "start_time": "2025-10-27T04:21:06.319239Z"
    }
   },
   "source": [
    "g_left = [0.191, 0.333, 0.191, -0.667, -0.309]\n",
    "np.var(g_left)"
   ],
   "outputs": [
    {
     "data": {
      "text/plain": [
       "np.float64(0.14211936000000003)"
      ]
     },
     "execution_count": 103,
     "metadata": {},
     "output_type": "execute_result"
    }
   ],
   "execution_count": 103
  },
  {
   "cell_type": "code",
   "id": "541b6751",
   "metadata": {
    "ExecuteTime": {
     "end_time": "2025-10-27T04:21:06.374433Z",
     "start_time": "2025-10-27T04:21:06.366774Z"
    }
   },
   "source": [
    "g_right = [0.333]\n",
    "np.var(g_right)"
   ],
   "outputs": [
    {
     "data": {
      "text/plain": [
       "np.float64(0.0)"
      ]
     },
     "execution_count": 104,
     "metadata": {},
     "output_type": "execute_result"
    }
   ],
   "execution_count": 104
  },
  {
   "cell_type": "code",
   "id": "f3dd1129",
   "metadata": {
    "ExecuteTime": {
     "end_time": "2025-10-27T04:21:06.406958Z",
     "start_time": "2025-10-27T04:21:06.400119Z"
    }
   },
   "source": [
    "gain = 0.139 - (5/6) * 0.142 - (1/6) * 0\n",
    "gain"
   ],
   "outputs": [
    {
     "data": {
      "text/plain": [
       "0.02066666666666668"
      ]
     },
     "execution_count": 105,
     "metadata": {},
     "output_type": "execute_result"
    }
   ],
   "execution_count": 105
  },
  {
   "cell_type": "markdown",
   "id": "009d9737",
   "metadata": {},
   "source": [
    "Splitting by Education = High School"
   ]
  },
  {
   "cell_type": "markdown",
   "id": "17b08ed8",
   "metadata": {},
   "source": [
    "#### Right Child Node"
   ]
  },
  {
   "cell_type": "code",
   "id": "15941522",
   "metadata": {
    "ExecuteTime": {
     "end_time": "2025-10-27T04:21:06.466853Z",
     "start_time": "2025-10-27T04:21:06.458263Z"
    }
   },
   "source": [
    "g_root = [0.333, 0.191, -0.309, 0.333]\n",
    "np.var(g_root)"
   ],
   "outputs": [
    {
     "data": {
      "text/plain": [
       "np.float64(0.069666)"
      ]
     },
     "execution_count": 106,
     "metadata": {},
     "output_type": "execute_result"
    }
   ],
   "execution_count": 106
  },
  {
   "cell_type": "markdown",
   "id": "fff70210",
   "metadata": {},
   "source": [
    "Income = Low"
   ]
  },
  {
   "cell_type": "code",
   "id": "971f63ae",
   "metadata": {
    "ExecuteTime": {
     "end_time": "2025-10-27T04:21:06.522473Z",
     "start_time": "2025-10-27T04:21:06.514927Z"
    }
   },
   "source": [
    "g_left = [0.333]\n",
    "np.var(g_left)"
   ],
   "outputs": [
    {
     "data": {
      "text/plain": [
       "np.float64(0.0)"
      ]
     },
     "execution_count": 107,
     "metadata": {},
     "output_type": "execute_result"
    }
   ],
   "execution_count": 107
  },
  {
   "cell_type": "code",
   "id": "1c289a87",
   "metadata": {
    "ExecuteTime": {
     "end_time": "2025-10-27T04:21:06.575933Z",
     "start_time": "2025-10-27T04:21:06.569521Z"
    }
   },
   "source": [
    "g_right = [0.191, -0.309, 0.333]\n",
    "np.var(g_right)"
   ],
   "outputs": [
    {
     "data": {
      "text/plain": [
       "np.float64(0.07581422222222223)"
      ]
     },
     "execution_count": 108,
     "metadata": {},
     "output_type": "execute_result"
    }
   ],
   "execution_count": 108
  },
  {
   "cell_type": "code",
   "id": "b0596b63",
   "metadata": {
    "ExecuteTime": {
     "end_time": "2025-10-27T04:21:06.640414Z",
     "start_time": "2025-10-27T04:21:06.633716Z"
    }
   },
   "source": [
    "gain = 0.0697 - (1/4) * 0 - (3/4) * 0.0758\n",
    "gain"
   ],
   "outputs": [
    {
     "data": {
      "text/plain": [
       "0.012849999999999993"
      ]
     },
     "execution_count": 109,
     "metadata": {},
     "output_type": "execute_result"
    }
   ],
   "execution_count": 109
  },
  {
   "cell_type": "markdown",
   "id": "f63470cc",
   "metadata": {},
   "source": [
    "Income = Medium"
   ]
  },
  {
   "cell_type": "code",
   "id": "c11faebe",
   "metadata": {
    "ExecuteTime": {
     "end_time": "2025-10-27T04:21:06.699604Z",
     "start_time": "2025-10-27T04:21:06.692672Z"
    }
   },
   "source": [
    "g_left = [0.191, -0.309]\n",
    "np.var(g_left)"
   ],
   "outputs": [
    {
     "data": {
      "text/plain": [
       "np.float64(0.0625)"
      ]
     },
     "execution_count": 110,
     "metadata": {},
     "output_type": "execute_result"
    }
   ],
   "execution_count": 110
  },
  {
   "cell_type": "code",
   "id": "b2db498a",
   "metadata": {
    "ExecuteTime": {
     "end_time": "2025-10-27T04:21:06.788054Z",
     "start_time": "2025-10-27T04:21:06.779146Z"
    }
   },
   "source": [
    "g_right = [0.333, 0.333] \n",
    "np.var(g_right)"
   ],
   "outputs": [
    {
     "data": {
      "text/plain": [
       "np.float64(0.0)"
      ]
     },
     "execution_count": 111,
     "metadata": {},
     "output_type": "execute_result"
    }
   ],
   "execution_count": 111
  },
  {
   "cell_type": "code",
   "id": "16c07e26",
   "metadata": {
    "ExecuteTime": {
     "end_time": "2025-10-27T04:21:06.817545Z",
     "start_time": "2025-10-27T04:21:06.809936Z"
    }
   },
   "source": [
    "gain = 0.0697 - (2/4) * 0.0625 - (2/4) * 0\n",
    "gain"
   ],
   "outputs": [
    {
     "data": {
      "text/plain": [
       "0.03845"
      ]
     },
     "execution_count": 112,
     "metadata": {},
     "output_type": "execute_result"
    }
   ],
   "execution_count": 112
  },
  {
   "cell_type": "markdown",
   "id": "e27d7bf6",
   "metadata": {},
   "source": [
    "Income = High"
   ]
  },
  {
   "cell_type": "code",
   "id": "bd0b1aeb",
   "metadata": {
    "ExecuteTime": {
     "end_time": "2025-10-27T04:21:06.852916Z",
     "start_time": "2025-10-27T04:21:06.845338Z"
    }
   },
   "source": [
    "g_left = [0.333]\n",
    "np.var(g_left)"
   ],
   "outputs": [
    {
     "data": {
      "text/plain": [
       "np.float64(0.0)"
      ]
     },
     "execution_count": 113,
     "metadata": {},
     "output_type": "execute_result"
    }
   ],
   "execution_count": 113
  },
  {
   "cell_type": "code",
   "id": "5c8fca69",
   "metadata": {
    "ExecuteTime": {
     "end_time": "2025-10-27T04:21:06.920208Z",
     "start_time": "2025-10-27T04:21:06.909336Z"
    }
   },
   "source": [
    "g_right = [0.333, 0.191, -0.309] \n",
    "np.var(g_right)"
   ],
   "outputs": [
    {
     "data": {
      "text/plain": [
       "np.float64(0.07581422222222223)"
      ]
     },
     "execution_count": 114,
     "metadata": {},
     "output_type": "execute_result"
    }
   ],
   "execution_count": 114
  },
  {
   "cell_type": "code",
   "id": "6bdc7e10",
   "metadata": {
    "ExecuteTime": {
     "end_time": "2025-10-27T04:21:07.010295Z",
     "start_time": "2025-10-27T04:21:06.999948Z"
    }
   },
   "source": [
    "gain = 0.0697 - (1/4) * 0 - (3/4) * 0.0758\n",
    "gain"
   ],
   "outputs": [
    {
     "data": {
      "text/plain": [
       "0.012849999999999993"
      ]
     },
     "execution_count": 115,
     "metadata": {},
     "output_type": "execute_result"
    }
   ],
   "execution_count": 115
  },
  {
   "cell_type": "markdown",
   "id": "fafd9198",
   "metadata": {},
   "source": [
    "Age < 25"
   ]
  },
  {
   "cell_type": "code",
   "id": "bb9ce96e",
   "metadata": {
    "ExecuteTime": {
     "end_time": "2025-10-27T04:21:07.092621Z",
     "start_time": "2025-10-27T04:21:07.082533Z"
    }
   },
   "source": [
    "g_left = [0.191]\n",
    "np.var(g_left)"
   ],
   "outputs": [
    {
     "data": {
      "text/plain": [
       "np.float64(0.0)"
      ]
     },
     "execution_count": 116,
     "metadata": {},
     "output_type": "execute_result"
    }
   ],
   "execution_count": 116
  },
  {
   "cell_type": "code",
   "id": "cb39fdba",
   "metadata": {
    "ExecuteTime": {
     "end_time": "2025-10-27T04:21:07.226512Z",
     "start_time": "2025-10-27T04:21:07.216821Z"
    }
   },
   "source": [
    "g_right = [0.333, -0.309, 0.333] \n",
    "np.var(g_right)"
   ],
   "outputs": [
    {
     "data": {
      "text/plain": [
       "np.float64(0.091592)"
      ]
     },
     "execution_count": 117,
     "metadata": {},
     "output_type": "execute_result"
    }
   ],
   "execution_count": 117
  },
  {
   "cell_type": "code",
   "id": "5f5f4ddf",
   "metadata": {
    "ExecuteTime": {
     "end_time": "2025-10-27T04:21:07.302107Z",
     "start_time": "2025-10-27T04:21:07.294806Z"
    }
   },
   "source": [
    "gain = 0.0697 - (1/4) * 0 - (3/4) * 0.0916\n",
    "gain"
   ],
   "outputs": [
    {
     "data": {
      "text/plain": [
       "0.0010000000000000009"
      ]
     },
     "execution_count": 118,
     "metadata": {},
     "output_type": "execute_result"
    }
   ],
   "execution_count": 118
  },
  {
   "cell_type": "markdown",
   "id": "02af25a0",
   "metadata": {},
   "source": [
    "Age < 29"
   ]
  },
  {
   "cell_type": "code",
   "id": "7bb2a95d",
   "metadata": {
    "ExecuteTime": {
     "end_time": "2025-10-27T04:21:07.363466Z",
     "start_time": "2025-10-27T04:21:07.357213Z"
    }
   },
   "source": [
    "g_left = [0.191, -0.309]\n",
    "np.var(g_left)"
   ],
   "outputs": [
    {
     "data": {
      "text/plain": [
       "np.float64(0.0625)"
      ]
     },
     "execution_count": 119,
     "metadata": {},
     "output_type": "execute_result"
    }
   ],
   "execution_count": 119
  },
  {
   "cell_type": "code",
   "id": "77759b70",
   "metadata": {
    "ExecuteTime": {
     "end_time": "2025-10-27T04:21:07.434161Z",
     "start_time": "2025-10-27T04:21:07.424134Z"
    }
   },
   "source": [
    "g_right = [0.333, 0.333] \n",
    "np.var(g_right)"
   ],
   "outputs": [
    {
     "data": {
      "text/plain": [
       "np.float64(0.0)"
      ]
     },
     "execution_count": 120,
     "metadata": {},
     "output_type": "execute_result"
    }
   ],
   "execution_count": 120
  },
  {
   "cell_type": "code",
   "id": "f8b68f06",
   "metadata": {
    "ExecuteTime": {
     "end_time": "2025-10-27T04:21:07.499081Z",
     "start_time": "2025-10-27T04:21:07.489113Z"
    }
   },
   "source": [
    "gain = 0.0697 - (2/4) * 0.0625 - (2/4) * 0\n",
    "gain"
   ],
   "outputs": [
    {
     "data": {
      "text/plain": [
       "0.03845"
      ]
     },
     "execution_count": 121,
     "metadata": {},
     "output_type": "execute_result"
    }
   ],
   "execution_count": 121
  },
  {
   "cell_type": "markdown",
   "id": "5faa1b5e",
   "metadata": {},
   "source": [
    "Age < 35"
   ]
  },
  {
   "cell_type": "code",
   "id": "e17be015",
   "metadata": {
    "ExecuteTime": {
     "end_time": "2025-10-27T04:21:07.554009Z",
     "start_time": "2025-10-27T04:21:07.543512Z"
    }
   },
   "source": [
    "g_left = [0.333, 0.191, -0.309]\n",
    "np.var(g_left)"
   ],
   "outputs": [
    {
     "data": {
      "text/plain": [
       "np.float64(0.07581422222222223)"
      ]
     },
     "execution_count": 122,
     "metadata": {},
     "output_type": "execute_result"
    }
   ],
   "execution_count": 122
  },
  {
   "cell_type": "code",
   "id": "e3b56bf8",
   "metadata": {
    "ExecuteTime": {
     "end_time": "2025-10-27T04:21:07.617654Z",
     "start_time": "2025-10-27T04:21:07.607883Z"
    }
   },
   "source": [
    "g_right = [0.333] \n",
    "np.var(g_right)"
   ],
   "outputs": [
    {
     "data": {
      "text/plain": [
       "np.float64(0.0)"
      ]
     },
     "execution_count": 123,
     "metadata": {},
     "output_type": "execute_result"
    }
   ],
   "execution_count": 123
  },
  {
   "cell_type": "code",
   "id": "1b252324",
   "metadata": {
    "ExecuteTime": {
     "end_time": "2025-10-27T04:21:07.673981Z",
     "start_time": "2025-10-27T04:21:07.668684Z"
    }
   },
   "source": [
    "gain = 0.0697 - (3/4) * 0.0758 - (1/4) * 0\n",
    "gain"
   ],
   "outputs": [
    {
     "data": {
      "text/plain": [
       "0.012849999999999993"
      ]
     },
     "execution_count": 124,
     "metadata": {},
     "output_type": "execute_result"
    }
   ],
   "execution_count": 124
  },
  {
   "cell_type": "markdown",
   "id": "69daa868",
   "metadata": {},
   "source": [
    "Splitting by Income = Medium"
   ]
  },
  {
   "cell_type": "markdown",
   "id": "3b3f9400",
   "metadata": {},
   "source": [
    "Computing gamma"
   ]
  },
  {
   "cell_type": "code",
   "id": "283dd871",
   "metadata": {
    "ExecuteTime": {
     "end_time": "2025-10-27T04:21:07.730751Z",
     "start_time": "2025-10-27T04:21:07.723734Z"
    }
   },
   "source": [
    "gamma1 = 0.191 / (0.809 * (1 - 0.809))\n",
    "gamma1"
   ],
   "outputs": [
    {
     "data": {
      "text/plain": [
       "1.236093943139679"
      ]
     },
     "execution_count": 125,
     "metadata": {},
     "output_type": "execute_result"
    }
   ],
   "execution_count": 125
  },
  {
   "cell_type": "code",
   "id": "92014cbf",
   "metadata": {
    "ExecuteTime": {
     "end_time": "2025-10-27T04:21:07.788885Z",
     "start_time": "2025-10-27T04:21:07.780944Z"
    }
   },
   "source": [
    "gamma2 = (-0.667) / (0.667 * (1 - 0.667))\n",
    "gamma2"
   ],
   "outputs": [
    {
     "data": {
      "text/plain": [
       "-3.0030030030030037"
      ]
     },
     "execution_count": 126,
     "metadata": {},
     "output_type": "execute_result"
    }
   ],
   "execution_count": 126
  },
  {
   "cell_type": "code",
   "id": "6300de35",
   "metadata": {
    "ExecuteTime": {
     "end_time": "2025-10-27T04:21:07.851314Z",
     "start_time": "2025-10-27T04:21:07.841580Z"
    }
   },
   "source": [
    "gamma3 = (0.191 + (-0.309)) / (0.809 * (1 - 0.809) + 0.309 * (1 - 0.309))\n",
    "gamma3"
   ],
   "outputs": [
    {
     "data": {
      "text/plain": [
       "-0.32061906650943656"
      ]
     },
     "execution_count": 127,
     "metadata": {},
     "output_type": "execute_result"
    }
   ],
   "execution_count": 127
  },
  {
   "cell_type": "code",
   "id": "7e27aaa2",
   "metadata": {
    "ExecuteTime": {
     "end_time": "2025-10-27T04:21:07.907846Z",
     "start_time": "2025-10-27T04:21:07.898317Z"
    }
   },
   "source": [
    "gamma4 = (2 * 0.333) / (2 * 0.667 * (1 - 0.667))\n",
    "gamma4"
   ],
   "outputs": [
    {
     "data": {
      "text/plain": [
       "1.499250374812594"
      ]
     },
     "execution_count": 128,
     "metadata": {},
     "output_type": "execute_result"
    }
   ],
   "execution_count": 128
  },
  {
   "cell_type": "markdown",
   "id": "59858009",
   "metadata": {},
   "source": [
    "New predictions"
   ]
  },
  {
   "cell_type": "code",
   "id": "e97aa893",
   "metadata": {
    "ExecuteTime": {
     "end_time": "2025-10-27T04:21:07.972513Z",
     "start_time": "2025-10-27T04:21:07.963198Z"
    }
   },
   "source": [
    "1.443 + 0.5 * 1.236"
   ],
   "outputs": [
    {
     "data": {
      "text/plain": [
       "2.061"
      ]
     },
     "execution_count": 129,
     "metadata": {},
     "output_type": "execute_result"
    }
   ],
   "execution_count": 129
  },
  {
   "cell_type": "code",
   "id": "8b88372b",
   "metadata": {
    "ExecuteTime": {
     "end_time": "2025-10-27T04:21:08.019057Z",
     "start_time": "2025-10-27T04:21:08.011660Z"
    }
   },
   "source": [
    "sigmoid(2.061)"
   ],
   "outputs": [
    {
     "data": {
      "text/plain": [
       "np.float64(0.8870543976064259)"
      ]
     },
     "execution_count": 130,
     "metadata": {},
     "output_type": "execute_result"
    }
   ],
   "execution_count": 130
  },
  {
   "cell_type": "code",
   "id": "c84d599a",
   "metadata": {
    "ExecuteTime": {
     "end_time": "2025-10-27T04:21:08.071728Z",
     "start_time": "2025-10-27T04:21:08.063654Z"
    }
   },
   "source": [
    "0.693 + 0.5 * 1.5"
   ],
   "outputs": [
    {
     "data": {
      "text/plain": [
       "1.443"
      ]
     },
     "execution_count": 131,
     "metadata": {},
     "output_type": "execute_result"
    }
   ],
   "execution_count": 131
  },
  {
   "cell_type": "code",
   "id": "7f02c263",
   "metadata": {
    "ExecuteTime": {
     "end_time": "2025-10-27T04:21:08.124748Z",
     "start_time": "2025-10-27T04:21:08.115855Z"
    }
   },
   "source": [
    "sigmoid(1.443)"
   ],
   "outputs": [
    {
     "data": {
      "text/plain": [
       "np.float64(0.8089187887784832)"
      ]
     },
     "execution_count": 132,
     "metadata": {},
     "output_type": "execute_result"
    }
   ],
   "execution_count": 132
  },
  {
   "cell_type": "code",
   "id": "f66e4ccf",
   "metadata": {
    "ExecuteTime": {
     "end_time": "2025-10-27T04:21:08.185094Z",
     "start_time": "2025-10-27T04:21:08.176942Z"
    }
   },
   "source": [
    "1.443 + 0.5 * (-0.321)"
   ],
   "outputs": [
    {
     "data": {
      "text/plain": [
       "1.2825"
      ]
     },
     "execution_count": 133,
     "metadata": {},
     "output_type": "execute_result"
    }
   ],
   "execution_count": 133
  },
  {
   "cell_type": "code",
   "id": "916dee55",
   "metadata": {
    "ExecuteTime": {
     "end_time": "2025-10-27T04:21:08.233367Z",
     "start_time": "2025-10-27T04:21:08.225760Z"
    }
   },
   "source": [
    "sigmoid(1.283)"
   ],
   "outputs": [
    {
     "data": {
      "text/plain": [
       "np.float64(0.7829600100656982)"
      ]
     },
     "execution_count": 134,
     "metadata": {},
     "output_type": "execute_result"
    }
   ],
   "execution_count": 134
  },
  {
   "cell_type": "code",
   "id": "0188283d",
   "metadata": {
    "ExecuteTime": {
     "end_time": "2025-10-27T04:21:08.282917Z",
     "start_time": "2025-10-27T04:21:08.274715Z"
    }
   },
   "source": [
    "0.693 + 0.5 * (-3)"
   ],
   "outputs": [
    {
     "data": {
      "text/plain": [
       "-0.807"
      ]
     },
     "execution_count": 135,
     "metadata": {},
     "output_type": "execute_result"
    }
   ],
   "execution_count": 135
  },
  {
   "cell_type": "code",
   "id": "8d9e94b9",
   "metadata": {
    "ExecuteTime": {
     "end_time": "2025-10-27T04:21:08.339931Z",
     "start_time": "2025-10-27T04:21:08.330378Z"
    }
   },
   "source": [
    "sigmoid(-0.807)"
   ],
   "outputs": [
    {
     "data": {
      "text/plain": [
       "np.float64(0.30853014568206916)"
      ]
     },
     "execution_count": 136,
     "metadata": {},
     "output_type": "execute_result"
    }
   ],
   "execution_count": 136
  },
  {
   "cell_type": "code",
   "id": "d362aeea",
   "metadata": {
    "ExecuteTime": {
     "end_time": "2025-10-27T04:21:08.391016Z",
     "start_time": "2025-10-27T04:21:08.382755Z"
    }
   },
   "source": [
    "-0.807 + 0.5 * (-0.321)"
   ],
   "outputs": [
    {
     "data": {
      "text/plain": [
       "-0.9675"
      ]
     },
     "execution_count": 137,
     "metadata": {},
     "output_type": "execute_result"
    }
   ],
   "execution_count": 137
  },
  {
   "cell_type": "code",
   "id": "a1687671",
   "metadata": {
    "ExecuteTime": {
     "end_time": "2025-10-27T04:21:08.438878Z",
     "start_time": "2025-10-27T04:21:08.431313Z"
    }
   },
   "source": [
    "sigmoid(-0.968)"
   ],
   "outputs": [
    {
     "data": {
      "text/plain": [
       "np.float64(0.27527932406581773)"
      ]
     },
     "execution_count": 138,
     "metadata": {},
     "output_type": "execute_result"
    }
   ],
   "execution_count": 138
  },
  {
   "cell_type": "code",
   "id": "09680cae",
   "metadata": {
    "ExecuteTime": {
     "end_time": "2025-10-27T04:21:08.502887Z",
     "start_time": "2025-10-27T04:21:08.493101Z"
    }
   },
   "source": [
    "0.693 + 0.5 * 1.5"
   ],
   "outputs": [
    {
     "data": {
      "text/plain": [
       "1.443"
      ]
     },
     "execution_count": 139,
     "metadata": {},
     "output_type": "execute_result"
    }
   ],
   "execution_count": 139
  },
  {
   "cell_type": "code",
   "id": "6b69ccf4",
   "metadata": {
    "ExecuteTime": {
     "end_time": "2025-10-27T04:21:08.553029Z",
     "start_time": "2025-10-27T04:21:08.544132Z"
    }
   },
   "source": [
    "sigmoid(1.443)"
   ],
   "outputs": [
    {
     "data": {
      "text/plain": [
       "np.float64(0.8089187887784832)"
      ]
     },
     "execution_count": 140,
     "metadata": {},
     "output_type": "execute_result"
    }
   ],
   "execution_count": 140
  },
  {
   "cell_type": "markdown",
   "id": "31bb5841",
   "metadata": {},
   "source": [
    "Prediction for a new customer"
   ]
  },
  {
   "cell_type": "code",
   "id": "7f21a671",
   "metadata": {
    "ExecuteTime": {
     "end_time": "2025-10-27T04:21:08.602316Z",
     "start_time": "2025-10-27T04:21:08.593892Z"
    }
   },
   "source": [
    "0.693 + 0.5 * (-3 + (-3))"
   ],
   "outputs": [
    {
     "data": {
      "text/plain": [
       "-2.307"
      ]
     },
     "execution_count": 141,
     "metadata": {},
     "output_type": "execute_result"
    }
   ],
   "execution_count": 141
  },
  {
   "cell_type": "code",
   "id": "1bff9f42",
   "metadata": {
    "ExecuteTime": {
     "end_time": "2025-10-27T04:21:08.659592Z",
     "start_time": "2025-10-27T04:21:08.650945Z"
    }
   },
   "source": [
    "sigmoid(-2.307)"
   ],
   "outputs": [
    {
     "data": {
      "text/plain": [
       "np.float64(0.09054488095206321)"
      ]
     },
     "execution_count": 142,
     "metadata": {},
     "output_type": "execute_result"
    }
   ],
   "execution_count": 142
  },
  {
   "cell_type": "code",
   "id": "bbdfcab4",
   "metadata": {
    "ExecuteTime": {
     "end_time": "2025-10-27T04:21:08.728044Z",
     "start_time": "2025-10-27T04:21:08.723605Z"
    }
   },
   "source": [],
   "outputs": [],
   "execution_count": null
  }
 ],
 "metadata": {
  "kernelspec": {
   "display_name": "Python 3 (ipykernel)",
   "language": "python",
   "name": "python3"
  },
  "language_info": {
   "codemirror_mode": {
    "name": "ipython",
    "version": 3
   },
   "file_extension": ".py",
   "mimetype": "text/x-python",
   "name": "python",
   "nbconvert_exporter": "python",
   "pygments_lexer": "ipython3",
   "version": "3.9.12"
  }
 },
 "nbformat": 4,
 "nbformat_minor": 5
}
