{
 "cells": [
  {
   "cell_type": "code",
   "execution_count": 1,
   "id": "abe67f02",
   "metadata": {},
   "outputs": [],
   "source": [
    "import numpy as np"
   ]
  },
  {
   "cell_type": "code",
   "execution_count": 2,
   "id": "77f73e99",
   "metadata": {},
   "outputs": [],
   "source": [
    "def sigmoid(x):\n",
    "    return 1 / (1 + np.exp(-x))"
   ]
  },
  {
   "cell_type": "markdown",
   "id": "5d2b25b8",
   "metadata": {},
   "source": [
    "### First iteration"
   ]
  },
  {
   "cell_type": "code",
   "execution_count": 3,
   "id": "672d9c83",
   "metadata": {},
   "outputs": [
    {
     "data": {
      "text/plain": [
       "0.6931471805599453"
      ]
     },
     "execution_count": 3,
     "metadata": {},
     "output_type": "execute_result"
    }
   ],
   "source": [
    "h0 = np.log(4/6 / (2/6))\n",
    "h0"
   ]
  },
  {
   "cell_type": "code",
   "execution_count": 4,
   "id": "d05a2184",
   "metadata": {},
   "outputs": [
    {
     "data": {
      "text/plain": [
       "0.6666666666666666"
      ]
     },
     "execution_count": 4,
     "metadata": {},
     "output_type": "execute_result"
    }
   ],
   "source": [
    "sigmoid(h0)"
   ]
  },
  {
   "cell_type": "code",
   "execution_count": 5,
   "id": "cc912f6e",
   "metadata": {},
   "outputs": [
    {
     "data": {
      "text/plain": [
       "0.33299999999999996"
      ]
     },
     "execution_count": 5,
     "metadata": {},
     "output_type": "execute_result"
    }
   ],
   "source": [
    "1 - 0.667"
   ]
  },
  {
   "cell_type": "code",
   "execution_count": 6,
   "id": "de35a3bf",
   "metadata": {},
   "outputs": [
    {
     "data": {
      "text/plain": [
       "-0.667"
      ]
     },
     "execution_count": 6,
     "metadata": {},
     "output_type": "execute_result"
    }
   ],
   "source": [
    "0 - 0.667"
   ]
  },
  {
   "cell_type": "markdown",
   "id": "95d2fd19",
   "metadata": {},
   "source": [
    "### Second iteration"
   ]
  },
  {
   "cell_type": "code",
   "execution_count": 7,
   "id": "b6ea26c5",
   "metadata": {},
   "outputs": [],
   "source": [
    "g_root = [0.333, 0.333, 0.333, -0.667, -0.667, 0.333]"
   ]
  },
  {
   "cell_type": "code",
   "execution_count": 8,
   "id": "37f6b467",
   "metadata": {},
   "outputs": [
    {
     "data": {
      "text/plain": [
       "-0.00033333333333333365"
      ]
     },
     "execution_count": 8,
     "metadata": {},
     "output_type": "execute_result"
    }
   ],
   "source": [
    "g_mean = (4 * 0.333 + 2 * (-0.667)) / 6\n",
    "g_mean"
   ]
  },
  {
   "cell_type": "code",
   "execution_count": 9,
   "id": "f078e5c7",
   "metadata": {},
   "outputs": [
    {
     "data": {
      "text/plain": [
       "0.22222233333333338"
      ]
     },
     "execution_count": 9,
     "metadata": {},
     "output_type": "execute_result"
    }
   ],
   "source": [
    "g_var = (4 * 0.333**2 + 2 * (-0.667)**2) / 6\n",
    "g_var"
   ]
  },
  {
   "cell_type": "code",
   "execution_count": 10,
   "id": "8529a2b0",
   "metadata": {},
   "outputs": [
    {
     "data": {
      "text/plain": [
       "0.22222222222222224"
      ]
     },
     "execution_count": 10,
     "metadata": {},
     "output_type": "execute_result"
    }
   ],
   "source": [
    "np.var(g_root)"
   ]
  },
  {
   "cell_type": "markdown",
   "id": "46114d9c",
   "metadata": {},
   "source": [
    "Income = Low"
   ]
  },
  {
   "cell_type": "code",
   "execution_count": 11,
   "id": "fa6528f4",
   "metadata": {},
   "outputs": [
    {
     "data": {
      "text/plain": [
       "0.22222222222222224"
      ]
     },
     "execution_count": 11,
     "metadata": {},
     "output_type": "execute_result"
    }
   ],
   "source": [
    "g_left = [0.333, 0.333, -0.667]\n",
    "np.var(g_left)"
   ]
  },
  {
   "cell_type": "code",
   "execution_count": 12,
   "id": "f5651340",
   "metadata": {},
   "outputs": [
    {
     "data": {
      "text/plain": [
       "0.2222222222222223"
      ]
     },
     "execution_count": 12,
     "metadata": {},
     "output_type": "execute_result"
    }
   ],
   "source": [
    "g_right = [0.333, -0.667, 0.333]\n",
    "np.var(g_right)"
   ]
  },
  {
   "cell_type": "code",
   "execution_count": 13,
   "id": "6eec5484",
   "metadata": {},
   "outputs": [
    {
     "data": {
      "text/plain": [
       "0.0"
      ]
     },
     "execution_count": 13,
     "metadata": {},
     "output_type": "execute_result"
    }
   ],
   "source": [
    "gain = 0.222 - (3/6) * 0.222 - (3/6) * 0.222\n",
    "gain"
   ]
  },
  {
   "cell_type": "markdown",
   "id": "e21357ec",
   "metadata": {},
   "source": [
    "Income = Medium"
   ]
  },
  {
   "cell_type": "code",
   "execution_count": 14,
   "id": "2c359d0e",
   "metadata": {},
   "outputs": [
    {
     "data": {
      "text/plain": [
       "0.25"
      ]
     },
     "execution_count": 14,
     "metadata": {},
     "output_type": "execute_result"
    }
   ],
   "source": [
    "g_left = [0.333, -0.667]\n",
    "np.var(g_left)"
   ]
  },
  {
   "cell_type": "code",
   "execution_count": 15,
   "id": "38d1f6e8",
   "metadata": {},
   "outputs": [
    {
     "data": {
      "text/plain": [
       "0.1875"
      ]
     },
     "execution_count": 15,
     "metadata": {},
     "output_type": "execute_result"
    }
   ],
   "source": [
    "g_right = [0.333, 0.333, -0.667, 0.333] \n",
    "np.var(g_right)"
   ]
  },
  {
   "cell_type": "code",
   "execution_count": 16,
   "id": "7c773f82",
   "metadata": {},
   "outputs": [
    {
     "data": {
      "text/plain": [
       "0.01366666666666666"
      ]
     },
     "execution_count": 16,
     "metadata": {},
     "output_type": "execute_result"
    }
   ],
   "source": [
    "gain = 0.222 - (2/6) * 0.25 - (4/6) * 0.1875\n",
    "gain"
   ]
  },
  {
   "cell_type": "markdown",
   "id": "5d59bcd5",
   "metadata": {},
   "source": [
    "Income = High"
   ]
  },
  {
   "cell_type": "code",
   "execution_count": 17,
   "id": "ff08b41c",
   "metadata": {},
   "outputs": [
    {
     "data": {
      "text/plain": [
       "0.0"
      ]
     },
     "execution_count": 17,
     "metadata": {},
     "output_type": "execute_result"
    }
   ],
   "source": [
    "g_left = [0.333]\n",
    "np.var(g_left)"
   ]
  },
  {
   "cell_type": "code",
   "execution_count": 18,
   "id": "b5a07182",
   "metadata": {},
   "outputs": [
    {
     "data": {
      "text/plain": [
       "0.24000000000000005"
      ]
     },
     "execution_count": 18,
     "metadata": {},
     "output_type": "execute_result"
    }
   ],
   "source": [
    "g_right = [0.333, 0.333, 0.333, -0.667, -0.667] \n",
    "np.var(g_right)"
   ]
  },
  {
   "cell_type": "code",
   "execution_count": 19,
   "id": "6c5e40dd",
   "metadata": {},
   "outputs": [
    {
     "data": {
      "text/plain": [
       "0.021999999999999992"
      ]
     },
     "execution_count": 19,
     "metadata": {},
     "output_type": "execute_result"
    }
   ],
   "source": [
    "gain = 0.222 - (1/6) * 0 - (5/6) * 0.24\n",
    "gain"
   ]
  },
  {
   "cell_type": "markdown",
   "id": "0c826452",
   "metadata": {},
   "source": [
    "Education = High School"
   ]
  },
  {
   "cell_type": "code",
   "execution_count": 20,
   "id": "e885c0a9",
   "metadata": {},
   "outputs": [
    {
     "data": {
      "text/plain": [
       "0.25"
      ]
     },
     "execution_count": 20,
     "metadata": {},
     "output_type": "execute_result"
    }
   ],
   "source": [
    "g_left = [0.333, -0.667]\n",
    "np.var(g_left)"
   ]
  },
  {
   "cell_type": "code",
   "execution_count": 21,
   "id": "3ce158a2",
   "metadata": {},
   "outputs": [
    {
     "data": {
      "text/plain": [
       "0.1875"
      ]
     },
     "execution_count": 21,
     "metadata": {},
     "output_type": "execute_result"
    }
   ],
   "source": [
    "g_right = [0.333, 0.333, -0.667, 0.333] \n",
    "np.var(g_right)"
   ]
  },
  {
   "cell_type": "code",
   "execution_count": 22,
   "id": "c61feebc",
   "metadata": {},
   "outputs": [
    {
     "data": {
      "text/plain": [
       "0.01366666666666666"
      ]
     },
     "execution_count": 22,
     "metadata": {},
     "output_type": "execute_result"
    }
   ],
   "source": [
    "gain = 0.222 - (2/6) * 0.25 - (4/6) * 0.1875\n",
    "gain"
   ]
  },
  {
   "cell_type": "markdown",
   "id": "a43f2f50",
   "metadata": {},
   "source": [
    "Age < 23.5"
   ]
  },
  {
   "cell_type": "code",
   "execution_count": 23,
   "id": "2fbbc8a3",
   "metadata": {},
   "outputs": [
    {
     "data": {
      "text/plain": [
       "0.0"
      ]
     },
     "execution_count": 23,
     "metadata": {},
     "output_type": "execute_result"
    }
   ],
   "source": [
    "g_left = [0.333]\n",
    "np.var(g_left)"
   ]
  },
  {
   "cell_type": "code",
   "execution_count": 24,
   "id": "b61a4439",
   "metadata": {},
   "outputs": [
    {
     "data": {
      "text/plain": [
       "0.24000000000000005"
      ]
     },
     "execution_count": 24,
     "metadata": {},
     "output_type": "execute_result"
    }
   ],
   "source": [
    "g_right = [0.333, 0.333, -0.667, -0.667, 0.333] \n",
    "np.var(g_right)"
   ]
  },
  {
   "cell_type": "code",
   "execution_count": 25,
   "id": "3582c169",
   "metadata": {},
   "outputs": [
    {
     "data": {
      "text/plain": [
       "0.021999999999999992"
      ]
     },
     "execution_count": 25,
     "metadata": {},
     "output_type": "execute_result"
    }
   ],
   "source": [
    "gain = 0.222 - (1/6) * 0 - (5/6) * 0.24\n",
    "gain"
   ]
  },
  {
   "cell_type": "markdown",
   "id": "39cd5a02",
   "metadata": {},
   "source": [
    "Age < 26.5"
   ]
  },
  {
   "cell_type": "code",
   "execution_count": 26,
   "id": "bb88d757",
   "metadata": {},
   "outputs": [
    {
     "data": {
      "text/plain": [
       "0.0"
      ]
     },
     "execution_count": 26,
     "metadata": {},
     "output_type": "execute_result"
    }
   ],
   "source": [
    "g_left = [0.333, 0.333]\n",
    "np.var(g_left)"
   ]
  },
  {
   "cell_type": "code",
   "execution_count": 27,
   "id": "e865f0a6",
   "metadata": {},
   "outputs": [
    {
     "data": {
      "text/plain": [
       "0.25"
      ]
     },
     "execution_count": 27,
     "metadata": {},
     "output_type": "execute_result"
    }
   ],
   "source": [
    "g_right = [0.333, -0.667, -0.667, 0.333] \n",
    "np.var(g_right)"
   ]
  },
  {
   "cell_type": "code",
   "execution_count": 28,
   "id": "ce2584e8",
   "metadata": {},
   "outputs": [
    {
     "data": {
      "text/plain": [
       "0.055333333333333345"
      ]
     },
     "execution_count": 28,
     "metadata": {},
     "output_type": "execute_result"
    }
   ],
   "source": [
    "gain = 0.222 - (2/6) * 0 - (4/6) * 0.25\n",
    "gain"
   ]
  },
  {
   "cell_type": "markdown",
   "id": "55ce848a",
   "metadata": {},
   "source": [
    "Age < 29"
   ]
  },
  {
   "cell_type": "code",
   "execution_count": 29,
   "id": "ebc9f18d",
   "metadata": {},
   "outputs": [
    {
     "data": {
      "text/plain": [
       "0.22222222222222224"
      ]
     },
     "execution_count": 29,
     "metadata": {},
     "output_type": "execute_result"
    }
   ],
   "source": [
    "g_left = [0.333, 0.333, -0.667]\n",
    "np.var(g_left)"
   ]
  },
  {
   "cell_type": "code",
   "execution_count": 30,
   "id": "44d3aaf1",
   "metadata": {},
   "outputs": [
    {
     "data": {
      "text/plain": [
       "0.2222222222222223"
      ]
     },
     "execution_count": 30,
     "metadata": {},
     "output_type": "execute_result"
    }
   ],
   "source": [
    "g_right = [0.333, -0.667, 0.333]\n",
    "np.var(g_right)"
   ]
  },
  {
   "cell_type": "code",
   "execution_count": 31,
   "id": "c6c4443b",
   "metadata": {},
   "outputs": [
    {
     "data": {
      "text/plain": [
       "0.0"
      ]
     },
     "execution_count": 31,
     "metadata": {},
     "output_type": "execute_result"
    }
   ],
   "source": [
    "gain = 0.222 - (3/6) * 0.222 - (3/6) * 0.222\n",
    "gain"
   ]
  },
  {
   "cell_type": "markdown",
   "id": "d4c4f299",
   "metadata": {},
   "source": [
    "Age < 32.5"
   ]
  },
  {
   "cell_type": "code",
   "execution_count": 32,
   "id": "3caa6e39",
   "metadata": {},
   "outputs": [
    {
     "data": {
      "text/plain": [
       "0.1875"
      ]
     },
     "execution_count": 32,
     "metadata": {},
     "output_type": "execute_result"
    }
   ],
   "source": [
    "g_left = [0.333, 0.333, 0.333, -0.667]\n",
    "np.var(g_left)"
   ]
  },
  {
   "cell_type": "code",
   "execution_count": 33,
   "id": "c61b6a04",
   "metadata": {},
   "outputs": [
    {
     "data": {
      "text/plain": [
       "0.25"
      ]
     },
     "execution_count": 33,
     "metadata": {},
     "output_type": "execute_result"
    }
   ],
   "source": [
    "g_right = [-0.667, 0.333]\n",
    "np.var(g_right)"
   ]
  },
  {
   "cell_type": "code",
   "execution_count": 34,
   "id": "aedd3600",
   "metadata": {},
   "outputs": [
    {
     "data": {
      "text/plain": [
       "0.013666666666666674"
      ]
     },
     "execution_count": 34,
     "metadata": {},
     "output_type": "execute_result"
    }
   ],
   "source": [
    "gain = 0.222 - (4/6) * 0.1875 - (2/6) * 0.25\n",
    "gain"
   ]
  },
  {
   "cell_type": "markdown",
   "id": "12f18162",
   "metadata": {},
   "source": [
    "Age < 37.5"
   ]
  },
  {
   "cell_type": "code",
   "execution_count": 35,
   "id": "53ff9183",
   "metadata": {},
   "outputs": [
    {
     "data": {
      "text/plain": [
       "0.24000000000000005"
      ]
     },
     "execution_count": 35,
     "metadata": {},
     "output_type": "execute_result"
    }
   ],
   "source": [
    "g_left = [0.333, 0.333, 0.333, -0.667, -0.667]\n",
    "np.var(g_left)"
   ]
  },
  {
   "cell_type": "code",
   "execution_count": 36,
   "id": "de35ce43",
   "metadata": {},
   "outputs": [
    {
     "data": {
      "text/plain": [
       "0.0"
      ]
     },
     "execution_count": 36,
     "metadata": {},
     "output_type": "execute_result"
    }
   ],
   "source": [
    "g_right = [0.333]\n",
    "np.var(g_right)"
   ]
  },
  {
   "cell_type": "code",
   "execution_count": 37,
   "id": "35be4d93",
   "metadata": {},
   "outputs": [
    {
     "data": {
      "text/plain": [
       "0.021999999999999992"
      ]
     },
     "execution_count": 37,
     "metadata": {},
     "output_type": "execute_result"
    }
   ],
   "source": [
    "gain = 0.222 - (5/6) * 0.24 - (1/6) * 0\n",
    "gain"
   ]
  },
  {
   "cell_type": "markdown",
   "id": "119b6813",
   "metadata": {},
   "source": [
    "Splitting by Age < 26.5"
   ]
  },
  {
   "cell_type": "markdown",
   "id": "ffdefbd3",
   "metadata": {},
   "source": [
    "#### Second level of the tree"
   ]
  },
  {
   "cell_type": "code",
   "execution_count": 139,
   "id": "649ed1cb",
   "metadata": {},
   "outputs": [
    {
     "data": {
      "text/plain": [
       "-0.16700000000000004"
      ]
     },
     "execution_count": 139,
     "metadata": {},
     "output_type": "execute_result"
    }
   ],
   "source": [
    "g_root = [0.333, -0.667, -0.667, 0.333]\n",
    "np.mean(g_root)"
   ]
  },
  {
   "cell_type": "code",
   "execution_count": 142,
   "id": "b9dcb7a6",
   "metadata": {},
   "outputs": [
    {
     "data": {
      "text/plain": [
       "0.25"
      ]
     },
     "execution_count": 142,
     "metadata": {},
     "output_type": "execute_result"
    }
   ],
   "source": [
    "(2 * (0.333 - (-0.167))**2 + 2 * (-0.667 - (-0.167))**2) / 4"
   ]
  },
  {
   "cell_type": "code",
   "execution_count": 141,
   "id": "eee9e8b8",
   "metadata": {},
   "outputs": [
    {
     "data": {
      "text/plain": [
       "0.25"
      ]
     },
     "execution_count": 141,
     "metadata": {},
     "output_type": "execute_result"
    }
   ],
   "source": [
    "np.var(g_root)"
   ]
  },
  {
   "cell_type": "markdown",
   "id": "cd651f17",
   "metadata": {},
   "source": [
    "Income = Low"
   ]
  },
  {
   "cell_type": "code",
   "execution_count": 39,
   "id": "b56dd38f",
   "metadata": {},
   "outputs": [
    {
     "data": {
      "text/plain": [
       "0.25"
      ]
     },
     "execution_count": 39,
     "metadata": {},
     "output_type": "execute_result"
    }
   ],
   "source": [
    "g_left = [0.333, -0.667]\n",
    "np.var(g_left)"
   ]
  },
  {
   "cell_type": "code",
   "execution_count": 40,
   "id": "08b28278",
   "metadata": {},
   "outputs": [
    {
     "data": {
      "text/plain": [
       "0.25"
      ]
     },
     "execution_count": 40,
     "metadata": {},
     "output_type": "execute_result"
    }
   ],
   "source": [
    "g_right = [-0.667, 0.333]\n",
    "np.var(g_right)"
   ]
  },
  {
   "cell_type": "code",
   "execution_count": 41,
   "id": "138653c1",
   "metadata": {},
   "outputs": [
    {
     "data": {
      "text/plain": [
       "0.0"
      ]
     },
     "execution_count": 41,
     "metadata": {},
     "output_type": "execute_result"
    }
   ],
   "source": [
    "gain = 0.25 - (2/4) * 0.25 - (2/4) * 0.25\n",
    "gain"
   ]
  },
  {
   "cell_type": "markdown",
   "id": "b10cb544",
   "metadata": {},
   "source": [
    "Income = Medium"
   ]
  },
  {
   "cell_type": "code",
   "execution_count": 42,
   "id": "bd5ac943",
   "metadata": {},
   "outputs": [
    {
     "data": {
      "text/plain": [
       "0.0"
      ]
     },
     "execution_count": 42,
     "metadata": {},
     "output_type": "execute_result"
    }
   ],
   "source": [
    "g_left = [-0.667]\n",
    "np.var(g_left)"
   ]
  },
  {
   "cell_type": "code",
   "execution_count": 43,
   "id": "d6ed83ea",
   "metadata": {},
   "outputs": [
    {
     "data": {
      "text/plain": [
       "0.2222222222222223"
      ]
     },
     "execution_count": 43,
     "metadata": {},
     "output_type": "execute_result"
    }
   ],
   "source": [
    "g_right = [0.333, -0.667, 0.333] \n",
    "np.var(g_right)"
   ]
  },
  {
   "cell_type": "code",
   "execution_count": 44,
   "id": "d556a007",
   "metadata": {},
   "outputs": [
    {
     "data": {
      "text/plain": [
       "0.08349999999999999"
      ]
     },
     "execution_count": 44,
     "metadata": {},
     "output_type": "execute_result"
    }
   ],
   "source": [
    "gain = 0.25 - (1/4) * 0 - (3/4) * 0.222\n",
    "gain"
   ]
  },
  {
   "cell_type": "markdown",
   "id": "90b3e840",
   "metadata": {},
   "source": [
    "Income = High"
   ]
  },
  {
   "cell_type": "code",
   "execution_count": 45,
   "id": "5e1614c6",
   "metadata": {},
   "outputs": [
    {
     "data": {
      "text/plain": [
       "0.0"
      ]
     },
     "execution_count": 45,
     "metadata": {},
     "output_type": "execute_result"
    }
   ],
   "source": [
    "g_left = [0.333]\n",
    "np.var(g_left)"
   ]
  },
  {
   "cell_type": "code",
   "execution_count": 46,
   "id": "235c703e",
   "metadata": {},
   "outputs": [
    {
     "data": {
      "text/plain": [
       "0.22222222222222224"
      ]
     },
     "execution_count": 46,
     "metadata": {},
     "output_type": "execute_result"
    }
   ],
   "source": [
    "g_right = [0.333, -0.667, -0.667] \n",
    "np.var(g_right)"
   ]
  },
  {
   "cell_type": "code",
   "execution_count": 47,
   "id": "eadf1d60",
   "metadata": {},
   "outputs": [
    {
     "data": {
      "text/plain": [
       "0.08349999999999999"
      ]
     },
     "execution_count": 47,
     "metadata": {},
     "output_type": "execute_result"
    }
   ],
   "source": [
    "gain = 0.25 - (1/4) * 0 - (3/4) * 0.222\n",
    "gain"
   ]
  },
  {
   "cell_type": "markdown",
   "id": "a9cb6531",
   "metadata": {},
   "source": [
    "Education = High School"
   ]
  },
  {
   "cell_type": "code",
   "execution_count": 48,
   "id": "c801899a",
   "metadata": {},
   "outputs": [
    {
     "data": {
      "text/plain": [
       "0.0"
      ]
     },
     "execution_count": 48,
     "metadata": {},
     "output_type": "execute_result"
    }
   ],
   "source": [
    "g_left = [-0.667]\n",
    "np.var(g_left)"
   ]
  },
  {
   "cell_type": "code",
   "execution_count": 49,
   "id": "2a223baf",
   "metadata": {},
   "outputs": [
    {
     "data": {
      "text/plain": [
       "0.2222222222222223"
      ]
     },
     "execution_count": 49,
     "metadata": {},
     "output_type": "execute_result"
    }
   ],
   "source": [
    "g_right = [0.333, -0.667, 0.333] \n",
    "np.var(g_right)"
   ]
  },
  {
   "cell_type": "code",
   "execution_count": 50,
   "id": "855aba67",
   "metadata": {},
   "outputs": [
    {
     "data": {
      "text/plain": [
       "0.08349999999999999"
      ]
     },
     "execution_count": 50,
     "metadata": {},
     "output_type": "execute_result"
    }
   ],
   "source": [
    "gain = 0.25 - (1/4) * 0 - (3/4) * 0.222\n",
    "gain"
   ]
  },
  {
   "cell_type": "markdown",
   "id": "c2481a01",
   "metadata": {},
   "source": [
    "Age < 29"
   ]
  },
  {
   "cell_type": "code",
   "execution_count": 51,
   "id": "974532c8",
   "metadata": {},
   "outputs": [
    {
     "data": {
      "text/plain": [
       "0.0"
      ]
     },
     "execution_count": 51,
     "metadata": {},
     "output_type": "execute_result"
    }
   ],
   "source": [
    "g_left = [-0.667]\n",
    "np.var(g_left)"
   ]
  },
  {
   "cell_type": "code",
   "execution_count": 52,
   "id": "f1bb32f9",
   "metadata": {},
   "outputs": [
    {
     "data": {
      "text/plain": [
       "0.2222222222222223"
      ]
     },
     "execution_count": 52,
     "metadata": {},
     "output_type": "execute_result"
    }
   ],
   "source": [
    "g_right = [0.333, -0.667, 0.333] \n",
    "np.var(g_right)"
   ]
  },
  {
   "cell_type": "code",
   "execution_count": 53,
   "id": "e5987683",
   "metadata": {},
   "outputs": [
    {
     "data": {
      "text/plain": [
       "0.08349999999999999"
      ]
     },
     "execution_count": 53,
     "metadata": {},
     "output_type": "execute_result"
    }
   ],
   "source": [
    "gain = 0.25 - (1/4) * 0 - (3/4) * 0.222\n",
    "gain"
   ]
  },
  {
   "cell_type": "markdown",
   "id": "96cccb58",
   "metadata": {},
   "source": [
    "Age < 32.5"
   ]
  },
  {
   "cell_type": "code",
   "execution_count": 54,
   "id": "5f8cec78",
   "metadata": {},
   "outputs": [
    {
     "data": {
      "text/plain": [
       "0.25"
      ]
     },
     "execution_count": 54,
     "metadata": {},
     "output_type": "execute_result"
    }
   ],
   "source": [
    "g_left = [0.333, -0.667]\n",
    "np.var(g_left)"
   ]
  },
  {
   "cell_type": "code",
   "execution_count": 55,
   "id": "53c6e50c",
   "metadata": {},
   "outputs": [
    {
     "data": {
      "text/plain": [
       "0.25"
      ]
     },
     "execution_count": 55,
     "metadata": {},
     "output_type": "execute_result"
    }
   ],
   "source": [
    "g_right = [-0.667, 0.333] \n",
    "np.var(g_right)"
   ]
  },
  {
   "cell_type": "code",
   "execution_count": 56,
   "id": "d130deea",
   "metadata": {},
   "outputs": [
    {
     "data": {
      "text/plain": [
       "0.08349999999999999"
      ]
     },
     "execution_count": 56,
     "metadata": {},
     "output_type": "execute_result"
    }
   ],
   "source": [
    "gain = 0.25 - (1/4) * 0 - (3/4) * 0.222\n",
    "gain"
   ]
  },
  {
   "cell_type": "markdown",
   "id": "af7c53c5",
   "metadata": {},
   "source": [
    "Age < 37.5"
   ]
  },
  {
   "cell_type": "code",
   "execution_count": 57,
   "id": "0ad63839",
   "metadata": {},
   "outputs": [
    {
     "data": {
      "text/plain": [
       "0.22222222222222224"
      ]
     },
     "execution_count": 57,
     "metadata": {},
     "output_type": "execute_result"
    }
   ],
   "source": [
    "g_left = [0.333, -0.667, -0.667]\n",
    "np.var(g_left)"
   ]
  },
  {
   "cell_type": "code",
   "execution_count": 58,
   "id": "6515dd5d",
   "metadata": {},
   "outputs": [
    {
     "data": {
      "text/plain": [
       "0.0"
      ]
     },
     "execution_count": 58,
     "metadata": {},
     "output_type": "execute_result"
    }
   ],
   "source": [
    "g_right = [0.333] \n",
    "np.var(g_right)"
   ]
  },
  {
   "cell_type": "code",
   "execution_count": 59,
   "id": "893f9ccd",
   "metadata": {},
   "outputs": [
    {
     "data": {
      "text/plain": [
       "0.08349999999999999"
      ]
     },
     "execution_count": 59,
     "metadata": {},
     "output_type": "execute_result"
    }
   ],
   "source": [
    "gain = 0.25 - (3/4) * 0.222 - (1/4) * 0\n",
    "gain"
   ]
  },
  {
   "cell_type": "markdown",
   "id": "e6eb956c",
   "metadata": {},
   "source": [
    "Splitting by Income = Medium"
   ]
  },
  {
   "cell_type": "markdown",
   "id": "2dfa79af",
   "metadata": {},
   "source": [
    "Computing gamma"
   ]
  },
  {
   "cell_type": "code",
   "execution_count": 60,
   "id": "eea28e6e",
   "metadata": {},
   "outputs": [
    {
     "data": {
      "text/plain": [
       "1.499250374812594"
      ]
     },
     "execution_count": 60,
     "metadata": {},
     "output_type": "execute_result"
    }
   ],
   "source": [
    "gamma1 = (2 * 0.333) / (2 * 0.667 * (1 - 0.667))\n",
    "gamma1"
   ]
  },
  {
   "cell_type": "code",
   "execution_count": 61,
   "id": "dd384f79",
   "metadata": {},
   "outputs": [
    {
     "data": {
      "text/plain": [
       "-3.0030030030030037"
      ]
     },
     "execution_count": 61,
     "metadata": {},
     "output_type": "execute_result"
    }
   ],
   "source": [
    "gamma2 = (-0.667) / (0.667 * (1 - 0.667))\n",
    "gamma2"
   ]
  },
  {
   "cell_type": "code",
   "execution_count": 62,
   "id": "b3d379e0",
   "metadata": {},
   "outputs": [
    {
     "data": {
      "text/plain": [
       "-0.0015007511259385335"
      ]
     },
     "execution_count": 62,
     "metadata": {},
     "output_type": "execute_result"
    }
   ],
   "source": [
    "gamma3 = (2 * 0.333 + (-0.667)) / (3 * 0.667 * (1 - 0.667))\n",
    "gamma3"
   ]
  },
  {
   "cell_type": "markdown",
   "id": "0bb09c74",
   "metadata": {},
   "source": [
    "New predictions"
   ]
  },
  {
   "cell_type": "code",
   "execution_count": 63,
   "id": "8769bb2c",
   "metadata": {},
   "outputs": [
    {
     "data": {
      "text/plain": [
       "1.443"
      ]
     },
     "execution_count": 63,
     "metadata": {},
     "output_type": "execute_result"
    }
   ],
   "source": [
    "0.693 + 0.5 * 1.5"
   ]
  },
  {
   "cell_type": "code",
   "execution_count": 64,
   "id": "d7f6ac3c",
   "metadata": {},
   "outputs": [
    {
     "data": {
      "text/plain": [
       "0.8089187887784832"
      ]
     },
     "execution_count": 64,
     "metadata": {},
     "output_type": "execute_result"
    }
   ],
   "source": [
    "sigmoid(1.443)"
   ]
  },
  {
   "cell_type": "code",
   "execution_count": 65,
   "id": "64221378",
   "metadata": {},
   "outputs": [
    {
     "data": {
      "text/plain": [
       "0.693"
      ]
     },
     "execution_count": 65,
     "metadata": {},
     "output_type": "execute_result"
    }
   ],
   "source": [
    "0.693 + 0.5 * 0"
   ]
  },
  {
   "cell_type": "code",
   "execution_count": 66,
   "id": "3486c31d",
   "metadata": {},
   "outputs": [
    {
     "data": {
      "text/plain": [
       "0.6666339590733064"
      ]
     },
     "execution_count": 66,
     "metadata": {},
     "output_type": "execute_result"
    }
   ],
   "source": [
    "sigmoid(0.693)"
   ]
  },
  {
   "cell_type": "code",
   "execution_count": 67,
   "id": "5acaa990",
   "metadata": {},
   "outputs": [
    {
     "data": {
      "text/plain": [
       "-0.807"
      ]
     },
     "execution_count": 67,
     "metadata": {},
     "output_type": "execute_result"
    }
   ],
   "source": [
    "0.693 + 0.5 * (-3)"
   ]
  },
  {
   "cell_type": "code",
   "execution_count": 68,
   "id": "4d77f279",
   "metadata": {},
   "outputs": [
    {
     "data": {
      "text/plain": [
       "0.30853014568206916"
      ]
     },
     "execution_count": 68,
     "metadata": {},
     "output_type": "execute_result"
    }
   ],
   "source": [
    "sigmoid(-0.807)"
   ]
  },
  {
   "cell_type": "markdown",
   "id": "c83bf786",
   "metadata": {},
   "source": [
    "New pseudo-residuals"
   ]
  },
  {
   "cell_type": "code",
   "execution_count": 69,
   "id": "613853b1",
   "metadata": {},
   "outputs": [
    {
     "data": {
      "text/plain": [
       "0.19099999999999995"
      ]
     },
     "execution_count": 69,
     "metadata": {},
     "output_type": "execute_result"
    }
   ],
   "source": [
    "1 - 0.809"
   ]
  },
  {
   "cell_type": "code",
   "execution_count": 70,
   "id": "be287be0",
   "metadata": {},
   "outputs": [
    {
     "data": {
      "text/plain": [
       "0.33299999999999996"
      ]
     },
     "execution_count": 70,
     "metadata": {},
     "output_type": "execute_result"
    }
   ],
   "source": [
    "1 - 0.667"
   ]
  },
  {
   "cell_type": "code",
   "execution_count": 71,
   "id": "f1c602af",
   "metadata": {},
   "outputs": [
    {
     "data": {
      "text/plain": [
       "-0.667"
      ]
     },
     "execution_count": 71,
     "metadata": {},
     "output_type": "execute_result"
    }
   ],
   "source": [
    "0 - 0.667"
   ]
  },
  {
   "cell_type": "code",
   "execution_count": 72,
   "id": "a393e7e4",
   "metadata": {},
   "outputs": [
    {
     "data": {
      "text/plain": [
       "-0.309"
      ]
     },
     "execution_count": 72,
     "metadata": {},
     "output_type": "execute_result"
    }
   ],
   "source": [
    "0 - 0.309"
   ]
  },
  {
   "cell_type": "markdown",
   "id": "9a73bd25",
   "metadata": {},
   "source": [
    "### Third iteration"
   ]
  },
  {
   "cell_type": "code",
   "execution_count": 143,
   "id": "2f80ae7e",
   "metadata": {},
   "outputs": [
    {
     "data": {
      "text/plain": [
       "0.01200000000000001"
      ]
     },
     "execution_count": 143,
     "metadata": {},
     "output_type": "execute_result"
    }
   ],
   "source": [
    "g_root = [0.191, 0.333, 0.191, -0.667, -0.309, 0.333]"
   ]
  },
  {
   "cell_type": "code",
   "execution_count": 145,
   "id": "6a866059",
   "metadata": {},
   "outputs": [
    {
     "data": {
      "text/plain": [
       "0.012000000000000002"
      ]
     },
     "execution_count": 145,
     "metadata": {},
     "output_type": "execute_result"
    }
   ],
   "source": [
    "g_mean = (2 * 0.191 + 2 * 0.333 + (-0.667) + (-0.309)) / 6\n",
    "g_mean"
   ]
  },
  {
   "cell_type": "code",
   "execution_count": 147,
   "id": "345995ac",
   "metadata": {},
   "outputs": [
    {
     "data": {
      "text/plain": [
       "0.13904100000000003"
      ]
     },
     "execution_count": 147,
     "metadata": {},
     "output_type": "execute_result"
    }
   ],
   "source": [
    "g_var = (2 * (0.191 - 0.012)**2 + 2 * (0.333 - 0.012)**2 + (-0.667 - 0.012)**2 + (-0.309 - 0.012)**2) / 6\n",
    "g_var"
   ]
  },
  {
   "cell_type": "code",
   "execution_count": 148,
   "id": "8fe55bd7",
   "metadata": {},
   "outputs": [
    {
     "data": {
      "text/plain": [
       "0.13904100000000005"
      ]
     },
     "execution_count": 148,
     "metadata": {},
     "output_type": "execute_result"
    }
   ],
   "source": [
    "np.var(g_root)"
   ]
  },
  {
   "cell_type": "markdown",
   "id": "0f637361",
   "metadata": {},
   "source": [
    "Income = Low"
   ]
  },
  {
   "cell_type": "code",
   "execution_count": 74,
   "id": "9f3147f3",
   "metadata": {},
   "outputs": [
    {
     "data": {
      "text/plain": [
       "0.1951475555555556"
      ]
     },
     "execution_count": 74,
     "metadata": {},
     "output_type": "execute_result"
    }
   ],
   "source": [
    "g_left = [0.191, 0.333, -0.667]\n",
    "np.var(g_left)"
   ]
  },
  {
   "cell_type": "code",
   "execution_count": 75,
   "id": "61acf9cc",
   "metadata": {},
   "outputs": [
    {
     "data": {
      "text/plain": [
       "0.07581422222222223"
      ]
     },
     "execution_count": 75,
     "metadata": {},
     "output_type": "execute_result"
    }
   ],
   "source": [
    "g_right = [0.191, -0.309, 0.333]\n",
    "np.var(g_right)"
   ]
  },
  {
   "cell_type": "code",
   "execution_count": 76,
   "id": "862cae4d",
   "metadata": {},
   "outputs": [
    {
     "data": {
      "text/plain": [
       "0.003600000000000006"
      ]
     },
     "execution_count": 76,
     "metadata": {},
     "output_type": "execute_result"
    }
   ],
   "source": [
    "gain = 0.139 - (3/6) * 0.195 - (3/6) * 0.0758\n",
    "gain"
   ]
  },
  {
   "cell_type": "markdown",
   "id": "7a79c735",
   "metadata": {},
   "source": [
    "Income = Medium"
   ]
  },
  {
   "cell_type": "code",
   "execution_count": 77,
   "id": "08d0d493",
   "metadata": {},
   "outputs": [
    {
     "data": {
      "text/plain": [
       "0.0625"
      ]
     },
     "execution_count": 77,
     "metadata": {},
     "output_type": "execute_result"
    }
   ],
   "source": [
    "g_left = [0.191, -0.309]\n",
    "np.var(g_left)"
   ]
  },
  {
   "cell_type": "code",
   "execution_count": 78,
   "id": "1091ba03",
   "metadata": {},
   "outputs": [
    {
     "data": {
      "text/plain": [
       "0.17353075"
      ]
     },
     "execution_count": 78,
     "metadata": {},
     "output_type": "execute_result"
    }
   ],
   "source": [
    "g_right = [0.191, 0.333, -0.667, 0.333] \n",
    "np.var(g_right)"
   ]
  },
  {
   "cell_type": "code",
   "execution_count": 79,
   "id": "2beca416",
   "metadata": {},
   "outputs": [
    {
     "data": {
      "text/plain": [
       "0.0021666666666666917"
      ]
     },
     "execution_count": 79,
     "metadata": {},
     "output_type": "execute_result"
    }
   ],
   "source": [
    "gain = 0.139 - (2/6) * 0.0625 - (4/6) * 0.174\n",
    "gain"
   ]
  },
  {
   "cell_type": "markdown",
   "id": "cb523b26",
   "metadata": {},
   "source": [
    "Income = High"
   ]
  },
  {
   "cell_type": "code",
   "execution_count": 80,
   "id": "4b2f2205",
   "metadata": {},
   "outputs": [
    {
     "data": {
      "text/plain": [
       "0.0"
      ]
     },
     "execution_count": 80,
     "metadata": {},
     "output_type": "execute_result"
    }
   ],
   "source": [
    "g_left = [0.333]\n",
    "np.var(g_left)"
   ]
  },
  {
   "cell_type": "code",
   "execution_count": 81,
   "id": "370f6939",
   "metadata": {},
   "outputs": [
    {
     "data": {
      "text/plain": [
       "0.14211936000000003"
      ]
     },
     "execution_count": 81,
     "metadata": {},
     "output_type": "execute_result"
    }
   ],
   "source": [
    "g_right = [0.191, 0.333, 0.191, -0.667, -0.309] \n",
    "np.var(g_right)"
   ]
  },
  {
   "cell_type": "code",
   "execution_count": 82,
   "id": "22e7502f",
   "metadata": {},
   "outputs": [
    {
     "data": {
      "text/plain": [
       "0.02066666666666668"
      ]
     },
     "execution_count": 82,
     "metadata": {},
     "output_type": "execute_result"
    }
   ],
   "source": [
    "gain = 0.139 - (1/6) * 0 - (5/6) * 0.142\n",
    "gain"
   ]
  },
  {
   "cell_type": "markdown",
   "id": "7292d0c5",
   "metadata": {},
   "source": [
    "Education = High School"
   ]
  },
  {
   "cell_type": "code",
   "execution_count": 83,
   "id": "13fa3c89",
   "metadata": {},
   "outputs": [
    {
     "data": {
      "text/plain": [
       "0.18404100000000004"
      ]
     },
     "execution_count": 83,
     "metadata": {},
     "output_type": "execute_result"
    }
   ],
   "source": [
    "g_left = [0.191, -0.667]\n",
    "np.var(g_left)"
   ]
  },
  {
   "cell_type": "code",
   "execution_count": 84,
   "id": "d532a82f",
   "metadata": {},
   "outputs": [
    {
     "data": {
      "text/plain": [
       "0.069666"
      ]
     },
     "execution_count": 84,
     "metadata": {},
     "output_type": "execute_result"
    }
   ],
   "source": [
    "g_right = [0.333, 0.191, -0.309, 0.333] \n",
    "np.var(g_right)"
   ]
  },
  {
   "cell_type": "code",
   "execution_count": 85,
   "id": "4680b5b7",
   "metadata": {},
   "outputs": [
    {
     "data": {
      "text/plain": [
       "0.031200000000000026"
      ]
     },
     "execution_count": 85,
     "metadata": {},
     "output_type": "execute_result"
    }
   ],
   "source": [
    "gain = 0.139 - (2/6) * 0.184 - (4/6) * 0.0697\n",
    "gain"
   ]
  },
  {
   "cell_type": "markdown",
   "id": "2ede0b14",
   "metadata": {},
   "source": [
    "Age < 23.5"
   ]
  },
  {
   "cell_type": "code",
   "execution_count": 86,
   "id": "9843db57",
   "metadata": {},
   "outputs": [
    {
     "data": {
      "text/plain": [
       "0.0"
      ]
     },
     "execution_count": 86,
     "metadata": {},
     "output_type": "execute_result"
    }
   ],
   "source": [
    "g_left = [0.191]\n",
    "np.var(g_left)"
   ]
  },
  {
   "cell_type": "code",
   "execution_count": 87,
   "id": "60811329",
   "metadata": {},
   "outputs": [
    {
     "data": {
      "text/plain": [
       "0.15915936000000003"
      ]
     },
     "execution_count": 87,
     "metadata": {},
     "output_type": "execute_result"
    }
   ],
   "source": [
    "g_right = [0.191, 0.333, -0.667, -0.309, 0.333] \n",
    "np.var(g_right)"
   ]
  },
  {
   "cell_type": "code",
   "execution_count": 88,
   "id": "5d371877",
   "metadata": {},
   "outputs": [
    {
     "data": {
      "text/plain": [
       "0.006500000000000006"
      ]
     },
     "execution_count": 88,
     "metadata": {},
     "output_type": "execute_result"
    }
   ],
   "source": [
    "gain = 0.139 - (1/6) * 0 - (5/6) * 0.159\n",
    "gain"
   ]
  },
  {
   "cell_type": "markdown",
   "id": "92ff2560",
   "metadata": {},
   "source": [
    "Age < 26.5"
   ]
  },
  {
   "cell_type": "code",
   "execution_count": 89,
   "id": "f7d366b3",
   "metadata": {},
   "outputs": [
    {
     "data": {
      "text/plain": [
       "0.0"
      ]
     },
     "execution_count": 89,
     "metadata": {},
     "output_type": "execute_result"
    }
   ],
   "source": [
    "g_left = [0.191, 0.191]\n",
    "np.var(g_left)"
   ]
  },
  {
   "cell_type": "code",
   "execution_count": 90,
   "id": "31ecd4da",
   "metadata": {},
   "outputs": [
    {
     "data": {
      "text/plain": [
       "0.18453075000000002"
      ]
     },
     "execution_count": 90,
     "metadata": {},
     "output_type": "execute_result"
    }
   ],
   "source": [
    "g_right = [0.333, -0.667, -0.309, 0.333] \n",
    "np.var(g_right)"
   ]
  },
  {
   "cell_type": "code",
   "execution_count": 91,
   "id": "bbd8b8d5",
   "metadata": {},
   "outputs": [
    {
     "data": {
      "text/plain": [
       "0.01566666666666669"
      ]
     },
     "execution_count": 91,
     "metadata": {},
     "output_type": "execute_result"
    }
   ],
   "source": [
    "gain = 0.139 - (2/6) * 0 - (4/6) * 0.185\n",
    "gain"
   ]
  },
  {
   "cell_type": "markdown",
   "id": "53ff9d84",
   "metadata": {},
   "source": [
    "Age < 29"
   ]
  },
  {
   "cell_type": "code",
   "execution_count": 92,
   "id": "6dab56fe",
   "metadata": {},
   "outputs": [
    {
     "data": {
      "text/plain": [
       "0.05555555555555555"
      ]
     },
     "execution_count": 92,
     "metadata": {},
     "output_type": "execute_result"
    }
   ],
   "source": [
    "g_left = [0.191, 0.191, -0.309]\n",
    "np.var(g_left)"
   ]
  },
  {
   "cell_type": "code",
   "execution_count": 93,
   "id": "c85a0c51",
   "metadata": {},
   "outputs": [
    {
     "data": {
      "text/plain": [
       "0.2222222222222223"
      ]
     },
     "execution_count": 93,
     "metadata": {},
     "output_type": "execute_result"
    }
   ],
   "source": [
    "g_right = [0.333, -0.667, 0.333]\n",
    "np.var(g_right)"
   ]
  },
  {
   "cell_type": "code",
   "execution_count": 94,
   "id": "aa222c74",
   "metadata": {},
   "outputs": [
    {
     "data": {
      "text/plain": [
       "0.0002500000000000141"
      ]
     },
     "execution_count": 94,
     "metadata": {},
     "output_type": "execute_result"
    }
   ],
   "source": [
    "gain = 0.139 - (3/6) * 0.0555 - (3/6) * 0.222\n",
    "gain"
   ]
  },
  {
   "cell_type": "markdown",
   "id": "7c09fe84",
   "metadata": {},
   "source": [
    "Age < 32.5"
   ]
  },
  {
   "cell_type": "code",
   "execution_count": 95,
   "id": "ecc5f973",
   "metadata": {},
   "outputs": [
    {
     "data": {
      "text/plain": [
       "0.05953075000000001"
      ]
     },
     "execution_count": 95,
     "metadata": {},
     "output_type": "execute_result"
    }
   ],
   "source": [
    "g_left = [0.191, 0.333, 0.191, -0.309]\n",
    "np.var(g_left)"
   ]
  },
  {
   "cell_type": "code",
   "execution_count": 96,
   "id": "8a38d855",
   "metadata": {},
   "outputs": [
    {
     "data": {
      "text/plain": [
       "0.25"
      ]
     },
     "execution_count": 96,
     "metadata": {},
     "output_type": "execute_result"
    }
   ],
   "source": [
    "g_right = [-0.667, 0.333]\n",
    "np.var(g_right)"
   ]
  },
  {
   "cell_type": "code",
   "execution_count": 97,
   "id": "d79a9afd",
   "metadata": {},
   "outputs": [
    {
     "data": {
      "text/plain": [
       "0.016000000000000028"
      ]
     },
     "execution_count": 97,
     "metadata": {},
     "output_type": "execute_result"
    }
   ],
   "source": [
    "gain = 0.139 - (4/6) * 0.0595 - (2/6) * 0.25\n",
    "gain"
   ]
  },
  {
   "cell_type": "markdown",
   "id": "5b8d6879",
   "metadata": {},
   "source": [
    "Age < 37.5"
   ]
  },
  {
   "cell_type": "code",
   "execution_count": 98,
   "id": "2c2f27b1",
   "metadata": {},
   "outputs": [
    {
     "data": {
      "text/plain": [
       "0.14211936000000003"
      ]
     },
     "execution_count": 98,
     "metadata": {},
     "output_type": "execute_result"
    }
   ],
   "source": [
    "g_left = [0.191, 0.333, 0.191, -0.667, -0.309]\n",
    "np.var(g_left)"
   ]
  },
  {
   "cell_type": "code",
   "execution_count": 99,
   "id": "541b6751",
   "metadata": {},
   "outputs": [
    {
     "data": {
      "text/plain": [
       "0.0"
      ]
     },
     "execution_count": 99,
     "metadata": {},
     "output_type": "execute_result"
    }
   ],
   "source": [
    "g_right = [0.333]\n",
    "np.var(g_right)"
   ]
  },
  {
   "cell_type": "code",
   "execution_count": 100,
   "id": "f3dd1129",
   "metadata": {},
   "outputs": [
    {
     "data": {
      "text/plain": [
       "0.02066666666666668"
      ]
     },
     "execution_count": 100,
     "metadata": {},
     "output_type": "execute_result"
    }
   ],
   "source": [
    "gain = 0.139 - (5/6) * 0.142 - (1/6) * 0\n",
    "gain"
   ]
  },
  {
   "cell_type": "markdown",
   "id": "009d9737",
   "metadata": {},
   "source": [
    "Splitting by Education = High School"
   ]
  },
  {
   "cell_type": "markdown",
   "id": "17b08ed8",
   "metadata": {},
   "source": [
    "#### Right Child Node"
   ]
  },
  {
   "cell_type": "code",
   "execution_count": 101,
   "id": "15941522",
   "metadata": {},
   "outputs": [
    {
     "data": {
      "text/plain": [
       "0.069666"
      ]
     },
     "execution_count": 101,
     "metadata": {},
     "output_type": "execute_result"
    }
   ],
   "source": [
    "g_root = [0.333, 0.191, -0.309, 0.333]\n",
    "np.var(g_root)"
   ]
  },
  {
   "cell_type": "markdown",
   "id": "fff70210",
   "metadata": {},
   "source": [
    "Income = Low"
   ]
  },
  {
   "cell_type": "code",
   "execution_count": 102,
   "id": "971f63ae",
   "metadata": {},
   "outputs": [
    {
     "data": {
      "text/plain": [
       "0.0"
      ]
     },
     "execution_count": 102,
     "metadata": {},
     "output_type": "execute_result"
    }
   ],
   "source": [
    "g_left = [0.333]\n",
    "np.var(g_left)"
   ]
  },
  {
   "cell_type": "code",
   "execution_count": 103,
   "id": "1c289a87",
   "metadata": {},
   "outputs": [
    {
     "data": {
      "text/plain": [
       "0.07581422222222223"
      ]
     },
     "execution_count": 103,
     "metadata": {},
     "output_type": "execute_result"
    }
   ],
   "source": [
    "g_right = [0.191, -0.309, 0.333]\n",
    "np.var(g_right)"
   ]
  },
  {
   "cell_type": "code",
   "execution_count": 104,
   "id": "b0596b63",
   "metadata": {},
   "outputs": [
    {
     "data": {
      "text/plain": [
       "0.012849999999999993"
      ]
     },
     "execution_count": 104,
     "metadata": {},
     "output_type": "execute_result"
    }
   ],
   "source": [
    "gain = 0.0697 - (1/4) * 0 - (3/4) * 0.0758\n",
    "gain"
   ]
  },
  {
   "cell_type": "markdown",
   "id": "f63470cc",
   "metadata": {},
   "source": [
    "Income = Medium"
   ]
  },
  {
   "cell_type": "code",
   "execution_count": 105,
   "id": "c11faebe",
   "metadata": {},
   "outputs": [
    {
     "data": {
      "text/plain": [
       "0.0625"
      ]
     },
     "execution_count": 105,
     "metadata": {},
     "output_type": "execute_result"
    }
   ],
   "source": [
    "g_left = [0.191, -0.309]\n",
    "np.var(g_left)"
   ]
  },
  {
   "cell_type": "code",
   "execution_count": 106,
   "id": "b2db498a",
   "metadata": {},
   "outputs": [
    {
     "data": {
      "text/plain": [
       "0.0"
      ]
     },
     "execution_count": 106,
     "metadata": {},
     "output_type": "execute_result"
    }
   ],
   "source": [
    "g_right = [0.333, 0.333] \n",
    "np.var(g_right)"
   ]
  },
  {
   "cell_type": "code",
   "execution_count": 107,
   "id": "16c07e26",
   "metadata": {},
   "outputs": [
    {
     "data": {
      "text/plain": [
       "0.03845"
      ]
     },
     "execution_count": 107,
     "metadata": {},
     "output_type": "execute_result"
    }
   ],
   "source": [
    "gain = 0.0697 - (2/4) * 0.0625 - (2/4) * 0\n",
    "gain"
   ]
  },
  {
   "cell_type": "markdown",
   "id": "e27d7bf6",
   "metadata": {},
   "source": [
    "Income = High"
   ]
  },
  {
   "cell_type": "code",
   "execution_count": 108,
   "id": "bd0b1aeb",
   "metadata": {},
   "outputs": [
    {
     "data": {
      "text/plain": [
       "0.0"
      ]
     },
     "execution_count": 108,
     "metadata": {},
     "output_type": "execute_result"
    }
   ],
   "source": [
    "g_left = [0.333]\n",
    "np.var(g_left)"
   ]
  },
  {
   "cell_type": "code",
   "execution_count": 109,
   "id": "5c8fca69",
   "metadata": {},
   "outputs": [
    {
     "data": {
      "text/plain": [
       "0.07581422222222223"
      ]
     },
     "execution_count": 109,
     "metadata": {},
     "output_type": "execute_result"
    }
   ],
   "source": [
    "g_right = [0.333, 0.191, -0.309] \n",
    "np.var(g_right)"
   ]
  },
  {
   "cell_type": "code",
   "execution_count": 110,
   "id": "6bdc7e10",
   "metadata": {},
   "outputs": [
    {
     "data": {
      "text/plain": [
       "0.012849999999999993"
      ]
     },
     "execution_count": 110,
     "metadata": {},
     "output_type": "execute_result"
    }
   ],
   "source": [
    "gain = 0.0697 - (1/4) * 0 - (3/4) * 0.0758\n",
    "gain"
   ]
  },
  {
   "cell_type": "markdown",
   "id": "fafd9198",
   "metadata": {},
   "source": [
    "Age < 25"
   ]
  },
  {
   "cell_type": "code",
   "execution_count": 111,
   "id": "bb9ce96e",
   "metadata": {},
   "outputs": [
    {
     "data": {
      "text/plain": [
       "0.0"
      ]
     },
     "execution_count": 111,
     "metadata": {},
     "output_type": "execute_result"
    }
   ],
   "source": [
    "g_left = [0.191]\n",
    "np.var(g_left)"
   ]
  },
  {
   "cell_type": "code",
   "execution_count": 112,
   "id": "cb39fdba",
   "metadata": {},
   "outputs": [
    {
     "data": {
      "text/plain": [
       "0.091592"
      ]
     },
     "execution_count": 112,
     "metadata": {},
     "output_type": "execute_result"
    }
   ],
   "source": [
    "g_right = [0.333, -0.309, 0.333] \n",
    "np.var(g_right)"
   ]
  },
  {
   "cell_type": "code",
   "execution_count": 113,
   "id": "5f5f4ddf",
   "metadata": {},
   "outputs": [
    {
     "data": {
      "text/plain": [
       "0.0010000000000000009"
      ]
     },
     "execution_count": 113,
     "metadata": {},
     "output_type": "execute_result"
    }
   ],
   "source": [
    "gain = 0.0697 - (1/4) * 0 - (3/4) * 0.0916\n",
    "gain"
   ]
  },
  {
   "cell_type": "markdown",
   "id": "02af25a0",
   "metadata": {},
   "source": [
    "Age < 29"
   ]
  },
  {
   "cell_type": "code",
   "execution_count": 114,
   "id": "7bb2a95d",
   "metadata": {},
   "outputs": [
    {
     "data": {
      "text/plain": [
       "0.0625"
      ]
     },
     "execution_count": 114,
     "metadata": {},
     "output_type": "execute_result"
    }
   ],
   "source": [
    "g_left = [0.191, -0.309]\n",
    "np.var(g_left)"
   ]
  },
  {
   "cell_type": "code",
   "execution_count": 115,
   "id": "77759b70",
   "metadata": {},
   "outputs": [
    {
     "data": {
      "text/plain": [
       "0.0"
      ]
     },
     "execution_count": 115,
     "metadata": {},
     "output_type": "execute_result"
    }
   ],
   "source": [
    "g_right = [0.333, 0.333] \n",
    "np.var(g_right)"
   ]
  },
  {
   "cell_type": "code",
   "execution_count": 116,
   "id": "f8b68f06",
   "metadata": {},
   "outputs": [
    {
     "data": {
      "text/plain": [
       "0.03845"
      ]
     },
     "execution_count": 116,
     "metadata": {},
     "output_type": "execute_result"
    }
   ],
   "source": [
    "gain = 0.0697 - (2/4) * 0.0625 - (2/4) * 0\n",
    "gain"
   ]
  },
  {
   "cell_type": "markdown",
   "id": "5faa1b5e",
   "metadata": {},
   "source": [
    "Age < 35"
   ]
  },
  {
   "cell_type": "code",
   "execution_count": 117,
   "id": "e17be015",
   "metadata": {},
   "outputs": [
    {
     "data": {
      "text/plain": [
       "0.07581422222222223"
      ]
     },
     "execution_count": 117,
     "metadata": {},
     "output_type": "execute_result"
    }
   ],
   "source": [
    "g_left = [0.333, 0.191, -0.309]\n",
    "np.var(g_left)"
   ]
  },
  {
   "cell_type": "code",
   "execution_count": 118,
   "id": "e3b56bf8",
   "metadata": {},
   "outputs": [
    {
     "data": {
      "text/plain": [
       "0.0"
      ]
     },
     "execution_count": 118,
     "metadata": {},
     "output_type": "execute_result"
    }
   ],
   "source": [
    "g_right = [0.333] \n",
    "np.var(g_right)"
   ]
  },
  {
   "cell_type": "code",
   "execution_count": 119,
   "id": "1b252324",
   "metadata": {},
   "outputs": [
    {
     "data": {
      "text/plain": [
       "0.012849999999999993"
      ]
     },
     "execution_count": 119,
     "metadata": {},
     "output_type": "execute_result"
    }
   ],
   "source": [
    "gain = 0.0697 - (3/4) * 0.0758 - (1/4) * 0\n",
    "gain"
   ]
  },
  {
   "cell_type": "markdown",
   "id": "69daa868",
   "metadata": {},
   "source": [
    "Splitting by Income = Medium"
   ]
  },
  {
   "cell_type": "markdown",
   "id": "3b3f9400",
   "metadata": {},
   "source": [
    "Computing gamma"
   ]
  },
  {
   "cell_type": "code",
   "execution_count": 120,
   "id": "283dd871",
   "metadata": {},
   "outputs": [
    {
     "data": {
      "text/plain": [
       "1.236093943139679"
      ]
     },
     "execution_count": 120,
     "metadata": {},
     "output_type": "execute_result"
    }
   ],
   "source": [
    "gamma1 = 0.191 / (0.809 * (1 - 0.809))\n",
    "gamma1"
   ]
  },
  {
   "cell_type": "code",
   "execution_count": 121,
   "id": "92014cbf",
   "metadata": {},
   "outputs": [
    {
     "data": {
      "text/plain": [
       "-3.0030030030030037"
      ]
     },
     "execution_count": 121,
     "metadata": {},
     "output_type": "execute_result"
    }
   ],
   "source": [
    "gamma2 = (-0.667) / (0.667 * (1 - 0.667))\n",
    "gamma2"
   ]
  },
  {
   "cell_type": "code",
   "execution_count": 122,
   "id": "6300de35",
   "metadata": {},
   "outputs": [
    {
     "data": {
      "text/plain": [
       "-0.32061906650943656"
      ]
     },
     "execution_count": 122,
     "metadata": {},
     "output_type": "execute_result"
    }
   ],
   "source": [
    "gamma3 = (0.191 + (-0.309)) / (0.809 * (1 - 0.809) + 0.309 * (1 - 0.309))\n",
    "gamma3"
   ]
  },
  {
   "cell_type": "code",
   "execution_count": 123,
   "id": "7e27aaa2",
   "metadata": {},
   "outputs": [
    {
     "data": {
      "text/plain": [
       "1.499250374812594"
      ]
     },
     "execution_count": 123,
     "metadata": {},
     "output_type": "execute_result"
    }
   ],
   "source": [
    "gamma4 = (2 * 0.333) / (2 * 0.667 * (1 - 0.667))\n",
    "gamma4"
   ]
  },
  {
   "cell_type": "markdown",
   "id": "59858009",
   "metadata": {},
   "source": [
    "New predictions"
   ]
  },
  {
   "cell_type": "code",
   "execution_count": 124,
   "id": "e97aa893",
   "metadata": {},
   "outputs": [
    {
     "data": {
      "text/plain": [
       "2.061"
      ]
     },
     "execution_count": 124,
     "metadata": {},
     "output_type": "execute_result"
    }
   ],
   "source": [
    "1.443 + 0.5 * 1.236"
   ]
  },
  {
   "cell_type": "code",
   "execution_count": 125,
   "id": "8b88372b",
   "metadata": {},
   "outputs": [
    {
     "data": {
      "text/plain": [
       "0.8870543976064259"
      ]
     },
     "execution_count": 125,
     "metadata": {},
     "output_type": "execute_result"
    }
   ],
   "source": [
    "sigmoid(2.061)"
   ]
  },
  {
   "cell_type": "code",
   "execution_count": 126,
   "id": "c84d599a",
   "metadata": {},
   "outputs": [
    {
     "data": {
      "text/plain": [
       "1.443"
      ]
     },
     "execution_count": 126,
     "metadata": {},
     "output_type": "execute_result"
    }
   ],
   "source": [
    "0.693 + 0.5 * 1.5"
   ]
  },
  {
   "cell_type": "code",
   "execution_count": 127,
   "id": "7f02c263",
   "metadata": {},
   "outputs": [
    {
     "data": {
      "text/plain": [
       "0.8089187887784832"
      ]
     },
     "execution_count": 127,
     "metadata": {},
     "output_type": "execute_result"
    }
   ],
   "source": [
    "sigmoid(1.443)"
   ]
  },
  {
   "cell_type": "code",
   "execution_count": 128,
   "id": "f66e4ccf",
   "metadata": {},
   "outputs": [
    {
     "data": {
      "text/plain": [
       "1.2825"
      ]
     },
     "execution_count": 128,
     "metadata": {},
     "output_type": "execute_result"
    }
   ],
   "source": [
    "1.443 + 0.5 * (-0.321)"
   ]
  },
  {
   "cell_type": "code",
   "execution_count": 129,
   "id": "916dee55",
   "metadata": {},
   "outputs": [
    {
     "data": {
      "text/plain": [
       "0.7829600100656982"
      ]
     },
     "execution_count": 129,
     "metadata": {},
     "output_type": "execute_result"
    }
   ],
   "source": [
    "sigmoid(1.283)"
   ]
  },
  {
   "cell_type": "code",
   "execution_count": 130,
   "id": "0188283d",
   "metadata": {},
   "outputs": [
    {
     "data": {
      "text/plain": [
       "-0.807"
      ]
     },
     "execution_count": 130,
     "metadata": {},
     "output_type": "execute_result"
    }
   ],
   "source": [
    "0.693 + 0.5 * (-3)"
   ]
  },
  {
   "cell_type": "code",
   "execution_count": 131,
   "id": "8d9e94b9",
   "metadata": {},
   "outputs": [
    {
     "data": {
      "text/plain": [
       "0.30853014568206916"
      ]
     },
     "execution_count": 131,
     "metadata": {},
     "output_type": "execute_result"
    }
   ],
   "source": [
    "sigmoid(-0.807)"
   ]
  },
  {
   "cell_type": "code",
   "execution_count": 132,
   "id": "d362aeea",
   "metadata": {},
   "outputs": [
    {
     "data": {
      "text/plain": [
       "-0.9675"
      ]
     },
     "execution_count": 132,
     "metadata": {},
     "output_type": "execute_result"
    }
   ],
   "source": [
    "-0.807 + 0.5 * (-0.321)"
   ]
  },
  {
   "cell_type": "code",
   "execution_count": 133,
   "id": "a1687671",
   "metadata": {},
   "outputs": [
    {
     "data": {
      "text/plain": [
       "0.27527932406581773"
      ]
     },
     "execution_count": 133,
     "metadata": {},
     "output_type": "execute_result"
    }
   ],
   "source": [
    "sigmoid(-0.968)"
   ]
  },
  {
   "cell_type": "code",
   "execution_count": 134,
   "id": "09680cae",
   "metadata": {},
   "outputs": [
    {
     "data": {
      "text/plain": [
       "1.443"
      ]
     },
     "execution_count": 134,
     "metadata": {},
     "output_type": "execute_result"
    }
   ],
   "source": [
    "0.693 + 0.5 * 1.5"
   ]
  },
  {
   "cell_type": "code",
   "execution_count": 135,
   "id": "6b69ccf4",
   "metadata": {},
   "outputs": [
    {
     "data": {
      "text/plain": [
       "0.8089187887784832"
      ]
     },
     "execution_count": 135,
     "metadata": {},
     "output_type": "execute_result"
    }
   ],
   "source": [
    "sigmoid(1.443)"
   ]
  },
  {
   "cell_type": "markdown",
   "id": "31bb5841",
   "metadata": {},
   "source": [
    "Prediction for a new customer"
   ]
  },
  {
   "cell_type": "code",
   "execution_count": 151,
   "id": "7f21a671",
   "metadata": {},
   "outputs": [
    {
     "data": {
      "text/plain": [
       "-2.307"
      ]
     },
     "execution_count": 151,
     "metadata": {},
     "output_type": "execute_result"
    }
   ],
   "source": [
    "0.693 + 0.5 * (-3 + (-3))"
   ]
  },
  {
   "cell_type": "code",
   "execution_count": 152,
   "id": "1bff9f42",
   "metadata": {},
   "outputs": [
    {
     "data": {
      "text/plain": [
       "0.09054488095206321"
      ]
     },
     "execution_count": 152,
     "metadata": {},
     "output_type": "execute_result"
    }
   ],
   "source": [
    "sigmoid(-2.307)"
   ]
  },
  {
   "cell_type": "code",
   "execution_count": null,
   "id": "bbdfcab4",
   "metadata": {},
   "outputs": [],
   "source": []
  }
 ],
 "metadata": {
  "kernelspec": {
   "display_name": "Python 3 (ipykernel)",
   "language": "python",
   "name": "python3"
  },
  "language_info": {
   "codemirror_mode": {
    "name": "ipython",
    "version": 3
   },
   "file_extension": ".py",
   "mimetype": "text/x-python",
   "name": "python",
   "nbconvert_exporter": "python",
   "pygments_lexer": "ipython3",
   "version": "3.9.12"
  }
 },
 "nbformat": 4,
 "nbformat_minor": 5
}
