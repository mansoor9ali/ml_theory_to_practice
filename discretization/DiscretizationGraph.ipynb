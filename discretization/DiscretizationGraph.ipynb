{
 "cells": [
  {
   "cell_type": "code",
   "execution_count": 6,
   "id": "7c2d24ab",
   "metadata": {},
   "outputs": [],
   "source": [
    "import numpy as np\n",
    "import matplotlib.pyplot as plt\n",
    "import seaborn as sns\n",
    "from scipy.stats import norm\n",
    "\n",
    "np.random.seed(0)"
   ]
  },
  {
   "cell_type": "code",
   "execution_count": 7,
   "id": "61afc467",
   "metadata": {},
   "outputs": [],
   "source": [
    "# Sample random data from a mixture distribution of two Gaussians\n",
    "def get_data(mu1, sigma1, mu2, sigma2, prob1, size):\n",
    "    \n",
    "    # Random assignments of points to the clusters\n",
    "    z = np.random.binomial(1, prob1, size)\n",
    "    \n",
    "    x1 = np.random.normal(loc=mu1, scale=sigma1, size=size)\n",
    "    x2 = np.random.normal(loc=mu2, scale=sigma2, size=size)\n",
    "    x = z * x1 + (1-z) * x2\n",
    "    \n",
    "    return x, z"
   ]
  },
  {
   "cell_type": "code",
   "execution_count": 8,
   "id": "aecfe484",
   "metadata": {},
   "outputs": [],
   "source": [
    "# Plot the sample data together with the distributions from which they were generated\n",
    "def plot_dist(x, mu1, sigma1, mu2, sigma2, prob1):    \n",
    "    sns.histplot(x, bins=40, stat='density', linewidth=0.5)\n",
    "    #plt.hist(x, bins=40, ec='black', alpha=0.75)\n",
    "    \n",
    "    plt.xlabel('Longitude')\n",
    "    plt.ylabel('')"
   ]
  },
  {
   "cell_type": "code",
   "execution_count": 9,
   "id": "4e7fb10d",
   "metadata": {},
   "outputs": [],
   "source": [
    "mu1 = 33.5\n",
    "sigma1 = 0.5\n",
    "\n",
    "mu2 = 37\n",
    "sigma2 = 1\n",
    "\n",
    "prob1 = 0.7 # probability of a point to belong to the first distribution\n",
    "size = 1000\n",
    "\n",
    "# Generate sample data\n",
    "x, z = get_data(mu1, sigma1, mu2, sigma2, prob1, size)"
   ]
  },
  {
   "cell_type": "code",
   "execution_count": 10,
   "id": "1a89b956",
   "metadata": {},
   "outputs": [
    {
     "data": {
      "image/png": "[encoded data removed]",
      "text/plain": [
       "<Figure size 432x288 with 1 Axes>"
      ]
     },
     "metadata": {
      "needs_background": "light"
     },
     "output_type": "display_data"
    }
   ],
   "source": [
    "plot_dist(x, mu1, sigma1, mu2, sigma2, prob1)\n",
    "plt.savefig('figures/histogram.pdf')"
   ]
  },
  {
   "cell_type": "code",
   "execution_count": null,
   "id": "3a50cd10",
   "metadata": {},
   "outputs": [],
   "source": []
  }
 ],
 "metadata": {
  "kernelspec": {
   "display_name": "Python 3 (ipykernel)",
   "language": "python",
   "name": "python3"
  },
  "language_info": {
   "codemirror_mode": {
    "name": "ipython",
    "version": 3
   },
   "file_extension": ".py",
   "mimetype": "text/x-python",
   "name": "python",
   "nbconvert_exporter": "python",
   "pygments_lexer": "ipython3",
   "version": "3.9.12"
  }
 },
 "nbformat": 4,
 "nbformat_minor": 5
}
