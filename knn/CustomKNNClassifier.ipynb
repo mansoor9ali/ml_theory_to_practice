{
 "cells": [
  {
   "cell_type": "code",
   "execution_count": 1,
   "id": "5aba65c6",
   "metadata": {},
   "outputs": [],
   "source": [
    "import numpy as np\n",
    "from sklearn.base import BaseEstimator\n",
    "from scipy.stats import mode"
   ]
  },
  {
   "cell_type": "code",
   "execution_count": 2,
   "id": "461fadea",
   "metadata": {},
   "outputs": [],
   "source": [
    "class KNNClassifier(BaseEstimator):\n",
    "    def __init__(self, k=5):\n",
    "        self.k = k        \n",
    "        \n",
    "    def fit(self, X, y):\n",
    "        self.X_train = X\n",
    "        self.y_train = y\n",
    "                \n",
    "    def predict(self, x):\n",
    "        distances = np.linalg.norm(self.X_train - x)\n",
    "        neighbors_idx = distances.argsort()[:self.k]\n",
    "        labels = self.y_train[neighbors_idx]\n",
    "        return mode(labels)[0]"
   ]
  },
  {
   "cell_type": "code",
   "execution_count": 3,
   "id": "a55bae40",
   "metadata": {},
   "outputs": [],
   "source": [
    "X_train = np.array([[1, 4, 1], [1, 0, -2], [0, 0, 1], [-1, 4, 0], [-1, -1, 1], [1, 2, 3], [0, -4, 0], [1, 0, -3]])\n",
    "y_train = np.array([1, 0, 1, 1, 0, 1, 0, 0])"
   ]
  },
  {
   "cell_type": "code",
   "execution_count": 4,
   "id": "645ae1d9",
   "metadata": {},
   "outputs": [],
   "source": [
    "knn = KNNClassifier(k=3)\n",
    "knn.fit(X_train, y_train)"
   ]
  },
  {
   "cell_type": "code",
   "execution_count": 5,
   "id": "8d04563c",
   "metadata": {},
   "outputs": [
    {
     "data": {
      "text/plain": [
       "array([1])"
      ]
     },
     "execution_count": 5,
     "metadata": {},
     "output_type": "execute_result"
    }
   ],
   "source": [
    "knn.predict([1, 0, 1])"
   ]
  },
  {
   "cell_type": "code",
   "execution_count": null,
   "id": "291f2690",
   "metadata": {},
   "outputs": [],
   "source": []
  }
 ],
 "metadata": {
  "kernelspec": {
   "display_name": "Python 3 (ipykernel)",
   "language": "python",
   "name": "python3"
  },
  "language_info": {
   "codemirror_mode": {
    "name": "ipython",
    "version": 3
   },
   "file_extension": ".py",
   "mimetype": "text/x-python",
   "name": "python",
   "nbconvert_exporter": "python",
   "pygments_lexer": "ipython3",
   "version": "3.9.12"
  }
 },
 "nbformat": 4,
 "nbformat_minor": 5
}
