{
 "cells": [
  {
   "cell_type": "code",
   "execution_count": 1,
   "id": "df5cc125",
   "metadata": {},
   "outputs": [],
   "source": [
    "# Author: Roi Yehoshua <roiyeho@gmail.com>\n",
    "# License: MIT\n",
    "\n",
    "import numpy as np\n",
    "import matplotlib.pyplot as plt\n",
    "\n",
    "np.random.seed(0)"
   ]
  },
  {
   "cell_type": "code",
   "execution_count": 2,
   "id": "df0e5de3",
   "metadata": {},
   "outputs": [],
   "source": [
    "from sklearn.datasets import fetch_california_housing\n",
    "\n",
    "data = fetch_california_housing()\n",
    "X, y = data.data, data.target\n",
    "feature_names = data.feature_names"
   ]
  },
  {
   "cell_type": "code",
   "execution_count": 3,
   "id": "10eff9a0",
   "metadata": {},
   "outputs": [],
   "source": [
    "from sklearn.model_selection import train_test_split\n",
    "\n",
    "X_train, X_test, y_train, y_test = train_test_split(X, y, test_size=0.2, random_state=0)"
   ]
  },
  {
   "cell_type": "code",
   "execution_count": 4,
   "id": "4fc9a694",
   "metadata": {},
   "outputs": [
    {
     "data": {
      "text/plain": [
       "RandomForestRegressor()"
      ]
     },
     "execution_count": 4,
     "metadata": {},
     "output_type": "execute_result"
    }
   ],
   "source": [
    "from sklearn.ensemble import RandomForestRegressor\n",
    "\n",
    "reg = RandomForestRegressor()\n",
    "reg.fit(X_train, y_train)"
   ]
  },
  {
   "cell_type": "code",
   "execution_count": 5,
   "id": "a954eae6",
   "metadata": {},
   "outputs": [
    {
     "name": "stdout",
     "output_type": "stream",
     "text": [
      "R2 score (train): 0.9727\n",
      "R2 score (test): 0.7980\n"
     ]
    }
   ],
   "source": [
    "train_score = reg.score(X_train, y_train)\n",
    "print(f'R2 score (train): {train_score:.4f}')\n",
    "\n",
    "test_score = reg.score(X_test, y_test)\n",
    "print(f'R2 score (test): {test_score:.4f}')"
   ]
  },
  {
   "cell_type": "markdown",
   "id": "030f94e6",
   "metadata": {},
   "source": [
    "Feature importance"
   ]
  },
  {
   "cell_type": "code",
   "execution_count": 6,
   "id": "96d8e1c6",
   "metadata": {},
   "outputs": [
    {
     "name": "stdout",
     "output_type": "stream",
     "text": [
      "MedInc: 0.5295\n",
      "AveOccup: 0.1353\n",
      "Latitude: 0.0848\n",
      "Longitude: 0.0837\n",
      "HouseAge: 0.0558\n",
      "AveRooms: 0.0473\n",
      "Population: 0.0330\n",
      "AveBedrms: 0.0306\n"
     ]
    }
   ],
   "source": [
    "# Sort the features by their importances in decreasing order\n",
    "idx = np.argsort(reg.feature_importances_)[::-1]\n",
    "feature_names = np.array(feature_names)[idx]\n",
    "feature_importances = reg.feature_importances_[idx]\n",
    "\n",
    "# Print the features alongside their importances\n",
    "for name, score in zip(feature_names, feature_importances):\n",
    "    print(f'{name}: {score:.4f}')"
   ]
  },
  {
   "cell_type": "code",
   "execution_count": null,
   "id": "fd9b5d0d",
   "metadata": {},
   "outputs": [],
   "source": []
  }
 ],
 "metadata": {
  "kernelspec": {
   "display_name": "Python 3 (ipykernel)",
   "language": "python",
   "name": "python3"
  },
  "language_info": {
   "codemirror_mode": {
    "name": "ipython",
    "version": 3
   },
   "file_extension": ".py",
   "mimetype": "text/x-python",
   "name": "python",
   "nbconvert_exporter": "python",
   "pygments_lexer": "ipython3",
   "version": "3.9.12"
  }
 },
 "nbformat": 4,
 "nbformat_minor": 5
}
