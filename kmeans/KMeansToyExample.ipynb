{
 "cells": [
  {
   "cell_type": "code",
   "execution_count": 52,
   "id": "6f7e1214",
   "metadata": {},
   "outputs": [],
   "source": [
    "# Author: Roi Yehoshua <roiyeho@gmail.com>\n",
    "# License: MIT\n",
    "\n",
    "import numpy as np\n",
    "import matplotlib.pyplot as plt\n",
    "import seaborn as sns\n",
    "\n",
    "np.random.seed(0)"
   ]
  },
  {
   "cell_type": "code",
   "execution_count": 68,
   "id": "697750a4",
   "metadata": {},
   "outputs": [],
   "source": [
    "def plot_data(X, C):    \n",
    "    sns.scatterplot(x=X[:, 0], y=X[:, 1], edgecolor='k', s=50, legend=False)\n",
    "    sns.scatterplot(x=C[:, 0], y=C[:, 1], marker='x', color='k', s=100, legend=False)\n",
    "    \n",
    "    plt.xlabel('$x_1$')\n",
    "    plt.ylabel('$x_2$')\n",
    "    plt.grid(alpha=0.5)"
   ]
  },
  {
   "cell_type": "code",
   "execution_count": 69,
   "id": "c2f94d3e",
   "metadata": {},
   "outputs": [],
   "source": [
    "X = np.array([[0, 1], [1, 4], [1, 9], [2, 2], [2, 7], [3, 8], [4, 7], [5, 3], [6, 4], [7, 3]], dtype=float)"
   ]
  },
  {
   "cell_type": "code",
   "execution_count": 70,
   "id": "b5646ef1",
   "metadata": {},
   "outputs": [
    {
     "data": {
      "image/png": "[encoded data removed]",
      "text/plain": [
       "<Figure size 432x288 with 1 Axes>"
      ]
     },
     "metadata": {
      "needs_background": "light"
     },
     "output_type": "display_data"
    }
   ],
   "source": [
    "k = 3\n",
    "C = X[[2, 3, 6]] # initial centroids\n",
    "plot_data(X, C)\n",
    "plt.savefig('figures/toy_data.pdf')"
   ]
  },
  {
   "cell_type": "code",
   "execution_count": 5,
   "id": "e903f821",
   "metadata": {},
   "outputs": [],
   "source": [
    "def run_iteration():\n",
    "    distances = np.zeros((len(X), k))\n",
    "    for i in range(k):\n",
    "        distances[:, i] = np.sum((X - C[i])**2, axis=1)\n",
    "    print('distances\\n', distances)\n",
    "    \n",
    "    labels = np.argmin(distances, axis=1)\n",
    "    print('labels\\n', labels)\n",
    "    \n",
    "    for i in range(k):\n",
    "        C[i] = np.mean(X[labels == i], axis=0)\n",
    "    print('centroids\\n', C)\n",
    "    return labels"
   ]
  },
  {
   "cell_type": "code",
   "execution_count": 6,
   "id": "703b0b52",
   "metadata": {},
   "outputs": [],
   "source": [
    "def show_clusters(X, C, labels):    \n",
    "    sns.scatterplot(x=X[:, 0], y=X[:, 1], hue=labels, palette='tab10', edgecolor='k', s=50, legend=False)\n",
    "    sns.scatterplot(x=C[:, 0], y=C[:, 1], hue=np.arange(k), marker='x', palette='tab10', s=100, legend=False)\n",
    "    \n",
    "    plt.xlabel('$x_1$')\n",
    "    plt.ylabel('$x_2$')\n",
    "    plt.grid(alpha=0.5)"
   ]
  },
  {
   "cell_type": "markdown",
   "id": "43073706",
   "metadata": {},
   "source": [
    "First iteration"
   ]
  },
  {
   "cell_type": "code",
   "execution_count": 7,
   "id": "9a4edb23",
   "metadata": {},
   "outputs": [
    {
     "name": "stdout",
     "output_type": "stream",
     "text": [
      "distances\n",
      " [[65.  5. 52.]\n",
      " [25.  5. 18.]\n",
      " [ 0. 50. 13.]\n",
      " [50.  0. 29.]\n",
      " [ 5. 25.  4.]\n",
      " [ 5. 37.  2.]\n",
      " [13. 29.  0.]\n",
      " [52. 10. 17.]\n",
      " [50. 20. 13.]\n",
      " [72. 26. 25.]]\n",
      "labels\n",
      " [1 1 0 1 2 2 2 1 2 2]\n",
      "centroids\n",
      " [[1.  9. ]\n",
      " [2.  2.5]\n",
      " [4.4 5.8]]\n"
     ]
    }
   ],
   "source": [
    "labels = run_iteration()"
   ]
  },
  {
   "cell_type": "code",
   "execution_count": 8,
   "id": "e3584315",
   "metadata": {},
   "outputs": [
    {
     "data": {
      "image/png": "[encoded data removed]",
      "text/plain": [
       "<Figure size 432x288 with 1 Axes>"
      ]
     },
     "metadata": {
      "needs_background": "light"
     },
     "output_type": "display_data"
    }
   ],
   "source": [
    "show_clusters(X, C, labels)\n",
    "plt.savefig('figures/k_means_first_iteration.pdf')"
   ]
  },
  {
   "cell_type": "markdown",
   "id": "f19420a8",
   "metadata": {},
   "source": [
    "Second iteration"
   ]
  },
  {
   "cell_type": "code",
   "execution_count": 9,
   "id": "bbb082d9",
   "metadata": {},
   "outputs": [
    {
     "name": "stdout",
     "output_type": "stream",
     "text": [
      "distances\n",
      " [[65.    6.25 42.4 ]\n",
      " [25.    3.25 14.8 ]\n",
      " [ 0.   43.25 21.8 ]\n",
      " [50.    0.25 20.2 ]\n",
      " [ 5.   20.25  7.2 ]\n",
      " [ 5.   31.25  6.8 ]\n",
      " [13.   24.25  1.6 ]\n",
      " [52.    9.25  8.2 ]\n",
      " [50.   18.25  5.8 ]\n",
      " [72.   25.25 14.6 ]]\n",
      "labels\n",
      " [1 1 0 1 0 0 2 2 2 2]\n",
      "centroids\n",
      " [[2.         8.        ]\n",
      " [1.         2.33333333]\n",
      " [5.5        4.25      ]]\n"
     ]
    }
   ],
   "source": [
    "labels = run_iteration()"
   ]
  },
  {
   "cell_type": "code",
   "execution_count": 10,
   "id": "9967d2d2",
   "metadata": {},
   "outputs": [
    {
     "data": {
      "image/png": "[encoded data removed]",
      "text/plain": [
       "<Figure size 432x288 with 1 Axes>"
      ]
     },
     "metadata": {
      "needs_background": "light"
     },
     "output_type": "display_data"
    }
   ],
   "source": [
    "show_clusters(X, C, labels)\n",
    "plt.savefig('figures/k_means_second_iteration.pdf')"
   ]
  },
  {
   "cell_type": "markdown",
   "id": "c1780812",
   "metadata": {},
   "source": [
    "Third Iteration"
   ]
  },
  {
   "cell_type": "code",
   "execution_count": 11,
   "id": "39be1f5a",
   "metadata": {},
   "outputs": [
    {
     "name": "stdout",
     "output_type": "stream",
     "text": [
      "distances\n",
      " [[53.          2.77777778 40.8125    ]\n",
      " [17.          2.77777778 20.3125    ]\n",
      " [ 2.         44.44444444 42.8125    ]\n",
      " [36.          1.11111111 17.3125    ]\n",
      " [ 1.         22.77777778 19.8125    ]\n",
      " [ 1.         36.11111111 20.3125    ]\n",
      " [ 5.         30.77777778  9.8125    ]\n",
      " [34.         16.44444444  1.8125    ]\n",
      " [32.         27.77777778  0.3125    ]\n",
      " [50.         36.44444444  3.8125    ]]\n",
      "labels\n",
      " [1 1 0 1 0 0 0 2 2 2]\n",
      "centroids\n",
      " [[2.5        7.75      ]\n",
      " [1.         2.33333333]\n",
      " [6.         3.33333333]]\n"
     ]
    }
   ],
   "source": [
    "labels = run_iteration()"
   ]
  },
  {
   "cell_type": "code",
   "execution_count": 12,
   "id": "cdc9594e",
   "metadata": {},
   "outputs": [
    {
     "data": {
      "image/png": "[encoded data removed]",
      "text/plain": [
       "<Figure size 432x288 with 1 Axes>"
      ]
     },
     "metadata": {
      "needs_background": "light"
     },
     "output_type": "display_data"
    }
   ],
   "source": [
    "show_clusters(X, C, labels)\n",
    "plt.savefig('figures/k_means_third_iteration.pdf')"
   ]
  },
  {
   "cell_type": "markdown",
   "id": "545a5540",
   "metadata": {},
   "source": [
    "Fourth Iteration"
   ]
  },
  {
   "cell_type": "code",
   "execution_count": 13,
   "id": "55c7426f",
   "metadata": {},
   "outputs": [
    {
     "name": "stdout",
     "output_type": "stream",
     "text": [
      "distances\n",
      " [[51.8125      2.77777778 41.44444444]\n",
      " [16.3125      2.77777778 25.44444444]\n",
      " [ 3.8125     44.44444444 57.11111111]\n",
      " [33.3125      1.11111111 17.77777778]\n",
      " [ 0.8125     22.77777778 29.44444444]\n",
      " [ 0.3125     36.11111111 30.77777778]\n",
      " [ 2.8125     30.77777778 17.44444444]\n",
      " [28.8125     16.44444444  1.11111111]\n",
      " [26.3125     27.77777778  0.44444444]\n",
      " [42.8125     36.44444444  1.11111111]]\n",
      "labels\n",
      " [1 1 0 1 0 0 0 2 2 2]\n",
      "centroids\n",
      " [[2.5        7.75      ]\n",
      " [1.         2.33333333]\n",
      " [6.         3.33333333]]\n"
     ]
    }
   ],
   "source": [
    "labels = run_iteration()"
   ]
  },
  {
   "cell_type": "code",
   "execution_count": 14,
   "id": "09471197",
   "metadata": {},
   "outputs": [
    {
     "data": {
      "image/png": "[encoded data removed]",
      "text/plain": [
       "<Figure size 432x288 with 1 Axes>"
      ]
     },
     "metadata": {
      "needs_background": "light"
     },
     "output_type": "display_data"
    }
   ],
   "source": [
    "show_clusters(X, C, labels)"
   ]
  },
  {
   "cell_type": "code",
   "execution_count": null,
   "id": "7c09e8cd",
   "metadata": {},
   "outputs": [],
   "source": []
  }
 ],
 "metadata": {
  "kernelspec": {
   "display_name": "Python 3 (ipykernel)",
   "language": "python",
   "name": "python3"
  },
  "language_info": {
   "codemirror_mode": {
    "name": "ipython",
    "version": 3
   },
   "file_extension": ".py",
   "mimetype": "text/x-python",
   "name": "python",
   "nbconvert_exporter": "python",
   "pygments_lexer": "ipython3",
   "version": "3.9.12"
  }
 },
 "nbformat": 4,
 "nbformat_minor": 5
}
