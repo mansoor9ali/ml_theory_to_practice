{
 "cells": [
  {
   "cell_type": "code",
   "execution_count": 1,
   "id": "fc059e88",
   "metadata": {},
   "outputs": [],
   "source": [
    "import numpy as np\n",
    "import matplotlib.pyplot as plt"
   ]
  },
  {
   "cell_type": "code",
   "execution_count": 2,
   "id": "ce05b001",
   "metadata": {},
   "outputs": [],
   "source": [
    "x = np.array([0.5, 1.8, 2.4, 3.5, 4.2, 4.8, 5.8, 6.1, 7.2, 8.7, 10])\n",
    "y = np.array([0.1, 0.2, 0.3, 0.4, 0.7, 1, 0.9, 1.2, 1.4, 1.8, 10])"
   ]
  },
  {
   "cell_type": "code",
   "execution_count": 3,
   "id": "89825269",
   "metadata": {},
   "outputs": [],
   "source": [
    "def plot_data(x, y):\n",
    "    plt.scatter(x, y)\n",
    "    plt.xlabel('$x$')\n",
    "    plt.ylabel('$y$')\n",
    "    plt.grid()"
   ]
  },
  {
   "cell_type": "code",
   "execution_count": 4,
   "id": "af73a979",
   "metadata": {},
   "outputs": [
    {
     "data": {
      "image/png": "[encoded data removed]",
      "text/plain": [
       "<Figure size 432x288 with 1 Axes>"
      ]
     },
     "metadata": {
      "needs_background": "light"
     },
     "output_type": "display_data"
    }
   ],
   "source": [
    "plot_data(x, y)\n",
    "plt.savefig('figures/regression_data.pdf')"
   ]
  },
  {
   "cell_type": "code",
   "execution_count": 5,
   "id": "b9779e1d",
   "metadata": {},
   "outputs": [
    {
     "data": {
      "text/plain": [
       "SGDRegressor(loss='huber')"
      ]
     },
     "execution_count": 5,
     "metadata": {},
     "output_type": "execute_result"
    }
   ],
   "source": [
    "from sklearn.linear_model import SGDRegressor\n",
    "\n",
    "X = x.reshape(-1, 1) # Convert x to a matrix with one column\n",
    "\n",
    "reg = SGDRegressor(loss='squared_error')\n",
    "reg.fit(X, y)\n",
    "\n",
    "reg2 = SGDRegressor(loss='huber')\n",
    "reg2.fit(X, y)"
   ]
  },
  {
   "cell_type": "code",
   "execution_count": 6,
   "id": "33cdc026",
   "metadata": {},
   "outputs": [],
   "source": [
    "def plot_regression_line(x, y, w0, w1, color, label):\n",
    "    p_x = np.array([x.min(), x.max()])\n",
    "    p_y = w0 + w1 * p_x\n",
    "    plt.plot(p_x, p_y, color, label=label)"
   ]
  },
  {
   "cell_type": "code",
   "execution_count": 7,
   "id": "3c718da2",
   "metadata": {},
   "outputs": [
    {
     "data": {
      "image/png": "[encoded data removed]",
      "text/plain": [
       "<Figure size 432x288 with 1 Axes>"
      ]
     },
     "metadata": {
      "needs_background": "light"
     },
     "output_type": "display_data"
    }
   ],
   "source": [
    "plot_data(x, y)\n",
    "plot_regression_line(x, y, reg.intercept_, reg.coef_[0], 'r', label='Squared loss')\n",
    "plot_regression_line(x, y, reg2.intercept_, reg2.coef_[0], 'm', label='Huber loss')\n",
    "plt.legend()\n",
    "plt.savefig('figures/regression_models.pdf')"
   ]
  },
  {
   "cell_type": "code",
   "execution_count": null,
   "id": "293a2646",
   "metadata": {},
   "outputs": [],
   "source": []
  }
 ],
 "metadata": {
  "kernelspec": {
   "display_name": "Python 3 (ipykernel)",
   "language": "python",
   "name": "python3"
  },
  "language_info": {
   "codemirror_mode": {
    "name": "ipython",
    "version": 3
   },
   "file_extension": ".py",
   "mimetype": "text/x-python",
   "name": "python",
   "nbconvert_exporter": "python",
   "pygments_lexer": "ipython3",
   "version": "3.9.12"
  }
 },
 "nbformat": 4,
 "nbformat_minor": 5
}
