{
 "cells": [
  {
   "cell_type": "code",
   "execution_count": 1,
   "id": "4ae31a7e",
   "metadata": {},
   "outputs": [],
   "source": [
    "import numpy as np\n",
    "import matplotlib.pyplot as plt\n",
    "import seaborn as sns\n",
    "\n",
    "np.random.seed(0)"
   ]
  },
  {
   "cell_type": "code",
   "execution_count": 2,
   "id": "60218ea2",
   "metadata": {},
   "outputs": [],
   "source": [
    "X = np.array([[0, 1], [1, 4], [1, 9], [2, 2], [2, 7], \n",
    "              [3, 8], [4, 7], [5, 3], [6, 4], [7, 3]])"
   ]
  },
  {
   "cell_type": "code",
   "execution_count": 7,
   "id": "6f33825d",
   "metadata": {},
   "outputs": [],
   "source": [
    "def plot_data(X):   \n",
    "    plt.figure(figsize=(5, 5))\n",
    "    \n",
    "    sns.scatterplot(x=X[:, 0], y=X[:, 1], edgecolor='k', s=50, legend=False)    \n",
    "    \n",
    "    plt.xlabel('$x_1$')\n",
    "    plt.ylabel('$x_2$')  \n",
    "    plt.axis('square')\n",
    "    plt.grid(alpha=0.5)"
   ]
  },
  {
   "cell_type": "code",
   "execution_count": 8,
   "id": "fcce50a4",
   "metadata": {},
   "outputs": [
    {
     "data": {
      "image/png": "[encoded data removed]",
      "text/plain": [
       "<Figure size 360x360 with 1 Axes>"
      ]
     },
     "metadata": {
      "needs_background": "light"
     },
     "output_type": "display_data"
    }
   ],
   "source": [
    "plot_data(X)\n",
    "plt.savefig('figures/toy_data.pdf')"
   ]
  },
  {
   "cell_type": "code",
   "execution_count": 10,
   "id": "b224bdf1",
   "metadata": {},
   "outputs": [
    {
     "data": {
      "text/plain": [
       "array([[ 4.,  5.,  2.,  2.],\n",
       "       [ 6., 10.,  2.,  3.],\n",
       "       [ 7.,  8.,  2.,  2.],\n",
       "       [ 9., 12.,  2.,  3.],\n",
       "       [ 0.,  3.,  5.,  2.],\n",
       "       [ 1., 14.,  5.,  3.],\n",
       "       [ 2., 11.,  5.,  4.],\n",
       "       [15., 16., 10.,  7.],\n",
       "       [13., 17., 10., 10.]])"
      ]
     },
     "execution_count": 10,
     "metadata": {},
     "output_type": "execute_result"
    }
   ],
   "source": [
    "from scipy.cluster import hierarchy\n",
    "\n",
    "Z = hierarchy.linkage(X, method='single', metric='sqeuclidean')\n",
    "Z"
   ]
  },
  {
   "cell_type": "code",
   "execution_count": 21,
   "id": "b61c917e",
   "metadata": {},
   "outputs": [
    {
     "data": {
      "image/png": "[encoded data removed]",
      "text/plain": [
       "<Figure size 432x288 with 1 Axes>"
      ]
     },
     "metadata": {
      "needs_background": "light"
     },
     "output_type": "display_data"
    }
   ],
   "source": [
    "hierarchy.dendrogram(Z)\n",
    "plt.xlabel('Data Point Index')\n",
    "plt.ylabel('Distance')\n",
    "\n",
    "plt.savefig('figures/dendrogram.pdf')"
   ]
  },
  {
   "cell_type": "code",
   "execution_count": 22,
   "id": "fe9ec12b",
   "metadata": {},
   "outputs": [
    {
     "data": {
      "text/plain": [
       "array([2, 2, 3, 2, 3, 3, 3, 1, 1, 1], dtype=int32)"
      ]
     },
     "execution_count": 22,
     "metadata": {},
     "output_type": "execute_result"
    }
   ],
   "source": [
    "hierarchy.fcluster(Z, t=5, criterion='distance')"
   ]
  },
  {
   "cell_type": "code",
   "execution_count": null,
   "id": "29f69688",
   "metadata": {},
   "outputs": [],
   "source": []
  }
 ],
 "metadata": {
  "kernelspec": {
   "display_name": "Python 3 (ipykernel)",
   "language": "python",
   "name": "python3"
  },
  "language_info": {
   "codemirror_mode": {
    "name": "ipython",
    "version": 3
   },
   "file_extension": ".py",
   "mimetype": "text/x-python",
   "name": "python",
   "nbconvert_exporter": "python",
   "pygments_lexer": "ipython3",
   "version": "3.9.12"
  }
 },
 "nbformat": 4,
 "nbformat_minor": 5
}
