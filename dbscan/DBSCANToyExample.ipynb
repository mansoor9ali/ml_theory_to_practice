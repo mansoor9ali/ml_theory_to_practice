{
 "cells": [
  {
   "cell_type": "code",
   "execution_count": 18,
   "id": "ba178909",
   "metadata": {},
   "outputs": [],
   "source": [
    "import numpy as np\n",
    "import matplotlib.pyplot as plt\n",
    "import seaborn as sns\n",
    "\n",
    "np.random.seed(0)"
   ]
  },
  {
   "cell_type": "code",
   "execution_count": null,
   "id": "f61f5287",
   "metadata": {},
   "outputs": [],
   "source": [
    "X = np.array([[0, 1], [1, 4], [1, 9], [2, 2], [2, 7], [3, 8], [4, 7], [5, 3], [6, 4], [7, 3]], dtype=float)"
   ]
  },
  {
   "cell_type": "code",
   "execution_count": 29,
   "id": "04b00249",
   "metadata": {},
   "outputs": [],
   "source": [
    "def plot_data(X):   \n",
    "    plt.figure(figsize=(5, 5))\n",
    "    sns.scatterplot(x=X[:, 0], y=X[:, 1], edgecolor='k', s=50, legend=False)    \n",
    "    \n",
    "    plt.xlabel('$x_1$')\n",
    "    plt.ylabel('$x_2$')    \n",
    "    plt.grid(alpha=0.5)"
   ]
  },
  {
   "cell_type": "code",
   "execution_count": 31,
   "id": "b8cac88d",
   "metadata": {},
   "outputs": [
    {
     "data": {
      "image/png": "[encoded data removed]",
      "text/plain": [
       "<Figure size 360x360 with 1 Axes>"
      ]
     },
     "metadata": {
      "needs_background": "light"
     },
     "output_type": "display_data"
    }
   ],
   "source": [
    "plot_data(X)\n",
    "plt.savefig('figures/toy_data.pdf')"
   ]
  },
  {
   "cell_type": "code",
   "execution_count": 15,
   "id": "a4c034c4",
   "metadata": {},
   "outputs": [],
   "source": [
    "def distance_matrix(X):\n",
    "    D = np.zeros((len(X), len(X)))\n",
    "    for i in range(len(X)):\n",
    "        for j in range(len(X)):\n",
    "            D[i, j] = np.sum((X[i] - X[j])**2)\n",
    "    return D"
   ]
  },
  {
   "cell_type": "code",
   "execution_count": 16,
   "id": "55114277",
   "metadata": {},
   "outputs": [
    {
     "data": {
      "text/plain": [
       "array([[ 0., 10., 65.,  5., 40., 58., 52., 29., 45., 53.],\n",
       "       [10.,  0., 25.,  5., 10., 20., 18., 17., 25., 37.],\n",
       "       [65., 25.,  0., 50.,  5.,  5., 13., 52., 50., 72.],\n",
       "       [ 5.,  5., 50.,  0., 25., 37., 29., 10., 20., 26.],\n",
       "       [40., 10.,  5., 25.,  0.,  2.,  4., 25., 25., 41.],\n",
       "       [58., 20.,  5., 37.,  2.,  0.,  2., 29., 25., 41.],\n",
       "       [52., 18., 13., 29.,  4.,  2.,  0., 17., 13., 25.],\n",
       "       [29., 17., 52., 10., 25., 29., 17.,  0.,  2.,  4.],\n",
       "       [45., 25., 50., 20., 25., 25., 13.,  2.,  0.,  2.],\n",
       "       [53., 37., 72., 26., 41., 41., 25.,  4.,  2.,  0.]])"
      ]
     },
     "execution_count": 16,
     "metadata": {},
     "output_type": "execute_result"
    }
   ],
   "source": [
    "distance_matrix(X)"
   ]
  },
  {
   "cell_type": "code",
   "execution_count": null,
   "id": "843c004d",
   "metadata": {},
   "outputs": [],
   "source": []
  }
 ],
 "metadata": {
  "kernelspec": {
   "display_name": "Python 3 (ipykernel)",
   "language": "python",
   "name": "python3"
  },
  "language_info": {
   "codemirror_mode": {
    "name": "ipython",
    "version": 3
   },
   "file_extension": ".py",
   "mimetype": "text/x-python",
   "name": "python",
   "nbconvert_exporter": "python",
   "pygments_lexer": "ipython3",
   "version": "3.9.12"
  }
 },
 "nbformat": 4,
 "nbformat_minor": 5
}
