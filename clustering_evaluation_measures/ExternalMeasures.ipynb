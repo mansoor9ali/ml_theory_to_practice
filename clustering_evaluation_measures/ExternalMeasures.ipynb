{
 "cells": [
  {
   "cell_type": "code",
   "execution_count": 1,
   "id": "7eff29bf",
   "metadata": {},
   "outputs": [],
   "source": [
    "import numpy as np"
   ]
  },
  {
   "cell_type": "markdown",
   "id": "e29e3697",
   "metadata": {},
   "source": [
    "Contingency Matrix"
   ]
  },
  {
   "cell_type": "code",
   "execution_count": 2,
   "id": "a2fa7c88",
   "metadata": {},
   "outputs": [
    {
     "data": {
      "text/plain": [
       "array([[2, 1, 0],\n",
       "       [0, 1, 2]], dtype=int64)"
      ]
     },
     "execution_count": 2,
     "metadata": {},
     "output_type": "execute_result"
    }
   ],
   "source": [
    "from sklearn.metrics.cluster import contingency_matrix\n",
    "\n",
    "true_labels = [0, 0, 0, 1, 1, 1]\n",
    "cluster_labels = [0, 0, 1, 1, 2, 2]\n",
    "\n",
    "contingency_matrix(true_labels, cluster_labels)"
   ]
  },
  {
   "cell_type": "markdown",
   "id": "c604d80b",
   "metadata": {},
   "source": [
    "Rand Index"
   ]
  },
  {
   "cell_type": "code",
   "execution_count": 3,
   "id": "3dacaf9e",
   "metadata": {},
   "outputs": [
    {
     "name": "stdout",
     "output_type": "stream",
     "text": [
      "RI = 0.667\n"
     ]
    }
   ],
   "source": [
    "from sklearn.metrics import rand_score\n",
    "\n",
    "true_labels = [0, 0, 0, 1, 1, 1]\n",
    "cluster_labels = [0, 0, 1, 1, 2, 2]\n",
    "\n",
    "print(f'RI = {rand_score(true_labels, cluster_labels):.3f}')"
   ]
  },
  {
   "cell_type": "code",
   "execution_count": 4,
   "id": "713ec553",
   "metadata": {},
   "outputs": [
    {
     "name": "stdout",
     "output_type": "stream",
     "text": [
      "ARI = 0.242\n"
     ]
    }
   ],
   "source": [
    "from sklearn.metrics import adjusted_rand_score\n",
    "\n",
    "print(f'ARI = {adjusted_rand_score(true_labels, cluster_labels):.3f}')"
   ]
  },
  {
   "cell_type": "code",
   "execution_count": 5,
   "id": "7206a934",
   "metadata": {},
   "outputs": [
    {
     "name": "stdout",
     "output_type": "stream",
     "text": [
      "RI = 0.400\n",
      "ARI = -0.364\n"
     ]
    }
   ],
   "source": [
    "true_labels = [0, 0, 0, 1, 1, 1]\n",
    "cluster_labels = [0, 1, 2, 0, 1, 2]\n",
    "\n",
    "print(f'RI = {rand_score(true_labels, cluster_labels):.3f}')\n",
    "print(f'ARI = {adjusted_rand_score(true_labels, cluster_labels):.3f}')"
   ]
  },
  {
   "cell_type": "code",
   "execution_count": 6,
   "id": "b9cf8377",
   "metadata": {},
   "outputs": [],
   "source": [
    "from sklearn.datasets import make_blobs\n",
    "from sklearn.preprocessing import StandardScaler\n",
    "\n",
    "X, y = make_blobs(n_samples=500, centers=3, cluster_std=0.6, random_state=0)\n",
    "X = StandardScaler().fit_transform(X)"
   ]
  },
  {
   "cell_type": "code",
   "execution_count": 7,
   "id": "2fa4291c",
   "metadata": {},
   "outputs": [],
   "source": [
    "from sklearn.cluster import KMeans\n",
    "\n",
    "labels_k2 = KMeans(n_clusters=2, random_state=0).fit_predict(X)\n",
    "labels_k3 = KMeans(n_clusters=3, random_state=0).fit_predict(X)\n",
    "labels_k4 = KMeans(n_clusters=4, random_state=0).fit_predict(X)"
   ]
  },
  {
   "cell_type": "code",
   "execution_count": 8,
   "id": "67ec29f7",
   "metadata": {},
   "outputs": [
    {
     "name": "stdout",
     "output_type": "stream",
     "text": [
      "ARI(2 clusters): 0.565\n",
      "ARI(3 clusters): 1.000\n",
      "ARI(4 clusters): 0.864\n"
     ]
    }
   ],
   "source": [
    "print(f'ARI(2 clusters): {adjusted_rand_score(y, labels_k2):.3f}')\n",
    "print(f'ARI(3 clusters): {adjusted_rand_score(y, labels_k3):.3f}')\n",
    "print(f'ARI(4 clusters): {adjusted_rand_score(y, labels_k4):.3f}')"
   ]
  },
  {
   "cell_type": "markdown",
   "id": "6ba84ea9",
   "metadata": {},
   "source": [
    "Homogeneity, Completeness and V-measure"
   ]
  },
  {
   "cell_type": "code",
   "execution_count": 9,
   "id": "70e38c42",
   "metadata": {},
   "outputs": [
    {
     "name": "stdout",
     "output_type": "stream",
     "text": [
      "Homogeneity = 0.667\n",
      "Completeness = 0.421\n",
      "V-measure = 0.516\n"
     ]
    }
   ],
   "source": [
    "from sklearn.metrics import homogeneity_score, completeness_score, v_measure_score\n",
    "\n",
    "true_labels = [0, 0, 0, 1, 1, 1]\n",
    "cluster_labels = [0, 0, 1, 1, 2, 2]\n",
    "\n",
    "print(f'Homogeneity = {homogeneity_score(true_labels, cluster_labels):.3f}')\n",
    "print(f'Completeness = {completeness_score(true_labels, cluster_labels):.3f}')\n",
    "print(f'V-measure = {v_measure_score(true_labels, cluster_labels):.3f}')"
   ]
  },
  {
   "cell_type": "code",
   "execution_count": 10,
   "id": "d0993efc",
   "metadata": {},
   "outputs": [
    {
     "name": "stdout",
     "output_type": "stream",
     "text": [
      "Homogeneity = 0.000\n",
      "Completeness = 0.000\n",
      "V-measure = 0.000\n"
     ]
    }
   ],
   "source": [
    "true_labels = [0, 0, 0, 1, 1, 1]\n",
    "cluster_labels = [0, 1, 2, 0, 1, 2]\n",
    "\n",
    "print(f'Homogeneity = {homogeneity_score(true_labels, cluster_labels):.3f}')\n",
    "print(f'Completeness = {completeness_score(true_labels, cluster_labels):.3f}')\n",
    "print(f'V-measure = {v_measure_score(true_labels, cluster_labels):.3f}')"
   ]
  },
  {
   "cell_type": "code",
   "execution_count": 11,
   "id": "d6046b49",
   "metadata": {},
   "outputs": [
    {
     "name": "stdout",
     "output_type": "stream",
     "text": [
      "V-measure(2 clusters): 0.711\n",
      "V-measure(3 clusters): 1.000\n",
      "V-measure(4 clusters): 0.895\n"
     ]
    }
   ],
   "source": [
    "print(f'V-measure(2 clusters): {v_measure_score(y, labels_k2):.3f}')\n",
    "print(f'V-measure(3 clusters): {v_measure_score(y, labels_k3):.3f}')\n",
    "print(f'V-measure(4 clusters): {v_measure_score(y, labels_k4):.3f}')"
   ]
  },
  {
   "cell_type": "markdown",
   "id": "4e0ed81c",
   "metadata": {},
   "source": [
    "Fowlkes-Mallows Index"
   ]
  },
  {
   "cell_type": "code",
   "execution_count": 12,
   "id": "8db4fa67",
   "metadata": {},
   "outputs": [
    {
     "name": "stdout",
     "output_type": "stream",
     "text": [
      "FMI = 0.471\n"
     ]
    }
   ],
   "source": [
    "from sklearn.metrics import fowlkes_mallows_score\n",
    "\n",
    "true_labels = [0, 0, 0, 1, 1, 1]\n",
    "cluster_labels = [0, 0, 1, 1, 2, 2]\n",
    "\n",
    "print(f'FMI = {fowlkes_mallows_score(true_labels, cluster_labels):.3f}')"
   ]
  },
  {
   "cell_type": "code",
   "execution_count": 13,
   "id": "ecfaf5d2",
   "metadata": {},
   "outputs": [
    {
     "name": "stdout",
     "output_type": "stream",
     "text": [
      "FMI = 0.000\n"
     ]
    }
   ],
   "source": [
    "true_labels = [0, 0, 0, 1, 1, 1]\n",
    "cluster_labels = [0, 1, 2, 0, 1, 2]\n",
    "\n",
    "print(f'FMI = {fowlkes_mallows_score(true_labels, cluster_labels):.3f}')"
   ]
  },
  {
   "cell_type": "code",
   "execution_count": 14,
   "id": "389d00a7",
   "metadata": {},
   "outputs": [
    {
     "name": "stdout",
     "output_type": "stream",
     "text": [
      "FMI(2 clusters): 0.711\n",
      "FMI(3 clusters): 1.000\n",
      "FMI(4 clusters): 0.895\n"
     ]
    }
   ],
   "source": [
    "print(f'FMI(2 clusters): {v_measure_score(y, labels_k2):.3f}')\n",
    "print(f'FMI(3 clusters): {v_measure_score(y, labels_k3):.3f}')\n",
    "print(f'FMI(4 clusters): {v_measure_score(y, labels_k4):.3f}')"
   ]
  },
  {
   "cell_type": "code",
   "execution_count": null,
   "id": "30c4b2f3",
   "metadata": {},
   "outputs": [],
   "source": []
  }
 ],
 "metadata": {
  "kernelspec": {
   "display_name": "Python 3 (ipykernel)",
   "language": "python",
   "name": "python3"
  },
  "language_info": {
   "codemirror_mode": {
    "name": "ipython",
    "version": 3
   },
   "file_extension": ".py",
   "mimetype": "text/x-python",
   "name": "python",
   "nbconvert_exporter": "python",
   "pygments_lexer": "ipython3",
   "version": "3.9.12"
  }
 },
 "nbformat": 4,
 "nbformat_minor": 5
}
