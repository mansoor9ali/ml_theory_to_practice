{
 "cells": [
  {
   "cell_type": "code",
   "execution_count": 1,
   "id": "cbd0cdd0",
   "metadata": {},
   "outputs": [],
   "source": [
    "# Author: Roi Yehoshua <roiyeho@gmail.com>\n",
    "# License: MIT\n",
    "\n",
    "import numpy as np\n",
    "import matplotlib.pyplot as plt"
   ]
  },
  {
   "cell_type": "code",
   "execution_count": 2,
   "id": "e03eda2a",
   "metadata": {},
   "outputs": [],
   "source": [
    "x = np.array([0, 4, 8, 12, 16, 20])\n",
    "y = np.array([67.38, 74.67, 82, 91.69, 101.6, 112.58])"
   ]
  },
  {
   "cell_type": "code",
   "execution_count": 3,
   "id": "f18843b5",
   "metadata": {},
   "outputs": [
    {
     "data": {
      "text/plain": [
       "array([[  1.,   0.,   0.],\n",
       "       [  1.,   4.,  16.],\n",
       "       [  1.,   8.,  64.],\n",
       "       [  1.,  12., 144.],\n",
       "       [  1.,  16., 256.],\n",
       "       [  1.,  20., 400.]])"
      ]
     },
     "execution_count": 3,
     "metadata": {},
     "output_type": "execute_result"
    }
   ],
   "source": [
    "X = np.column_stack((np.ones(len(x)), x, x**2))\n",
    "X"
   ]
  },
  {
   "cell_type": "code",
   "execution_count": 4,
   "id": "aae350d3",
   "metadata": {},
   "outputs": [
    {
     "data": {
      "text/plain": [
       "array([6.74267857e+01, 1.61838393e+00, 3.21093750e-02])"
      ]
     },
     "execution_count": 4,
     "metadata": {},
     "output_type": "execute_result"
    }
   ],
   "source": [
    "w = np.linalg.inv(X.T @ X) @ X.T @ y\n",
    "w"
   ]
  },
  {
   "cell_type": "code",
   "execution_count": 5,
   "id": "405edc79",
   "metadata": {},
   "outputs": [
    {
     "data": {
      "image/png": "[encoded data removed]",
      "text/plain": [
       "<Figure size 432x288 with 1 Axes>"
      ]
     },
     "metadata": {
      "needs_background": "light"
     },
     "output_type": "display_data"
    }
   ],
   "source": [
    "plt.scatter(x, y, c='k')\n",
    "\n",
    "x_test = np.linspace(0, 20, 100)\n",
    "y_test = w[0] + w[1] * x_test + w[2] * x_test**2\n",
    "plt.plot(x_test, y_test, c='r')\n",
    "\n",
    "plt.xlabel('$x$')\n",
    "plt.ylabel('$y$')\n",
    "\n",
    "plt.savefig('figures/fitted_parabola.pdf')"
   ]
  },
  {
   "cell_type": "code",
   "execution_count": null,
   "id": "4c1d576b",
   "metadata": {},
   "outputs": [],
   "source": []
  }
 ],
 "metadata": {
  "kernelspec": {
   "display_name": "Python 3 (ipykernel)",
   "language": "python",
   "name": "python3"
  },
  "language_info": {
   "codemirror_mode": {
    "name": "ipython",
    "version": 3
   },
   "file_extension": ".py",
   "mimetype": "text/x-python",
   "name": "python",
   "nbconvert_exporter": "python",
   "pygments_lexer": "ipython3",
   "version": "3.9.12"
  }
 },
 "nbformat": 4,
 "nbformat_minor": 5
}
