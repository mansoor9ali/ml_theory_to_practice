{
 "cells": [
  {
   "cell_type": "markdown",
   "id": "41533c2e",
   "metadata": {
    "id": "41533c2e"
   },
   "source": [
    "# XGBoost Classification Demo: UCI Bank Marketing Dataset\n",
    "\n",
    "## Introduction\n",
    "\n",
    "In this notebook, we demonstrate the use of **XGBoost** for classifying whether a bank client will subscribe to a term deposit using the UCI Bank Marketing Dataset. Our objective is to build a classification model that predicts the outcome based on client and campaign attributes.\n",
    "\n",
    "https://archive.ics.uci.edu/dataset/222/bank+marketing"
   ]
  },
  {
   "cell_type": "code",
   "execution_count": 3,
   "id": "e1db3947",
   "metadata": {},
   "outputs": [
    {
     "name": "stdout",
     "output_type": "stream",
     "text": [
      "Requirement already satisfied: scikit-learn in /Users/vitthalsrinivasan/anaconda3/lib/python3.10/site-packages (1.6.1)\n",
      "Requirement already satisfied: scipy>=1.6.0 in /Users/vitthalsrinivasan/anaconda3/lib/python3.10/site-packages (from scikit-learn) (1.10.0)\n",
      "Requirement already satisfied: numpy>=1.19.5 in /Users/vitthalsrinivasan/anaconda3/lib/python3.10/site-packages (from scikit-learn) (1.23.5)\n",
      "Requirement already satisfied: joblib>=1.2.0 in /Users/vitthalsrinivasan/anaconda3/lib/python3.10/site-packages (from scikit-learn) (1.4.2)\n",
      "Requirement already satisfied: threadpoolctl>=3.1.0 in /Users/vitthalsrinivasan/anaconda3/lib/python3.10/site-packages (from scikit-learn) (3.5.0)\n",
      "Note: you may need to restart the kernel to use updated packages.\n"
     ]
    }
   ],
   "source": [
    "pip install -U scikit-learn"
   ]
  },
  {
   "cell_type": "code",
   "execution_count": 4,
   "id": "efc6bf9c",
   "metadata": {},
   "outputs": [
    {
     "name": "stdout",
     "output_type": "stream",
     "text": [
      "Requirement already satisfied: xgboost in /Users/vitthalsrinivasan/anaconda3/lib/python3.10/site-packages (3.0.0)\n",
      "Requirement already satisfied: numpy in /Users/vitthalsrinivasan/anaconda3/lib/python3.10/site-packages (from xgboost) (1.23.5)\n",
      "Requirement already satisfied: scipy in /Users/vitthalsrinivasan/anaconda3/lib/python3.10/site-packages (from xgboost) (1.10.0)\n",
      "Note: you may need to restart the kernel to use updated packages.\n"
     ]
    }
   ],
   "source": [
    "pip install -U xgboost"
   ]
  },
  {
   "cell_type": "code",
   "execution_count": 5,
   "id": "c1169281-c5a6-4919-b74b-ddff1c87b9a5",
   "metadata": {
    "colab": {
     "base_uri": "https://localhost:8080/"
    },
    "id": "c1169281-c5a6-4919-b74b-ddff1c87b9a5",
    "outputId": "48eef48e-22b3-49ab-ac42-87eca1bcbc47"
   },
   "outputs": [
    {
     "name": "stdout",
     "output_type": "stream",
     "text": [
      "Collecting graphviz\n",
      "  Downloading graphviz-0.20.3-py3-none-any.whl (47 kB)\n",
      "\u001b[2K     \u001b[90m━━━━━━━━━━━━━━━━━━━━━━━━━━━━━━━━━━━━━━━\u001b[0m \u001b[32m47.1/47.1 kB\u001b[0m \u001b[31m602.8 kB/s\u001b[0m eta \u001b[36m0:00:00\u001b[0ma \u001b[36m0:00:01\u001b[0m\n",
      "\u001b[?25hInstalling collected packages: graphviz\n",
      "Successfully installed graphviz-0.20.3\n",
      "Note: you may need to restart the kernel to use updated packages.\n"
     ]
    }
   ],
   "source": [
    "pip install -U graphviz"
   ]
  },
  {
   "cell_type": "code",
   "execution_count": 26,
   "id": "359a28fc",
   "metadata": {},
   "outputs": [
    {
     "name": "stdout",
     "output_type": "stream",
     "text": [
      "3.0.0\n"
     ]
    }
   ],
   "source": [
    "import xgboost\n",
    "print(xgboost.__version__)"
   ]
  },
  {
   "cell_type": "code",
   "execution_count": 7,
   "id": "794fbb8f",
   "metadata": {
    "id": "794fbb8f"
   },
   "outputs": [],
   "source": [
    "import pandas as pd\n",
    "import numpy as np\n",
    "import matplotlib.pyplot as plt\n",
    "import seaborn as sns\n",
    "\n",
    "from sklearn.model_selection import train_test_split\n",
    "from sklearn.metrics import (\n",
    "    accuracy_score, precision_score, recall_score, f1_score\n",
    ")\n",
    "\n",
    "import xgboost as xgb"
   ]
  },
  {
   "cell_type": "markdown",
   "id": "a9b15ec4",
   "metadata": {
    "id": "a9b15ec4"
   },
   "source": [
    "## Load and Prepare Data\n",
    "\n",
    "We load the dataset from `uci_bank_data.csv` and perform data cleaning and preprocessing\n",
    "\n",
    "#### **Client-related attributes:**\n",
    "- `age`: Age of the client (numeric)\n",
    "- `job`: Type of job (categorical: e.g., admin., technician, unemployed)\n",
    "- `marital`: Marital status (categorical: married, single, divorced)\n",
    "- `education`: Education level (categorical: e.g., primary, secondary, tertiary)\n",
    "- `default`: Has credit in default? (binary: yes/no)\n",
    "- `balance`: Average yearly balance in euros (numeric)\n",
    "- `housing`: Has housing loan? (binary: yes/no)\n",
    "- `loan`: Has personal loan? (binary: yes/no)\n",
    "\n",
    "#### **Campaign-related attributes:**\n",
    "- `contact`: Contact communication type (categorical: cellular, telephone)\n",
    "- `day`: Last contact day of the month (numeric)\n",
    "- `month`: Last contact month (categorical)\n",
    "- `duration`: Last contact duration in seconds (numeric)  \n",
    "  **(Important: This feature is highly predictive but should be handled carefully in model building.)**\n",
    "\n",
    "#### **Previous campaign attributes:**\n",
    "- `campaign`: Number of contacts during this campaign (numeric)\n",
    "- `pdays`: Days since last contact in a previous campaign (-1 means never contacted)\n",
    "- `previous`: Number of contacts before this campaign (numeric)\n",
    "- `poutcome`: Outcome of the previous campaign (categorical)\n",
    "\n",
    "---\n",
    "\n",
    "### **Output Variable**\n",
    "- `y`: Has the client subscribed to a term deposit? (binary: yes/no)\n"
   ]
  },
  {
   "cell_type": "code",
   "execution_count": 23,
   "id": "4c94286b",
   "metadata": {
    "colab": {
     "base_uri": "https://localhost:8080/"
    },
    "id": "4c94286b",
    "outputId": "1e36f123-3602-42f7-d778-dd5e761211fd"
   },
   "outputs": [
    {
     "data": {
      "text/html": [
       "<div>\n",
       "<style scoped>\n",
       "    .dataframe tbody tr th:only-of-type {\n",
       "        vertical-align: middle;\n",
       "    }\n",
       "\n",
       "    .dataframe tbody tr th {\n",
       "        vertical-align: top;\n",
       "    }\n",
       "\n",
       "    .dataframe thead th {\n",
       "        text-align: right;\n",
       "    }\n",
       "</style>\n",
       "<table border=\"1\" class=\"dataframe\">\n",
       "  <thead>\n",
       "    <tr style=\"text-align: right;\">\n",
       "      <th></th>\n",
       "      <th>age</th>\n",
       "      <th>job</th>\n",
       "      <th>marital</th>\n",
       "      <th>education</th>\n",
       "      <th>default</th>\n",
       "      <th>balance</th>\n",
       "      <th>housing</th>\n",
       "      <th>loan</th>\n",
       "      <th>contact</th>\n",
       "      <th>day</th>\n",
       "      <th>month</th>\n",
       "      <th>duration</th>\n",
       "      <th>campaign</th>\n",
       "      <th>pdays</th>\n",
       "      <th>previous</th>\n",
       "      <th>poutcome</th>\n",
       "      <th>y</th>\n",
       "    </tr>\n",
       "  </thead>\n",
       "  <tbody>\n",
       "    <tr>\n",
       "      <th>0</th>\n",
       "      <td>58</td>\n",
       "      <td>management</td>\n",
       "      <td>married</td>\n",
       "      <td>tertiary</td>\n",
       "      <td>no</td>\n",
       "      <td>2143</td>\n",
       "      <td>yes</td>\n",
       "      <td>no</td>\n",
       "      <td>unknown</td>\n",
       "      <td>5</td>\n",
       "      <td>may</td>\n",
       "      <td>261</td>\n",
       "      <td>1</td>\n",
       "      <td>-1</td>\n",
       "      <td>0</td>\n",
       "      <td>unknown</td>\n",
       "      <td>no</td>\n",
       "    </tr>\n",
       "    <tr>\n",
       "      <th>1</th>\n",
       "      <td>44</td>\n",
       "      <td>technician</td>\n",
       "      <td>single</td>\n",
       "      <td>secondary</td>\n",
       "      <td>no</td>\n",
       "      <td>29</td>\n",
       "      <td>yes</td>\n",
       "      <td>no</td>\n",
       "      <td>unknown</td>\n",
       "      <td>5</td>\n",
       "      <td>may</td>\n",
       "      <td>151</td>\n",
       "      <td>1</td>\n",
       "      <td>-1</td>\n",
       "      <td>0</td>\n",
       "      <td>unknown</td>\n",
       "      <td>no</td>\n",
       "    </tr>\n",
       "    <tr>\n",
       "      <th>2</th>\n",
       "      <td>33</td>\n",
       "      <td>entrepreneur</td>\n",
       "      <td>married</td>\n",
       "      <td>secondary</td>\n",
       "      <td>no</td>\n",
       "      <td>2</td>\n",
       "      <td>yes</td>\n",
       "      <td>yes</td>\n",
       "      <td>unknown</td>\n",
       "      <td>5</td>\n",
       "      <td>may</td>\n",
       "      <td>76</td>\n",
       "      <td>1</td>\n",
       "      <td>-1</td>\n",
       "      <td>0</td>\n",
       "      <td>unknown</td>\n",
       "      <td>no</td>\n",
       "    </tr>\n",
       "    <tr>\n",
       "      <th>3</th>\n",
       "      <td>47</td>\n",
       "      <td>blue-collar</td>\n",
       "      <td>married</td>\n",
       "      <td>unknown</td>\n",
       "      <td>no</td>\n",
       "      <td>1506</td>\n",
       "      <td>yes</td>\n",
       "      <td>no</td>\n",
       "      <td>unknown</td>\n",
       "      <td>5</td>\n",
       "      <td>may</td>\n",
       "      <td>92</td>\n",
       "      <td>1</td>\n",
       "      <td>-1</td>\n",
       "      <td>0</td>\n",
       "      <td>unknown</td>\n",
       "      <td>no</td>\n",
       "    </tr>\n",
       "    <tr>\n",
       "      <th>4</th>\n",
       "      <td>33</td>\n",
       "      <td>unknown</td>\n",
       "      <td>single</td>\n",
       "      <td>unknown</td>\n",
       "      <td>no</td>\n",
       "      <td>1</td>\n",
       "      <td>no</td>\n",
       "      <td>no</td>\n",
       "      <td>unknown</td>\n",
       "      <td>5</td>\n",
       "      <td>may</td>\n",
       "      <td>198</td>\n",
       "      <td>1</td>\n",
       "      <td>-1</td>\n",
       "      <td>0</td>\n",
       "      <td>unknown</td>\n",
       "      <td>no</td>\n",
       "    </tr>\n",
       "  </tbody>\n",
       "</table>\n",
       "</div>"
      ],
      "text/plain": [
       "   age           job  marital  education default  balance housing loan  \\\n",
       "0   58    management  married   tertiary      no     2143     yes   no   \n",
       "1   44    technician   single  secondary      no       29     yes   no   \n",
       "2   33  entrepreneur  married  secondary      no        2     yes  yes   \n",
       "3   47   blue-collar  married    unknown      no     1506     yes   no   \n",
       "4   33       unknown   single    unknown      no        1      no   no   \n",
       "\n",
       "   contact  day month  duration  campaign  pdays  previous poutcome   y  \n",
       "0  unknown    5   may       261         1     -1         0  unknown  no  \n",
       "1  unknown    5   may       151         1     -1         0  unknown  no  \n",
       "2  unknown    5   may        76         1     -1         0  unknown  no  \n",
       "3  unknown    5   may        92         1     -1         0  unknown  no  \n",
       "4  unknown    5   may       198         1     -1         0  unknown  no  "
      ]
     },
     "execution_count": 23,
     "metadata": {},
     "output_type": "execute_result"
    }
   ],
   "source": [
    "bank_data = pd.read_csv(\"uci_bank_data.csv\")\n",
    "\n",
    "bank_data.head()"
   ]
  },
  {
   "cell_type": "code",
   "execution_count": 24,
   "id": "fd26be78",
   "metadata": {},
   "outputs": [
    {
     "data": {
      "text/plain": [
       "(45211, 17)"
      ]
     },
     "execution_count": 24,
     "metadata": {},
     "output_type": "execute_result"
    }
   ],
   "source": [
    "bank_data.shape"
   ]
  },
  {
   "cell_type": "code",
   "execution_count": 25,
   "id": "4060d3ce",
   "metadata": {
    "colab": {
     "base_uri": "https://localhost:8080/"
    },
    "id": "4060d3ce",
    "outputId": "d86c152a-38e4-4911-844a-34aed3ace1db"
   },
   "outputs": [
    {
     "data": {
      "text/plain": [
       "age          0\n",
       "job          0\n",
       "marital      0\n",
       "education    0\n",
       "default      0\n",
       "balance      0\n",
       "housing      0\n",
       "loan         0\n",
       "contact      0\n",
       "day          0\n",
       "month        0\n",
       "duration     0\n",
       "campaign     0\n",
       "pdays        0\n",
       "previous     0\n",
       "poutcome     0\n",
       "y            0\n",
       "dtype: int64"
      ]
     },
     "execution_count": 25,
     "metadata": {},
     "output_type": "execute_result"
    }
   ],
   "source": [
    "bank_data.isnull().sum()"
   ]
  },
  {
   "cell_type": "markdown",
   "id": "fafa039b",
   "metadata": {},
   "source": [
    "### Duration\n",
    "\n",
    "last contact duration, in seconds (numeric). Important note: this attribute highly affects the output target (e.g., if duration=0 then y='no'). Yet, the duration is not known before a call is performed. Also, after the end of the call y is obviously known. \n",
    "\n",
    "Thus, this input should only be included for benchmark purposes and should be discarded if the intention is to have a realistic predictive model."
   ]
  },
  {
   "cell_type": "code",
   "execution_count": 27,
   "id": "5ff7bc67",
   "metadata": {},
   "outputs": [
    {
     "data": {
      "text/html": [
       "<div>\n",
       "<style scoped>\n",
       "    .dataframe tbody tr th:only-of-type {\n",
       "        vertical-align: middle;\n",
       "    }\n",
       "\n",
       "    .dataframe tbody tr th {\n",
       "        vertical-align: top;\n",
       "    }\n",
       "\n",
       "    .dataframe thead th {\n",
       "        text-align: right;\n",
       "    }\n",
       "</style>\n",
       "<table border=\"1\" class=\"dataframe\">\n",
       "  <thead>\n",
       "    <tr style=\"text-align: right;\">\n",
       "      <th></th>\n",
       "      <th>age</th>\n",
       "      <th>job</th>\n",
       "      <th>marital</th>\n",
       "      <th>education</th>\n",
       "      <th>default</th>\n",
       "      <th>balance</th>\n",
       "      <th>housing</th>\n",
       "      <th>loan</th>\n",
       "      <th>contact</th>\n",
       "      <th>day</th>\n",
       "      <th>month</th>\n",
       "      <th>campaign</th>\n",
       "      <th>pdays</th>\n",
       "      <th>previous</th>\n",
       "      <th>poutcome</th>\n",
       "      <th>y</th>\n",
       "    </tr>\n",
       "  </thead>\n",
       "  <tbody>\n",
       "    <tr>\n",
       "      <th>0</th>\n",
       "      <td>58</td>\n",
       "      <td>management</td>\n",
       "      <td>married</td>\n",
       "      <td>tertiary</td>\n",
       "      <td>no</td>\n",
       "      <td>2143</td>\n",
       "      <td>yes</td>\n",
       "      <td>no</td>\n",
       "      <td>unknown</td>\n",
       "      <td>5</td>\n",
       "      <td>may</td>\n",
       "      <td>1</td>\n",
       "      <td>-1</td>\n",
       "      <td>0</td>\n",
       "      <td>unknown</td>\n",
       "      <td>no</td>\n",
       "    </tr>\n",
       "    <tr>\n",
       "      <th>1</th>\n",
       "      <td>44</td>\n",
       "      <td>technician</td>\n",
       "      <td>single</td>\n",
       "      <td>secondary</td>\n",
       "      <td>no</td>\n",
       "      <td>29</td>\n",
       "      <td>yes</td>\n",
       "      <td>no</td>\n",
       "      <td>unknown</td>\n",
       "      <td>5</td>\n",
       "      <td>may</td>\n",
       "      <td>1</td>\n",
       "      <td>-1</td>\n",
       "      <td>0</td>\n",
       "      <td>unknown</td>\n",
       "      <td>no</td>\n",
       "    </tr>\n",
       "    <tr>\n",
       "      <th>2</th>\n",
       "      <td>33</td>\n",
       "      <td>entrepreneur</td>\n",
       "      <td>married</td>\n",
       "      <td>secondary</td>\n",
       "      <td>no</td>\n",
       "      <td>2</td>\n",
       "      <td>yes</td>\n",
       "      <td>yes</td>\n",
       "      <td>unknown</td>\n",
       "      <td>5</td>\n",
       "      <td>may</td>\n",
       "      <td>1</td>\n",
       "      <td>-1</td>\n",
       "      <td>0</td>\n",
       "      <td>unknown</td>\n",
       "      <td>no</td>\n",
       "    </tr>\n",
       "    <tr>\n",
       "      <th>3</th>\n",
       "      <td>47</td>\n",
       "      <td>blue-collar</td>\n",
       "      <td>married</td>\n",
       "      <td>unknown</td>\n",
       "      <td>no</td>\n",
       "      <td>1506</td>\n",
       "      <td>yes</td>\n",
       "      <td>no</td>\n",
       "      <td>unknown</td>\n",
       "      <td>5</td>\n",
       "      <td>may</td>\n",
       "      <td>1</td>\n",
       "      <td>-1</td>\n",
       "      <td>0</td>\n",
       "      <td>unknown</td>\n",
       "      <td>no</td>\n",
       "    </tr>\n",
       "    <tr>\n",
       "      <th>4</th>\n",
       "      <td>33</td>\n",
       "      <td>unknown</td>\n",
       "      <td>single</td>\n",
       "      <td>unknown</td>\n",
       "      <td>no</td>\n",
       "      <td>1</td>\n",
       "      <td>no</td>\n",
       "      <td>no</td>\n",
       "      <td>unknown</td>\n",
       "      <td>5</td>\n",
       "      <td>may</td>\n",
       "      <td>1</td>\n",
       "      <td>-1</td>\n",
       "      <td>0</td>\n",
       "      <td>unknown</td>\n",
       "      <td>no</td>\n",
       "    </tr>\n",
       "  </tbody>\n",
       "</table>\n",
       "</div>"
      ],
      "text/plain": [
       "   age           job  marital  education default  balance housing loan  \\\n",
       "0   58    management  married   tertiary      no     2143     yes   no   \n",
       "1   44    technician   single  secondary      no       29     yes   no   \n",
       "2   33  entrepreneur  married  secondary      no        2     yes  yes   \n",
       "3   47   blue-collar  married    unknown      no     1506     yes   no   \n",
       "4   33       unknown   single    unknown      no        1      no   no   \n",
       "\n",
       "   contact  day month  campaign  pdays  previous poutcome   y  \n",
       "0  unknown    5   may         1     -1         0  unknown  no  \n",
       "1  unknown    5   may         1     -1         0  unknown  no  \n",
       "2  unknown    5   may         1     -1         0  unknown  no  \n",
       "3  unknown    5   may         1     -1         0  unknown  no  \n",
       "4  unknown    5   may         1     -1         0  unknown  no  "
      ]
     },
     "execution_count": 27,
     "metadata": {},
     "output_type": "execute_result"
    }
   ],
   "source": [
    "bank_data.drop(columns=['duration'], inplace=True)\n",
    "\n",
    "bank_data.head()"
   ]
  },
  {
   "cell_type": "markdown",
   "id": "4119a7a4",
   "metadata": {},
   "source": [
    "XGBoost only accepts numbers in the target - we need to convert our yes/no values to numeric representations"
   ]
  },
  {
   "cell_type": "code",
   "execution_count": 28,
   "id": "18725b36",
   "metadata": {
    "id": "18725b36"
   },
   "outputs": [
    {
     "data": {
      "text/html": [
       "<div>\n",
       "<style scoped>\n",
       "    .dataframe tbody tr th:only-of-type {\n",
       "        vertical-align: middle;\n",
       "    }\n",
       "\n",
       "    .dataframe tbody tr th {\n",
       "        vertical-align: top;\n",
       "    }\n",
       "\n",
       "    .dataframe thead th {\n",
       "        text-align: right;\n",
       "    }\n",
       "</style>\n",
       "<table border=\"1\" class=\"dataframe\">\n",
       "  <thead>\n",
       "    <tr style=\"text-align: right;\">\n",
       "      <th></th>\n",
       "      <th>age</th>\n",
       "      <th>job</th>\n",
       "      <th>marital</th>\n",
       "      <th>education</th>\n",
       "      <th>default</th>\n",
       "      <th>balance</th>\n",
       "      <th>housing</th>\n",
       "      <th>loan</th>\n",
       "      <th>contact</th>\n",
       "      <th>day</th>\n",
       "      <th>month</th>\n",
       "      <th>campaign</th>\n",
       "      <th>pdays</th>\n",
       "      <th>previous</th>\n",
       "      <th>poutcome</th>\n",
       "      <th>target</th>\n",
       "    </tr>\n",
       "  </thead>\n",
       "  <tbody>\n",
       "    <tr>\n",
       "      <th>9777</th>\n",
       "      <td>39</td>\n",
       "      <td>management</td>\n",
       "      <td>married</td>\n",
       "      <td>primary</td>\n",
       "      <td>no</td>\n",
       "      <td>1873</td>\n",
       "      <td>no</td>\n",
       "      <td>no</td>\n",
       "      <td>unknown</td>\n",
       "      <td>9</td>\n",
       "      <td>jun</td>\n",
       "      <td>2</td>\n",
       "      <td>-1</td>\n",
       "      <td>0</td>\n",
       "      <td>unknown</td>\n",
       "      <td>0</td>\n",
       "    </tr>\n",
       "    <tr>\n",
       "      <th>39006</th>\n",
       "      <td>32</td>\n",
       "      <td>technician</td>\n",
       "      <td>single</td>\n",
       "      <td>secondary</td>\n",
       "      <td>no</td>\n",
       "      <td>55</td>\n",
       "      <td>yes</td>\n",
       "      <td>no</td>\n",
       "      <td>cellular</td>\n",
       "      <td>18</td>\n",
       "      <td>may</td>\n",
       "      <td>1</td>\n",
       "      <td>-1</td>\n",
       "      <td>0</td>\n",
       "      <td>unknown</td>\n",
       "      <td>0</td>\n",
       "    </tr>\n",
       "    <tr>\n",
       "      <th>17239</th>\n",
       "      <td>48</td>\n",
       "      <td>technician</td>\n",
       "      <td>married</td>\n",
       "      <td>secondary</td>\n",
       "      <td>no</td>\n",
       "      <td>759</td>\n",
       "      <td>yes</td>\n",
       "      <td>no</td>\n",
       "      <td>cellular</td>\n",
       "      <td>28</td>\n",
       "      <td>jul</td>\n",
       "      <td>5</td>\n",
       "      <td>-1</td>\n",
       "      <td>0</td>\n",
       "      <td>unknown</td>\n",
       "      <td>0</td>\n",
       "    </tr>\n",
       "    <tr>\n",
       "      <th>34008</th>\n",
       "      <td>29</td>\n",
       "      <td>management</td>\n",
       "      <td>married</td>\n",
       "      <td>tertiary</td>\n",
       "      <td>no</td>\n",
       "      <td>125</td>\n",
       "      <td>no</td>\n",
       "      <td>no</td>\n",
       "      <td>cellular</td>\n",
       "      <td>30</td>\n",
       "      <td>apr</td>\n",
       "      <td>2</td>\n",
       "      <td>-1</td>\n",
       "      <td>0</td>\n",
       "      <td>unknown</td>\n",
       "      <td>0</td>\n",
       "    </tr>\n",
       "    <tr>\n",
       "      <th>5724</th>\n",
       "      <td>37</td>\n",
       "      <td>admin.</td>\n",
       "      <td>married</td>\n",
       "      <td>secondary</td>\n",
       "      <td>no</td>\n",
       "      <td>-255</td>\n",
       "      <td>yes</td>\n",
       "      <td>no</td>\n",
       "      <td>unknown</td>\n",
       "      <td>26</td>\n",
       "      <td>may</td>\n",
       "      <td>2</td>\n",
       "      <td>-1</td>\n",
       "      <td>0</td>\n",
       "      <td>unknown</td>\n",
       "      <td>0</td>\n",
       "    </tr>\n",
       "  </tbody>\n",
       "</table>\n",
       "</div>"
      ],
      "text/plain": [
       "       age         job  marital  education default  balance housing loan  \\\n",
       "9777    39  management  married    primary      no     1873      no   no   \n",
       "39006   32  technician   single  secondary      no       55     yes   no   \n",
       "17239   48  technician  married  secondary      no      759     yes   no   \n",
       "34008   29  management  married   tertiary      no      125      no   no   \n",
       "5724    37      admin.  married  secondary      no     -255     yes   no   \n",
       "\n",
       "        contact  day month  campaign  pdays  previous poutcome  target  \n",
       "9777    unknown    9   jun         2     -1         0  unknown       0  \n",
       "39006  cellular   18   may         1     -1         0  unknown       0  \n",
       "17239  cellular   28   jul         5     -1         0  unknown       0  \n",
       "34008  cellular   30   apr         2     -1         0  unknown       0  \n",
       "5724    unknown   26   may         2     -1         0  unknown       0  "
      ]
     },
     "execution_count": 28,
     "metadata": {},
     "output_type": "execute_result"
    }
   ],
   "source": [
    "bank_data['target'] = bank_data['y'].map({'no': 0, 'yes': 1})\n",
    "\n",
    "bank_data.drop(columns=['y'], inplace=True)\n",
    "\n",
    "bank_data.sample(5)"
   ]
  },
  {
   "cell_type": "markdown",
   "id": "6578ad22",
   "metadata": {},
   "source": [
    "Highly imbalanced dataset"
   ]
  },
  {
   "cell_type": "code",
   "execution_count": 29,
   "id": "250dc0fa",
   "metadata": {},
   "outputs": [
    {
     "data": {
      "image/png": "[encoded data removed]",
      "text/plain": [
       "<Figure size 640x480 with 1 Axes>"
      ]
     },
     "metadata": {},
     "output_type": "display_data"
    }
   ],
   "source": [
    "target_counts = bank_data['target'].value_counts()\n",
    "\n",
    "sns.barplot(x=target_counts.index, y=target_counts.values)\n",
    "plt.xlabel('Target')\n",
    "plt.ylabel('Count')\n",
    "plt.title('Distribution of Target Variable')\n",
    "plt.show()"
   ]
  },
  {
   "cell_type": "markdown",
   "id": "03945945",
   "metadata": {},
   "source": [
    "### Automatic encoding of categorical variables\n",
    "\n",
    "This is supported in recent versions of XGBoost - 1.3+ under certain conditions\n",
    "\n",
    "- You're using pandas DataFrames (not NumPy arrays).\n",
    "- The categorical columns are marked with pandas category dtype.\n",
    "- You're using tree-based boosters \n",
    "- You use tree_method='hist' or tree_method='gpu_hist'"
   ]
  },
  {
   "cell_type": "code",
   "execution_count": 31,
   "id": "3d32dea5",
   "metadata": {},
   "outputs": [
    {
     "name": "stdout",
     "output_type": "stream",
     "text": [
      "<class 'pandas.core.frame.DataFrame'>\n",
      "RangeIndex: 45211 entries, 0 to 45210\n",
      "Data columns (total 16 columns):\n",
      " #   Column     Non-Null Count  Dtype \n",
      "---  ------     --------------  ----- \n",
      " 0   age        45211 non-null  int64 \n",
      " 1   job        45211 non-null  object\n",
      " 2   marital    45211 non-null  object\n",
      " 3   education  45211 non-null  object\n",
      " 4   default    45211 non-null  object\n",
      " 5   balance    45211 non-null  int64 \n",
      " 6   housing    45211 non-null  object\n",
      " 7   loan       45211 non-null  object\n",
      " 8   contact    45211 non-null  object\n",
      " 9   day        45211 non-null  int64 \n",
      " 10  month      45211 non-null  object\n",
      " 11  campaign   45211 non-null  int64 \n",
      " 12  pdays      45211 non-null  int64 \n",
      " 13  previous   45211 non-null  int64 \n",
      " 14  poutcome   45211 non-null  object\n",
      " 15  target     45211 non-null  int64 \n",
      "dtypes: int64(7), object(9)\n",
      "memory usage: 5.5+ MB\n"
     ]
    }
   ],
   "source": [
    "bank_data.info()"
   ]
  },
  {
   "cell_type": "code",
   "execution_count": 30,
   "id": "034f1e81",
   "metadata": {},
   "outputs": [
    {
     "data": {
      "text/plain": [
       "['job',\n",
       " 'marital',\n",
       " 'education',\n",
       " 'default',\n",
       " 'housing',\n",
       " 'loan',\n",
       " 'contact',\n",
       " 'month',\n",
       " 'poutcome']"
      ]
     },
     "execution_count": 30,
     "metadata": {},
     "output_type": "execute_result"
    }
   ],
   "source": [
    "categorical_variables = bank_data.select_dtypes(exclude=np.number).columns.tolist()\n",
    "\n",
    "categorical_variables"
   ]
  },
  {
   "cell_type": "code",
   "execution_count": 32,
   "id": "9bf19e80",
   "metadata": {},
   "outputs": [
    {
     "name": "stdout",
     "output_type": "stream",
     "text": [
      "<class 'pandas.core.frame.DataFrame'>\n",
      "RangeIndex: 45211 entries, 0 to 45210\n",
      "Data columns (total 16 columns):\n",
      " #   Column     Non-Null Count  Dtype   \n",
      "---  ------     --------------  -----   \n",
      " 0   age        45211 non-null  int64   \n",
      " 1   job        45211 non-null  category\n",
      " 2   marital    45211 non-null  category\n",
      " 3   education  45211 non-null  category\n",
      " 4   default    45211 non-null  category\n",
      " 5   balance    45211 non-null  int64   \n",
      " 6   housing    45211 non-null  category\n",
      " 7   loan       45211 non-null  category\n",
      " 8   contact    45211 non-null  category\n",
      " 9   day        45211 non-null  int64   \n",
      " 10  month      45211 non-null  category\n",
      " 11  campaign   45211 non-null  int64   \n",
      " 12  pdays      45211 non-null  int64   \n",
      " 13  previous   45211 non-null  int64   \n",
      " 14  poutcome   45211 non-null  category\n",
      " 15  target     45211 non-null  int64   \n",
      "dtypes: category(9), int64(7)\n",
      "memory usage: 2.8 MB\n"
     ]
    }
   ],
   "source": [
    "for col in categorical_variables:\n",
    "    bank_data[col] = bank_data[col].astype('category')\n",
    "\n",
    "bank_data.info()"
   ]
  },
  {
   "cell_type": "code",
   "execution_count": 34,
   "id": "9d4ddb39-81ca-42ce-8a35-80322bbece40",
   "metadata": {
    "colab": {
     "base_uri": "https://localhost:8080/"
    },
    "id": "9d4ddb39-81ca-42ce-8a35-80322bbece40",
    "outputId": "b220e63c-60bf-442c-b3fe-d1723a8b719e"
   },
   "outputs": [
    {
     "data": {
      "text/plain": [
       "((31647, 15), (13564, 15))"
      ]
     },
     "execution_count": 34,
     "metadata": {},
     "output_type": "execute_result"
    }
   ],
   "source": [
    "X = bank_data.drop('target', axis=1)\n",
    "\n",
    "y = bank_data['target']\n",
    "\n",
    "X_train, X_test, y_train, y_test = train_test_split(\n",
    "    X, y, test_size=0.30, random_state=42, stratify=y)\n",
    "\n",
    "X_train.shape, X_test.shape"
   ]
  },
  {
   "cell_type": "markdown",
   "id": "92716264",
   "metadata": {
    "id": "92716264"
   },
   "source": [
    "## Create and Train XGBoost Model"
   ]
  },
  {
   "cell_type": "code",
   "execution_count": 53,
   "id": "55cfbf04",
   "metadata": {
    "colab": {
     "base_uri": "https://localhost:8080/"
    },
    "id": "55cfbf04",
    "outputId": "185280a1-921a-423c-a809-c5f96cc82fe6"
   },
   "outputs": [
    {
     "name": "stdout",
     "output_type": "stream",
     "text": [
      "XGBoost model trained successfully.\n"
     ]
    }
   ],
   "source": [
    "xgb_clf = xgb.XGBClassifier(\n",
    "    booster = 'gbtree',\n",
    "    n_estimators = 300,\n",
    "    enable_categorical=True, \n",
    "    objective='binary:logistic', \n",
    "    tree_method='hist',\n",
    "    eval_metric='auc',\n",
    "    random_state=42\n",
    ")\n",
    "\n",
    "xgb_clf.fit(X_train, y_train)\n",
    "\n",
    "print(\"XGBoost model trained successfully.\")"
   ]
  },
  {
   "cell_type": "markdown",
   "id": "e6c4b7f9",
   "metadata": {
    "id": "e6c4b7f9"
   },
   "source": [
    "## Evaluate the Model Output\n",
    "\n",
    "We generate predictions on the test set and evaluate the model using the following metrics:\n",
    "- **Accuracy**\n",
    "- **Precision**\n",
    "- **Recall**\n",
    "- **F1 Score**"
   ]
  },
  {
   "cell_type": "code",
   "execution_count": 54,
   "id": "9541f031",
   "metadata": {
    "colab": {
     "base_uri": "https://localhost:8080/"
    },
    "id": "9541f031",
    "outputId": "f5e793ac-19e9-485c-badc-e15c787df415"
   },
   "outputs": [
    {
     "name": "stdout",
     "output_type": "stream",
     "text": [
      "Evaluation Metrics:\n",
      "Accuracy: 0.8904\n",
      "Precision: 0.5637\n",
      "Recall: 0.2817\n",
      "F1 Score: 0.3756\n"
     ]
    }
   ],
   "source": [
    "y_pred = xgb_clf.predict(X_test)\n",
    "\n",
    "accuracy = accuracy_score(y_test, y_pred)\n",
    "precision = precision_score(y_test, y_pred)\n",
    "recall = recall_score(y_test, y_pred)\n",
    "f1 = f1_score(y_test, y_pred)\n",
    "\n",
    "print(\"Evaluation Metrics:\")\n",
    "print(\"Accuracy:\", round(accuracy, 4))\n",
    "print(\"Precision:\", round(precision, 4))\n",
    "print(\"Recall:\", round(recall, 4))\n",
    "print(\"F1 Score:\", round(f1, 4))"
   ]
  },
  {
   "cell_type": "code",
   "execution_count": 60,
   "id": "abfc2c28",
   "metadata": {},
   "outputs": [
    {
     "data": {
      "text/plain": [
       "7.548622366288493"
      ]
     },
     "execution_count": 60,
     "metadata": {},
     "output_type": "execute_result"
    }
   ],
   "source": [
    "from collections import Counter\n",
    "counts = Counter(y_train)\n",
    "scale = counts[0] / counts[1]\n",
    "\n",
    "scale"
   ]
  },
  {
   "cell_type": "code",
   "execution_count": 61,
   "id": "3758f8c8",
   "metadata": {},
   "outputs": [
    {
     "name": "stdout",
     "output_type": "stream",
     "text": [
      "XGBoost model trained successfully.\n"
     ]
    }
   ],
   "source": [
    "xgb_clf = xgb.XGBClassifier(\n",
    "    booster = 'gbtree',\n",
    "    n_estimators = 300,\n",
    "    enable_categorical=True, \n",
    "    objective='binary:logistic', \n",
    "    tree_method='hist',\n",
    "    eval_metric='auc',\n",
    "    scale_pos_weight=scale,\n",
    "    random_state=42\n",
    ")\n",
    "\n",
    "xgb_clf.fit(X_train, y_train)\n",
    "\n",
    "print(\"XGBoost model trained successfully.\")"
   ]
  },
  {
   "cell_type": "code",
   "execution_count": 62,
   "id": "684b7c2a",
   "metadata": {},
   "outputs": [
    {
     "name": "stdout",
     "output_type": "stream",
     "text": [
      "Evaluation Metrics:\n",
      "Accuracy: 0.8538\n",
      "Precision: 0.3898\n",
      "Recall: 0.4411\n",
      "F1 Score: 0.4138\n"
     ]
    }
   ],
   "source": [
    "y_pred = xgb_clf.predict(X_test)\n",
    "\n",
    "accuracy = accuracy_score(y_test, y_pred)\n",
    "precision = precision_score(y_test, y_pred)\n",
    "recall = recall_score(y_test, y_pred)\n",
    "f1 = f1_score(y_test, y_pred)\n",
    "\n",
    "print(\"Evaluation Metrics:\")\n",
    "print(\"Accuracy:\", round(accuracy, 4))\n",
    "print(\"Precision:\", round(precision, 4))\n",
    "print(\"Recall:\", round(recall, 4))\n",
    "print(\"F1 Score:\", round(f1, 4))"
   ]
  },
  {
   "cell_type": "markdown",
   "id": "a113bb32",
   "metadata": {
    "id": "a113bb32"
   },
   "source": [
    "## Show Feature Importance Scores\n",
    "\n",
    "We extract and visualize the feature importance scores provided by XGBoost to understand which features contribute most to the model.."
   ]
  },
  {
   "cell_type": "code",
   "execution_count": 63,
   "id": "f1256c28",
   "metadata": {
    "colab": {
     "base_uri": "https://localhost:8080/"
    },
    "id": "f1256c28",
    "outputId": "9ed193fd-c6fe-4d50-d75a-1c8b1aff218c",
    "scrolled": false
   },
   "outputs": [
    {
     "data": {
      "text/html": [
       "<div>\n",
       "<style scoped>\n",
       "    .dataframe tbody tr th:only-of-type {\n",
       "        vertical-align: middle;\n",
       "    }\n",
       "\n",
       "    .dataframe tbody tr th {\n",
       "        vertical-align: top;\n",
       "    }\n",
       "\n",
       "    .dataframe thead th {\n",
       "        text-align: right;\n",
       "    }\n",
       "</style>\n",
       "<table border=\"1\" class=\"dataframe\">\n",
       "  <thead>\n",
       "    <tr style=\"text-align: right;\">\n",
       "      <th></th>\n",
       "      <th>Feature</th>\n",
       "      <th>Importance</th>\n",
       "    </tr>\n",
       "  </thead>\n",
       "  <tbody>\n",
       "    <tr>\n",
       "      <th>14</th>\n",
       "      <td>poutcome</td>\n",
       "      <td>0.261771</td>\n",
       "    </tr>\n",
       "    <tr>\n",
       "      <th>8</th>\n",
       "      <td>contact</td>\n",
       "      <td>0.116258</td>\n",
       "    </tr>\n",
       "    <tr>\n",
       "      <th>6</th>\n",
       "      <td>housing</td>\n",
       "      <td>0.094421</td>\n",
       "    </tr>\n",
       "    <tr>\n",
       "      <th>10</th>\n",
       "      <td>month</td>\n",
       "      <td>0.084538</td>\n",
       "    </tr>\n",
       "    <tr>\n",
       "      <th>7</th>\n",
       "      <td>loan</td>\n",
       "      <td>0.050513</td>\n",
       "    </tr>\n",
       "    <tr>\n",
       "      <th>1</th>\n",
       "      <td>job</td>\n",
       "      <td>0.050151</td>\n",
       "    </tr>\n",
       "    <tr>\n",
       "      <th>2</th>\n",
       "      <td>marital</td>\n",
       "      <td>0.046065</td>\n",
       "    </tr>\n",
       "    <tr>\n",
       "      <th>9</th>\n",
       "      <td>day</td>\n",
       "      <td>0.044955</td>\n",
       "    </tr>\n",
       "    <tr>\n",
       "      <th>0</th>\n",
       "      <td>age</td>\n",
       "      <td>0.039353</td>\n",
       "    </tr>\n",
       "    <tr>\n",
       "      <th>4</th>\n",
       "      <td>default</td>\n",
       "      <td>0.037820</td>\n",
       "    </tr>\n",
       "    <tr>\n",
       "      <th>5</th>\n",
       "      <td>balance</td>\n",
       "      <td>0.037785</td>\n",
       "    </tr>\n",
       "    <tr>\n",
       "      <th>11</th>\n",
       "      <td>campaign</td>\n",
       "      <td>0.037632</td>\n",
       "    </tr>\n",
       "    <tr>\n",
       "      <th>12</th>\n",
       "      <td>pdays</td>\n",
       "      <td>0.035595</td>\n",
       "    </tr>\n",
       "    <tr>\n",
       "      <th>3</th>\n",
       "      <td>education</td>\n",
       "      <td>0.034353</td>\n",
       "    </tr>\n",
       "    <tr>\n",
       "      <th>13</th>\n",
       "      <td>previous</td>\n",
       "      <td>0.028790</td>\n",
       "    </tr>\n",
       "  </tbody>\n",
       "</table>\n",
       "</div>"
      ],
      "text/plain": [
       "      Feature  Importance\n",
       "14   poutcome    0.261771\n",
       "8     contact    0.116258\n",
       "6     housing    0.094421\n",
       "10      month    0.084538\n",
       "7        loan    0.050513\n",
       "1         job    0.050151\n",
       "2     marital    0.046065\n",
       "9         day    0.044955\n",
       "0         age    0.039353\n",
       "4     default    0.037820\n",
       "5     balance    0.037785\n",
       "11   campaign    0.037632\n",
       "12      pdays    0.035595\n",
       "3   education    0.034353\n",
       "13   previous    0.028790"
      ]
     },
     "execution_count": 63,
     "metadata": {},
     "output_type": "execute_result"
    }
   ],
   "source": [
    "importances = xgb_clf.feature_importances_\n",
    "features = X.columns\n",
    "\n",
    "feature_importance_df = pd.DataFrame({\n",
    "    'Feature': features, 'Importance': importances\n",
    "}).sort_values(by='Importance', ascending=False)\n",
    "\n",
    "feature_importance_df"
   ]
  },
  {
   "cell_type": "code",
   "execution_count": 72,
   "id": "d120ce93",
   "metadata": {
    "colab": {
     "base_uri": "https://localhost:8080/",
     "height": 718
    },
    "id": "d120ce93",
    "outputId": "b9b984c5-c5e9-49c5-f9f1-e18d371098bf"
   },
   "outputs": [
    {
     "data": {
      "image/png": "[encoded data removed]",
      "text/plain": [
       "<Figure size 800x600 with 1 Axes>"
      ]
     },
     "metadata": {},
     "output_type": "display_data"
    }
   ],
   "source": [
    "plt.figure(figsize=(8, 6))\n",
    "\n",
    "plt.barh(feature_importance_df['Feature'], feature_importance_df['Importance'])\n",
    "plt.xlabel(\"Importance Score\")\n",
    "plt.title(\"Feature Importance\")\n",
    "\n",
    "# highest importance on top\n",
    "plt.gca().invert_yaxis()  \n",
    "plt.show()"
   ]
  },
  {
   "cell_type": "markdown",
   "id": "789c9dbe",
   "metadata": {
    "id": "789c9dbe"
   },
   "source": [
    "## Try Different Regularization Parameters\n",
    "\n",
    "We explore the effect of different regularization parameters on model performance. Here, we experiment with:\n",
    "- **gamma:** Minimum loss reduction required to make a split\n",
    "- **reg_lambda:** L2 regularization term\n",
    "- **reg_alpha:** L1 regularization term\n",
    "\n",
    "Several models with varying parameters are trained and their performance metrics are compared."
   ]
  },
  {
   "cell_type": "code",
   "execution_count": 65,
   "id": "8763565a",
   "metadata": {
    "colab": {
     "base_uri": "https://localhost:8080/",
     "height": 380
    },
    "id": "8763565a",
    "outputId": "521541e2-ae1d-41b3-f639-d8ad43cc01da"
   },
   "outputs": [],
   "source": [
    "def train_evaluate_model(params):\n",
    "    model = xgb.XGBClassifier(\n",
    "        booster = 'gbtree',\n",
    "        n_estimators = 300,\n",
    "        enable_categorical=True, \n",
    "        objective='binary:logistic', \n",
    "        tree_method='hist',\n",
    "        eval_metric='auc',\n",
    "        scale_pos_weight=scale,\n",
    "        random_state=42,\n",
    "        **params\n",
    "    )\n",
    "\n",
    "    model.fit(X_train, y_train)\n",
    "    preds = model.predict(X_test)\n",
    "    acc = accuracy_score(y_test, preds)\n",
    "    prec = precision_score(y_test, preds)\n",
    "    rec = recall_score(y_test, preds)\n",
    "    f1s = f1_score(y_test, preds)\n",
    "    \n",
    "    return acc, prec, rec, f1s"
   ]
  },
  {
   "cell_type": "markdown",
   "id": "3d65993e",
   "metadata": {},
   "source": [
    "Note that with very strong regularization we are able to improve the recall of the model"
   ]
  },
  {
   "cell_type": "code",
   "execution_count": 66,
   "id": "b246e797",
   "metadata": {},
   "outputs": [
    {
     "name": "stdout",
     "output_type": "stream",
     "text": [
      "Regularization Parameter Experiment Results:\n"
     ]
    },
    {
     "data": {
      "text/html": [
       "<div>\n",
       "<style scoped>\n",
       "    .dataframe tbody tr th:only-of-type {\n",
       "        vertical-align: middle;\n",
       "    }\n",
       "\n",
       "    .dataframe tbody tr th {\n",
       "        vertical-align: top;\n",
       "    }\n",
       "\n",
       "    .dataframe thead th {\n",
       "        text-align: right;\n",
       "    }\n",
       "</style>\n",
       "<table border=\"1\" class=\"dataframe\">\n",
       "  <thead>\n",
       "    <tr style=\"text-align: right;\">\n",
       "      <th></th>\n",
       "      <th>Parameters</th>\n",
       "      <th>Accuracy</th>\n",
       "      <th>Precision</th>\n",
       "      <th>Recall</th>\n",
       "      <th>F1_Score</th>\n",
       "    </tr>\n",
       "  </thead>\n",
       "  <tbody>\n",
       "    <tr>\n",
       "      <th>0</th>\n",
       "      <td>{'gamma': 0, 'reg_lambda': 1, 'reg_alpha': 0}</td>\n",
       "      <td>0.853804</td>\n",
       "      <td>0.389755</td>\n",
       "      <td>0.441084</td>\n",
       "      <td>0.413834</td>\n",
       "    </tr>\n",
       "    <tr>\n",
       "      <th>1</th>\n",
       "      <td>{'gamma': 0.1, 'reg_lambda': 2, 'reg_alpha': 1}</td>\n",
       "      <td>0.853141</td>\n",
       "      <td>0.391537</td>\n",
       "      <td>0.460618</td>\n",
       "      <td>0.423277</td>\n",
       "    </tr>\n",
       "    <tr>\n",
       "      <th>2</th>\n",
       "      <td>{'gamma': 0.3, 'reg_lambda': 2, 'reg_alpha': 0.5}</td>\n",
       "      <td>0.839354</td>\n",
       "      <td>0.370289</td>\n",
       "      <td>0.532451</td>\n",
       "      <td>0.436805</td>\n",
       "    </tr>\n",
       "  </tbody>\n",
       "</table>\n",
       "</div>"
      ],
      "text/plain": [
       "                                          Parameters  Accuracy  Precision  \\\n",
       "0      {'gamma': 0, 'reg_lambda': 1, 'reg_alpha': 0}  0.853804   0.389755   \n",
       "1    {'gamma': 0.1, 'reg_lambda': 2, 'reg_alpha': 1}  0.853141   0.391537   \n",
       "2  {'gamma': 0.3, 'reg_lambda': 2, 'reg_alpha': 0.5}  0.839354   0.370289   \n",
       "\n",
       "     Recall  F1_Score  \n",
       "0  0.441084  0.413834  \n",
       "1  0.460618  0.423277  \n",
       "2  0.532451  0.436805  "
      ]
     },
     "execution_count": 66,
     "metadata": {},
     "output_type": "execute_result"
    }
   ],
   "source": [
    "params_list = [\n",
    "    # Baseline (very low regularization)\n",
    "    {\"gamma\": 0, \"reg_lambda\": 1, \"reg_alpha\": 0},\n",
    "\n",
    "    # Regularization via L1 and L2\n",
    "    {\"gamma\": 0.1, \"reg_lambda\": 2, \"reg_alpha\": 1},\n",
    "\n",
    "    # Balanced L1/L2 with moderate gamma\n",
    "    {\"gamma\": 0.3, \"reg_lambda\": 2, \"reg_alpha\": 0.5}\n",
    "]\n",
    "\n",
    "results = []\n",
    "\n",
    "for params in params_list:\n",
    "    acc, prec, rec, f1s = train_evaluate_model(params)\n",
    "    results.append({\"Parameters\": params, \"Accuracy\": acc, \"Precision\": prec, \"Recall\": rec, \"F1_Score\": f1s})\n",
    "\n",
    "results_df = pd.DataFrame(results)\n",
    "\n",
    "print(\"Regularization Parameter Experiment Results:\")\n",
    "results_df"
   ]
  },
  {
   "cell_type": "markdown",
   "id": "179bf486",
   "metadata": {
    "id": "179bf486"
   },
   "source": [
    "## Implement Early Stopping\n",
    "\n",
    "Early stopping helps prevent overfitting by stopping training when performance on a validation set stops improving. A portion of the training data is set aside for validation, and `early_stopping_rounds` is used during training.\n"
   ]
  },
  {
   "cell_type": "code",
   "execution_count": 67,
   "id": "d3b97748",
   "metadata": {},
   "outputs": [
    {
     "data": {
      "text/plain": [
       "((25317, 15), (6330, 15), (13564, 15))"
      ]
     },
     "execution_count": 67,
     "metadata": {},
     "output_type": "execute_result"
    }
   ],
   "source": [
    "X_train_es, X_val, y_train_es, y_val = train_test_split(\n",
    "    X_train, y_train, test_size=0.2, random_state=42, stratify=y_train)\n",
    "\n",
    "X_train_es.shape, X_val.shape, X_test.shape"
   ]
  },
  {
   "cell_type": "code",
   "execution_count": 69,
   "id": "562c0ef9",
   "metadata": {},
   "outputs": [],
   "source": [
    "dtrain = xgb.DMatrix(X_train_es, label=y_train_es, enable_categorical=True)\n",
    "dval = xgb.DMatrix(X_val, label=y_val, enable_categorical=True)\n",
    "dtest = xgb.DMatrix(X_test, label=y_test, enable_categorical=True)"
   ]
  },
  {
   "cell_type": "code",
   "execution_count": 70,
   "id": "a9303935",
   "metadata": {
    "colab": {
     "base_uri": "https://localhost:8080/"
    },
    "id": "a9303935",
    "outputId": "1a86967f-2d84-496a-87fa-8c8a6a12bc65",
    "scrolled": true
   },
   "outputs": [
    {
     "name": "stdout",
     "output_type": "stream",
     "text": [
      "[0]\tvalidation-auc:0.75216\n",
      "[1]\tvalidation-auc:0.76933\n",
      "[2]\tvalidation-auc:0.77730\n",
      "[3]\tvalidation-auc:0.78746\n",
      "[4]\tvalidation-auc:0.78597\n",
      "[5]\tvalidation-auc:0.78864\n",
      "[6]\tvalidation-auc:0.78843\n",
      "[7]\tvalidation-auc:0.78542\n",
      "[8]\tvalidation-auc:0.78698\n",
      "[9]\tvalidation-auc:0.79032\n",
      "[10]\tvalidation-auc:0.78825\n",
      "[11]\tvalidation-auc:0.78734\n",
      "[12]\tvalidation-auc:0.78376\n",
      "[13]\tvalidation-auc:0.78311\n",
      "[14]\tvalidation-auc:0.78471\n",
      "[15]\tvalidation-auc:0.78354\n",
      "[16]\tvalidation-auc:0.78269\n",
      "[17]\tvalidation-auc:0.78272\n",
      "[18]\tvalidation-auc:0.78226\n",
      "[19]\tvalidation-auc:0.78348\n"
     ]
    }
   ],
   "source": [
    "params = {\n",
    "    'booster': 'gbtree',\n",
    "    'objective': 'binary:logistic',\n",
    "    'eval_metric': 'auc',\n",
    "    'tree_method': 'hist',\n",
    "    'scale_pos_weight': scale,\n",
    "    'random_state': 42\n",
    "}\n",
    "\n",
    "model = xgb.train(\n",
    "    params,\n",
    "    dtrain,\n",
    "    num_boost_round=1000,  # Set a large number of rounds\n",
    "    evals=[(dval, 'validation')],\n",
    "    early_stopping_rounds=10,\n",
    "    verbose_eval=True\n",
    ")"
   ]
  },
  {
   "cell_type": "code",
   "execution_count": 74,
   "id": "aa25a485",
   "metadata": {},
   "outputs": [
    {
     "name": "stdout",
     "output_type": "stream",
     "text": [
      "Accuracy: 0.8219\n",
      "Precision: 0.3506\n",
      "Recall: 0.6131\n",
      "F1 Score: 0.4461\n"
     ]
    }
   ],
   "source": [
    "y_pred_es = model.predict(dtest)\n",
    "y_pred_es = [round(value) for value in y_pred_es]  \n",
    "\n",
    "print(\"Accuracy:\", round(accuracy_score(y_test, y_pred_es), 4))\n",
    "print(\"Precision:\", round(precision_score(y_test, y_pred_es), 4))\n",
    "print(\"Recall:\", round(recall_score(y_test, y_pred_es), 4))\n",
    "print(\"F1 Score:\", round(f1_score(y_test, y_pred_es), 4))"
   ]
  },
  {
   "cell_type": "markdown",
   "id": "VRwnlQZhBgvh",
   "metadata": {
    "id": "VRwnlQZhBgvh"
   },
   "source": [
    "## Implement Cross-validation\n",
    "\n",
    "Cross-validation is a technique used to assess how well a machine learning model generalizes to unseen data by splitting the training data into multiple subsets (folds). The model is trained on some folds and validated on the remaining fold(s), rotating through all combinations to get a more reliable estimate of performance."
   ]
  },
  {
   "cell_type": "markdown",
   "id": "3e440d4d",
   "metadata": {},
   "source": [
    "Note we use the entire training data (we do not have a separate validation set)"
   ]
  },
  {
   "cell_type": "code",
   "execution_count": 75,
   "id": "f7305baf",
   "metadata": {},
   "outputs": [],
   "source": [
    "dtrain = xgb.DMatrix(X_train, label=y_train, enable_categorical=True)\n",
    "dtest = xgb.DMatrix(X_test, label=y_test, enable_categorical=True)"
   ]
  },
  {
   "cell_type": "code",
   "execution_count": 76,
   "id": "fd5c1c1e-134a-42df-a684-e13670cc5a76",
   "metadata": {
    "id": "fd5c1c1e-134a-42df-a684-e13670cc5a76"
   },
   "outputs": [
    {
     "data": {
      "text/html": [
       "<div>\n",
       "<style scoped>\n",
       "    .dataframe tbody tr th:only-of-type {\n",
       "        vertical-align: middle;\n",
       "    }\n",
       "\n",
       "    .dataframe tbody tr th {\n",
       "        vertical-align: top;\n",
       "    }\n",
       "\n",
       "    .dataframe thead th {\n",
       "        text-align: right;\n",
       "    }\n",
       "</style>\n",
       "<table border=\"1\" class=\"dataframe\">\n",
       "  <thead>\n",
       "    <tr style=\"text-align: right;\">\n",
       "      <th></th>\n",
       "      <th>train-auc-mean</th>\n",
       "      <th>train-auc-std</th>\n",
       "      <th>test-auc-mean</th>\n",
       "      <th>test-auc-std</th>\n",
       "    </tr>\n",
       "  </thead>\n",
       "  <tbody>\n",
       "    <tr>\n",
       "      <th>0</th>\n",
       "      <td>0.772374</td>\n",
       "      <td>0.002845</td>\n",
       "      <td>0.748937</td>\n",
       "      <td>0.009550</td>\n",
       "    </tr>\n",
       "    <tr>\n",
       "      <th>1</th>\n",
       "      <td>0.789500</td>\n",
       "      <td>0.002613</td>\n",
       "      <td>0.764666</td>\n",
       "      <td>0.011221</td>\n",
       "    </tr>\n",
       "    <tr>\n",
       "      <th>2</th>\n",
       "      <td>0.801197</td>\n",
       "      <td>0.002813</td>\n",
       "      <td>0.777304</td>\n",
       "      <td>0.011722</td>\n",
       "    </tr>\n",
       "    <tr>\n",
       "      <th>3</th>\n",
       "      <td>0.809052</td>\n",
       "      <td>0.002907</td>\n",
       "      <td>0.783197</td>\n",
       "      <td>0.011822</td>\n",
       "    </tr>\n",
       "    <tr>\n",
       "      <th>4</th>\n",
       "      <td>0.815132</td>\n",
       "      <td>0.002268</td>\n",
       "      <td>0.786704</td>\n",
       "      <td>0.010074</td>\n",
       "    </tr>\n",
       "  </tbody>\n",
       "</table>\n",
       "</div>"
      ],
      "text/plain": [
       "   train-auc-mean  train-auc-std  test-auc-mean  test-auc-std\n",
       "0        0.772374       0.002845       0.748937      0.009550\n",
       "1        0.789500       0.002613       0.764666      0.011221\n",
       "2        0.801197       0.002813       0.777304      0.011722\n",
       "3        0.809052       0.002907       0.783197      0.011822\n",
       "4        0.815132       0.002268       0.786704      0.010074"
      ]
     },
     "execution_count": 76,
     "metadata": {},
     "output_type": "execute_result"
    }
   ],
   "source": [
    "params = {\n",
    "    'booster': 'gbtree',\n",
    "    'objective': 'binary:logistic',\n",
    "    'eval_metric': 'auc',\n",
    "    'tree_method': 'hist',\n",
    "    'scale_pos_weight': scale,\n",
    "    'random_state': 42\n",
    "}\n",
    "\n",
    "results = xgb.cv(\n",
    "    params,\n",
    "    dtrain,\n",
    "    nfold=5,\n",
    "    num_boost_round=30\n",
    ")\n",
    "\n",
    "results.head()"
   ]
  },
  {
   "cell_type": "code",
   "execution_count": null,
   "id": "4c99b3cd",
   "metadata": {},
   "outputs": [],
   "source": []
  }
 ],
 "metadata": {
  "colab": {
   "provenance": []
  },
  "kernelspec": {
   "display_name": "Python 3 (ipykernel)",
   "language": "python",
   "name": "python3"
  },
  "language_info": {
   "codemirror_mode": {
    "name": "ipython",
    "version": 3
   },
   "file_extension": ".py",
   "mimetype": "text/x-python",
   "name": "python",
   "nbconvert_exporter": "python",
   "pygments_lexer": "ipython3",
   "version": "3.10.9"
  }
 },
 "nbformat": 4,
 "nbformat_minor": 5
}
