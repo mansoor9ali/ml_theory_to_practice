{
 "cells": [
  {
   "cell_type": "code",
   "execution_count": 1,
   "id": "66dec866",
   "metadata": {},
   "outputs": [],
   "source": [
    "# Author: Roi Yehoshua <roiyeho@gmail.com>\n",
    "# License: MIT\n",
    "\n",
    "import numpy as np\n",
    "import matplotlib.pyplot as plt\n",
    "import pandas as pd\n",
    "\n",
    "np.random.seed(0)"
   ]
  },
  {
   "cell_type": "code",
   "execution_count": 2,
   "id": "d6241e31",
   "metadata": {},
   "outputs": [
    {
     "data": {
      "text/html": [
       "<div>\n",
       "<style scoped>\n",
       "    .dataframe tbody tr th:only-of-type {\n",
       "        vertical-align: middle;\n",
       "    }\n",
       "\n",
       "    .dataframe tbody tr th {\n",
       "        vertical-align: top;\n",
       "    }\n",
       "\n",
       "    .dataframe thead th {\n",
       "        text-align: right;\n",
       "    }\n",
       "</style>\n",
       "<table border=\"1\" class=\"dataframe\">\n",
       "  <thead>\n",
       "    <tr style=\"text-align: right;\">\n",
       "      <th></th>\n",
       "      <th>Airline</th>\n",
       "      <th>Flight</th>\n",
       "      <th>AirportFrom</th>\n",
       "      <th>AirportTo</th>\n",
       "      <th>DayOfWeek</th>\n",
       "      <th>Time</th>\n",
       "      <th>Length</th>\n",
       "      <th>Delay</th>\n",
       "    </tr>\n",
       "    <tr>\n",
       "      <th>id</th>\n",
       "      <th></th>\n",
       "      <th></th>\n",
       "      <th></th>\n",
       "      <th></th>\n",
       "      <th></th>\n",
       "      <th></th>\n",
       "      <th></th>\n",
       "      <th></th>\n",
       "    </tr>\n",
       "  </thead>\n",
       "  <tbody>\n",
       "    <tr>\n",
       "      <th>1</th>\n",
       "      <td>CO</td>\n",
       "      <td>269</td>\n",
       "      <td>SFO</td>\n",
       "      <td>IAH</td>\n",
       "      <td>3</td>\n",
       "      <td>15</td>\n",
       "      <td>205</td>\n",
       "      <td>1</td>\n",
       "    </tr>\n",
       "    <tr>\n",
       "      <th>2</th>\n",
       "      <td>US</td>\n",
       "      <td>1558</td>\n",
       "      <td>PHX</td>\n",
       "      <td>CLT</td>\n",
       "      <td>3</td>\n",
       "      <td>15</td>\n",
       "      <td>222</td>\n",
       "      <td>1</td>\n",
       "    </tr>\n",
       "    <tr>\n",
       "      <th>3</th>\n",
       "      <td>AA</td>\n",
       "      <td>2400</td>\n",
       "      <td>LAX</td>\n",
       "      <td>DFW</td>\n",
       "      <td>3</td>\n",
       "      <td>20</td>\n",
       "      <td>165</td>\n",
       "      <td>1</td>\n",
       "    </tr>\n",
       "    <tr>\n",
       "      <th>4</th>\n",
       "      <td>AA</td>\n",
       "      <td>2466</td>\n",
       "      <td>SFO</td>\n",
       "      <td>DFW</td>\n",
       "      <td>3</td>\n",
       "      <td>20</td>\n",
       "      <td>195</td>\n",
       "      <td>1</td>\n",
       "    </tr>\n",
       "    <tr>\n",
       "      <th>5</th>\n",
       "      <td>AS</td>\n",
       "      <td>108</td>\n",
       "      <td>ANC</td>\n",
       "      <td>SEA</td>\n",
       "      <td>3</td>\n",
       "      <td>30</td>\n",
       "      <td>202</td>\n",
       "      <td>0</td>\n",
       "    </tr>\n",
       "  </tbody>\n",
       "</table>\n",
       "</div>"
      ],
      "text/plain": [
       "   Airline  Flight AirportFrom AirportTo  DayOfWeek  Time  Length  Delay\n",
       "id                                                                      \n",
       "1       CO     269         SFO       IAH          3    15     205      1\n",
       "2       US    1558         PHX       CLT          3    15     222      1\n",
       "3       AA    2400         LAX       DFW          3    20     165      1\n",
       "4       AA    2466         SFO       DFW          3    20     195      1\n",
       "5       AS     108         ANC       SEA          3    30     202      0"
      ]
     },
     "execution_count": 2,
     "metadata": {},
     "output_type": "execute_result"
    }
   ],
   "source": [
    "# data source: https://www.kaggle.com/datasets/jimschacko/airlines-dataset-to-predict-a-delay\n",
    "df = pd.read_csv('data/airlines.csv', index_col='id')  \n",
    "df.head()"
   ]
  },
  {
   "cell_type": "markdown",
   "id": "8df4888a",
   "metadata": {},
   "source": [
    "EDA"
   ]
  },
  {
   "cell_type": "code",
   "execution_count": 3,
   "id": "214c44bb",
   "metadata": {},
   "outputs": [
    {
     "name": "stdout",
     "output_type": "stream",
     "text": [
      "<class 'pandas.core.frame.DataFrame'>\n",
      "Int64Index: 539383 entries, 1 to 539383\n",
      "Data columns (total 8 columns):\n",
      " #   Column       Non-Null Count   Dtype \n",
      "---  ------       --------------   ----- \n",
      " 0   Airline      539383 non-null  object\n",
      " 1   Flight       539383 non-null  int64 \n",
      " 2   AirportFrom  539383 non-null  object\n",
      " 3   AirportTo    539383 non-null  object\n",
      " 4   DayOfWeek    539383 non-null  int64 \n",
      " 5   Time         539383 non-null  int64 \n",
      " 6   Length       539383 non-null  int64 \n",
      " 7   Delay        539383 non-null  int64 \n",
      "dtypes: int64(5), object(3)\n",
      "memory usage: 37.0+ MB\n"
     ]
    }
   ],
   "source": [
    "df.info()"
   ]
  },
  {
   "cell_type": "code",
   "execution_count": 4,
   "id": "01be56d9",
   "metadata": {},
   "outputs": [
    {
     "data": {
      "text/plain": [
       "0    299119\n",
       "1    240264\n",
       "Name: Delay, dtype: int64"
      ]
     },
     "execution_count": 4,
     "metadata": {},
     "output_type": "execute_result"
    }
   ],
   "source": [
    "df['Delay'].value_counts()"
   ]
  },
  {
   "cell_type": "markdown",
   "id": "0022d5ba",
   "metadata": {},
   "source": [
    "Data Preparation"
   ]
  },
  {
   "cell_type": "code",
   "execution_count": 5,
   "id": "8508473f",
   "metadata": {},
   "outputs": [],
   "source": [
    "X = df.drop(['Delay'], axis=1)\n",
    "y = df['Delay']"
   ]
  },
  {
   "cell_type": "code",
   "execution_count": 6,
   "id": "e03c96f0",
   "metadata": {},
   "outputs": [],
   "source": [
    "X['Airline'] = X['Airline'].astype('category')\n",
    "X['AirportFrom'] = X['AirportFrom'].astype('category')\n",
    "X['AirportTo'] = X['AirportTo'].astype('category')"
   ]
  },
  {
   "cell_type": "code",
   "execution_count": 7,
   "id": "9855e12a",
   "metadata": {},
   "outputs": [
    {
     "name": "stdout",
     "output_type": "stream",
     "text": [
      "<class 'pandas.core.frame.DataFrame'>\n",
      "Int64Index: 539383 entries, 1 to 539383\n",
      "Data columns (total 7 columns):\n",
      " #   Column       Non-Null Count   Dtype   \n",
      "---  ------       --------------   -----   \n",
      " 0   Airline      539383 non-null  category\n",
      " 1   Flight       539383 non-null  int64   \n",
      " 2   AirportFrom  539383 non-null  category\n",
      " 3   AirportTo    539383 non-null  category\n",
      " 4   DayOfWeek    539383 non-null  int64   \n",
      " 5   Time         539383 non-null  int64   \n",
      " 6   Length       539383 non-null  int64   \n",
      "dtypes: category(3), int64(4)\n",
      "memory usage: 23.2 MB\n"
     ]
    }
   ],
   "source": [
    "X.info()"
   ]
  },
  {
   "cell_type": "code",
   "execution_count": 9,
   "id": "e0e2d43f",
   "metadata": {},
   "outputs": [],
   "source": [
    "from sklearn.model_selection import train_test_split\n",
    "\n",
    "X_train, X_test, y_train, y_test = train_test_split(X, y, random_state=0)"
   ]
  },
  {
   "cell_type": "code",
   "execution_count": 18,
   "id": "03607f7c",
   "metadata": {},
   "outputs": [
    {
     "data": {
      "text/plain": [
       "XGBClassifier(base_score=None, booster=None, callbacks=None,\n",
       "              colsample_bylevel=None, colsample_bynode=None,\n",
       "              colsample_bytree=None, early_stopping_rounds=None,\n",
       "              enable_categorical=True, eval_metric=None, feature_types=None,\n",
       "              gamma=None, gpu_id=None, grow_policy=None, importance_type=None,\n",
       "              interaction_constraints=None, learning_rate=None, max_bin=None,\n",
       "              max_cat_threshold=None, max_cat_to_onehot=None,\n",
       "              max_delta_step=None, max_depth=None, max_leaves=None,\n",
       "              min_child_weight=None, missing=nan, monotone_constraints=None,\n",
       "              n_estimators=100, n_jobs=None, num_parallel_tree=None,\n",
       "              predictor=None, random_state=0, ...)"
      ]
     },
     "execution_count": 18,
     "metadata": {},
     "output_type": "execute_result"
    }
   ],
   "source": [
    "from xgboost import XGBClassifier\n",
    "\n",
    "xgb_clf = XGBClassifier(tree_method='gpu_hist', enable_categorical=True, random_state=0)\n",
    "xgb_clf.fit(X_train, y_train)"
   ]
  },
  {
   "cell_type": "code",
   "execution_count": 11,
   "id": "3a211b3f",
   "metadata": {},
   "outputs": [
    {
     "name": "stdout",
     "output_type": "stream",
     "text": [
      "Train accuracy: 0.7019\n",
      "Test accuracy: 0.6697\n"
     ]
    }
   ],
   "source": [
    "print(f'Train accuracy: {xgb_clf.score(X_train, y_train):.4f}')\n",
    "print(f'Test accuracy: {xgb_clf.score(X_test, y_test):.4f}')"
   ]
  },
  {
   "cell_type": "code",
   "execution_count": 12,
   "id": "2cae6819",
   "metadata": {},
   "outputs": [
    {
     "data": {
      "text/plain": [
       "ATL    34449\n",
       "ORD    24822\n",
       "DFW    22154\n",
       "DEN    19843\n",
       "LAX    16657\n",
       "       ...  \n",
       "MMH       16\n",
       "SJT       15\n",
       "GUM       10\n",
       "ADK        9\n",
       "ABR        2\n",
       "Name: AirportFrom, Length: 293, dtype: int64"
      ]
     },
     "execution_count": 12,
     "metadata": {},
     "output_type": "execute_result"
    }
   ],
   "source": [
    "X['AirportFrom'].value_counts()"
   ]
  },
  {
   "cell_type": "code",
   "execution_count": 13,
   "id": "24a0cd8c",
   "metadata": {},
   "outputs": [],
   "source": [
    "from sklearn.compose import make_column_selector, make_column_transformer\n",
    "from sklearn.preprocessing import OneHotEncoder\n",
    "from sklearn.pipeline import make_pipeline\n",
    "from sklearn.ensemble import HistGradientBoostingClassifier\n",
    "\n",
    "one_hot_encoder = make_column_transformer(\n",
    "    (\n",
    "        OneHotEncoder(sparse=False, handle_unknown='ignore'),\n",
    "        make_column_selector(dtype_include='category'),\n",
    "    ),\n",
    "    remainder='passthrough',\n",
    ")\n",
    "\n",
    "hist_gboost_clf = make_pipeline(\n",
    "    one_hot_encoder, HistGradientBoostingClassifier(random_state=0)\n",
    ")"
   ]
  },
  {
   "cell_type": "code",
   "execution_count": 14,
   "id": "5a6cfbaa",
   "metadata": {},
   "outputs": [
    {
     "data": {
      "text/plain": [
       "Pipeline(steps=[('columntransformer',\n",
       "                 ColumnTransformer(remainder='passthrough',\n",
       "                                   transformers=[('onehotencoder',\n",
       "                                                  OneHotEncoder(handle_unknown='ignore',\n",
       "                                                                sparse=False),\n",
       "                                                  <sklearn.compose._column_transformer.make_column_selector object at 0x000001C2D93B7760>)])),\n",
       "                ('histgradientboostingclassifier',\n",
       "                 HistGradientBoostingClassifier(random_state=0))])"
      ]
     },
     "execution_count": 14,
     "metadata": {},
     "output_type": "execute_result"
    }
   ],
   "source": [
    "hist_gboost_clf.fit(X_train, y_train)"
   ]
  },
  {
   "cell_type": "code",
   "execution_count": 75,
   "id": "bea6fa4d",
   "metadata": {},
   "outputs": [
    {
     "name": "stdout",
     "output_type": "stream",
     "text": [
      "Train accuracy: 0.6637\n",
      "Test accuracy: 0.6624\n"
     ]
    }
   ],
   "source": [
    "print(f'Train accuracy: {hist_gboost_clf.score(X_train, y_train):.4f}')\n",
    "print(f'Test accuracy: {hist_gboost_clf.score(X_test, y_test):.4f}')"
   ]
  },
  {
   "cell_type": "code",
   "execution_count": 76,
   "id": "94b1d55f",
   "metadata": {},
   "outputs": [
    {
     "data": {
      "text/plain": [
       "Pipeline(steps=[('columntransformer',\n",
       "                 ColumnTransformer(remainder='passthrough',\n",
       "                                   transformers=[('onehotencoder',\n",
       "                                                  OneHotEncoder(handle_unknown='ignore',\n",
       "                                                                sparse=False),\n",
       "                                                  <sklearn.compose._column_transformer.make_column_selector object at 0x000001D387DF0730>)])),\n",
       "                ('randomforestclassifier',\n",
       "                 RandomForestClassifier(random_state=0))])"
      ]
     },
     "execution_count": 76,
     "metadata": {},
     "output_type": "execute_result"
    }
   ],
   "source": [
    "from sklearn.ensemble import RandomForestClassifier\n",
    "\n",
    "rf_clf = make_pipeline(\n",
    "    one_hot_encoder, RandomForestClassifier(random_state=0, n_jobs=-1)\n",
    ")\n",
    "\n",
    "rf_clf.fit(X_train, y_train)"
   ]
  },
  {
   "cell_type": "code",
   "execution_count": 77,
   "id": "f1f74b62",
   "metadata": {},
   "outputs": [
    {
     "name": "stdout",
     "output_type": "stream",
     "text": [
      "Train accuracy: 0.8305\n",
      "Test accuracy: 0.6193\n"
     ]
    }
   ],
   "source": [
    "print(f'Train accuracy: {rf_clf.score(X_train, y_train):.4f}')\n",
    "print(f'Test accuracy: {rf_clf.score(X_test, y_test):.4f}')"
   ]
  },
  {
   "cell_type": "code",
   "execution_count": null,
   "id": "42de4f96",
   "metadata": {},
   "outputs": [],
   "source": []
  }
 ],
 "metadata": {
  "kernelspec": {
   "display_name": "Python 3 (ipykernel)",
   "language": "python",
   "name": "python3"
  },
  "language_info": {
   "codemirror_mode": {
    "name": "ipython",
    "version": 3
   },
   "file_extension": ".py",
   "mimetype": "text/x-python",
   "name": "python",
   "nbconvert_exporter": "python",
   "pygments_lexer": "ipython3",
   "version": "3.9.12"
  }
 },
 "nbformat": 4,
 "nbformat_minor": 5
}
