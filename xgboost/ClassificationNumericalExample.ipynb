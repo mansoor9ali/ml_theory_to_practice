{
 "cells": [
  {
   "cell_type": "code",
   "execution_count": 1,
   "id": "abe67f02",
   "metadata": {},
   "outputs": [],
   "source": [
    "import numpy as np"
   ]
  },
  {
   "cell_type": "code",
   "execution_count": 2,
   "id": "77f73e99",
   "metadata": {},
   "outputs": [],
   "source": [
    "def sigmoid(x):\n",
    "    return 1 / (1 + np.exp(-x))"
   ]
  },
  {
   "cell_type": "markdown",
   "id": "5d2b25b8",
   "metadata": {},
   "source": [
    "### First iteration"
   ]
  },
  {
   "cell_type": "code",
   "execution_count": 4,
   "id": "672d9c83",
   "metadata": {},
   "outputs": [
    {
     "data": {
      "text/plain": [
       "0.6931471805599453"
      ]
     },
     "execution_count": 4,
     "metadata": {},
     "output_type": "execute_result"
    }
   ],
   "source": [
    "h0 = np.log(4/6 / (2/6))\n",
    "h0"
   ]
  },
  {
   "cell_type": "code",
   "execution_count": 5,
   "id": "d05a2184",
   "metadata": {},
   "outputs": [
    {
     "data": {
      "text/plain": [
       "0.6666666666666666"
      ]
     },
     "execution_count": 5,
     "metadata": {},
     "output_type": "execute_result"
    }
   ],
   "source": [
    "sigmoid(h0)"
   ]
  },
  {
   "cell_type": "code",
   "execution_count": 6,
   "id": "cc912f6e",
   "metadata": {},
   "outputs": [
    {
     "data": {
      "text/plain": [
       "-0.33299999999999996"
      ]
     },
     "execution_count": 6,
     "metadata": {},
     "output_type": "execute_result"
    }
   ],
   "source": [
    "0.667 - 1"
   ]
  },
  {
   "cell_type": "code",
   "execution_count": 7,
   "id": "de35a3bf",
   "metadata": {},
   "outputs": [
    {
     "data": {
      "text/plain": [
       "0.667"
      ]
     },
     "execution_count": 7,
     "metadata": {},
     "output_type": "execute_result"
    }
   ],
   "source": [
    "0.667 - 0"
   ]
  },
  {
   "cell_type": "code",
   "execution_count": 8,
   "id": "c0c5f71a",
   "metadata": {},
   "outputs": [
    {
     "data": {
      "text/plain": [
       "0.22211099999999998"
      ]
     },
     "execution_count": 8,
     "metadata": {},
     "output_type": "execute_result"
    }
   ],
   "source": [
    "0.667 * (1 - 0.667)"
   ]
  },
  {
   "cell_type": "code",
   "execution_count": 53,
   "id": "2e9fe22c",
   "metadata": {},
   "outputs": [
    {
     "data": {
      "text/plain": [
       "0.0"
      ]
     },
     "execution_count": 53,
     "metadata": {},
     "output_type": "execute_result"
    }
   ],
   "source": [
    "g_root = [-0.333, -0.333, -0.333, 0.667, 0.667, -0.333]\n",
    "G = np.round(np.sum(g_root), 2)\n",
    "G"
   ]
  },
  {
   "cell_type": "code",
   "execution_count": 10,
   "id": "dce79efc",
   "metadata": {},
   "outputs": [
    {
     "data": {
      "text/plain": [
       "1.332"
      ]
     },
     "execution_count": 10,
     "metadata": {},
     "output_type": "execute_result"
    }
   ],
   "source": [
    "h_root = [0.222, 0.222, 0.222, 0.222, 0.222, 0.222]\n",
    "H = np.sum(h_root)\n",
    "H"
   ]
  },
  {
   "cell_type": "markdown",
   "id": "95d2fd19",
   "metadata": {},
   "source": [
    "### Second iteration"
   ]
  },
  {
   "cell_type": "code",
   "execution_count": 38,
   "id": "be305149",
   "metadata": {},
   "outputs": [],
   "source": [
    "def calc_gain(g_left, h_left, G, H, λ=0):\n",
    "    G_L = np.sum(g_left)\n",
    "    H_L = np.sum(h_left)\n",
    "    print(f'G_L = {G_L}, H_L = {H_L}')\n",
    "    G_R = G - G_L\n",
    "    H_R = H - H_L\n",
    "    print(f'G_R = {G_R}, H_R = {H_R}')\n",
    "    gain = G_L**2 / (H_L + λ) + G_R**2 / (H_R + λ) - G**2 / (H + λ)\n",
    "    print(f'gain = {gain}')"
   ]
  },
  {
   "cell_type": "markdown",
   "id": "210804b1",
   "metadata": {},
   "source": [
    "Income = Low"
   ]
  },
  {
   "cell_type": "code",
   "execution_count": 46,
   "id": "5d09e369",
   "metadata": {},
   "outputs": [
    {
     "name": "stdout",
     "output_type": "stream",
     "text": [
      "G_L = 0.0010000000000000009, H_L = 0.666\n",
      "G_R = -0.0010000000000000009, H_R = 0.666\n",
      "gain = 3.0030030030030085e-06\n"
     ]
    }
   ],
   "source": [
    "g_left = [-0.333, -0.333, 0.667]\n",
    "h_left = [0.222, 0.222, 0.222]\n",
    "\n",
    "calc_gain(g_left, h_left, G, H)"
   ]
  },
  {
   "cell_type": "markdown",
   "id": "82318fa2",
   "metadata": {},
   "source": [
    "Income = Medium"
   ]
  },
  {
   "cell_type": "code",
   "execution_count": 47,
   "id": "47773aee",
   "metadata": {},
   "outputs": [
    {
     "name": "stdout",
     "output_type": "stream",
     "text": [
      "G_L = 0.334, H_L = 0.444\n",
      "G_R = -0.334, H_R = 0.8880000000000001\n",
      "gain = 0.3768783783783784\n"
     ]
    }
   ],
   "source": [
    "g_left = [-0.333, 0.667]\n",
    "h_left = [0.222, 0.222]\n",
    "\n",
    "calc_gain(g_left, h_left, G, H)"
   ]
  },
  {
   "cell_type": "markdown",
   "id": "c1ef1637",
   "metadata": {},
   "source": [
    "Income = High"
   ]
  },
  {
   "cell_type": "code",
   "execution_count": 48,
   "id": "73219eec",
   "metadata": {},
   "outputs": [
    {
     "name": "stdout",
     "output_type": "stream",
     "text": [
      "G_L = -0.333, H_L = 0.222\n",
      "G_R = 0.333, H_R = 1.11\n",
      "gain = 0.5994\n"
     ]
    }
   ],
   "source": [
    "g_left = [-0.333]\n",
    "h_left = [0.222]\n",
    "\n",
    "calc_gain(g_left, h_left, G, H)"
   ]
  },
  {
   "cell_type": "markdown",
   "id": "14dd58fe",
   "metadata": {},
   "source": [
    "Education = High School"
   ]
  },
  {
   "cell_type": "code",
   "execution_count": 49,
   "id": "1226dfe3",
   "metadata": {},
   "outputs": [
    {
     "name": "stdout",
     "output_type": "stream",
     "text": [
      "G_L = 0.334, H_L = 0.444\n",
      "G_R = -0.334, H_R = 0.8880000000000001\n",
      "gain = 0.3768783783783784\n"
     ]
    }
   ],
   "source": [
    "g_left = [-0.333, 0.667]\n",
    "h_left = [0.222, 0.222]\n",
    "\n",
    "calc_gain(g_left, h_left, G, H)"
   ]
  },
  {
   "cell_type": "markdown",
   "id": "424f70aa",
   "metadata": {},
   "source": [
    "Age"
   ]
  },
  {
   "cell_type": "code",
   "execution_count": 11,
   "id": "b6ea26c5",
   "metadata": {},
   "outputs": [],
   "source": [
    "# Sorting gradients by age\n",
    "g = [-0.333, -0.333, 0.667, -0.333, 0.667, -0.333]\n",
    "h = [0.222, 0.222, 0.222, 0.222, 0.222, 0.222] "
   ]
  },
  {
   "cell_type": "markdown",
   "id": "313af48d",
   "metadata": {},
   "source": [
    "Age < 23.5"
   ]
  },
  {
   "cell_type": "code",
   "execution_count": 39,
   "id": "37f6b467",
   "metadata": {},
   "outputs": [
    {
     "name": "stdout",
     "output_type": "stream",
     "text": [
      "G_L = -0.333, H_L = 0.222\n",
      "G_R = 0.333, H_R = 1.11\n",
      "gain = 0.5994\n"
     ]
    }
   ],
   "source": [
    "g_left = g[:1]\n",
    "h_left = h[:1]\n",
    "\n",
    "calc_gain(g_left, h_left, G, H)"
   ]
  },
  {
   "cell_type": "markdown",
   "id": "55e419ae",
   "metadata": {},
   "source": [
    "Age < 26.5"
   ]
  },
  {
   "cell_type": "code",
   "execution_count": 40,
   "id": "79a67886",
   "metadata": {},
   "outputs": [
    {
     "name": "stdout",
     "output_type": "stream",
     "text": [
      "G_L = -0.666, H_L = 0.444\n",
      "G_R = 0.666, H_R = 0.8880000000000001\n",
      "gain = 1.4985000000000002\n"
     ]
    }
   ],
   "source": [
    "g_left = g[:2]\n",
    "h_left = h[:2]\n",
    "\n",
    "calc_gain(g_left, h_left, G, H)"
   ]
  },
  {
   "cell_type": "markdown",
   "id": "26b3aa92",
   "metadata": {},
   "source": [
    "Age < 29"
   ]
  },
  {
   "cell_type": "code",
   "execution_count": 41,
   "id": "7bdcc610",
   "metadata": {},
   "outputs": [
    {
     "name": "stdout",
     "output_type": "stream",
     "text": [
      "G_L = 0.0010000000000000009, H_L = 0.666\n",
      "G_R = -0.0010000000000000009, H_R = 0.666\n",
      "gain = 3.0030030030030085e-06\n"
     ]
    }
   ],
   "source": [
    "g_left = g[:3]\n",
    "h_left = h[:3]\n",
    "\n",
    "calc_gain(g_left, h_left, G, H)"
   ]
  },
  {
   "cell_type": "markdown",
   "id": "11f613d9",
   "metadata": {},
   "source": [
    "Age < 32.5"
   ]
  },
  {
   "cell_type": "code",
   "execution_count": 42,
   "id": "7b4f959a",
   "metadata": {},
   "outputs": [
    {
     "name": "stdout",
     "output_type": "stream",
     "text": [
      "G_L = -0.332, H_L = 0.888\n",
      "G_R = 0.332, H_R = 0.44400000000000006\n",
      "gain = 0.3723783783783784\n"
     ]
    }
   ],
   "source": [
    "g_left = g[:4]\n",
    "h_left = h[:4]\n",
    "\n",
    "calc_gain(g_left, h_left, G, H)"
   ]
  },
  {
   "cell_type": "markdown",
   "id": "7a6dea6c",
   "metadata": {},
   "source": [
    "Age < 37.5"
   ]
  },
  {
   "cell_type": "code",
   "execution_count": 45,
   "id": "5db9cd3b",
   "metadata": {},
   "outputs": [
    {
     "name": "stdout",
     "output_type": "stream",
     "text": [
      "G_L = 0.335, H_L = 1.11\n",
      "G_R = -0.335, H_R = 0.22199999999999998\n",
      "gain = 0.6066216216216218\n"
     ]
    }
   ],
   "source": [
    "g_left = g[:5]\n",
    "h_left = h[:5]\n",
    "\n",
    "calc_gain(g_left, h_left, G, H)"
   ]
  },
  {
   "cell_type": "markdown",
   "id": "119b6813",
   "metadata": {},
   "source": [
    "Splitting by Age < 26.5"
   ]
  },
  {
   "cell_type": "markdown",
   "id": "ffdefbd3",
   "metadata": {},
   "source": [
    "#### Second level of the tree"
   ]
  },
  {
   "cell_type": "code",
   "execution_count": 57,
   "id": "437a1267",
   "metadata": {},
   "outputs": [],
   "source": [
    "g_root = [-0.333, 0.667, 0.667, -0.333]\n",
    "h_root = [0.222, 0.222, 0.222, 0.222]"
   ]
  },
  {
   "cell_type": "code",
   "execution_count": 58,
   "id": "3f623c62",
   "metadata": {},
   "outputs": [
    {
     "data": {
      "text/plain": [
       "0.6680000000000001"
      ]
     },
     "execution_count": 58,
     "metadata": {},
     "output_type": "execute_result"
    }
   ],
   "source": [
    "G = np.sum(g_root)\n",
    "G"
   ]
  },
  {
   "cell_type": "code",
   "execution_count": 59,
   "id": "6225fad0",
   "metadata": {},
   "outputs": [
    {
     "data": {
      "text/plain": [
       "0.888"
      ]
     },
     "execution_count": 59,
     "metadata": {},
     "output_type": "execute_result"
    }
   ],
   "source": [
    "H = np.sum(h_root)\n",
    "H"
   ]
  },
  {
   "cell_type": "markdown",
   "id": "a0f2bdf8",
   "metadata": {},
   "source": [
    "Income = Low"
   ]
  },
  {
   "cell_type": "code",
   "execution_count": 61,
   "id": "25c7ed60",
   "metadata": {},
   "outputs": [
    {
     "name": "stdout",
     "output_type": "stream",
     "text": [
      "G_L = 0.334, H_L = 0.444\n",
      "G_R = 0.33400000000000013, H_R = 0.444\n",
      "gain = 0.0\n"
     ]
    }
   ],
   "source": [
    "g_left = [-0.333, 0.667]\n",
    "h_left = [0.222, 0.222]\n",
    "\n",
    "calc_gain(g_left, h_left, G, H)"
   ]
  },
  {
   "cell_type": "code",
   "execution_count": 62,
   "id": "2143c64e",
   "metadata": {},
   "outputs": [
    {
     "data": {
      "text/plain": [
       "0.0"
      ]
     },
     "execution_count": 62,
     "metadata": {},
     "output_type": "execute_result"
    }
   ],
   "source": [
    "(0.334**2 / 0.444) + (0.334**2 / 0.444) - (0.668**2 / 0.888)"
   ]
  },
  {
   "cell_type": "markdown",
   "id": "3538cf5b",
   "metadata": {},
   "source": [
    "Income = Medium"
   ]
  },
  {
   "cell_type": "code",
   "execution_count": 63,
   "id": "650df7b4",
   "metadata": {},
   "outputs": [
    {
     "name": "stdout",
     "output_type": "stream",
     "text": [
      "G_L = 0.667, H_L = 0.222\n",
      "G_R = 0.001000000000000112, H_R = 0.666\n",
      "gain = 1.5015015015015012\n"
     ]
    }
   ],
   "source": [
    "g_left = [0.667]\n",
    "h_left = [0.222]\n",
    "\n",
    "calc_gain(g_left, h_left, G, H)"
   ]
  },
  {
   "cell_type": "markdown",
   "id": "1273d907",
   "metadata": {},
   "source": [
    "Income = High"
   ]
  },
  {
   "cell_type": "code",
   "execution_count": 64,
   "id": "5c76051e",
   "metadata": {},
   "outputs": [
    {
     "name": "stdout",
     "output_type": "stream",
     "text": [
      "G_L = -0.333, H_L = 0.222\n",
      "G_R = 1.0010000000000001, H_R = 0.666\n",
      "gain = 1.5015015015015012\n"
     ]
    }
   ],
   "source": [
    "g_left = [-0.333]\n",
    "h_left = [0.222]\n",
    "\n",
    "calc_gain(g_left, h_left, G, H)"
   ]
  },
  {
   "cell_type": "markdown",
   "id": "1b3521fe",
   "metadata": {},
   "source": [
    "Education = High School"
   ]
  },
  {
   "cell_type": "code",
   "execution_count": 65,
   "id": "c64da691",
   "metadata": {},
   "outputs": [
    {
     "name": "stdout",
     "output_type": "stream",
     "text": [
      "G_L = 0.667, H_L = 0.222\n",
      "G_R = 0.001000000000000112, H_R = 0.666\n",
      "gain = 1.5015015015015012\n"
     ]
    }
   ],
   "source": [
    "g_left = [0.667]\n",
    "h_left = [0.222]\n",
    "\n",
    "calc_gain(g_left, h_left, G, H)"
   ]
  },
  {
   "cell_type": "markdown",
   "id": "76133c53",
   "metadata": {},
   "source": [
    "Age"
   ]
  },
  {
   "cell_type": "code",
   "execution_count": 67,
   "id": "75893b83",
   "metadata": {},
   "outputs": [],
   "source": [
    "# Sorting gradients by age\n",
    "g = [0.667, -0.333, 0.667, -0.333]\n",
    "h = [0.222, 0.222, 0.222, 0.222] "
   ]
  },
  {
   "cell_type": "markdown",
   "id": "ccddd4bb",
   "metadata": {},
   "source": [
    "Age < 29"
   ]
  },
  {
   "cell_type": "code",
   "execution_count": 68,
   "id": "608df85c",
   "metadata": {},
   "outputs": [
    {
     "name": "stdout",
     "output_type": "stream",
     "text": [
      "G_L = 0.667, H_L = 0.222\n",
      "G_R = 0.001000000000000112, H_R = 0.666\n",
      "gain = 1.5015015015015012\n"
     ]
    }
   ],
   "source": [
    "g_left = g[:1]\n",
    "h_left = h[:1]\n",
    "\n",
    "calc_gain(g_left, h_left, G, H)"
   ]
  },
  {
   "cell_type": "markdown",
   "id": "9dd49a18",
   "metadata": {},
   "source": [
    "Age < 32.5"
   ]
  },
  {
   "cell_type": "code",
   "execution_count": 69,
   "id": "42f91233",
   "metadata": {},
   "outputs": [
    {
     "name": "stdout",
     "output_type": "stream",
     "text": [
      "G_L = 0.334, H_L = 0.444\n",
      "G_R = 0.33400000000000013, H_R = 0.444\n",
      "gain = 0.0\n"
     ]
    }
   ],
   "source": [
    "g_left = g[:2]\n",
    "h_left = h[:2]\n",
    "\n",
    "calc_gain(g_left, h_left, G, H)"
   ]
  },
  {
   "cell_type": "markdown",
   "id": "76679626",
   "metadata": {},
   "source": [
    "Age < 37.5"
   ]
  },
  {
   "cell_type": "code",
   "execution_count": 70,
   "id": "b56ed0e5",
   "metadata": {},
   "outputs": [
    {
     "name": "stdout",
     "output_type": "stream",
     "text": [
      "G_L = 1.0010000000000001, H_L = 0.666\n",
      "G_R = -0.33299999999999996, H_R = 0.22199999999999998\n",
      "gain = 1.5015015015015012\n"
     ]
    }
   ],
   "source": [
    "g_left = g[:3]\n",
    "h_left = h[:3]\n",
    "\n",
    "calc_gain(g_left, h_left, G, H)"
   ]
  },
  {
   "cell_type": "markdown",
   "id": "e6eb956c",
   "metadata": {},
   "source": [
    "Splitting by Income = Medium"
   ]
  },
  {
   "cell_type": "markdown",
   "id": "2dfa79af",
   "metadata": {},
   "source": [
    "Computing output values"
   ]
  },
  {
   "cell_type": "code",
   "execution_count": 72,
   "id": "eea28e6e",
   "metadata": {},
   "outputs": [
    {
     "data": {
      "text/plain": [
       "1.5"
      ]
     },
     "execution_count": 72,
     "metadata": {},
     "output_type": "execute_result"
    }
   ],
   "source": [
    "w1 = -(-0.666) / 0.444\n",
    "w1"
   ]
  },
  {
   "cell_type": "code",
   "execution_count": 73,
   "id": "dd384f79",
   "metadata": {},
   "outputs": [
    {
     "data": {
      "text/plain": [
       "-3.0045045045045047"
      ]
     },
     "execution_count": 73,
     "metadata": {},
     "output_type": "execute_result"
    }
   ],
   "source": [
    "w2 = -0.667 / 0.222\n",
    "w2"
   ]
  },
  {
   "cell_type": "code",
   "execution_count": 75,
   "id": "b3d379e0",
   "metadata": {},
   "outputs": [
    {
     "data": {
      "text/plain": [
       "0.0"
      ]
     },
     "execution_count": 75,
     "metadata": {},
     "output_type": "execute_result"
    }
   ],
   "source": [
    "w3 = -0 / 0.666\n",
    "w3"
   ]
  },
  {
   "cell_type": "markdown",
   "id": "0bb09c74",
   "metadata": {},
   "source": [
    "New predictions"
   ]
  },
  {
   "cell_type": "code",
   "execution_count": 63,
   "id": "8769bb2c",
   "metadata": {},
   "outputs": [
    {
     "data": {
      "text/plain": [
       "1.443"
      ]
     },
     "execution_count": 63,
     "metadata": {},
     "output_type": "execute_result"
    }
   ],
   "source": [
    "0.693 + 0.5 * 1.5"
   ]
  },
  {
   "cell_type": "code",
   "execution_count": 64,
   "id": "d7f6ac3c",
   "metadata": {},
   "outputs": [
    {
     "data": {
      "text/plain": [
       "0.8089187887784832"
      ]
     },
     "execution_count": 64,
     "metadata": {},
     "output_type": "execute_result"
    }
   ],
   "source": [
    "sigmoid(1.443)"
   ]
  },
  {
   "cell_type": "code",
   "execution_count": 65,
   "id": "64221378",
   "metadata": {},
   "outputs": [
    {
     "data": {
      "text/plain": [
       "0.693"
      ]
     },
     "execution_count": 65,
     "metadata": {},
     "output_type": "execute_result"
    }
   ],
   "source": [
    "0.693 + 0.5 * 0"
   ]
  },
  {
   "cell_type": "code",
   "execution_count": 66,
   "id": "3486c31d",
   "metadata": {},
   "outputs": [
    {
     "data": {
      "text/plain": [
       "0.6666339590733064"
      ]
     },
     "execution_count": 66,
     "metadata": {},
     "output_type": "execute_result"
    }
   ],
   "source": [
    "sigmoid(0.693)"
   ]
  },
  {
   "cell_type": "code",
   "execution_count": 67,
   "id": "5acaa990",
   "metadata": {},
   "outputs": [
    {
     "data": {
      "text/plain": [
       "-0.807"
      ]
     },
     "execution_count": 67,
     "metadata": {},
     "output_type": "execute_result"
    }
   ],
   "source": [
    "0.693 + 0.5 * (-3)"
   ]
  },
  {
   "cell_type": "code",
   "execution_count": 68,
   "id": "4d77f279",
   "metadata": {},
   "outputs": [
    {
     "data": {
      "text/plain": [
       "0.30853014568206916"
      ]
     },
     "execution_count": 68,
     "metadata": {},
     "output_type": "execute_result"
    }
   ],
   "source": [
    "sigmoid(-0.807)"
   ]
  },
  {
   "cell_type": "markdown",
   "id": "c83bf786",
   "metadata": {},
   "source": [
    "New gradiants and Hessians"
   ]
  },
  {
   "cell_type": "code",
   "execution_count": 76,
   "id": "613853b1",
   "metadata": {},
   "outputs": [
    {
     "data": {
      "text/plain": [
       "-0.19099999999999995"
      ]
     },
     "execution_count": 76,
     "metadata": {},
     "output_type": "execute_result"
    }
   ],
   "source": [
    "g1 = 0.809 - 1\n",
    "g1"
   ]
  },
  {
   "cell_type": "code",
   "execution_count": 77,
   "id": "be287be0",
   "metadata": {},
   "outputs": [
    {
     "data": {
      "text/plain": [
       "-0.33299999999999996"
      ]
     },
     "execution_count": 77,
     "metadata": {},
     "output_type": "execute_result"
    }
   ],
   "source": [
    "g2 = 0.667 - 1\n",
    "g2"
   ]
  },
  {
   "cell_type": "code",
   "execution_count": 78,
   "id": "4d2a7808",
   "metadata": {},
   "outputs": [
    {
     "data": {
      "text/plain": [
       "-0.19099999999999995"
      ]
     },
     "execution_count": 78,
     "metadata": {},
     "output_type": "execute_result"
    }
   ],
   "source": [
    "g3 = 0.809 - 1\n",
    "g3"
   ]
  },
  {
   "cell_type": "code",
   "execution_count": 80,
   "id": "f1c602af",
   "metadata": {},
   "outputs": [
    {
     "data": {
      "text/plain": [
       "0.667"
      ]
     },
     "execution_count": 80,
     "metadata": {},
     "output_type": "execute_result"
    }
   ],
   "source": [
    "g4 = 0.667 - 0\n",
    "g4"
   ]
  },
  {
   "cell_type": "code",
   "execution_count": 81,
   "id": "a393e7e4",
   "metadata": {},
   "outputs": [
    {
     "data": {
      "text/plain": [
       "0.309"
      ]
     },
     "execution_count": 81,
     "metadata": {},
     "output_type": "execute_result"
    }
   ],
   "source": [
    "g5 = 0.309 - 0\n",
    "g5"
   ]
  },
  {
   "cell_type": "code",
   "execution_count": 82,
   "id": "7d8dff01",
   "metadata": {},
   "outputs": [
    {
     "data": {
      "text/plain": [
       "-0.33299999999999996"
      ]
     },
     "execution_count": 82,
     "metadata": {},
     "output_type": "execute_result"
    }
   ],
   "source": [
    "g6 = 0.667 - 1\n",
    "g6"
   ]
  },
  {
   "cell_type": "code",
   "execution_count": 83,
   "id": "a03db461",
   "metadata": {},
   "outputs": [
    {
     "data": {
      "text/plain": [
       "0.15451899999999996"
      ]
     },
     "execution_count": 83,
     "metadata": {},
     "output_type": "execute_result"
    }
   ],
   "source": [
    "h1 = 0.809 * (1 - 0.809)\n",
    "h1"
   ]
  },
  {
   "cell_type": "code",
   "execution_count": 84,
   "id": "a362dd86",
   "metadata": {},
   "outputs": [
    {
     "data": {
      "text/plain": [
       "0.22211099999999998"
      ]
     },
     "execution_count": 84,
     "metadata": {},
     "output_type": "execute_result"
    }
   ],
   "source": [
    "h2 = 0.667 * (1 - 0.667)\n",
    "h2"
   ]
  },
  {
   "cell_type": "code",
   "execution_count": 85,
   "id": "510d67b2",
   "metadata": {},
   "outputs": [
    {
     "data": {
      "text/plain": [
       "0.15451899999999996"
      ]
     },
     "execution_count": 85,
     "metadata": {},
     "output_type": "execute_result"
    }
   ],
   "source": [
    "h3 = 0.809 * (1 - 0.809)\n",
    "h3"
   ]
  },
  {
   "cell_type": "code",
   "execution_count": 86,
   "id": "b8456069",
   "metadata": {},
   "outputs": [
    {
     "data": {
      "text/plain": [
       "0.22211099999999998"
      ]
     },
     "execution_count": 86,
     "metadata": {},
     "output_type": "execute_result"
    }
   ],
   "source": [
    "h4 = 0.667 * (1 - 0.667)\n",
    "h4"
   ]
  },
  {
   "cell_type": "code",
   "execution_count": 87,
   "id": "2bf5e639",
   "metadata": {},
   "outputs": [
    {
     "data": {
      "text/plain": [
       "0.21351900000000001"
      ]
     },
     "execution_count": 87,
     "metadata": {},
     "output_type": "execute_result"
    }
   ],
   "source": [
    "h5 = 0.309 * (1 - 0.309)\n",
    "h5"
   ]
  },
  {
   "cell_type": "code",
   "execution_count": 88,
   "id": "d0ef9520",
   "metadata": {},
   "outputs": [
    {
     "data": {
      "text/plain": [
       "0.22211099999999998"
      ]
     },
     "execution_count": 88,
     "metadata": {},
     "output_type": "execute_result"
    }
   ],
   "source": [
    "h6 = 0.667 * (1 - 0.667)\n",
    "h6"
   ]
  },
  {
   "cell_type": "code",
   "execution_count": 89,
   "id": "a2104cb6",
   "metadata": {},
   "outputs": [],
   "source": [
    "g_root = [-0.191, -0.333, -0.191, 0.667, 0.309, -0.333]\n",
    "h_root = [0.155, 0.222, 0.155, 0.222, 0.214, 0.222]"
   ]
  },
  {
   "cell_type": "code",
   "execution_count": 90,
   "id": "806007ef",
   "metadata": {},
   "outputs": [
    {
     "data": {
      "text/plain": [
       "-0.07200000000000006"
      ]
     },
     "execution_count": 90,
     "metadata": {},
     "output_type": "execute_result"
    }
   ],
   "source": [
    "G = np.sum(g_root)\n",
    "G"
   ]
  },
  {
   "cell_type": "code",
   "execution_count": 91,
   "id": "aaceb691",
   "metadata": {},
   "outputs": [
    {
     "data": {
      "text/plain": [
       "1.19"
      ]
     },
     "execution_count": 91,
     "metadata": {},
     "output_type": "execute_result"
    }
   ],
   "source": [
    "H = np.sum(h_root)\n",
    "H"
   ]
  },
  {
   "cell_type": "code",
   "execution_count": null,
   "id": "2dee38a6",
   "metadata": {},
   "outputs": [],
   "source": []
  }
 ],
 "metadata": {
  "kernelspec": {
   "display_name": "Python 3 (ipykernel)",
   "language": "python",
   "name": "python3"
  },
  "language_info": {
   "codemirror_mode": {
    "name": "ipython",
    "version": 3
   },
   "file_extension": ".py",
   "mimetype": "text/x-python",
   "name": "python",
   "nbconvert_exporter": "python",
   "pygments_lexer": "ipython3",
   "version": "3.9.12"
  }
 },
 "nbformat": 4,
 "nbformat_minor": 5
}
