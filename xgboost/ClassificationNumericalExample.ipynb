{
 "cells": [
  {
   "cell_type": "code",
   "execution_count": 1,
   "id": "abe67f02",
   "metadata": {},
   "outputs": [],
   "source": [
    "import numpy as np"
   ]
  },
  {
   "cell_type": "code",
   "execution_count": 2,
   "id": "77f73e99",
   "metadata": {},
   "outputs": [],
   "source": [
    "def sigmoid(x):\n",
    "    return 1 / (1 + np.exp(-x))"
   ]
  },
  {
   "cell_type": "markdown",
   "id": "5d2b25b8",
   "metadata": {},
   "source": [
    "### First iteration"
   ]
  },
  {
   "cell_type": "code",
   "execution_count": 3,
   "id": "672d9c83",
   "metadata": {},
   "outputs": [
    {
     "data": {
      "text/plain": [
       "0.6931471805599453"
      ]
     },
     "execution_count": 3,
     "metadata": {},
     "output_type": "execute_result"
    }
   ],
   "source": [
    "h0 = np.log(4/6 / (2/6))\n",
    "h0"
   ]
  },
  {
   "cell_type": "code",
   "execution_count": 4,
   "id": "d05a2184",
   "metadata": {},
   "outputs": [
    {
     "data": {
      "text/plain": [
       "0.6666666666666666"
      ]
     },
     "execution_count": 4,
     "metadata": {},
     "output_type": "execute_result"
    }
   ],
   "source": [
    "sigmoid(h0)"
   ]
  },
  {
   "cell_type": "code",
   "execution_count": 5,
   "id": "cc912f6e",
   "metadata": {},
   "outputs": [
    {
     "data": {
      "text/plain": [
       "-0.33299999999999996"
      ]
     },
     "execution_count": 5,
     "metadata": {},
     "output_type": "execute_result"
    }
   ],
   "source": [
    "0.667 - 1"
   ]
  },
  {
   "cell_type": "code",
   "execution_count": 6,
   "id": "de35a3bf",
   "metadata": {},
   "outputs": [
    {
     "data": {
      "text/plain": [
       "0.667"
      ]
     },
     "execution_count": 6,
     "metadata": {},
     "output_type": "execute_result"
    }
   ],
   "source": [
    "0.667 - 0"
   ]
  },
  {
   "cell_type": "code",
   "execution_count": 7,
   "id": "eb7399cd",
   "metadata": {},
   "outputs": [
    {
     "data": {
      "text/plain": [
       "0.22211099999999998"
      ]
     },
     "execution_count": 7,
     "metadata": {},
     "output_type": "execute_result"
    }
   ],
   "source": [
    "0.667 * (1 - 0.667)"
   ]
  },
  {
   "cell_type": "code",
   "execution_count": 8,
   "id": "0f3bf9e7",
   "metadata": {},
   "outputs": [
    {
     "data": {
      "text/plain": [
       "0.0"
      ]
     },
     "execution_count": 8,
     "metadata": {},
     "output_type": "execute_result"
    }
   ],
   "source": [
    "g_root = [-0.333, -0.333, -0.333, 0.667, 0.667, -0.333]\n",
    "G = np.round(np.sum(g_root), 2)\n",
    "G"
   ]
  },
  {
   "cell_type": "code",
   "execution_count": 9,
   "id": "76c659b1",
   "metadata": {},
   "outputs": [
    {
     "data": {
      "text/plain": [
       "1.332"
      ]
     },
     "execution_count": 9,
     "metadata": {},
     "output_type": "execute_result"
    }
   ],
   "source": [
    "h_root = [0.222, 0.222, 0.222, 0.222, 0.222, 0.222]\n",
    "H = np.sum(h_root)\n",
    "H"
   ]
  },
  {
   "cell_type": "markdown",
   "id": "95d2fd19",
   "metadata": {},
   "source": [
    "### Second iteration"
   ]
  },
  {
   "cell_type": "code",
   "execution_count": 10,
   "id": "e7de270c",
   "metadata": {},
   "outputs": [],
   "source": [
    "def calc_gain(g_left, h_left, G, H, λ=0):\n",
    "    G_L = np.sum(g_left)\n",
    "    H_L = np.sum(h_left)\n",
    "    print(f'G_L = {G_L}, H_L = {H_L}')\n",
    "    G_R = G - G_L\n",
    "    H_R = H - H_L\n",
    "    print(f'G_R = {G_R}, H_R = {H_R}')\n",
    "    gain = G_L**2 / (H_L + λ) + G_R**2 / (H_R + λ) - G**2 / (H + λ)\n",
    "    print(f'gain = {gain}')"
   ]
  },
  {
   "cell_type": "markdown",
   "id": "bca584d5",
   "metadata": {},
   "source": [
    "Income = Low"
   ]
  },
  {
   "cell_type": "code",
   "execution_count": 11,
   "id": "b77b4780",
   "metadata": {},
   "outputs": [
    {
     "name": "stdout",
     "output_type": "stream",
     "text": [
      "G_L = 0.0010000000000000009, H_L = 0.666\n",
      "G_R = -0.0010000000000000009, H_R = 0.666\n",
      "gain = 3.0030030030030085e-06\n"
     ]
    }
   ],
   "source": [
    "g_left = [-0.333, -0.333, 0.667]\n",
    "h_left = [0.222, 0.222, 0.222]\n",
    "\n",
    "calc_gain(g_left, h_left, G, H)"
   ]
  },
  {
   "cell_type": "markdown",
   "id": "e820b88c",
   "metadata": {},
   "source": [
    "Income = Medium"
   ]
  },
  {
   "cell_type": "code",
   "execution_count": 12,
   "id": "99984fb2",
   "metadata": {},
   "outputs": [
    {
     "name": "stdout",
     "output_type": "stream",
     "text": [
      "G_L = 0.334, H_L = 0.444\n",
      "G_R = -0.334, H_R = 0.8880000000000001\n",
      "gain = 0.3768783783783784\n"
     ]
    }
   ],
   "source": [
    "g_left = [-0.333, 0.667]\n",
    "h_left = [0.222, 0.222]\n",
    "\n",
    "calc_gain(g_left, h_left, G, H)"
   ]
  },
  {
   "cell_type": "markdown",
   "id": "226188a0",
   "metadata": {},
   "source": [
    "Income = High"
   ]
  },
  {
   "cell_type": "code",
   "execution_count": 13,
   "id": "814103a1",
   "metadata": {},
   "outputs": [
    {
     "name": "stdout",
     "output_type": "stream",
     "text": [
      "G_L = -0.333, H_L = 0.222\n",
      "G_R = 0.333, H_R = 1.11\n",
      "gain = 0.5994\n"
     ]
    }
   ],
   "source": [
    "g_left = [-0.333]\n",
    "h_left = [0.222]\n",
    "\n",
    "calc_gain(g_left, h_left, G, H)"
   ]
  },
  {
   "cell_type": "markdown",
   "id": "3ed341ed",
   "metadata": {},
   "source": [
    "Education = High School"
   ]
  },
  {
   "cell_type": "code",
   "execution_count": 14,
   "id": "5b70aecd",
   "metadata": {},
   "outputs": [
    {
     "name": "stdout",
     "output_type": "stream",
     "text": [
      "G_L = 0.334, H_L = 0.444\n",
      "G_R = -0.334, H_R = 0.8880000000000001\n",
      "gain = 0.3768783783783784\n"
     ]
    }
   ],
   "source": [
    "g_left = [-0.333, 0.667]\n",
    "h_left = [0.222, 0.222]\n",
    "\n",
    "calc_gain(g_left, h_left, G, H)"
   ]
  },
  {
   "cell_type": "markdown",
   "id": "6eb3637c",
   "metadata": {},
   "source": [
    "Age"
   ]
  },
  {
   "cell_type": "code",
   "execution_count": 15,
   "id": "b6ea26c5",
   "metadata": {},
   "outputs": [],
   "source": [
    "# Sorting gradients by age\n",
    "g = [-0.333, -0.333, 0.667, -0.333, 0.667, -0.333]\n",
    "h = [0.222, 0.222, 0.222, 0.222, 0.222, 0.222] "
   ]
  },
  {
   "cell_type": "markdown",
   "id": "a8b5cc91",
   "metadata": {},
   "source": [
    "Age < 23.5"
   ]
  },
  {
   "cell_type": "code",
   "execution_count": 16,
   "id": "37f6b467",
   "metadata": {},
   "outputs": [
    {
     "name": "stdout",
     "output_type": "stream",
     "text": [
      "G_L = -0.333, H_L = 0.222\n",
      "G_R = 0.333, H_R = 1.11\n",
      "gain = 0.5994\n"
     ]
    }
   ],
   "source": [
    "g_left = g[:1]\n",
    "h_left = h[:1]\n",
    "\n",
    "calc_gain(g_left, h_left, G, H)"
   ]
  },
  {
   "cell_type": "markdown",
   "id": "4066b182",
   "metadata": {},
   "source": [
    "Age < 26.5"
   ]
  },
  {
   "cell_type": "code",
   "execution_count": 17,
   "id": "34e68f40",
   "metadata": {},
   "outputs": [
    {
     "name": "stdout",
     "output_type": "stream",
     "text": [
      "G_L = -0.666, H_L = 0.444\n",
      "G_R = 0.666, H_R = 0.8880000000000001\n",
      "gain = 1.4985000000000002\n"
     ]
    }
   ],
   "source": [
    "g_left = g[:2]\n",
    "h_left = h[:2]\n",
    "\n",
    "calc_gain(g_left, h_left, G, H)"
   ]
  },
  {
   "cell_type": "markdown",
   "id": "d65cb8c2",
   "metadata": {},
   "source": [
    "Age < 29"
   ]
  },
  {
   "cell_type": "code",
   "execution_count": 18,
   "id": "360eba28",
   "metadata": {},
   "outputs": [
    {
     "name": "stdout",
     "output_type": "stream",
     "text": [
      "G_L = 0.0010000000000000009, H_L = 0.666\n",
      "G_R = -0.0010000000000000009, H_R = 0.666\n",
      "gain = 3.0030030030030085e-06\n"
     ]
    }
   ],
   "source": [
    "g_left = g[:3]\n",
    "h_left = h[:3]\n",
    "\n",
    "calc_gain(g_left, h_left, G, H)"
   ]
  },
  {
   "cell_type": "markdown",
   "id": "01e935f3",
   "metadata": {},
   "source": [
    "Age < 32.5"
   ]
  },
  {
   "cell_type": "code",
   "execution_count": 19,
   "id": "69005599",
   "metadata": {},
   "outputs": [
    {
     "name": "stdout",
     "output_type": "stream",
     "text": [
      "G_L = -0.332, H_L = 0.888\n",
      "G_R = 0.332, H_R = 0.44400000000000006\n",
      "gain = 0.3723783783783784\n"
     ]
    }
   ],
   "source": [
    "g_left = g[:4]\n",
    "h_left = h[:4]\n",
    "\n",
    "calc_gain(g_left, h_left, G, H)"
   ]
  },
  {
   "cell_type": "markdown",
   "id": "d6a9e740",
   "metadata": {},
   "source": [
    "Age < 37.5"
   ]
  },
  {
   "cell_type": "code",
   "execution_count": 20,
   "id": "88a27978",
   "metadata": {},
   "outputs": [
    {
     "name": "stdout",
     "output_type": "stream",
     "text": [
      "G_L = 0.335, H_L = 1.11\n",
      "G_R = -0.335, H_R = 0.22199999999999998\n",
      "gain = 0.6066216216216218\n"
     ]
    }
   ],
   "source": [
    "g_left = g[:5]\n",
    "h_left = h[:5]\n",
    "\n",
    "calc_gain(g_left, h_left, G, H)"
   ]
  },
  {
   "cell_type": "markdown",
   "id": "119b6813",
   "metadata": {},
   "source": [
    "Splitting by Age < 26.5"
   ]
  },
  {
   "cell_type": "markdown",
   "id": "ffdefbd3",
   "metadata": {},
   "source": [
    "#### Second level of the tree"
   ]
  },
  {
   "cell_type": "code",
   "execution_count": 21,
   "id": "79967320",
   "metadata": {},
   "outputs": [],
   "source": [
    "g_root = [-0.333, 0.667, 0.667, -0.333]\n",
    "h_root = [0.222, 0.222, 0.222, 0.222]\n",
    "\n",
    "G = 0.666\n",
    "H = 0.888"
   ]
  },
  {
   "cell_type": "code",
   "execution_count": 22,
   "id": "9d193bcd",
   "metadata": {},
   "outputs": [
    {
     "data": {
      "text/plain": [
       "0.6680000000000001"
      ]
     },
     "execution_count": 22,
     "metadata": {},
     "output_type": "execute_result"
    }
   ],
   "source": [
    "np.sum(g_root)"
   ]
  },
  {
   "cell_type": "code",
   "execution_count": 23,
   "id": "98c95858",
   "metadata": {},
   "outputs": [
    {
     "data": {
      "text/plain": [
       "0.888"
      ]
     },
     "execution_count": 23,
     "metadata": {},
     "output_type": "execute_result"
    }
   ],
   "source": [
    "np.sum(h_root)"
   ]
  },
  {
   "cell_type": "markdown",
   "id": "e586065c",
   "metadata": {},
   "source": [
    "Income = Low"
   ]
  },
  {
   "cell_type": "code",
   "execution_count": 24,
   "id": "fc0064ba",
   "metadata": {},
   "outputs": [
    {
     "name": "stdout",
     "output_type": "stream",
     "text": [
      "G_L = 0.334, H_L = 0.444\n",
      "G_R = 0.332, H_R = 0.444\n",
      "gain = 4.50450450451001e-06\n"
     ]
    }
   ],
   "source": [
    "g_left = [-0.333, 0.667]\n",
    "h_left = [0.222, 0.222]\n",
    "\n",
    "calc_gain(g_left, h_left, G, H)"
   ]
  },
  {
   "cell_type": "code",
   "execution_count": 25,
   "id": "60adb397",
   "metadata": {},
   "outputs": [
    {
     "data": {
      "text/plain": [
       "0.0030045045045045127"
      ]
     },
     "execution_count": 25,
     "metadata": {},
     "output_type": "execute_result"
    }
   ],
   "source": [
    "(0.334**2 / 0.444) + (0.334**2 / 0.444) - (0.666**2 / 0.888)"
   ]
  },
  {
   "cell_type": "markdown",
   "id": "0c4ef954",
   "metadata": {},
   "source": [
    "Income = Medium"
   ]
  },
  {
   "cell_type": "code",
   "execution_count": 26,
   "id": "b5f9f4ab",
   "metadata": {},
   "outputs": [
    {
     "name": "stdout",
     "output_type": "stream",
     "text": [
      "G_L = 0.667, H_L = 0.222\n",
      "G_R = -0.0010000000000000009, H_R = 0.666\n",
      "gain = 1.5045060060060058\n"
     ]
    }
   ],
   "source": [
    "g_left = [0.667]\n",
    "h_left = [0.222]\n",
    "\n",
    "calc_gain(g_left, h_left, G, H)"
   ]
  },
  {
   "cell_type": "code",
   "execution_count": 103,
   "id": "57ee4ade",
   "metadata": {},
   "outputs": [
    {
     "data": {
      "text/plain": [
       "1.5045045045045045"
      ]
     },
     "execution_count": 103,
     "metadata": {},
     "output_type": "execute_result"
    }
   ],
   "source": [
    "0.667**2 / 0.222 + 0**2 / 0.222 - 0.666**2 / 0.888"
   ]
  },
  {
   "cell_type": "markdown",
   "id": "97cb5230",
   "metadata": {},
   "source": [
    "Income = High"
   ]
  },
  {
   "cell_type": "code",
   "execution_count": 27,
   "id": "3b85461d",
   "metadata": {},
   "outputs": [
    {
     "name": "stdout",
     "output_type": "stream",
     "text": [
      "G_L = -0.333, H_L = 0.222\n",
      "G_R = 0.9990000000000001, H_R = 0.666\n",
      "gain = 1.4985000000000004\n"
     ]
    }
   ],
   "source": [
    "g_left = [-0.333]\n",
    "h_left = [0.222]\n",
    "\n",
    "calc_gain(g_left, h_left, G, H)"
   ]
  },
  {
   "cell_type": "code",
   "execution_count": 104,
   "id": "03aaff85",
   "metadata": {},
   "outputs": [
    {
     "data": {
      "text/plain": [
       "1.5015015015015012"
      ]
     },
     "execution_count": 104,
     "metadata": {},
     "output_type": "execute_result"
    }
   ],
   "source": [
    "(-0.333)**2 / 0.222 + 1**2 / 0.666 - 0.666**2 / 0.888"
   ]
  },
  {
   "cell_type": "markdown",
   "id": "05836e36",
   "metadata": {},
   "source": [
    "Education = High School"
   ]
  },
  {
   "cell_type": "code",
   "execution_count": 28,
   "id": "9ab6f20a",
   "metadata": {},
   "outputs": [
    {
     "name": "stdout",
     "output_type": "stream",
     "text": [
      "G_L = 0.667, H_L = 0.222\n",
      "G_R = -0.0010000000000000009, H_R = 0.666\n",
      "gain = 1.5045060060060058\n"
     ]
    }
   ],
   "source": [
    "g_left = [0.667]\n",
    "h_left = [0.222]\n",
    "\n",
    "calc_gain(g_left, h_left, G, H)"
   ]
  },
  {
   "cell_type": "code",
   "execution_count": 105,
   "id": "7b48c4f7",
   "metadata": {},
   "outputs": [
    {
     "data": {
      "text/plain": [
       "1.5045045045045045"
      ]
     },
     "execution_count": 105,
     "metadata": {},
     "output_type": "execute_result"
    }
   ],
   "source": [
    "0.667**2 / 0.222 + 0**2 / 0.666 - 0.666**2 / 0.888"
   ]
  },
  {
   "cell_type": "markdown",
   "id": "1eb3de3c",
   "metadata": {},
   "source": [
    "Age"
   ]
  },
  {
   "cell_type": "code",
   "execution_count": 29,
   "id": "208fd932",
   "metadata": {},
   "outputs": [],
   "source": [
    "# Sorting gradients by age\n",
    "g = [0.667, -0.333, 0.667, -0.333]\n",
    "h = [0.222, 0.222, 0.222, 0.222] "
   ]
  },
  {
   "cell_type": "markdown",
   "id": "1cf839a7",
   "metadata": {},
   "source": [
    "Age < 29"
   ]
  },
  {
   "cell_type": "code",
   "execution_count": 30,
   "id": "1a388d18",
   "metadata": {},
   "outputs": [
    {
     "name": "stdout",
     "output_type": "stream",
     "text": [
      "G_L = 0.667, H_L = 0.222\n",
      "G_R = -0.0010000000000000009, H_R = 0.666\n",
      "gain = 1.5045060060060058\n"
     ]
    }
   ],
   "source": [
    "g_left = g[:1]\n",
    "h_left = h[:1]\n",
    "\n",
    "calc_gain(g_left, h_left, G, H)"
   ]
  },
  {
   "cell_type": "markdown",
   "id": "85c27148",
   "metadata": {},
   "source": [
    "Age < 32.5"
   ]
  },
  {
   "cell_type": "code",
   "execution_count": 31,
   "id": "997c537c",
   "metadata": {},
   "outputs": [
    {
     "name": "stdout",
     "output_type": "stream",
     "text": [
      "G_L = 0.334, H_L = 0.444\n",
      "G_R = 0.332, H_R = 0.444\n",
      "gain = 4.50450450451001e-06\n"
     ]
    }
   ],
   "source": [
    "g_left = g[:2]\n",
    "h_left = h[:2]\n",
    "\n",
    "calc_gain(g_left, h_left, G, H)"
   ]
  },
  {
   "cell_type": "markdown",
   "id": "630b6048",
   "metadata": {},
   "source": [
    "Age < 37.5"
   ]
  },
  {
   "cell_type": "code",
   "execution_count": 32,
   "id": "5ba54790",
   "metadata": {},
   "outputs": [
    {
     "name": "stdout",
     "output_type": "stream",
     "text": [
      "G_L = 1.0010000000000001, H_L = 0.666\n",
      "G_R = -0.3350000000000001, H_R = 0.22199999999999998\n",
      "gain = 1.510524024024024\n"
     ]
    }
   ],
   "source": [
    "g_left = g[:3]\n",
    "h_left = h[:3]\n",
    "\n",
    "calc_gain(g_left, h_left, G, H)"
   ]
  },
  {
   "cell_type": "code",
   "execution_count": 102,
   "id": "c46e824a",
   "metadata": {},
   "outputs": [
    {
     "data": {
      "text/plain": [
       "1.5075195195195195"
      ]
     },
     "execution_count": 102,
     "metadata": {},
     "output_type": "execute_result"
    }
   ],
   "source": [
    "1**2 / 0.666 + (-0.335)**2 / 0.222 - 0.666**2 / 0.888"
   ]
  },
  {
   "cell_type": "markdown",
   "id": "e6eb956c",
   "metadata": {},
   "source": [
    "Splitting by Income = Medium"
   ]
  },
  {
   "cell_type": "markdown",
   "id": "2dfa79af",
   "metadata": {},
   "source": [
    "Computing output values"
   ]
  },
  {
   "cell_type": "code",
   "execution_count": 33,
   "id": "eea28e6e",
   "metadata": {},
   "outputs": [
    {
     "data": {
      "text/plain": [
       "1.5"
      ]
     },
     "execution_count": 33,
     "metadata": {},
     "output_type": "execute_result"
    }
   ],
   "source": [
    "w1 = -(-0.666) / 0.444\n",
    "w1"
   ]
  },
  {
   "cell_type": "code",
   "execution_count": 34,
   "id": "dd384f79",
   "metadata": {},
   "outputs": [
    {
     "data": {
      "text/plain": [
       "-3.0045045045045047"
      ]
     },
     "execution_count": 34,
     "metadata": {},
     "output_type": "execute_result"
    }
   ],
   "source": [
    "w2 = -0.667 / 0.222\n",
    "w2"
   ]
  },
  {
   "cell_type": "code",
   "execution_count": 35,
   "id": "b3d379e0",
   "metadata": {},
   "outputs": [
    {
     "data": {
      "text/plain": [
       "0.0"
      ]
     },
     "execution_count": 35,
     "metadata": {},
     "output_type": "execute_result"
    }
   ],
   "source": [
    "w3 = -0 / 0.666\n",
    "w3"
   ]
  },
  {
   "cell_type": "markdown",
   "id": "0bb09c74",
   "metadata": {},
   "source": [
    "New predictions"
   ]
  },
  {
   "cell_type": "code",
   "execution_count": 36,
   "id": "8769bb2c",
   "metadata": {},
   "outputs": [
    {
     "data": {
      "text/plain": [
       "1.443"
      ]
     },
     "execution_count": 36,
     "metadata": {},
     "output_type": "execute_result"
    }
   ],
   "source": [
    "0.693 + 0.5 * 1.5"
   ]
  },
  {
   "cell_type": "code",
   "execution_count": 37,
   "id": "d7f6ac3c",
   "metadata": {},
   "outputs": [
    {
     "data": {
      "text/plain": [
       "0.8089187887784832"
      ]
     },
     "execution_count": 37,
     "metadata": {},
     "output_type": "execute_result"
    }
   ],
   "source": [
    "sigmoid(1.443)"
   ]
  },
  {
   "cell_type": "code",
   "execution_count": 38,
   "id": "64221378",
   "metadata": {},
   "outputs": [
    {
     "data": {
      "text/plain": [
       "0.693"
      ]
     },
     "execution_count": 38,
     "metadata": {},
     "output_type": "execute_result"
    }
   ],
   "source": [
    "0.693 + 0.5 * 0"
   ]
  },
  {
   "cell_type": "code",
   "execution_count": 39,
   "id": "3486c31d",
   "metadata": {},
   "outputs": [
    {
     "data": {
      "text/plain": [
       "0.6666339590733064"
      ]
     },
     "execution_count": 39,
     "metadata": {},
     "output_type": "execute_result"
    }
   ],
   "source": [
    "sigmoid(0.693)"
   ]
  },
  {
   "cell_type": "code",
   "execution_count": 40,
   "id": "5acaa990",
   "metadata": {},
   "outputs": [
    {
     "data": {
      "text/plain": [
       "-0.807"
      ]
     },
     "execution_count": 40,
     "metadata": {},
     "output_type": "execute_result"
    }
   ],
   "source": [
    "0.693 + 0.5 * (-3)"
   ]
  },
  {
   "cell_type": "code",
   "execution_count": 41,
   "id": "4d77f279",
   "metadata": {},
   "outputs": [
    {
     "data": {
      "text/plain": [
       "0.30853014568206916"
      ]
     },
     "execution_count": 41,
     "metadata": {},
     "output_type": "execute_result"
    }
   ],
   "source": [
    "sigmoid(-0.807)"
   ]
  },
  {
   "cell_type": "markdown",
   "id": "c83bf786",
   "metadata": {},
   "source": [
    "New gradiants and Hessians"
   ]
  },
  {
   "cell_type": "code",
   "execution_count": 42,
   "id": "613853b1",
   "metadata": {},
   "outputs": [
    {
     "data": {
      "text/plain": [
       "-0.19099999999999995"
      ]
     },
     "execution_count": 42,
     "metadata": {},
     "output_type": "execute_result"
    }
   ],
   "source": [
    "g1 = 0.809 - 1\n",
    "g1"
   ]
  },
  {
   "cell_type": "code",
   "execution_count": 43,
   "id": "be287be0",
   "metadata": {},
   "outputs": [
    {
     "data": {
      "text/plain": [
       "-0.33299999999999996"
      ]
     },
     "execution_count": 43,
     "metadata": {},
     "output_type": "execute_result"
    }
   ],
   "source": [
    "g2 = 0.667 - 1\n",
    "g2"
   ]
  },
  {
   "cell_type": "code",
   "execution_count": 44,
   "id": "5ff89f85",
   "metadata": {},
   "outputs": [
    {
     "data": {
      "text/plain": [
       "-0.19099999999999995"
      ]
     },
     "execution_count": 44,
     "metadata": {},
     "output_type": "execute_result"
    }
   ],
   "source": [
    "g3 = 0.809 - 1\n",
    "g3"
   ]
  },
  {
   "cell_type": "code",
   "execution_count": 45,
   "id": "f1c602af",
   "metadata": {},
   "outputs": [
    {
     "data": {
      "text/plain": [
       "0.667"
      ]
     },
     "execution_count": 45,
     "metadata": {},
     "output_type": "execute_result"
    }
   ],
   "source": [
    "g4 = 0.667 - 0\n",
    "g4"
   ]
  },
  {
   "cell_type": "code",
   "execution_count": 46,
   "id": "a393e7e4",
   "metadata": {},
   "outputs": [
    {
     "data": {
      "text/plain": [
       "0.309"
      ]
     },
     "execution_count": 46,
     "metadata": {},
     "output_type": "execute_result"
    }
   ],
   "source": [
    "g5 = 0.309 - 0\n",
    "g5"
   ]
  },
  {
   "cell_type": "code",
   "execution_count": 47,
   "id": "299b3543",
   "metadata": {},
   "outputs": [
    {
     "data": {
      "text/plain": [
       "-0.33299999999999996"
      ]
     },
     "execution_count": 47,
     "metadata": {},
     "output_type": "execute_result"
    }
   ],
   "source": [
    "g6 = 0.667 - 1\n",
    "g6"
   ]
  },
  {
   "cell_type": "code",
   "execution_count": 48,
   "id": "35ec3d08",
   "metadata": {},
   "outputs": [
    {
     "data": {
      "text/plain": [
       "0.15451899999999996"
      ]
     },
     "execution_count": 48,
     "metadata": {},
     "output_type": "execute_result"
    }
   ],
   "source": [
    "h1 = 0.809 * (1 - 0.809)\n",
    "h1"
   ]
  },
  {
   "cell_type": "code",
   "execution_count": 49,
   "id": "f670d4d7",
   "metadata": {},
   "outputs": [
    {
     "data": {
      "text/plain": [
       "0.22211099999999998"
      ]
     },
     "execution_count": 49,
     "metadata": {},
     "output_type": "execute_result"
    }
   ],
   "source": [
    "h2 = 0.667 * (1 - 0.667)\n",
    "h2"
   ]
  },
  {
   "cell_type": "code",
   "execution_count": 50,
   "id": "a021b76d",
   "metadata": {},
   "outputs": [
    {
     "data": {
      "text/plain": [
       "0.15451899999999996"
      ]
     },
     "execution_count": 50,
     "metadata": {},
     "output_type": "execute_result"
    }
   ],
   "source": [
    "h3 = 0.809 * (1 - 0.809)\n",
    "h3"
   ]
  },
  {
   "cell_type": "code",
   "execution_count": 51,
   "id": "2a289ff9",
   "metadata": {},
   "outputs": [
    {
     "data": {
      "text/plain": [
       "0.22211099999999998"
      ]
     },
     "execution_count": 51,
     "metadata": {},
     "output_type": "execute_result"
    }
   ],
   "source": [
    "h4 = 0.667 * (1 - 0.667)\n",
    "h4"
   ]
  },
  {
   "cell_type": "code",
   "execution_count": 52,
   "id": "a0f8562a",
   "metadata": {},
   "outputs": [
    {
     "data": {
      "text/plain": [
       "0.21351900000000001"
      ]
     },
     "execution_count": 52,
     "metadata": {},
     "output_type": "execute_result"
    }
   ],
   "source": [
    "h5 = 0.309 * (1 - 0.309)\n",
    "h5"
   ]
  },
  {
   "cell_type": "code",
   "execution_count": 53,
   "id": "fae91ee3",
   "metadata": {},
   "outputs": [
    {
     "data": {
      "text/plain": [
       "0.22211099999999998"
      ]
     },
     "execution_count": 53,
     "metadata": {},
     "output_type": "execute_result"
    }
   ],
   "source": [
    "h6 = 0.667 * (1 - 0.667)\n",
    "h6"
   ]
  },
  {
   "cell_type": "code",
   "execution_count": 54,
   "id": "cd7bfe56",
   "metadata": {},
   "outputs": [],
   "source": [
    "g_root = [-0.191, -0.333, -0.191, 0.667, 0.309, -0.333]\n",
    "h_root = [0.155, 0.222, 0.155, 0.222, 0.214, 0.222]"
   ]
  },
  {
   "cell_type": "code",
   "execution_count": 55,
   "id": "dfc870ef",
   "metadata": {},
   "outputs": [
    {
     "data": {
      "text/plain": [
       "-0.07200000000000006"
      ]
     },
     "execution_count": 55,
     "metadata": {},
     "output_type": "execute_result"
    }
   ],
   "source": [
    "G = np.sum(g_root)\n",
    "G"
   ]
  },
  {
   "cell_type": "code",
   "execution_count": 56,
   "id": "e82cad07",
   "metadata": {},
   "outputs": [
    {
     "data": {
      "text/plain": [
       "1.19"
      ]
     },
     "execution_count": 56,
     "metadata": {},
     "output_type": "execute_result"
    }
   ],
   "source": [
    "H = np.sum(h_root)\n",
    "H"
   ]
  },
  {
   "cell_type": "markdown",
   "id": "fb6defb1",
   "metadata": {},
   "source": [
    "Income = Low"
   ]
  },
  {
   "cell_type": "code",
   "execution_count": 57,
   "id": "fc000552",
   "metadata": {},
   "outputs": [
    {
     "name": "stdout",
     "output_type": "stream",
     "text": [
      "G_L = 0.14300000000000002, H_L = 0.599\n",
      "G_R = -0.21500000000000008, H_R = 0.591\n",
      "gain = 0.10799715176970179\n"
     ]
    }
   ],
   "source": [
    "g_left = [-0.191, -0.333, 0.667]\n",
    "h_left = [0.155, 0.222, 0.222]\n",
    "\n",
    "calc_gain(g_left, h_left, G, H)"
   ]
  },
  {
   "cell_type": "code",
   "execution_count": 58,
   "id": "66e9d4ac",
   "metadata": {},
   "outputs": [
    {
     "data": {
      "text/plain": [
       "0.1079971517697017"
      ]
     },
     "execution_count": 58,
     "metadata": {},
     "output_type": "execute_result"
    }
   ],
   "source": [
    "0.143**2 / 0.599 + (-0.215)**2 / 0.591 - (-0.072)**2 / 1.19"
   ]
  },
  {
   "cell_type": "markdown",
   "id": "259bd4ab",
   "metadata": {},
   "source": [
    "Income = Medium"
   ]
  },
  {
   "cell_type": "code",
   "execution_count": 59,
   "id": "6272577d",
   "metadata": {},
   "outputs": [
    {
     "name": "stdout",
     "output_type": "stream",
     "text": [
      "G_L = -0.036000000000000004, H_L = 0.523\n",
      "G_R = -0.03600000000000006, H_R = 0.6669999999999999\n",
      "gain = 6.473743702405197e-05\n"
     ]
    }
   ],
   "source": [
    "g_left = [-0.191, 0.155]\n",
    "h_left = [0.309, 0.214]\n",
    "\n",
    "calc_gain(g_left, h_left, G, H)"
   ]
  },
  {
   "cell_type": "markdown",
   "id": "bff509ee",
   "metadata": {},
   "source": [
    "Income = High"
   ]
  },
  {
   "cell_type": "code",
   "execution_count": 60,
   "id": "b78d30ba",
   "metadata": {},
   "outputs": [
    {
     "name": "stdout",
     "output_type": "stream",
     "text": [
      "G_L = -0.333, H_L = 0.222\n",
      "G_R = 0.26099999999999995, H_R = 0.968\n",
      "gain = 0.5655166313632892\n"
     ]
    }
   ],
   "source": [
    "g_left = [-0.333]\n",
    "h_left = [0.222]\n",
    "\n",
    "calc_gain(g_left, h_left, G, H)"
   ]
  },
  {
   "cell_type": "markdown",
   "id": "cdbeca8c",
   "metadata": {},
   "source": [
    "Education = High School"
   ]
  },
  {
   "cell_type": "code",
   "execution_count": 61,
   "id": "529a638e",
   "metadata": {},
   "outputs": [
    {
     "name": "stdout",
     "output_type": "stream",
     "text": [
      "G_L = 0.47600000000000003, H_L = 0.377\n",
      "G_R = -0.548, H_R = 0.813\n",
      "gain = 0.9660186587352356\n"
     ]
    }
   ],
   "source": [
    "g_left = [-0.191, 0.667]\n",
    "h_left = [0.155, 0.222]\n",
    "\n",
    "calc_gain(g_left, h_left, G, H)"
   ]
  },
  {
   "cell_type": "markdown",
   "id": "f4318dec",
   "metadata": {},
   "source": [
    "Age"
   ]
  },
  {
   "cell_type": "code",
   "execution_count": 62,
   "id": "a7449cde",
   "metadata": {},
   "outputs": [],
   "source": [
    "# Sorting gradients by age\n",
    "g = [-0.191, -0.191, 0.309, -0.333, 0.667, -0.333]\n",
    "h = [0.155, 0.155, 0.214, 0.222, 0.222, 0.222]"
   ]
  },
  {
   "cell_type": "markdown",
   "id": "b3d32123",
   "metadata": {},
   "source": [
    "Age < 23.5"
   ]
  },
  {
   "cell_type": "code",
   "execution_count": 63,
   "id": "eac350ea",
   "metadata": {},
   "outputs": [
    {
     "name": "stdout",
     "output_type": "stream",
     "text": [
      "G_L = -0.191, H_L = 0.155\n",
      "G_R = 0.11899999999999994, H_R = 1.035\n",
      "gain = 0.24468711340543697\n"
     ]
    }
   ],
   "source": [
    "g_left = g[:1]\n",
    "h_left = h[:1]\n",
    "\n",
    "calc_gain(g_left, h_left, G, H)"
   ]
  },
  {
   "cell_type": "markdown",
   "id": "3b2eb0d0",
   "metadata": {},
   "source": [
    "Age < 26.5"
   ]
  },
  {
   "cell_type": "code",
   "execution_count": 64,
   "id": "86db1df1",
   "metadata": {},
   "outputs": [
    {
     "name": "stdout",
     "output_type": "stream",
     "text": [
      "G_L = -0.382, H_L = 0.31\n",
      "G_R = 0.30999999999999994, H_R = 0.8799999999999999\n",
      "gain = 0.5755708235786984\n"
     ]
    }
   ],
   "source": [
    "g_left = g[:2]\n",
    "h_left = h[:2]\n",
    "\n",
    "calc_gain(g_left, h_left, G, H)"
   ]
  },
  {
   "cell_type": "markdown",
   "id": "10ffc0c3",
   "metadata": {},
   "source": [
    "Age < 29"
   ]
  },
  {
   "cell_type": "code",
   "execution_count": 65,
   "id": "439615e4",
   "metadata": {},
   "outputs": [
    {
     "name": "stdout",
     "output_type": "stream",
     "text": [
      "G_L = -0.07300000000000001, H_L = 0.524\n",
      "G_R = 0.0009999999999999454, H_R = 0.6659999999999999\n",
      "gain = 0.005815046308737366\n"
     ]
    }
   ],
   "source": [
    "g_left = g[:3]\n",
    "h_left = h[:3]\n",
    "\n",
    "calc_gain(g_left, h_left, G, H)"
   ]
  },
  {
   "cell_type": "markdown",
   "id": "d2f75f4f",
   "metadata": {},
   "source": [
    "Age < 32.5"
   ]
  },
  {
   "cell_type": "code",
   "execution_count": 66,
   "id": "fadecc23",
   "metadata": {},
   "outputs": [
    {
     "name": "stdout",
     "output_type": "stream",
     "text": [
      "G_L = -0.406, H_L = 0.746\n",
      "G_R = 0.33399999999999996, H_R = 0.44399999999999995\n",
      "gain = 0.467855735254032\n"
     ]
    }
   ],
   "source": [
    "g_left = g[:4]\n",
    "h_left = h[:4]\n",
    "\n",
    "calc_gain(g_left, h_left, G, H)"
   ]
  },
  {
   "cell_type": "markdown",
   "id": "2aa2363e",
   "metadata": {},
   "source": [
    "Age < 37.5"
   ]
  },
  {
   "cell_type": "code",
   "execution_count": 67,
   "id": "4a9a8a37",
   "metadata": {},
   "outputs": [
    {
     "name": "stdout",
     "output_type": "stream",
     "text": [
      "G_L = 0.261, H_L = 0.968\n",
      "G_R = -0.3330000000000001, H_R = 0.22199999999999998\n",
      "gain = 0.5655166313632894\n"
     ]
    }
   ],
   "source": [
    "g_left = g[:5]\n",
    "h_left = h[:5]\n",
    "\n",
    "calc_gain(g_left, h_left, G, H)"
   ]
  },
  {
   "cell_type": "markdown",
   "id": "6dec7057",
   "metadata": {},
   "source": [
    "Splitting by Education = High School"
   ]
  },
  {
   "cell_type": "markdown",
   "id": "3ca9a50c",
   "metadata": {},
   "source": [
    "#### Second level of the tree"
   ]
  },
  {
   "cell_type": "markdown",
   "id": "40163114",
   "metadata": {},
   "source": [
    "Left child node"
   ]
  },
  {
   "cell_type": "code",
   "execution_count": 68,
   "id": "e4afd3bb",
   "metadata": {},
   "outputs": [],
   "source": [
    "g_root = [-0.191, 0.667]\n",
    "h_root = [0.155, 0.222]\n",
    "\n",
    "G = 0.476\n",
    "H = 0.377"
   ]
  },
  {
   "cell_type": "markdown",
   "id": "2431599c",
   "metadata": {},
   "source": [
    "Split by Age < 30"
   ]
  },
  {
   "cell_type": "code",
   "execution_count": 69,
   "id": "70bf77a7",
   "metadata": {},
   "outputs": [
    {
     "name": "stdout",
     "output_type": "stream",
     "text": [
      "G_L = -0.191, H_L = 0.155\n",
      "G_R = 0.667, H_R = 0.222\n",
      "gain = 1.6383684473469793\n"
     ]
    }
   ],
   "source": [
    "g_left = g_root[0]\n",
    "h_left = h_root[0]\n",
    "\n",
    "calc_gain(g_left, h_left, G, H)"
   ]
  },
  {
   "cell_type": "markdown",
   "id": "2af25d84",
   "metadata": {},
   "source": [
    "Right child node"
   ]
  },
  {
   "cell_type": "code",
   "execution_count": 70,
   "id": "aa12989f",
   "metadata": {},
   "outputs": [],
   "source": [
    "g_root = [-0.333, -0.191, 0.309, -0.333]\n",
    "h_root = [0.222, 0.155, 0.214, 0.222]\n",
    "\n",
    "G = -0.548\n",
    "H = 0.813"
   ]
  },
  {
   "cell_type": "code",
   "execution_count": 71,
   "id": "32afc9e2",
   "metadata": {},
   "outputs": [
    {
     "data": {
      "text/plain": [
       "-0.548"
      ]
     },
     "execution_count": 71,
     "metadata": {},
     "output_type": "execute_result"
    }
   ],
   "source": [
    "np.sum(g_root)"
   ]
  },
  {
   "cell_type": "code",
   "execution_count": 72,
   "id": "110062c2",
   "metadata": {},
   "outputs": [
    {
     "data": {
      "text/plain": [
       "0.813"
      ]
     },
     "execution_count": 72,
     "metadata": {},
     "output_type": "execute_result"
    }
   ],
   "source": [
    "np.sum(h_root)"
   ]
  },
  {
   "cell_type": "markdown",
   "id": "7393ea4d",
   "metadata": {},
   "source": [
    "Income = Low"
   ]
  },
  {
   "cell_type": "code",
   "execution_count": 73,
   "id": "54a05bc2",
   "metadata": {},
   "outputs": [
    {
     "name": "stdout",
     "output_type": "stream",
     "text": [
      "G_L = -0.333, H_L = 0.222\n",
      "G_R = -0.21500000000000002, H_R = 0.591\n",
      "gain = 0.2083372762407827\n"
     ]
    }
   ],
   "source": [
    "g_left = [-0.333]\n",
    "h_left = [0.222]\n",
    "\n",
    "calc_gain(g_left, h_left, G, H)"
   ]
  },
  {
   "cell_type": "markdown",
   "id": "6a1a54c2",
   "metadata": {},
   "source": [
    "Income = Medium"
   ]
  },
  {
   "cell_type": "code",
   "execution_count": 74,
   "id": "2e67ce8e",
   "metadata": {},
   "outputs": [
    {
     "name": "stdout",
     "output_type": "stream",
     "text": [
      "G_L = 0.118, H_L = 0.369\n",
      "G_R = -0.666, H_R = 0.44399999999999995\n",
      "gain = 0.6673568035680358\n"
     ]
    }
   ],
   "source": [
    "g_left = [-0.191, 0.309]\n",
    "h_left = [0.155, 0.214]\n",
    "\n",
    "calc_gain(g_left, h_left, G, H)"
   ]
  },
  {
   "cell_type": "markdown",
   "id": "b7fc1282",
   "metadata": {},
   "source": [
    "Income = High"
   ]
  },
  {
   "cell_type": "code",
   "execution_count": 75,
   "id": "47340461",
   "metadata": {},
   "outputs": [
    {
     "name": "stdout",
     "output_type": "stream",
     "text": [
      "G_L = -0.333, H_L = 0.222\n",
      "G_R = -0.21500000000000002, H_R = 0.591\n",
      "gain = 0.2083372762407827\n"
     ]
    }
   ],
   "source": [
    "g_left = [-0.333]\n",
    "h_left = [0.222]\n",
    "\n",
    "calc_gain(g_left, h_left, G, H)"
   ]
  },
  {
   "cell_type": "markdown",
   "id": "b7caf473",
   "metadata": {},
   "source": [
    "Age"
   ]
  },
  {
   "cell_type": "code",
   "execution_count": 76,
   "id": "e95773a4",
   "metadata": {},
   "outputs": [],
   "source": [
    "# Sorting gradients by age\n",
    "g = [-0.191, 0.309, -0.333, -0.333]\n",
    "h = [0.155, 0.214, 0.222, 0.222] "
   ]
  },
  {
   "cell_type": "markdown",
   "id": "515155c9",
   "metadata": {},
   "source": [
    "Age < 25"
   ]
  },
  {
   "cell_type": "code",
   "execution_count": 77,
   "id": "c08d62a7",
   "metadata": {},
   "outputs": [
    {
     "name": "stdout",
     "output_type": "stream",
     "text": [
      "G_L = -0.191, H_L = 0.155\n",
      "G_R = -0.35700000000000004, H_R = 0.6579999999999999\n",
      "gain = 0.05967516590814498\n"
     ]
    }
   ],
   "source": [
    "g_left = g[:1]\n",
    "h_left = h[:1]\n",
    "\n",
    "calc_gain(g_left, h_left, G, H)"
   ]
  },
  {
   "cell_type": "markdown",
   "id": "100911ec",
   "metadata": {},
   "source": [
    "Age < 29"
   ]
  },
  {
   "cell_type": "code",
   "execution_count": 78,
   "id": "66d736fc",
   "metadata": {},
   "outputs": [
    {
     "name": "stdout",
     "output_type": "stream",
     "text": [
      "G_L = 0.118, H_L = 0.369\n",
      "G_R = -0.666, H_R = 0.44399999999999995\n",
      "gain = 0.6673568035680358\n"
     ]
    }
   ],
   "source": [
    "g_left = g[:2]\n",
    "h_left = h[:2]\n",
    "\n",
    "calc_gain(g_left, h_left, G, H)"
   ]
  },
  {
   "cell_type": "markdown",
   "id": "990e6764",
   "metadata": {},
   "source": [
    "Age < 35"
   ]
  },
  {
   "cell_type": "code",
   "execution_count": 79,
   "id": "2827f0d8",
   "metadata": {},
   "outputs": [
    {
     "name": "stdout",
     "output_type": "stream",
     "text": [
      "G_L = -0.21500000000000002, H_L = 0.591\n",
      "G_R = -0.333, H_R = 0.22199999999999998\n",
      "gain = 0.2083372762407827\n"
     ]
    }
   ],
   "source": [
    "g_left = g[:3]\n",
    "h_left = h[:3]\n",
    "\n",
    "calc_gain(g_left, h_left, G, H)"
   ]
  },
  {
   "cell_type": "markdown",
   "id": "9b2ac519",
   "metadata": {},
   "source": [
    "Splitting by Income = Medium"
   ]
  },
  {
   "cell_type": "markdown",
   "id": "50d38196",
   "metadata": {},
   "source": [
    "Computing output values"
   ]
  },
  {
   "cell_type": "code",
   "execution_count": 80,
   "id": "a56cba6f",
   "metadata": {},
   "outputs": [
    {
     "data": {
      "text/plain": [
       "1.232258064516129"
      ]
     },
     "execution_count": 80,
     "metadata": {},
     "output_type": "execute_result"
    }
   ],
   "source": [
    "w1 = -(-0.191) / 0.155\n",
    "w1"
   ]
  },
  {
   "cell_type": "code",
   "execution_count": 81,
   "id": "2aa6ae6e",
   "metadata": {},
   "outputs": [
    {
     "data": {
      "text/plain": [
       "-3.0045045045045047"
      ]
     },
     "execution_count": 81,
     "metadata": {},
     "output_type": "execute_result"
    }
   ],
   "source": [
    "w2 = -0.667 / 0.222\n",
    "w2"
   ]
  },
  {
   "cell_type": "code",
   "execution_count": 82,
   "id": "133d7f34",
   "metadata": {},
   "outputs": [
    {
     "data": {
      "text/plain": [
       "-0.3197831978319783"
      ]
     },
     "execution_count": 82,
     "metadata": {},
     "output_type": "execute_result"
    }
   ],
   "source": [
    "w3 = -0.118 / 0.369\n",
    "w3"
   ]
  },
  {
   "cell_type": "code",
   "execution_count": 83,
   "id": "b30b18d2",
   "metadata": {},
   "outputs": [
    {
     "data": {
      "text/plain": [
       "1.5"
      ]
     },
     "execution_count": 83,
     "metadata": {},
     "output_type": "execute_result"
    }
   ],
   "source": [
    "w4 = -(-0.666) / 0.444\n",
    "w4"
   ]
  },
  {
   "cell_type": "markdown",
   "id": "f448db21",
   "metadata": {},
   "source": [
    "New predictions"
   ]
  },
  {
   "cell_type": "code",
   "execution_count": 90,
   "id": "b7d73c51",
   "metadata": {},
   "outputs": [
    {
     "data": {
      "text/plain": [
       "2.059"
      ]
     },
     "execution_count": 90,
     "metadata": {},
     "output_type": "execute_result"
    }
   ],
   "source": [
    "1.443 + 0.5 * 1.232"
   ]
  },
  {
   "cell_type": "code",
   "execution_count": 92,
   "id": "84e6c5da",
   "metadata": {},
   "outputs": [
    {
     "data": {
      "text/plain": [
       "0.8868538646523597"
      ]
     },
     "execution_count": 92,
     "metadata": {},
     "output_type": "execute_result"
    }
   ],
   "source": [
    "sigmoid(2.059)"
   ]
  },
  {
   "cell_type": "code",
   "execution_count": 91,
   "id": "1cc78704",
   "metadata": {},
   "outputs": [
    {
     "data": {
      "text/plain": [
       "1.443"
      ]
     },
     "execution_count": 91,
     "metadata": {},
     "output_type": "execute_result"
    }
   ],
   "source": [
    "0.693 + 0.5 * 1.5"
   ]
  },
  {
   "cell_type": "code",
   "execution_count": 93,
   "id": "c99b6d3c",
   "metadata": {},
   "outputs": [
    {
     "data": {
      "text/plain": [
       "0.8089187887784832"
      ]
     },
     "execution_count": 93,
     "metadata": {},
     "output_type": "execute_result"
    }
   ],
   "source": [
    "sigmoid(1.443)"
   ]
  },
  {
   "cell_type": "code",
   "execution_count": 94,
   "id": "f450c3f3",
   "metadata": {},
   "outputs": [
    {
     "data": {
      "text/plain": [
       "1.2830000000000001"
      ]
     },
     "execution_count": 94,
     "metadata": {},
     "output_type": "execute_result"
    }
   ],
   "source": [
    "1.443 + 0.5 * (-0.32)"
   ]
  },
  {
   "cell_type": "code",
   "execution_count": 95,
   "id": "ae3f943a",
   "metadata": {},
   "outputs": [
    {
     "data": {
      "text/plain": [
       "0.7829600100656982"
      ]
     },
     "execution_count": 95,
     "metadata": {},
     "output_type": "execute_result"
    }
   ],
   "source": [
    "sigmoid(1.283)"
   ]
  },
  {
   "cell_type": "code",
   "execution_count": 96,
   "id": "80a68374",
   "metadata": {},
   "outputs": [
    {
     "data": {
      "text/plain": [
       "-0.807"
      ]
     },
     "execution_count": 96,
     "metadata": {},
     "output_type": "execute_result"
    }
   ],
   "source": [
    "0.693 + 0.5 * (-3)"
   ]
  },
  {
   "cell_type": "code",
   "execution_count": 97,
   "id": "2e41ae08",
   "metadata": {},
   "outputs": [
    {
     "data": {
      "text/plain": [
       "0.30853014568206916"
      ]
     },
     "execution_count": 97,
     "metadata": {},
     "output_type": "execute_result"
    }
   ],
   "source": [
    "sigmoid(-0.807)"
   ]
  },
  {
   "cell_type": "code",
   "execution_count": 98,
   "id": "3846308c",
   "metadata": {},
   "outputs": [
    {
     "data": {
      "text/plain": [
       "-0.9670000000000001"
      ]
     },
     "execution_count": 98,
     "metadata": {},
     "output_type": "execute_result"
    }
   ],
   "source": [
    "-0.807 + 0.5 * (-0.32)"
   ]
  },
  {
   "cell_type": "code",
   "execution_count": 99,
   "id": "76728d3a",
   "metadata": {},
   "outputs": [
    {
     "data": {
      "text/plain": [
       "0.2754788695089835"
      ]
     },
     "execution_count": 99,
     "metadata": {},
     "output_type": "execute_result"
    }
   ],
   "source": [
    "sigmoid(-0.967)"
   ]
  },
  {
   "cell_type": "code",
   "execution_count": 100,
   "id": "12e0d28d",
   "metadata": {},
   "outputs": [
    {
     "data": {
      "text/plain": [
       "1.443"
      ]
     },
     "execution_count": 100,
     "metadata": {},
     "output_type": "execute_result"
    }
   ],
   "source": [
    "0.693 + 0.5 * 1.5"
   ]
  },
  {
   "cell_type": "code",
   "execution_count": 101,
   "id": "a4f7f4e2",
   "metadata": {},
   "outputs": [
    {
     "data": {
      "text/plain": [
       "0.8089187887784832"
      ]
     },
     "execution_count": 101,
     "metadata": {},
     "output_type": "execute_result"
    }
   ],
   "source": [
    "sigmoid(1.443)"
   ]
  },
  {
   "cell_type": "code",
   "execution_count": null,
   "id": "b032d065",
   "metadata": {},
   "outputs": [],
   "source": []
  }
 ],
 "metadata": {
  "kernelspec": {
   "display_name": "Python 3 (ipykernel)",
   "language": "python",
   "name": "python3"
  },
  "language_info": {
   "codemirror_mode": {
    "name": "ipython",
    "version": 3
   },
   "file_extension": ".py",
   "mimetype": "text/x-python",
   "name": "python",
   "nbconvert_exporter": "python",
   "pygments_lexer": "ipython3",
   "version": "3.9.12"
  }
 },
 "nbformat": 4,
 "nbformat_minor": 5
}
