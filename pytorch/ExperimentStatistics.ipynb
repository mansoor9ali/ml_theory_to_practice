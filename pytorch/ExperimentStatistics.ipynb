{
 "cells": [
  {
   "cell_type": "code",
   "execution_count": 1,
   "id": "51d9c501",
   "metadata": {},
   "outputs": [],
   "source": [
    "import numpy as np"
   ]
  },
  {
   "cell_type": "markdown",
   "id": "07b11cc2",
   "metadata": {},
   "source": [
    "PyTorch"
   ]
  },
  {
   "cell_type": "code",
   "execution_count": 14,
   "id": "abc6f0b6",
   "metadata": {},
   "outputs": [
    {
     "name": "stdout",
     "output_type": "stream",
     "text": [
      "586.275s (± 10.35)\n"
     ]
    }
   ],
   "source": [
    "training_time = [589.440, 584.378, 575.473, 604.453, 577.629]\n",
    "print(f'{np.mean(training_time):.3f}s (± {np.std(training_time):.2f})')"
   ]
  },
  {
   "cell_type": "code",
   "execution_count": 15,
   "id": "cf6df86b",
   "metadata": {},
   "outputs": [
    {
     "name": "stdout",
     "output_type": "stream",
     "text": [
      "79.590% (± 1.33)\n"
     ]
    }
   ],
   "source": [
    "training_accuracy = [77.251, 78.969, 80.549, 80.518, 80.664]\n",
    "print(f'{np.mean(training_accuracy):.3f}% (± {np.std(training_accuracy):.2f})')"
   ]
  },
  {
   "cell_type": "code",
   "execution_count": 16,
   "id": "a17a9722",
   "metadata": {},
   "outputs": [
    {
     "name": "stdout",
     "output_type": "stream",
     "text": [
      "70.708% (± 0.70)\n"
     ]
    }
   ],
   "source": [
    "test_accuracy = [69.930, 69.930, 71.430, 71.540, 70.710]\n",
    "print(f'{np.mean(test_accuracy):.3f}% (± {np.std(test_accuracy):.2f})')"
   ]
  },
  {
   "cell_type": "markdown",
   "id": "4fc4ad14",
   "metadata": {},
   "source": [
    "TensorFlow"
   ]
  },
  {
   "cell_type": "code",
   "execution_count": 10,
   "id": "0a46305f",
   "metadata": {},
   "outputs": [
    {
     "name": "stdout",
     "output_type": "stream",
     "text": [
      "307.678s (± 15.21)\n"
     ]
    }
   ],
   "source": [
    "training_time = [302.997, 318.020, 292.007, 293.546, 331.819]\n",
    "print(f'{np.mean(training_time):.3f}s (± {np.std(training_time):.2f})')"
   ]
  },
  {
   "cell_type": "code",
   "execution_count": 12,
   "id": "39bf69fd",
   "metadata": {},
   "outputs": [
    {
     "name": "stdout",
     "output_type": "stream",
     "text": [
      "82.342% (± 1.12)\n"
     ]
    }
   ],
   "source": [
    "training_accuracy = [80.602, 81.794, 82.356, 83.916, 83.042]\n",
    "print(f'{np.mean(training_accuracy):.3f}% (± {np.std(training_accuracy):.2f})')"
   ]
  },
  {
   "cell_type": "code",
   "execution_count": 13,
   "id": "d32ef9cc",
   "metadata": {},
   "outputs": [
    {
     "name": "stdout",
     "output_type": "stream",
     "text": [
      "71.326% (± 0.71)\n"
     ]
    }
   ],
   "source": [
    "test_accuracy = [70.120, 71.010, 71.450, 72.040, 72.010]\n",
    "print(f'{np.mean(test_accuracy):.3f}% (± {np.std(test_accuracy):.2f})')"
   ]
  },
  {
   "cell_type": "code",
   "execution_count": null,
   "id": "29cf5942",
   "metadata": {},
   "outputs": [],
   "source": []
  }
 ],
 "metadata": {
  "kernelspec": {
   "display_name": "Python 3 (ipykernel)",
   "language": "python",
   "name": "python3"
  },
  "language_info": {
   "codemirror_mode": {
    "name": "ipython",
    "version": 3
   },
   "file_extension": ".py",
   "mimetype": "text/x-python",
   "name": "python",
   "nbconvert_exporter": "python",
   "pygments_lexer": "ipython3",
   "version": "3.9.12"
  }
 },
 "nbformat": 4,
 "nbformat_minor": 5
}
