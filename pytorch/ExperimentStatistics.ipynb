{
 "cells": [
  {
   "cell_type": "code",
   "execution_count": 2,
   "id": "51d9c501",
   "metadata": {},
   "outputs": [],
   "source": [
    "import numpy as np"
   ]
  },
  {
   "cell_type": "markdown",
   "id": "07b11cc2",
   "metadata": {},
   "source": [
    "PyTorch"
   ]
  },
  {
   "cell_type": "code",
   "execution_count": 3,
   "id": "abc6f0b6",
   "metadata": {},
   "outputs": [
    {
     "name": "stdout",
     "output_type": "stream",
     "text": [
      "119.340s (± 3.60)\n"
     ]
    }
   ],
   "source": [
    "training_time = [115.190, 121.344, 117.768, 117.075, 125.322]\n",
    "print(f'{np.mean(training_time):.3f}s (± {np.std(training_time):.2f})')"
   ]
  },
  {
   "cell_type": "code",
   "execution_count": 4,
   "id": "cf6df86b",
   "metadata": {},
   "outputs": [
    {
     "name": "stdout",
     "output_type": "stream",
     "text": [
      "80.832% (± 0.56)\n"
     ]
    }
   ],
   "source": [
    "training_accuracy = [81.036, 81.053, 79.742, 80.956, 81.373]\n",
    "print(f'{np.mean(training_accuracy):.3f}% (± {np.std(training_accuracy):.2f})')"
   ]
  },
  {
   "cell_type": "code",
   "execution_count": 5,
   "id": "a17a9722",
   "metadata": {},
   "outputs": [
    {
     "name": "stdout",
     "output_type": "stream",
     "text": [
      "71.216% (± 0.65)\n"
     ]
    }
   ],
   "source": [
    "test_accuracy = [72.350, 71.320, 70.740, 71.210, 70.460]\n",
    "print(f'{np.mean(test_accuracy):.3f}% (± {np.std(test_accuracy):.2f})')"
   ]
  },
  {
   "cell_type": "markdown",
   "id": "47e6bb5e",
   "metadata": {},
   "source": [
    "TensorFlow (with He initialization)"
   ]
  },
  {
   "cell_type": "code",
   "execution_count": 5,
   "id": "7dc598ad",
   "metadata": {},
   "outputs": [
    {
     "name": "stdout",
     "output_type": "stream",
     "text": [
      "310.355s (± 1.95)\n"
     ]
    }
   ],
   "source": [
    "training_time = [311.346, 312.848, 308.333, 311.446, 307.802]\n",
    "print(f'{np.mean(training_time):.3f}s (± {np.std(training_time):.2f})')"
   ]
  },
  {
   "cell_type": "code",
   "execution_count": 6,
   "id": "950e5dbe",
   "metadata": {},
   "outputs": [
    {
     "name": "stdout",
     "output_type": "stream",
     "text": [
      "84.868% (± 0.52)\n"
     ]
    }
   ],
   "source": [
    "training_accuracy = [84.948, 84.992, 84.368, 84.302, 85.732]\n",
    "print(f'{np.mean(training_accuracy):.3f}% (± {np.std(training_accuracy):.2f})')"
   ]
  },
  {
   "cell_type": "code",
   "execution_count": 7,
   "id": "36ca19e0",
   "metadata": {},
   "outputs": [
    {
     "name": "stdout",
     "output_type": "stream",
     "text": [
      "72.604% (± 0.27)\n"
     ]
    }
   ],
   "source": [
    "test_accuracy = [72.470, 72.370, 72.380, 72.710, 73.090]\n",
    "print(f'{np.mean(test_accuracy):.3f}% (± {np.std(test_accuracy):.2f})')"
   ]
  },
  {
   "cell_type": "markdown",
   "id": "4fc4ad14",
   "metadata": {},
   "source": [
    "TensorFlow (default Glorot weight initialization)"
   ]
  },
  {
   "cell_type": "code",
   "execution_count": 8,
   "id": "0a46305f",
   "metadata": {},
   "outputs": [
    {
     "name": "stdout",
     "output_type": "stream",
     "text": [
      "307.678s (± 15.21)\n"
     ]
    }
   ],
   "source": [
    "training_time = [302.997, 318.020, 292.007, 293.546, 331.819]\n",
    "print(f'{np.mean(training_time):.3f}s (± {np.std(training_time):.2f})')"
   ]
  },
  {
   "cell_type": "code",
   "execution_count": 9,
   "id": "39bf69fd",
   "metadata": {},
   "outputs": [
    {
     "name": "stdout",
     "output_type": "stream",
     "text": [
      "82.342% (± 1.12)\n"
     ]
    }
   ],
   "source": [
    "training_accuracy = [80.602, 81.794, 82.356, 83.916, 83.042]\n",
    "print(f'{np.mean(training_accuracy):.3f}% (± {np.std(training_accuracy):.2f})')"
   ]
  },
  {
   "cell_type": "code",
   "execution_count": 10,
   "id": "d32ef9cc",
   "metadata": {},
   "outputs": [
    {
     "name": "stdout",
     "output_type": "stream",
     "text": [
      "71.326% (± 0.71)\n"
     ]
    }
   ],
   "source": [
    "test_accuracy = [70.120, 71.010, 71.450, 72.040, 72.010]\n",
    "print(f'{np.mean(test_accuracy):.3f}% (± {np.std(test_accuracy):.2f})')"
   ]
  },
  {
   "cell_type": "code",
   "execution_count": null,
   "id": "29cf5942",
   "metadata": {},
   "outputs": [],
   "source": []
  }
 ],
 "metadata": {
  "kernelspec": {
   "display_name": "Python 3 (ipykernel)",
   "language": "python",
   "name": "python3"
  },
  "language_info": {
   "codemirror_mode": {
    "name": "ipython",
    "version": 3
   },
   "file_extension": ".py",
   "mimetype": "text/x-python",
   "name": "python",
   "nbconvert_exporter": "python",
   "pygments_lexer": "ipython3",
   "version": "3.9.12"
  }
 },
 "nbformat": 4,
 "nbformat_minor": 5
}
