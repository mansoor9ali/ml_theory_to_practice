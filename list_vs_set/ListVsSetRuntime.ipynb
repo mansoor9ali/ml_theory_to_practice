{
 "cells": [
  {
   "cell_type": "code",
   "execution_count": 1,
   "id": "a3eb264b",
   "metadata": {},
   "outputs": [],
   "source": [
    "# Author: Roi Yehoshua <roiyeho@gmail.com>\n",
    "# License: MIT\n",
    "\n",
    "import random\n",
    "\n",
    "random.seed(42)"
   ]
  },
  {
   "cell_type": "code",
   "execution_count": 2,
   "id": "301f3ca9",
   "metadata": {},
   "outputs": [],
   "source": [
    "def test_list():\n",
    "    lst = []\n",
    "    for i in range(10000):\n",
    "        lst.append(random.randint(1, 1000000))\n",
    "        \n",
    "    count = 0\n",
    "    for i in range(10000):\n",
    "        num = random.randint(1, 1000000)\n",
    "        if num in lst:\n",
    "            count += 1\n",
    "    return count"
   ]
  },
  {
   "cell_type": "code",
   "execution_count": 3,
   "id": "040f1f41",
   "metadata": {},
   "outputs": [],
   "source": [
    "def test_set():\n",
    "    my_set = set()\n",
    "    for i in range(10000):\n",
    "        my_set.add(random.randint(1, 1000000))\n",
    "        \n",
    "    count = 0\n",
    "    for i in range(10000):\n",
    "        num = random.randint(1, 1000000)\n",
    "        if num in my_set:\n",
    "            count += 1\n",
    "    return count"
   ]
  },
  {
   "cell_type": "code",
   "execution_count": 4,
   "id": "3dc48494",
   "metadata": {},
   "outputs": [
    {
     "name": "stdout",
     "output_type": "stream",
     "text": [
      "1.03 s ± 7.74 ms per loop (mean ± std. dev. of 7 runs, 1 loop each)\n"
     ]
    }
   ],
   "source": [
    "%timeit test_list()"
   ]
  },
  {
   "cell_type": "code",
   "execution_count": 5,
   "id": "4812b480",
   "metadata": {},
   "outputs": [
    {
     "name": "stdout",
     "output_type": "stream",
     "text": [
      "14.9 ms ± 201 µs per loop (mean ± std. dev. of 7 runs, 100 loops each)\n"
     ]
    }
   ],
   "source": [
    "%timeit test_set()"
   ]
  },
  {
   "cell_type": "code",
   "execution_count": 7,
   "id": "bdcfec92",
   "metadata": {},
   "outputs": [
    {
     "data": {
      "text/plain": [
       "67.31543624161074"
      ]
     },
     "execution_count": 7,
     "metadata": {},
     "output_type": "execute_result"
    }
   ],
   "source": [
    "1003 / 14.9"
   ]
  },
  {
   "cell_type": "code",
   "execution_count": null,
   "id": "893345e2",
   "metadata": {},
   "outputs": [],
   "source": []
  }
 ],
 "metadata": {
  "kernelspec": {
   "display_name": "Python 3 (ipykernel)",
   "language": "python",
   "name": "python3"
  },
  "language_info": {
   "codemirror_mode": {
    "name": "ipython",
    "version": 3
   },
   "file_extension": ".py",
   "mimetype": "text/x-python",
   "name": "python",
   "nbconvert_exporter": "python",
   "pygments_lexer": "ipython3",
   "version": "3.9.12"
  }
 },
 "nbformat": 4,
 "nbformat_minor": 5
}
