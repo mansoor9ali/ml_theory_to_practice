{
 "cells": [
  {
   "cell_type": "code",
   "execution_count": 1,
   "id": "d2c607ed",
   "metadata": {},
   "outputs": [],
   "source": [
    "import random\n",
    "\n",
    "random.seed(42)"
   ]
  },
  {
   "cell_type": "code",
   "execution_count": 2,
   "id": "5f2abfb4",
   "metadata": {},
   "outputs": [],
   "source": [
    "def find_common(lst1, lst2):\n",
    "    result = set()\n",
    "    for x in lst1:\n",
    "        if x in lst2:\n",
    "            result.add(x)\n",
    "    return list(result)"
   ]
  },
  {
   "cell_type": "code",
   "execution_count": 3,
   "id": "d2a43c44",
   "metadata": {},
   "outputs": [],
   "source": [
    "def find_common2(lst1, lst2):\n",
    "    set1 = set(lst1)\n",
    "    set2 = set(lst2)\n",
    "    result = set1 & set2\n",
    "    return list(result)"
   ]
  },
  {
   "cell_type": "code",
   "execution_count": 4,
   "id": "2703c576",
   "metadata": {},
   "outputs": [],
   "source": [
    "lst1 = [random.randint(1, 100000) for _ in range(1000) ]\n",
    "lst2 = [random.randint(1, 100000) for _ in range(1000) ]"
   ]
  },
  {
   "cell_type": "code",
   "execution_count": 5,
   "id": "05424279",
   "metadata": {},
   "outputs": [
    {
     "name": "stdout",
     "output_type": "stream",
     "text": [
      "[74178, 85991, 61994, 29452, 30162, 97913, 50141]\n"
     ]
    }
   ],
   "source": [
    "print(find_common(lst1, lst2))"
   ]
  },
  {
   "cell_type": "code",
   "execution_count": 6,
   "id": "7843efca",
   "metadata": {},
   "outputs": [
    {
     "name": "stdout",
     "output_type": "stream",
     "text": [
      "[74178, 85991, 61994, 29452, 30162, 97913, 50141]\n"
     ]
    }
   ],
   "source": [
    "print(find_common2(lst1, lst2))"
   ]
  },
  {
   "cell_type": "code",
   "execution_count": 7,
   "id": "c0917ed8",
   "metadata": {},
   "outputs": [
    {
     "name": "stdout",
     "output_type": "stream",
     "text": [
      "9.84 ms ± 75.2 µs per loop (mean ± std. dev. of 7 runs, 100 loops each)\n"
     ]
    }
   ],
   "source": [
    "%timeit find_common(lst1, lst2)"
   ]
  },
  {
   "cell_type": "code",
   "execution_count": 8,
   "id": "0d992e6e",
   "metadata": {},
   "outputs": [
    {
     "name": "stdout",
     "output_type": "stream",
     "text": [
      "66.8 µs ± 422 ns per loop (mean ± std. dev. of 7 runs, 10,000 loops each)\n"
     ]
    }
   ],
   "source": [
    "%timeit find_common2(lst1, lst2)"
   ]
  },
  {
   "cell_type": "code",
   "execution_count": 9,
   "id": "7d500ba9",
   "metadata": {},
   "outputs": [
    {
     "data": {
      "text/plain": [
       "147.30538922155688"
      ]
     },
     "execution_count": 9,
     "metadata": {},
     "output_type": "execute_result"
    }
   ],
   "source": [
    "9.84 / 0.0668"
   ]
  },
  {
   "cell_type": "code",
   "execution_count": null,
   "id": "d9b71bfa",
   "metadata": {},
   "outputs": [],
   "source": []
  }
 ],
 "metadata": {
  "kernelspec": {
   "display_name": "Python 3 (ipykernel)",
   "language": "python",
   "name": "python3"
  },
  "language_info": {
   "codemirror_mode": {
    "name": "ipython",
    "version": 3
   },
   "file_extension": ".py",
   "mimetype": "text/x-python",
   "name": "python",
   "nbconvert_exporter": "python",
   "pygments_lexer": "ipython3",
   "version": "3.9.12"
  }
 },
 "nbformat": 4,
 "nbformat_minor": 5
}
