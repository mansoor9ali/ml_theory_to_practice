{
 "cells": [
  {
   "cell_type": "code",
   "execution_count": 1,
   "id": "118dd4a6-b806-4c84-b7b0-b06bd9ee83c7",
   "metadata": {},
   "outputs": [
    {
     "name": "stdout",
     "output_type": "stream",
     "text": [
      "Requirement already satisfied: lightgbm in /Users/vitthalsrinivasan/anaconda3/lib/python3.10/site-packages (4.6.0)\n",
      "Requirement already satisfied: scipy in /Users/vitthalsrinivasan/anaconda3/lib/python3.10/site-packages (from lightgbm) (1.10.0)\n",
      "Requirement already satisfied: numpy>=1.17.0 in /Users/vitthalsrinivasan/anaconda3/lib/python3.10/site-packages (from lightgbm) (1.23.5)\n",
      "Note: you may need to restart the kernel to use updated packages.\n"
     ]
    }
   ],
   "source": [
    "pip install lightgbm"
   ]
  },
  {
   "cell_type": "code",
   "execution_count": 75,
   "id": "b332aeb7",
   "metadata": {},
   "outputs": [],
   "source": [
    "import pandas as pd\n",
    "import numpy as np\n",
    "import matplotlib.pyplot as plt\n",
    "import seaborn as sns\n",
    "\n",
    "from sklearn.model_selection import train_test_split\n",
    "from sklearn.metrics import (\n",
    "    accuracy_score, precision_score, recall_score, f1_score, roc_auc_score\n",
    ")"
   ]
  },
  {
   "cell_type": "code",
   "execution_count": 76,
   "id": "2b205c3e",
   "metadata": {},
   "outputs": [
    {
     "name": "stdout",
     "output_type": "stream",
     "text": [
      "4.6.0\n"
     ]
    }
   ],
   "source": [
    "import lightgbm as lgb\n",
    "\n",
    "print(lgb.__version__)"
   ]
  },
  {
   "cell_type": "markdown",
   "id": "984126db",
   "metadata": {},
   "source": [
    "## Load Data and Preprocessing"
   ]
  },
  {
   "cell_type": "code",
   "execution_count": 77,
   "id": "e30f9c71",
   "metadata": {},
   "outputs": [
    {
     "data": {
      "text/html": [
       "<div>\n",
       "<style scoped>\n",
       "    .dataframe tbody tr th:only-of-type {\n",
       "        vertical-align: middle;\n",
       "    }\n",
       "\n",
       "    .dataframe tbody tr th {\n",
       "        vertical-align: top;\n",
       "    }\n",
       "\n",
       "    .dataframe thead th {\n",
       "        text-align: right;\n",
       "    }\n",
       "</style>\n",
       "<table border=\"1\" class=\"dataframe\">\n",
       "  <thead>\n",
       "    <tr style=\"text-align: right;\">\n",
       "      <th></th>\n",
       "      <th>0</th>\n",
       "      <th>1</th>\n",
       "      <th>2</th>\n",
       "      <th>3</th>\n",
       "      <th>4</th>\n",
       "    </tr>\n",
       "  </thead>\n",
       "  <tbody>\n",
       "    <tr>\n",
       "      <th>employee_id</th>\n",
       "      <td>65438</td>\n",
       "      <td>65141</td>\n",
       "      <td>7513</td>\n",
       "      <td>2542</td>\n",
       "      <td>48945</td>\n",
       "    </tr>\n",
       "    <tr>\n",
       "      <th>department</th>\n",
       "      <td>Sales &amp; Marketing</td>\n",
       "      <td>Operations</td>\n",
       "      <td>Sales &amp; Marketing</td>\n",
       "      <td>Sales &amp; Marketing</td>\n",
       "      <td>Technology</td>\n",
       "    </tr>\n",
       "    <tr>\n",
       "      <th>region</th>\n",
       "      <td>region_7</td>\n",
       "      <td>region_22</td>\n",
       "      <td>region_19</td>\n",
       "      <td>region_23</td>\n",
       "      <td>region_26</td>\n",
       "    </tr>\n",
       "    <tr>\n",
       "      <th>education</th>\n",
       "      <td>Master's &amp; above</td>\n",
       "      <td>Bachelor's</td>\n",
       "      <td>Bachelor's</td>\n",
       "      <td>Bachelor's</td>\n",
       "      <td>Bachelor's</td>\n",
       "    </tr>\n",
       "    <tr>\n",
       "      <th>gender</th>\n",
       "      <td>f</td>\n",
       "      <td>m</td>\n",
       "      <td>m</td>\n",
       "      <td>m</td>\n",
       "      <td>m</td>\n",
       "    </tr>\n",
       "    <tr>\n",
       "      <th>recruitment_channel</th>\n",
       "      <td>sourcing</td>\n",
       "      <td>other</td>\n",
       "      <td>sourcing</td>\n",
       "      <td>other</td>\n",
       "      <td>other</td>\n",
       "    </tr>\n",
       "    <tr>\n",
       "      <th>no_of_trainings</th>\n",
       "      <td>1</td>\n",
       "      <td>1</td>\n",
       "      <td>1</td>\n",
       "      <td>2</td>\n",
       "      <td>1</td>\n",
       "    </tr>\n",
       "    <tr>\n",
       "      <th>age</th>\n",
       "      <td>35</td>\n",
       "      <td>30</td>\n",
       "      <td>34</td>\n",
       "      <td>39</td>\n",
       "      <td>45</td>\n",
       "    </tr>\n",
       "    <tr>\n",
       "      <th>previous_year_rating</th>\n",
       "      <td>5.0</td>\n",
       "      <td>5.0</td>\n",
       "      <td>3.0</td>\n",
       "      <td>1.0</td>\n",
       "      <td>3.0</td>\n",
       "    </tr>\n",
       "    <tr>\n",
       "      <th>length_of_service</th>\n",
       "      <td>8</td>\n",
       "      <td>4</td>\n",
       "      <td>7</td>\n",
       "      <td>10</td>\n",
       "      <td>2</td>\n",
       "    </tr>\n",
       "    <tr>\n",
       "      <th>awards_won?</th>\n",
       "      <td>0</td>\n",
       "      <td>0</td>\n",
       "      <td>0</td>\n",
       "      <td>0</td>\n",
       "      <td>0</td>\n",
       "    </tr>\n",
       "    <tr>\n",
       "      <th>avg_training_score</th>\n",
       "      <td>49</td>\n",
       "      <td>60</td>\n",
       "      <td>50</td>\n",
       "      <td>50</td>\n",
       "      <td>73</td>\n",
       "    </tr>\n",
       "    <tr>\n",
       "      <th>is_promoted</th>\n",
       "      <td>0</td>\n",
       "      <td>0</td>\n",
       "      <td>0</td>\n",
       "      <td>0</td>\n",
       "      <td>0</td>\n",
       "    </tr>\n",
       "  </tbody>\n",
       "</table>\n",
       "</div>"
      ],
      "text/plain": [
       "                                      0           1                  2  \\\n",
       "employee_id                       65438       65141               7513   \n",
       "department            Sales & Marketing  Operations  Sales & Marketing   \n",
       "region                         region_7   region_22          region_19   \n",
       "education              Master's & above  Bachelor's         Bachelor's   \n",
       "gender                                f           m                  m   \n",
       "recruitment_channel            sourcing       other           sourcing   \n",
       "no_of_trainings                       1           1                  1   \n",
       "age                                  35          30                 34   \n",
       "previous_year_rating                5.0         5.0                3.0   \n",
       "length_of_service                     8           4                  7   \n",
       "awards_won?                           0           0                  0   \n",
       "avg_training_score                   49          60                 50   \n",
       "is_promoted                           0           0                  0   \n",
       "\n",
       "                                      3           4  \n",
       "employee_id                        2542       48945  \n",
       "department            Sales & Marketing  Technology  \n",
       "region                        region_23   region_26  \n",
       "education                    Bachelor's  Bachelor's  \n",
       "gender                                m           m  \n",
       "recruitment_channel               other       other  \n",
       "no_of_trainings                       2           1  \n",
       "age                                  39          45  \n",
       "previous_year_rating                1.0         3.0  \n",
       "length_of_service                    10           2  \n",
       "awards_won?                           0           0  \n",
       "avg_training_score                   50          73  \n",
       "is_promoted                           0           0  "
      ]
     },
     "execution_count": 77,
     "metadata": {},
     "output_type": "execute_result"
    }
   ],
   "source": [
    "hr_data = pd.read_csv(\"hr_analytics.csv\")\n",
    "\n",
    "hr_data.head().T"
   ]
  },
  {
   "cell_type": "code",
   "execution_count": 78,
   "id": "3de3b018",
   "metadata": {},
   "outputs": [
    {
     "data": {
      "text/plain": [
       "(54735, 13)"
      ]
     },
     "execution_count": 78,
     "metadata": {},
     "output_type": "execute_result"
    }
   ],
   "source": [
    "hr_data.shape"
   ]
  },
  {
   "cell_type": "code",
   "execution_count": 79,
   "id": "fc5098f2",
   "metadata": {},
   "outputs": [
    {
     "data": {
      "text/plain": [
       "employee_id                0\n",
       "department                 0\n",
       "region                     0\n",
       "education               2406\n",
       "gender                     0\n",
       "recruitment_channel        0\n",
       "no_of_trainings            0\n",
       "age                        0\n",
       "previous_year_rating    4119\n",
       "length_of_service          0\n",
       "awards_won?                0\n",
       "avg_training_score         0\n",
       "is_promoted                0\n",
       "dtype: int64"
      ]
     },
     "execution_count": 79,
     "metadata": {},
     "output_type": "execute_result"
    }
   ],
   "source": [
    "hr_data.isnull().sum()"
   ]
  },
  {
   "cell_type": "markdown",
   "id": "50145753",
   "metadata": {},
   "source": [
    "Drop irrelevant columns"
   ]
  },
  {
   "cell_type": "code",
   "execution_count": 80,
   "id": "03c6aab7",
   "metadata": {},
   "outputs": [
    {
     "data": {
      "text/html": [
       "<div>\n",
       "<style scoped>\n",
       "    .dataframe tbody tr th:only-of-type {\n",
       "        vertical-align: middle;\n",
       "    }\n",
       "\n",
       "    .dataframe tbody tr th {\n",
       "        vertical-align: top;\n",
       "    }\n",
       "\n",
       "    .dataframe thead th {\n",
       "        text-align: right;\n",
       "    }\n",
       "</style>\n",
       "<table border=\"1\" class=\"dataframe\">\n",
       "  <thead>\n",
       "    <tr style=\"text-align: right;\">\n",
       "      <th></th>\n",
       "      <th>0</th>\n",
       "      <th>1</th>\n",
       "      <th>2</th>\n",
       "      <th>3</th>\n",
       "      <th>4</th>\n",
       "    </tr>\n",
       "  </thead>\n",
       "  <tbody>\n",
       "    <tr>\n",
       "      <th>department</th>\n",
       "      <td>Sales &amp; Marketing</td>\n",
       "      <td>Operations</td>\n",
       "      <td>Sales &amp; Marketing</td>\n",
       "      <td>Sales &amp; Marketing</td>\n",
       "      <td>Technology</td>\n",
       "    </tr>\n",
       "    <tr>\n",
       "      <th>region</th>\n",
       "      <td>region_7</td>\n",
       "      <td>region_22</td>\n",
       "      <td>region_19</td>\n",
       "      <td>region_23</td>\n",
       "      <td>region_26</td>\n",
       "    </tr>\n",
       "    <tr>\n",
       "      <th>education</th>\n",
       "      <td>Master's &amp; above</td>\n",
       "      <td>Bachelor's</td>\n",
       "      <td>Bachelor's</td>\n",
       "      <td>Bachelor's</td>\n",
       "      <td>Bachelor's</td>\n",
       "    </tr>\n",
       "    <tr>\n",
       "      <th>gender</th>\n",
       "      <td>f</td>\n",
       "      <td>m</td>\n",
       "      <td>m</td>\n",
       "      <td>m</td>\n",
       "      <td>m</td>\n",
       "    </tr>\n",
       "    <tr>\n",
       "      <th>recruitment_channel</th>\n",
       "      <td>sourcing</td>\n",
       "      <td>other</td>\n",
       "      <td>sourcing</td>\n",
       "      <td>other</td>\n",
       "      <td>other</td>\n",
       "    </tr>\n",
       "    <tr>\n",
       "      <th>no_of_trainings</th>\n",
       "      <td>1</td>\n",
       "      <td>1</td>\n",
       "      <td>1</td>\n",
       "      <td>2</td>\n",
       "      <td>1</td>\n",
       "    </tr>\n",
       "    <tr>\n",
       "      <th>age</th>\n",
       "      <td>35</td>\n",
       "      <td>30</td>\n",
       "      <td>34</td>\n",
       "      <td>39</td>\n",
       "      <td>45</td>\n",
       "    </tr>\n",
       "    <tr>\n",
       "      <th>previous_year_rating</th>\n",
       "      <td>5.0</td>\n",
       "      <td>5.0</td>\n",
       "      <td>3.0</td>\n",
       "      <td>1.0</td>\n",
       "      <td>3.0</td>\n",
       "    </tr>\n",
       "    <tr>\n",
       "      <th>length_of_service</th>\n",
       "      <td>8</td>\n",
       "      <td>4</td>\n",
       "      <td>7</td>\n",
       "      <td>10</td>\n",
       "      <td>2</td>\n",
       "    </tr>\n",
       "    <tr>\n",
       "      <th>awards_won?</th>\n",
       "      <td>0</td>\n",
       "      <td>0</td>\n",
       "      <td>0</td>\n",
       "      <td>0</td>\n",
       "      <td>0</td>\n",
       "    </tr>\n",
       "    <tr>\n",
       "      <th>avg_training_score</th>\n",
       "      <td>49</td>\n",
       "      <td>60</td>\n",
       "      <td>50</td>\n",
       "      <td>50</td>\n",
       "      <td>73</td>\n",
       "    </tr>\n",
       "    <tr>\n",
       "      <th>is_promoted</th>\n",
       "      <td>0</td>\n",
       "      <td>0</td>\n",
       "      <td>0</td>\n",
       "      <td>0</td>\n",
       "      <td>0</td>\n",
       "    </tr>\n",
       "  </tbody>\n",
       "</table>\n",
       "</div>"
      ],
      "text/plain": [
       "                                      0           1                  2  \\\n",
       "department            Sales & Marketing  Operations  Sales & Marketing   \n",
       "region                         region_7   region_22          region_19   \n",
       "education              Master's & above  Bachelor's         Bachelor's   \n",
       "gender                                f           m                  m   \n",
       "recruitment_channel            sourcing       other           sourcing   \n",
       "no_of_trainings                       1           1                  1   \n",
       "age                                  35          30                 34   \n",
       "previous_year_rating                5.0         5.0                3.0   \n",
       "length_of_service                     8           4                  7   \n",
       "awards_won?                           0           0                  0   \n",
       "avg_training_score                   49          60                 50   \n",
       "is_promoted                           0           0                  0   \n",
       "\n",
       "                                      3           4  \n",
       "department            Sales & Marketing  Technology  \n",
       "region                        region_23   region_26  \n",
       "education                    Bachelor's  Bachelor's  \n",
       "gender                                m           m  \n",
       "recruitment_channel               other       other  \n",
       "no_of_trainings                       2           1  \n",
       "age                                  39          45  \n",
       "previous_year_rating                1.0         3.0  \n",
       "length_of_service                    10           2  \n",
       "awards_won?                           0           0  \n",
       "avg_training_score                   50          73  \n",
       "is_promoted                           0           0  "
      ]
     },
     "execution_count": 80,
     "metadata": {},
     "output_type": "execute_result"
    }
   ],
   "source": [
    "hr_data.drop(\"employee_id\", axis=1, inplace=True)\n",
    "\n",
    "hr_data.head().T"
   ]
  },
  {
   "cell_type": "code",
   "execution_count": 81,
   "id": "ae91ec5b",
   "metadata": {},
   "outputs": [
    {
     "name": "stdout",
     "output_type": "stream",
     "text": [
      "<class 'pandas.core.frame.DataFrame'>\n",
      "RangeIndex: 54735 entries, 0 to 54734\n",
      "Data columns (total 12 columns):\n",
      " #   Column                Non-Null Count  Dtype  \n",
      "---  ------                --------------  -----  \n",
      " 0   department            54735 non-null  object \n",
      " 1   region                54735 non-null  object \n",
      " 2   education             52329 non-null  object \n",
      " 3   gender                54735 non-null  object \n",
      " 4   recruitment_channel   54735 non-null  object \n",
      " 5   no_of_trainings       54735 non-null  int64  \n",
      " 6   age                   54735 non-null  int64  \n",
      " 7   previous_year_rating  50616 non-null  float64\n",
      " 8   length_of_service     54735 non-null  int64  \n",
      " 9   awards_won?           54735 non-null  int64  \n",
      " 10  avg_training_score    54735 non-null  int64  \n",
      " 11  is_promoted           54735 non-null  int64  \n",
      "dtypes: float64(1), int64(6), object(5)\n",
      "memory usage: 5.0+ MB\n"
     ]
    }
   ],
   "source": [
    "hr_data.info()"
   ]
  },
  {
   "cell_type": "code",
   "execution_count": 82,
   "id": "924d1015",
   "metadata": {},
   "outputs": [
    {
     "name": "stdout",
     "output_type": "stream",
     "text": [
      "<class 'pandas.core.frame.DataFrame'>\n",
      "RangeIndex: 54735 entries, 0 to 54734\n",
      "Data columns (total 12 columns):\n",
      " #   Column                Non-Null Count  Dtype   \n",
      "---  ------                --------------  -----   \n",
      " 0   department            54735 non-null  category\n",
      " 1   region                54735 non-null  category\n",
      " 2   education             52329 non-null  category\n",
      " 3   gender                54735 non-null  category\n",
      " 4   recruitment_channel   54735 non-null  category\n",
      " 5   no_of_trainings       54735 non-null  int64   \n",
      " 6   age                   54735 non-null  int64   \n",
      " 7   previous_year_rating  50616 non-null  float64 \n",
      " 8   length_of_service     54735 non-null  int64   \n",
      " 9   awards_won?           54735 non-null  int64   \n",
      " 10  avg_training_score    54735 non-null  int64   \n",
      " 11  is_promoted           54735 non-null  int64   \n",
      "dtypes: category(5), float64(1), int64(6)\n",
      "memory usage: 3.2 MB\n"
     ]
    }
   ],
   "source": [
    "categorical_cols = ['department', 'region', 'education', 'gender', 'recruitment_channel']\n",
    "\n",
    "for col in categorical_cols:\n",
    "    hr_data[col] = hr_data[col].astype('category')\n",
    "    \n",
    "hr_data.info()"
   ]
  },
  {
   "cell_type": "code",
   "execution_count": 83,
   "id": "70d36777",
   "metadata": {},
   "outputs": [
    {
     "data": {
      "image/png": "[encoded data removed]",
      "text/plain": [
       "<Figure size 640x480 with 1 Axes>"
      ]
     },
     "metadata": {},
     "output_type": "display_data"
    }
   ],
   "source": [
    "target_counts = hr_data['is_promoted'].value_counts()\n",
    "\n",
    "sns.barplot(x=target_counts.index, y=target_counts.values)\n",
    "plt.xlabel('Target')\n",
    "plt.ylabel('Count')\n",
    "plt.title('Distribution of Target Variable')\n",
    "plt.show()"
   ]
  },
  {
   "cell_type": "code",
   "execution_count": 84,
   "id": "2e54f809",
   "metadata": {},
   "outputs": [
    {
     "data": {
      "text/plain": [
       "((38314, 11), (16421, 11))"
      ]
     },
     "execution_count": 84,
     "metadata": {},
     "output_type": "execute_result"
    }
   ],
   "source": [
    "X = hr_data.drop('is_promoted', axis=1)\n",
    "y = hr_data['is_promoted']\n",
    "\n",
    "X_train, X_test, y_train, y_test = train_test_split(X, y, test_size=0.30, random_state=42, stratify=y)\n",
    "\n",
    "X_train.shape, X_test.shape"
   ]
  },
  {
   "cell_type": "code",
   "execution_count": 85,
   "id": "b2127da7",
   "metadata": {},
   "outputs": [
    {
     "name": "stdout",
     "output_type": "stream",
     "text": [
      "LightGBM model trained successfully.\n"
     ]
    }
   ],
   "source": [
    "lgbm_clf = lgb.LGBMClassifier(\n",
    "    objective='binary',\n",
    "    learning_rate=0.05,\n",
    "    num_leaves=31,\n",
    "    n_estimators=100,\n",
    "    random_state=42,\n",
    "    verbose=-1\n",
    ")\n",
    "\n",
    "lgbm_clf.fit(X_train, y_train)\n",
    "\n",
    "print(\"LightGBM model trained successfully.\")"
   ]
  },
  {
   "cell_type": "markdown",
   "id": "f4484aa2",
   "metadata": {},
   "source": [
    "## Evaluate the Model Performance\n",
    "\n",
    "We generate predictions on the test set and evaluate the model. \n",
    "The metrics we compute include:\n",
    "- **Accuracy**\n",
    "- **Precision, Recall, and F1-Score**\n",
    "- **ROC-AUC Score**\n"
   ]
  },
  {
   "cell_type": "code",
   "execution_count": 86,
   "id": "a9733648",
   "metadata": {},
   "outputs": [],
   "source": [
    "def compute_metrics(clf):\n",
    "    y_pred = lgbm_clf.predict(X_test)\n",
    "    y_pred_proba = lgbm_clf.predict_proba(X_test)[:, 1]\n",
    "\n",
    "    acc = accuracy_score(y_test, y_pred)\n",
    "    prec = precision_score(y_test, y_pred)\n",
    "    rec = recall_score(y_test, y_pred)\n",
    "    f1 = f1_score(y_test, y_pred)\n",
    "    roc_auc = roc_auc_score(y_test, y_pred_proba)\n",
    "\n",
    "    print(\"Evaluation Metrics:\")\n",
    "    print(\"Accuracy:\", round(acc, 4))\n",
    "    print(\"Precision:\", round(prec, 4))\n",
    "    print(\"Recall:\", round(rec, 4))\n",
    "    print(\"F1 Score:\", round(f1, 4))\n",
    "    print(\"ROC-AUC Score:\", round(roc_auc, 4))"
   ]
  },
  {
   "cell_type": "code",
   "execution_count": 87,
   "id": "9ba903ed",
   "metadata": {},
   "outputs": [
    {
     "name": "stdout",
     "output_type": "stream",
     "text": [
      "Evaluation Metrics:\n",
      "Accuracy: 0.9406\n",
      "Precision: 0.9568\n",
      "Recall: 0.3167\n",
      "F1 Score: 0.4758\n",
      "ROC-AUC Score: 0.8257\n"
     ]
    }
   ],
   "source": [
    "compute_metrics(lgbm_clf)"
   ]
  },
  {
   "cell_type": "code",
   "execution_count": 88,
   "id": "163a7987",
   "metadata": {},
   "outputs": [
    {
     "name": "stdout",
     "output_type": "stream",
     "text": [
      "Evaluation Metrics:\n",
      "Accuracy: 0.9406\n",
      "Precision: 0.951\n",
      "Recall: 0.3188\n",
      "F1 Score: 0.4775\n",
      "ROC-AUC Score: 0.8243\n"
     ]
    }
   ],
   "source": [
    "lgbm_clf = lgb.LGBMClassifier(\n",
    "    objective='binary',\n",
    "    learning_rate=0.05,\n",
    "    num_leaves=50,\n",
    "    max_bin=400,\n",
    "    n_estimators=100,\n",
    "    random_state=42,\n",
    "    verbose=-1\n",
    ")\n",
    "\n",
    "lgbm_clf.fit(X_train, y_train)\n",
    "\n",
    "compute_metrics(lgbm_clf)"
   ]
  },
  {
   "cell_type": "markdown",
   "id": "40d0a43c",
   "metadata": {},
   "source": [
    "## Handle Imbalanced Data with Class Weight\n"
   ]
  },
  {
   "cell_type": "code",
   "execution_count": 89,
   "id": "38e8e568",
   "metadata": {},
   "outputs": [
    {
     "name": "stdout",
     "output_type": "stream",
     "text": [
      "[LightGBM] [Info] Number of positive: 3263, number of negative: 35051\n",
      "[LightGBM] [Info] Auto-choosing row-wise multi-threading, the overhead of testing was 0.001556 seconds.\n",
      "You can set `force_row_wise=true` to remove the overhead.\n",
      "And if memory is not enough, you can set `force_col_wise=true`.\n",
      "[LightGBM] [Info] Total Bins 213\n",
      "[LightGBM] [Info] Number of data points in the train set: 38314, number of used features: 11\n",
      "[LightGBM] [Info] [binary:BoostFromScore]: pavg=0.500000 -> initscore=-0.000000\n",
      "[LightGBM] [Info] Start training from score -0.000000\n",
      "Evaluation Metrics:\n",
      "Accuracy: 0.8434\n",
      "Precision: 0.2953\n",
      "Recall: 0.6047\n",
      "F1 Score: 0.3968\n",
      "ROC-AUC Score: 0.8184\n"
     ]
    }
   ],
   "source": [
    "lgbm_clf = lgb.LGBMClassifier(\n",
    "    objective='binary',\n",
    "    learning_rate=0.05,\n",
    "    num_leaves=31,\n",
    "    n_estimators=500,\n",
    "    class_weight='balanced',\n",
    "    random_state=42,\n",
    "    verbose=1\n",
    ")\n",
    "\n",
    "lgbm_clf.fit(X_train, y_train)\n",
    "\n",
    "compute_metrics(lgbm_clf)"
   ]
  },
  {
   "cell_type": "markdown",
   "id": "8a219381",
   "metadata": {},
   "source": [
    "Precision improves with longer training and early stopping\n",
    "\n",
    "An evaluation set has to be specified for early stopping"
   ]
  },
  {
   "cell_type": "code",
   "execution_count": 93,
   "id": "a0631227",
   "metadata": {},
   "outputs": [
    {
     "data": {
      "text/plain": [
       "((26819, 11), (11495, 11))"
      ]
     },
     "execution_count": 93,
     "metadata": {},
     "output_type": "execute_result"
    }
   ],
   "source": [
    "X_train_es, X_val, y_train_es, y_val = train_test_split(\n",
    "    X_train, y_train, test_size=0.30, random_state=42, stratify=y_train)\n",
    "\n",
    "X_train_es.shape, X_val.shape"
   ]
  },
  {
   "cell_type": "markdown",
   "id": "01b9cd88",
   "metadata": {},
   "source": [
    "This will not meet the early stopping criterion "
   ]
  },
  {
   "cell_type": "code",
   "execution_count": 94,
   "id": "6d0944a7",
   "metadata": {},
   "outputs": [
    {
     "name": "stdout",
     "output_type": "stream",
     "text": [
      "[LightGBM] [Info] Number of positive: 3263, number of negative: 35051\n",
      "[LightGBM] [Info] Auto-choosing row-wise multi-threading, the overhead of testing was 0.001398 seconds.\n",
      "You can set `force_row_wise=true` to remove the overhead.\n",
      "And if memory is not enough, you can set `force_col_wise=true`.\n",
      "[LightGBM] [Info] Total Bins 213\n",
      "[LightGBM] [Info] Number of data points in the train set: 38314, number of used features: 11\n",
      "[LightGBM] [Info] [binary:BoostFromScore]: pavg=0.500000 -> initscore=-0.000000\n",
      "[LightGBM] [Info] Start training from score -0.000000\n",
      "Training until validation scores don't improve for 5 rounds\n",
      "Did not meet early stopping. Best iteration is:\n",
      "[3000]\tvalid_0's binary_logloss: 0.100851\n",
      "Evaluation Metrics:\n",
      "Accuracy: 0.9004\n",
      "Precision: 0.4219\n",
      "Recall: 0.4575\n",
      "F1 Score: 0.439\n",
      "ROC-AUC Score: 0.7935\n"
     ]
    }
   ],
   "source": [
    "lgbm_clf = lgb.LGBMClassifier(\n",
    "    objective='binary',\n",
    "    learning_rate=0.05,\n",
    "    num_leaves=31,\n",
    "    n_estimators=3000,\n",
    "    class_weight='balanced',\n",
    "    random_state=42,\n",
    "    verbose=1\n",
    ")\n",
    "\n",
    "lgbm_clf.fit(X_train, y_train, \n",
    "             eval_metric='f1', \n",
    "             eval_set=[(X_val, y_val)], callbacks=[lgb.early_stopping(5)])\n",
    "\n",
    "compute_metrics(lgbm_clf)"
   ]
  },
  {
   "cell_type": "markdown",
   "id": "9844d984",
   "metadata": {},
   "source": [
    "## Use the Native LightGBM Python API\n",
    "\n",
    "Note that the `predict` function here returns probabilities and we have to use a threshold to convert this to labels"
   ]
  },
  {
   "cell_type": "code",
   "execution_count": 95,
   "id": "b8c120a2",
   "metadata": {},
   "outputs": [],
   "source": [
    "def compute_metrics_native(gbm):\n",
    "    y_pred_probs = gbm.predict(X_test)\n",
    "    \n",
    "    y_pred = (y_pred_probs >= 0.5).astype(int)\n",
    "\n",
    "    acc = accuracy_score(y_test, y_pred)\n",
    "    prec = precision_score(y_test, y_pred)\n",
    "    rec = recall_score(y_test, y_pred)\n",
    "    f1 = f1_score(y_test, y_pred)\n",
    "\n",
    "    print(\"Evaluation Metrics:\")\n",
    "    print(\"Accuracy:\", round(acc, 4))\n",
    "    print(\"Precision:\", round(prec, 4))\n",
    "    print(\"Recall:\", round(rec, 4))\n",
    "    print(\"F1 Score:\", round(f1, 4))"
   ]
  },
  {
   "cell_type": "code",
   "execution_count": 96,
   "id": "212dd268",
   "metadata": {},
   "outputs": [],
   "source": [
    "lgb_train = lgb.Dataset(X_train_es, y_train_es)\n",
    "\n",
    "lgb_val = lgb.Dataset(X_val, y_val, reference=lgb_train)\n",
    "\n",
    "lgb_test = lgb.Dataset(X_test, y_test, reference=lgb_train)"
   ]
  },
  {
   "cell_type": "code",
   "execution_count": 97,
   "id": "9e51f302",
   "metadata": {},
   "outputs": [
    {
     "name": "stdout",
     "output_type": "stream",
     "text": [
      "[LightGBM] [Info] Number of positive: 2284, number of negative: 24535\n",
      "[LightGBM] [Info] Auto-choosing row-wise multi-threading, the overhead of testing was 0.001198 seconds.\n",
      "You can set `force_row_wise=true` to remove the overhead.\n",
      "And if memory is not enough, you can set `force_col_wise=true`.\n",
      "[LightGBM] [Info] Total Bins 211\n",
      "[LightGBM] [Info] Number of data points in the train set: 26819, number of used features: 11\n",
      "[LightGBM] [Info] [binary:BoostFromScore]: pavg=0.085164 -> initscore=-2.374172\n",
      "[LightGBM] [Info] Start training from score -2.374172\n",
      "Training until validation scores don't improve for 10 rounds\n",
      "Early stopping, best iteration is:\n",
      "[31]\tvalid_0's auc: 0.821592\n",
      "Evaluation Metrics:\n",
      "Accuracy: 0.8317\n",
      "Precision: 0.2795\n",
      "Recall: 0.6183\n",
      "F1 Score: 0.385\n"
     ]
    }
   ],
   "source": [
    "params = {\n",
    "    \"boosting_type\": \"gbdt\",\n",
    "    \"objective\": \"binary\",\n",
    "    \"metric\": \"auc\",\n",
    "    \"num_leaves\": 31,\n",
    "    \"feature_fraction\": 0.9,\n",
    "    \"bagging_fraction\": 0.8,\n",
    "    \"is_unbalance\": True,\n",
    "    \"random_state\": 42,\n",
    "    \"verbose\": 1,\n",
    "}\n",
    "\n",
    "gbm = lgb.train(\n",
    "    params, lgb_train, \n",
    "    num_boost_round=2000, \n",
    "    valid_sets=[lgb_val], \n",
    "    callbacks=[lgb.early_stopping(stopping_rounds=10)]\n",
    ")\n",
    "\n",
    "compute_metrics_native(gbm)"
   ]
  },
  {
   "cell_type": "markdown",
   "id": "ce840fc7",
   "metadata": {},
   "source": [
    "## Enable Gradient-based One-Side Sampling (GOSS)\n",
    "\n",
    "GOSS is a technique that speeds up training by focusing on instances with large gradients. \n",
    "We enable this by setting the data_sample_strategy to `goss` and compare the performance.\n",
    "\n",
    "#### Note that the recall score keeps improving and precision keeps getting worse. We don't have a good balance because our evaluation metric is AUC and not F1. That requires setting up a custom metric which we will not cover here"
   ]
  },
  {
   "cell_type": "code",
   "execution_count": 98,
   "id": "46ffef20",
   "metadata": {},
   "outputs": [
    {
     "name": "stdout",
     "output_type": "stream",
     "text": [
      "[LightGBM] [Info] Number of positive: 2284, number of negative: 24535\n",
      "[LightGBM] [Info] Auto-choosing row-wise multi-threading, the overhead of testing was 0.002958 seconds.\n",
      "You can set `force_row_wise=true` to remove the overhead.\n",
      "And if memory is not enough, you can set `force_col_wise=true`.\n",
      "[LightGBM] [Info] Total Bins 211\n",
      "[LightGBM] [Info] Number of data points in the train set: 26819, number of used features: 11\n",
      "[LightGBM] [Info] Using GOSS\n",
      "[LightGBM] [Info] [binary:BoostFromScore]: pavg=0.085164 -> initscore=-2.374172\n",
      "[LightGBM] [Info] Start training from score -2.374172\n",
      "Training until validation scores don't improve for 10 rounds\n",
      "Early stopping, best iteration is:\n",
      "[44]\tvalid_0's auc: 0.825919\n",
      "Evaluation Metrics:\n",
      "Accuracy: 0.81\n",
      "Precision: 0.2566\n",
      "Recall: 0.6483\n",
      "F1 Score: 0.3677\n"
     ]
    }
   ],
   "source": [
    "params = {\n",
    "    \"boosting_type\": \"gbdt\",\n",
    "    \"data_sample_strategy\": \"goss\",\n",
    "    \"objective\": \"binary\",\n",
    "    \"metric\": \"auc\",\n",
    "    \"num_leaves\": 31,\n",
    "    \"feature_fraction\": 0.9,\n",
    "    \"bagging_fraction\": 0.8,\n",
    "    \"is_unbalance\": True,\n",
    "    \"random_state\": 42,\n",
    "    \"verbose\": 1,\n",
    "}\n",
    "\n",
    "gbm = lgb.train(\n",
    "    params, lgb_train, \n",
    "    num_boost_round=2000, \n",
    "    valid_sets=[lgb_val], \n",
    "    callbacks=[lgb.early_stopping(stopping_rounds=10)]\n",
    ")\n",
    "\n",
    "compute_metrics_native(gbm)"
   ]
  },
  {
   "cell_type": "code",
   "execution_count": 99,
   "id": "4f91212d",
   "metadata": {},
   "outputs": [],
   "source": [
    "importance_split = gbm.feature_importance(importance_type='split')\n",
    "importance_gain = gbm.feature_importance(importance_type='gain')\n",
    "\n",
    "features = lgbm_clf.booster_.feature_name()"
   ]
  },
  {
   "cell_type": "code",
   "execution_count": 100,
   "id": "a97d35f4",
   "metadata": {},
   "outputs": [
    {
     "data": {
      "text/html": [
       "<div>\n",
       "<style scoped>\n",
       "    .dataframe tbody tr th:only-of-type {\n",
       "        vertical-align: middle;\n",
       "    }\n",
       "\n",
       "    .dataframe tbody tr th {\n",
       "        vertical-align: top;\n",
       "    }\n",
       "\n",
       "    .dataframe thead th {\n",
       "        text-align: right;\n",
       "    }\n",
       "</style>\n",
       "<table border=\"1\" class=\"dataframe\">\n",
       "  <thead>\n",
       "    <tr style=\"text-align: right;\">\n",
       "      <th></th>\n",
       "      <th>Feature</th>\n",
       "      <th>Split Importance</th>\n",
       "    </tr>\n",
       "  </thead>\n",
       "  <tbody>\n",
       "    <tr>\n",
       "      <th>10</th>\n",
       "      <td>avg_training_score</td>\n",
       "      <td>349</td>\n",
       "    </tr>\n",
       "    <tr>\n",
       "      <th>1</th>\n",
       "      <td>region</td>\n",
       "      <td>213</td>\n",
       "    </tr>\n",
       "    <tr>\n",
       "      <th>6</th>\n",
       "      <td>age</td>\n",
       "      <td>200</td>\n",
       "    </tr>\n",
       "    <tr>\n",
       "      <th>0</th>\n",
       "      <td>department</td>\n",
       "      <td>134</td>\n",
       "    </tr>\n",
       "    <tr>\n",
       "      <th>7</th>\n",
       "      <td>previous_year_rating</td>\n",
       "      <td>122</td>\n",
       "    </tr>\n",
       "    <tr>\n",
       "      <th>8</th>\n",
       "      <td>length_of_service</td>\n",
       "      <td>111</td>\n",
       "    </tr>\n",
       "    <tr>\n",
       "      <th>2</th>\n",
       "      <td>education</td>\n",
       "      <td>50</td>\n",
       "    </tr>\n",
       "    <tr>\n",
       "      <th>5</th>\n",
       "      <td>no_of_trainings</td>\n",
       "      <td>39</td>\n",
       "    </tr>\n",
       "    <tr>\n",
       "      <th>9</th>\n",
       "      <td>awards_won?</td>\n",
       "      <td>37</td>\n",
       "    </tr>\n",
       "    <tr>\n",
       "      <th>4</th>\n",
       "      <td>recruitment_channel</td>\n",
       "      <td>34</td>\n",
       "    </tr>\n",
       "    <tr>\n",
       "      <th>3</th>\n",
       "      <td>gender</td>\n",
       "      <td>31</td>\n",
       "    </tr>\n",
       "  </tbody>\n",
       "</table>\n",
       "</div>"
      ],
      "text/plain": [
       "                 Feature  Split Importance\n",
       "10    avg_training_score               349\n",
       "1                 region               213\n",
       "6                    age               200\n",
       "0             department               134\n",
       "7   previous_year_rating               122\n",
       "8      length_of_service               111\n",
       "2              education                50\n",
       "5        no_of_trainings                39\n",
       "9            awards_won?                37\n",
       "4    recruitment_channel                34\n",
       "3                 gender                31"
      ]
     },
     "execution_count": 100,
     "metadata": {},
     "output_type": "execute_result"
    }
   ],
   "source": [
    "df_split_importance = pd.DataFrame({\n",
    "    'Feature': features,\n",
    "    'Split Importance': importance_split,\n",
    "}).sort_values(by='Split Importance', ascending=False)\n",
    "\n",
    "df_split_importance"
   ]
  },
  {
   "cell_type": "code",
   "execution_count": 101,
   "id": "3cffb9d2",
   "metadata": {},
   "outputs": [
    {
     "data": {
      "text/html": [
       "<div>\n",
       "<style scoped>\n",
       "    .dataframe tbody tr th:only-of-type {\n",
       "        vertical-align: middle;\n",
       "    }\n",
       "\n",
       "    .dataframe tbody tr th {\n",
       "        vertical-align: top;\n",
       "    }\n",
       "\n",
       "    .dataframe thead th {\n",
       "        text-align: right;\n",
       "    }\n",
       "</style>\n",
       "<table border=\"1\" class=\"dataframe\">\n",
       "  <thead>\n",
       "    <tr style=\"text-align: right;\">\n",
       "      <th></th>\n",
       "      <th>Feature</th>\n",
       "      <th>Gain Importance</th>\n",
       "    </tr>\n",
       "  </thead>\n",
       "  <tbody>\n",
       "    <tr>\n",
       "      <th>10</th>\n",
       "      <td>avg_training_score</td>\n",
       "      <td>49538.132153</td>\n",
       "    </tr>\n",
       "    <tr>\n",
       "      <th>7</th>\n",
       "      <td>previous_year_rating</td>\n",
       "      <td>24157.977205</td>\n",
       "    </tr>\n",
       "    <tr>\n",
       "      <th>0</th>\n",
       "      <td>department</td>\n",
       "      <td>18287.695019</td>\n",
       "    </tr>\n",
       "    <tr>\n",
       "      <th>1</th>\n",
       "      <td>region</td>\n",
       "      <td>16890.201824</td>\n",
       "    </tr>\n",
       "    <tr>\n",
       "      <th>6</th>\n",
       "      <td>age</td>\n",
       "      <td>9952.581284</td>\n",
       "    </tr>\n",
       "    <tr>\n",
       "      <th>9</th>\n",
       "      <td>awards_won?</td>\n",
       "      <td>6272.903185</td>\n",
       "    </tr>\n",
       "    <tr>\n",
       "      <th>8</th>\n",
       "      <td>length_of_service</td>\n",
       "      <td>4898.096695</td>\n",
       "    </tr>\n",
       "    <tr>\n",
       "      <th>5</th>\n",
       "      <td>no_of_trainings</td>\n",
       "      <td>2616.089083</td>\n",
       "    </tr>\n",
       "    <tr>\n",
       "      <th>2</th>\n",
       "      <td>education</td>\n",
       "      <td>2189.386414</td>\n",
       "    </tr>\n",
       "    <tr>\n",
       "      <th>3</th>\n",
       "      <td>gender</td>\n",
       "      <td>1643.202011</td>\n",
       "    </tr>\n",
       "    <tr>\n",
       "      <th>4</th>\n",
       "      <td>recruitment_channel</td>\n",
       "      <td>1623.438408</td>\n",
       "    </tr>\n",
       "  </tbody>\n",
       "</table>\n",
       "</div>"
      ],
      "text/plain": [
       "                 Feature  Gain Importance\n",
       "10    avg_training_score     49538.132153\n",
       "7   previous_year_rating     24157.977205\n",
       "0             department     18287.695019\n",
       "1                 region     16890.201824\n",
       "6                    age      9952.581284\n",
       "9            awards_won?      6272.903185\n",
       "8      length_of_service      4898.096695\n",
       "5        no_of_trainings      2616.089083\n",
       "2              education      2189.386414\n",
       "3                 gender      1643.202011\n",
       "4    recruitment_channel      1623.438408"
      ]
     },
     "execution_count": 101,
     "metadata": {},
     "output_type": "execute_result"
    }
   ],
   "source": [
    "df_gain_importance = pd.DataFrame({\n",
    "    'Feature': features,\n",
    "    'Gain Importance': importance_gain,\n",
    "}).sort_values(by='Gain Importance', ascending=False)\n",
    "\n",
    "df_gain_importance"
   ]
  },
  {
   "cell_type": "code",
   "execution_count": 102,
   "id": "0433f41e",
   "metadata": {},
   "outputs": [
    {
     "data": {
      "image/png": "[encoded data removed]",
      "text/plain": [
       "<Figure size 1000x600 with 1 Axes>"
      ]
     },
     "metadata": {},
     "output_type": "display_data"
    }
   ],
   "source": [
    "plt.figure(figsize=(10, 6))\n",
    "\n",
    "sns.barplot(x='Split Importance', y='Feature', data=df_split_importance, palette='viridis')\n",
    "\n",
    "plt.title('Feature Importance (Split)')\n",
    "plt.show()"
   ]
  },
  {
   "cell_type": "code",
   "execution_count": 103,
   "id": "c7946927-28fa-4d61-8038-288e2d96fb7e",
   "metadata": {},
   "outputs": [
    {
     "data": {
      "image/png": "[encoded data removed]",
      "text/plain": [
       "<Figure size 1000x600 with 1 Axes>"
      ]
     },
     "metadata": {},
     "output_type": "display_data"
    }
   ],
   "source": [
    "plt.figure(figsize=(10, 6))\n",
    "\n",
    "sns.barplot(x='Gain Importance', y='Feature', data=df_gain_importance, palette='magma')\n",
    "\n",
    "plt.title('Feature Importance (Gain)')\n",
    "plt.show()"
   ]
  },
  {
   "cell_type": "markdown",
   "id": "8312d24d",
   "metadata": {},
   "source": [
    "Note that `education` is not that important in terms of gain but is more important when we use split-based importances"
   ]
  },
  {
   "cell_type": "code",
   "execution_count": null,
   "id": "d373bf2b",
   "metadata": {},
   "outputs": [],
   "source": []
  }
 ],
 "metadata": {
  "kernelspec": {
   "display_name": "Python 3 (ipykernel)",
   "language": "python",
   "name": "python3"
  },
  "language_info": {
   "codemirror_mode": {
    "name": "ipython",
    "version": 3
   },
   "file_extension": ".py",
   "mimetype": "text/x-python",
   "name": "python",
   "nbconvert_exporter": "python",
   "pygments_lexer": "ipython3",
   "version": "3.10.9"
  }
 },
 "nbformat": 4,
 "nbformat_minor": 5
}
