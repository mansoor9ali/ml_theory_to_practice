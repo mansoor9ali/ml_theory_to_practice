{
 "cells": [
  {
   "cell_type": "code",
   "execution_count": null,
   "id": "07a817bd",
   "metadata": {},
   "outputs": [],
   "source": [
    "import numpy as np\n",
    "from scipy.stats import multivariate_normal"
   ]
  },
  {
   "cell_type": "code",
   "execution_count": null,
   "id": "f1a0ec7c",
   "metadata": {},
   "outputs": [],
   "source": [
    "def init_params(X, K):\n",
    "    \"\"\"Initialize the parameters for the GMM.\n",
    "    \"\"\"\n",
    "    n, d = X.shape\n",
    "    np.random.seed(0)  # For reproducibility\n",
    "\n",
    "    # Randomly initialize the means\n",
    "    mu = X[np.random.choice(n, K, False), :]\n",
    "\n",
    "    # Initialize the covariance matrices as identity matrices\n",
    "    Sigma = [np.eye(d) for _ in range(K)]\n",
    "\n",
    "    # Initialize the mixing coefficients uniformly\n",
    "    pi = np.full(K, 1/K)\n",
    "\n",
    "    return mu, Sigma, pi"
   ]
  },
  {
   "cell_type": "code",
   "execution_count": null,
   "id": "5aded28d",
   "metadata": {},
   "outputs": [],
   "source": [
    "def e_step(X, mu, Sigma, pi):\n",
    "    \"\"\"E-step: compute responsibilities.\n",
    "    \"\"\"\n",
    "    N, K = X.shape[0], len(pi)\n",
    "    responsibilities = np.zeros((N, K))\n",
    "\n",
    "    for k in range(K):\n",
    "        responsibilities[:, k] = pi[k] * multivariate_normal.pdf(X, mean=mu[k], cov=Sigma[k])\n",
    "\n",
    "    # Normalize across components to get the probabilities\n",
    "    responsibilities /= responsibilities.sum(axis=1, keepdims=True)\n",
    "\n",
    "    return responsibilities"
   ]
  },
  {
   "cell_type": "code",
   "execution_count": null,
   "id": "6efde0ef",
   "metadata": {},
   "outputs": [],
   "source": [
    "def m_step(X, responsibilities):\n",
    "    \"\"\"M-step: update parameters.\n",
    "    \"\"\"\n",
    "    N, d = X.shape\n",
    "    K = responsibilities.shape[1]\n",
    "\n",
    "    # Number of data points assigned to each component\n",
    "    Nk = responsibilities.sum(axis=0)\n",
    "\n",
    "    # Update means\n",
    "    mu = np.dot(responsibilities.T, X) / Nk[:, np.newaxis]\n",
    "\n",
    "    # Update covariances\n",
    "    Sigma = []\n",
    "    for k in range(K):\n",
    "        diff = X - mu[k]\n",
    "        Sigma_k = np.dot(responsibilities[:, k] * diff.T, diff) / Nk[k]\n",
    "        Sigma.append(Sigma_k)\n",
    "\n",
    "    # Update mixing coefficients\n",
    "    pi = Nk / N\n",
    "\n",
    "    return mu, Sigma, pi"
   ]
  },
  {
   "cell_type": "code",
   "execution_count": null,
   "id": "6f3064c9",
   "metadata": {},
   "outputs": [],
   "source": [
    "def gmm_em(X, K, max_iter=100):\n",
    "    \"\"\"Gaussian Mixture Model Estimation using Expectation-Maximization.\n",
    "    \"\"\"\n",
    "    # Initialize parameters\n",
    "    mu, Sigma, pi = initialize_parameters(X, K)\n",
    "\n",
    "    for iteration in range(max_iter):\n",
    "        # E-step\n",
    "        responsibilities = e_step(X, mu, Sigma, pi)\n",
    "\n",
    "        # M-step\n",
    "        mu, Sigma, pi = m_step(X, responsibilities)\n",
    "\n",
    "    return mu, Sigma, pi\n",
    "\n",
    "# Note: In a real application, you'd want to add convergence criteria based on\n",
    "# the change in log-likelihood between iterations, and you'd also want to\n",
    "# handle singular covariance matrices."
   ]
  },
  {
   "cell_type": "code",
   "execution_count": null,
   "id": "3a4d1500",
   "metadata": {},
   "outputs": [],
   "source": [
    "# mu, Sigma, pi = gmm_em(X, K)  # Uncomment this line to run with actual data"
   ]
  }
 ],
 "metadata": {
  "kernelspec": {
   "display_name": "Python 3 (ipykernel)",
   "language": "python",
   "name": "python3"
  },
  "language_info": {
   "codemirror_mode": {
    "name": "ipython",
    "version": 3
   },
   "file_extension": ".py",
   "mimetype": "text/x-python",
   "name": "python",
   "nbconvert_exporter": "python",
   "pygments_lexer": "ipython3",
   "version": "3.9.12"
  }
 },
 "nbformat": 4,
 "nbformat_minor": 5
}
