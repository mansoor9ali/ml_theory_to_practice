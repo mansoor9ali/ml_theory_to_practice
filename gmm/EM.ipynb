{
 "cells": [
  {
   "cell_type": "code",
   "execution_count": 1,
   "id": "5f4ab099",
   "metadata": {},
   "outputs": [],
   "source": [
    "import numpy as np\n",
    "import matplotlib.pyplot as plt\n",
    "import seaborn as sns\n",
    "\n",
    "from scipy.stats import norm\n",
    "\n",
    "np.random.seed(0)  # for reproducibility"
   ]
  },
  {
   "cell_type": "code",
   "execution_count": 2,
   "id": "c5ff345b",
   "metadata": {},
   "outputs": [],
   "source": [
    "def init_params(x):    \n",
    "    \"\"\"Initialize the parameters for the GMM\n",
    "    \"\"\"    \n",
    "    # Randomly initialize the means to points from the dataset\n",
    "    mean1, mean2 = np.random.choice(x, 2, replace=False)\n",
    "    \n",
    "    # Initialize the standard deviations to 1\n",
    "    std1, std2 = 1, 1\n",
    "    \n",
    "    # Initialize the mixing weights uniformly\n",
    "    w1, w2 = 0.5, 0.5\n",
    "    \n",
    "    return mean1, mean2, std1, std2, w1, w2"
   ]
  },
  {
   "cell_type": "code",
   "execution_count": 3,
   "id": "5bc40ed0",
   "metadata": {},
   "outputs": [],
   "source": [
    "def e_step(x, mean1, std1, mean2, std2, w1, w2):\n",
    "    \"\"\"E-Step: Compute the responsibilities\n",
    "    \"\"\"    \n",
    "    # Compute the densities of the points under the two normal distributions  \n",
    "    prob1 = norm(mean1, std1).pdf(x) * w1\n",
    "    prob2 = norm(mean2, std2).pdf(x) * w2\n",
    "    \n",
    "    # Normalize the probabilities\n",
    "    prob_sum = prob1 + prob2     \n",
    "    \n",
    "    prob1 /= prob_sum\n",
    "    prob2 /= prob_sum\n",
    "    \n",
    "    return prob1, prob2    "
   ]
  },
  {
   "cell_type": "code",
   "execution_count": 4,
   "id": "c67085ac",
   "metadata": {},
   "outputs": [],
   "source": [
    "def m_step(x, prob1, prob2):\n",
    "    \"\"\"M-Step: Update the GMM parameters\n",
    "    \"\"\"    \n",
    "    # Update means\n",
    "    mean1 = np.dot(prob1, x) / np.sum(prob1)\n",
    "    mean2 = np.dot(prob2, x) / np.sum(prob2)\n",
    "    \n",
    "    # Update standard deviations\n",
    "    std1 = np.sqrt(np.dot(prob1, (x - mean1)**2) / np.sum(prob1))\n",
    "    std2 = np.sqrt(np.dot(prob2, (x - mean2)**2) / np.sum(prob2))\n",
    "    \n",
    "    # Update mixing weights\n",
    "    w1 = np.sum(prob1) / len(x)\n",
    "    w2 = 1 - w1\n",
    "    \n",
    "    return mean1, std1, mean2, std2, w1, w2"
   ]
  },
  {
   "cell_type": "code",
   "execution_count": 5,
   "id": "a5bc3189",
   "metadata": {},
   "outputs": [],
   "source": [
    "def gmm_em(x, max_iter=100):\n",
    "    \"\"\"Gaussian mixture model estimation using Expectation-Maximization\n",
    "    \"\"\"    \n",
    "    mean1, mean2, std1, std2, w1, w2 = init_params(x)\n",
    "        \n",
    "    for i in range(max_iter):\n",
    "        print(f'Iteration {i}: μ1 = {mean1:.3f}, σ1 = {std1:.3f}, μ2 = {mean2:.3f}, σ2 = {std2:.3f}, ' \n",
    "              f'w1 = {w1:.3f}, w2 = {w2:.3f}')\n",
    "        \n",
    "        prob1, prob2 = e_step(x, mean1, std1, mean2, std2, w1, w2)\n",
    "        mean1, std1, mean2, std2, w1, w2 = m_step(x, prob1, prob2)     \n",
    "        \n",
    "    return mean1, std1, mean2, std2, w1, w2"
   ]
  },
  {
   "cell_type": "code",
   "execution_count": 6,
   "id": "a3bb2dd1",
   "metadata": {},
   "outputs": [],
   "source": [
    "def sample_data(mean1, std1, mean2, std2, w1, w2, n_samples):    \n",
    "    \"\"\"Sample random data from a mixture of two Gaussian distribution.\n",
    "    \"\"\"\n",
    "    x = np.zeros(n_samples)\n",
    "    for i in range(n_samples):\n",
    "        # Choose distribution based on mixing weights\n",
    "        if np.random.rand() < w1:\n",
    "            # Sample from the first distribution\n",
    "            x[i] = np.random.normal(mean1, std1)\n",
    "        else:\n",
    "            # Sample from the second distribution\n",
    "            x[i] = np.random.normal(mean2, std2)\n",
    "    \n",
    "    return x"
   ]
  },
  {
   "cell_type": "code",
   "execution_count": 7,
   "id": "53c0afdc",
   "metadata": {},
   "outputs": [],
   "source": [
    "# Parameters for the two univariate normal distributions\n",
    "mean1, std1 = -1, 1\n",
    "mean2, std2 = 4, 1.5\n",
    "w1, w2 = 0.7, 0.3\n",
    "\n",
    "x = sample_data(mean1, std1, mean2, std2, w1, w2, n_samples=1000)"
   ]
  },
  {
   "cell_type": "code",
   "execution_count": 8,
   "id": "a16c5e31",
   "metadata": {},
   "outputs": [
    {
     "name": "stdout",
     "output_type": "stream",
     "text": [
      "Iteration 0: μ1 = -1.311, σ1 = 1.000, μ2 = 0.239, σ2 = 1.000, w1 = 0.500, w2 = 0.500\n",
      "Iteration 1: μ1 = -1.442, σ1 = 0.898, μ2 = 2.232, σ2 = 2.521, w1 = 0.427, w2 = 0.573\n",
      "Iteration 2: μ1 = -1.306, σ1 = 0.837, μ2 = 2.410, σ2 = 2.577, w1 = 0.470, w2 = 0.530\n",
      "Iteration 3: μ1 = -1.254, σ1 = 0.835, μ2 = 2.572, σ2 = 2.559, w1 = 0.499, w2 = 0.501\n",
      "Iteration 4: μ1 = -1.231, σ1 = 0.847, μ2 = 2.717, σ2 = 2.511, w1 = 0.521, w2 = 0.479\n",
      "Iteration 5: μ1 = -1.219, σ1 = 0.863, μ2 = 2.852, σ2 = 2.447, w1 = 0.538, w2 = 0.462\n",
      "Iteration 6: μ1 = -1.210, σ1 = 0.879, μ2 = 2.984, σ2 = 2.372, w1 = 0.554, w2 = 0.446\n",
      "Iteration 7: μ1 = -1.203, σ1 = 0.893, μ2 = 3.116, σ2 = 2.286, w1 = 0.568, w2 = 0.432\n",
      "Iteration 8: μ1 = -1.195, σ1 = 0.908, μ2 = 3.249, σ2 = 2.190, w1 = 0.582, w2 = 0.418\n",
      "Iteration 9: μ1 = -1.184, σ1 = 0.921, μ2 = 3.384, σ2 = 2.084, w1 = 0.596, w2 = 0.404\n",
      "Iteration 10: μ1 = -1.170, σ1 = 0.934, μ2 = 3.519, σ2 = 1.973, w1 = 0.609, w2 = 0.391\n",
      "Iteration 11: μ1 = -1.153, σ1 = 0.946, μ2 = 3.648, σ2 = 1.862, w1 = 0.622, w2 = 0.378\n",
      "Iteration 12: μ1 = -1.134, σ1 = 0.957, μ2 = 3.767, σ2 = 1.757, w1 = 0.634, w2 = 0.366\n",
      "Iteration 13: μ1 = -1.114, σ1 = 0.970, μ2 = 3.869, σ2 = 1.664, w1 = 0.644, w2 = 0.356\n",
      "Iteration 14: μ1 = -1.095, σ1 = 0.982, μ2 = 3.954, σ2 = 1.585, w1 = 0.652, w2 = 0.348\n",
      "Iteration 15: μ1 = -1.079, σ1 = 0.994, μ2 = 4.020, σ2 = 1.522, w1 = 0.659, w2 = 0.341\n",
      "Iteration 16: μ1 = -1.065, σ1 = 1.004, μ2 = 4.070, σ2 = 1.475, w1 = 0.664, w2 = 0.336\n",
      "Iteration 17: μ1 = -1.055, σ1 = 1.012, μ2 = 4.106, σ2 = 1.440, w1 = 0.667, w2 = 0.333\n",
      "Iteration 18: μ1 = -1.047, σ1 = 1.019, μ2 = 4.132, σ2 = 1.417, w1 = 0.670, w2 = 0.330\n",
      "Iteration 19: μ1 = -1.042, σ1 = 1.023, μ2 = 4.149, σ2 = 1.400, w1 = 0.672, w2 = 0.328\n",
      "Iteration 20: μ1 = -1.038, σ1 = 1.026, μ2 = 4.160, σ2 = 1.390, w1 = 0.673, w2 = 0.327\n",
      "Iteration 21: μ1 = -1.035, σ1 = 1.029, μ2 = 4.168, σ2 = 1.383, w1 = 0.674, w2 = 0.326\n",
      "Iteration 22: μ1 = -1.034, σ1 = 1.030, μ2 = 4.172, σ2 = 1.378, w1 = 0.674, w2 = 0.326\n",
      "Iteration 23: μ1 = -1.033, σ1 = 1.031, μ2 = 4.176, σ2 = 1.375, w1 = 0.675, w2 = 0.325\n",
      "Iteration 24: μ1 = -1.032, σ1 = 1.032, μ2 = 4.178, σ2 = 1.373, w1 = 0.675, w2 = 0.325\n",
      "Iteration 25: μ1 = -1.031, σ1 = 1.032, μ2 = 4.179, σ2 = 1.372, w1 = 0.675, w2 = 0.325\n",
      "Iteration 26: μ1 = -1.031, σ1 = 1.033, μ2 = 4.180, σ2 = 1.371, w1 = 0.675, w2 = 0.325\n",
      "Iteration 27: μ1 = -1.031, σ1 = 1.033, μ2 = 4.180, σ2 = 1.371, w1 = 0.675, w2 = 0.325\n",
      "Iteration 28: μ1 = -1.031, σ1 = 1.033, μ2 = 4.181, σ2 = 1.370, w1 = 0.675, w2 = 0.325\n",
      "Iteration 29: μ1 = -1.031, σ1 = 1.033, μ2 = 4.181, σ2 = 1.370, w1 = 0.675, w2 = 0.325\n"
     ]
    }
   ],
   "source": [
    "final_dist_params = gmm_em(x, max_iter=30)"
   ]
  },
  {
   "cell_type": "code",
   "execution_count": 28,
   "id": "44cf8ff3",
   "metadata": {},
   "outputs": [],
   "source": [
    "def plot_mixture(x, mean1, std1, mean2, std2, w1, w2):\n",
    "    # Plot an histogram of the input data\n",
    "    sns.histplot(x, bins=20, kde=True, stat='density', linewidth=0.5, color='gray')\n",
    "    \n",
    "    # Generate points for the x-axis\n",
    "    x_ = np.linspace(-5, 10, 1000)\n",
    "    \n",
    "    # Calculate the individual nomral distributions\n",
    "    normal1 = norm.pdf(x_, mean1, std1)\n",
    "    normal2 = norm.pdf(x_, mean2, std2)\n",
    "    \n",
    "    # Calculate the mixture\n",
    "    mixture = w1 * normal1 + w2 * normal2\n",
    "    \n",
    "    # Plot the results\n",
    "    plt.plot(x_, normal1, label='Normal distribution 1', linestyle='--')\n",
    "    plt.plot(x_, normal2, label='Normal distribution 2', linestyle='--')\n",
    "    plt.plot(x_, mixture, label='Mixture model', color='black')\n",
    "    plt.xlabel('$x$')\n",
    "    plt.ylabel('$p(x)$')\n",
    "    plt.legend()"
   ]
  },
  {
   "cell_type": "code",
   "execution_count": 29,
   "id": "92b36b8b",
   "metadata": {},
   "outputs": [
    {
     "data": {
      "image/png": "[encoded data removed]",
      "text/plain": [
       "<Figure size 432x288 with 1 Axes>"
      ]
     },
     "metadata": {
      "needs_background": "light"
     },
     "output_type": "display_data"
    }
   ],
   "source": [
    "plot_mixture(x, *final_dist_params)\n",
    "plt.savefig('figures/em_final_distribution.pdf')"
   ]
  },
  {
   "cell_type": "code",
   "execution_count": null,
   "id": "c130354f",
   "metadata": {},
   "outputs": [],
   "source": []
  }
 ],
 "metadata": {
  "kernelspec": {
   "display_name": "Python 3 (ipykernel)",
   "language": "python",
   "name": "python3"
  },
  "language_info": {
   "codemirror_mode": {
    "name": "ipython",
    "version": 3
   },
   "file_extension": ".py",
   "mimetype": "text/x-python",
   "name": "python",
   "nbconvert_exporter": "python",
   "pygments_lexer": "ipython3",
   "version": "3.9.12"
  }
 },
 "nbformat": 4,
 "nbformat_minor": 5
}
