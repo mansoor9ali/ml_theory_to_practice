{
 "cells": [
  {
   "cell_type": "code",
   "execution_count": 5,
   "id": "f3d6f217",
   "metadata": {},
   "outputs": [],
   "source": [
    "import numpy as np"
   ]
  },
  {
   "cell_type": "code",
   "execution_count": null,
   "id": "67d1aaa8",
   "metadata": {},
   "outputs": [],
   "source": []
  },
  {
   "cell_type": "markdown",
   "id": "12f601ef",
   "metadata": {},
   "source": [
    "Forward pass"
   ]
  },
  {
   "cell_type": "code",
   "execution_count": 11,
   "id": "477f8e6d",
   "metadata": {},
   "outputs": [],
   "source": [
    "def sigmoid(x):\n",
    "    return 1 / (1 + np.exp(-x))"
   ]
  },
  {
   "cell_type": "code",
   "execution_count": 20,
   "id": "0f9cb50a",
   "metadata": {},
   "outputs": [
    {
     "data": {
      "text/plain": [
       "0.8"
      ]
     },
     "execution_count": 20,
     "metadata": {},
     "output_type": "execute_result"
    }
   ],
   "source": [
    "z1 = 0.5 * 1 + 0.3 * 1\n",
    "z1"
   ]
  },
  {
   "cell_type": "code",
   "execution_count": 21,
   "id": "02fdce62",
   "metadata": {},
   "outputs": [
    {
     "data": {
      "text/plain": [
       "0.6899744811276125"
      ]
     },
     "execution_count": 21,
     "metadata": {},
     "output_type": "execute_result"
    }
   ],
   "source": [
    "a1 = sigmoid(z1)\n",
    "a1"
   ]
  },
  {
   "cell_type": "code",
   "execution_count": 22,
   "id": "786c0c9c",
   "metadata": {},
   "outputs": [
    {
     "data": {
      "text/plain": [
       "0.49999999999999994"
      ]
     },
     "execution_count": 22,
     "metadata": {},
     "output_type": "execute_result"
    }
   ],
   "source": [
    "z2 = -0.2 * 1 + 0.7 * 1\n",
    "z2"
   ]
  },
  {
   "cell_type": "code",
   "execution_count": 23,
   "id": "ba13ba10",
   "metadata": {},
   "outputs": [
    {
     "data": {
      "text/plain": [
       "0.6224593312018546"
      ]
     },
     "execution_count": 23,
     "metadata": {},
     "output_type": "execute_result"
    }
   ],
   "source": [
    "a2 = sigmoid(z2)\n",
    "a2"
   ]
  },
  {
   "cell_type": "code",
   "execution_count": 24,
   "id": "eadd9a0f",
   "metadata": {},
   "outputs": [
    {
     "data": {
      "text/plain": [
       "-0.1"
      ]
     },
     "execution_count": 24,
     "metadata": {},
     "output_type": "execute_result"
    }
   ],
   "source": [
    "z3 = -0.1 * 1\n",
    "z3"
   ]
  },
  {
   "cell_type": "code",
   "execution_count": 25,
   "id": "c47c9230",
   "metadata": {},
   "outputs": [
    {
     "data": {
      "text/plain": [
       "0.47502081252106"
      ]
     },
     "execution_count": 25,
     "metadata": {},
     "output_type": "execute_result"
    }
   ],
   "source": [
    "a3 = sigmoid(z3)\n",
    "a3"
   ]
  },
  {
   "cell_type": "code",
   "execution_count": 26,
   "id": "e9518c79",
   "metadata": {},
   "outputs": [
    {
     "data": {
      "text/plain": [
       "-0.09599999999999995"
      ]
     },
     "execution_count": 26,
     "metadata": {},
     "output_type": "execute_result"
    }
   ],
   "source": [
    "z4 = -0.5 * 0.69 + 0.4 * 0.6225\n",
    "z4"
   ]
  },
  {
   "cell_type": "code",
   "execution_count": 28,
   "id": "3320b80a",
   "metadata": {},
   "outputs": [
    {
     "data": {
      "text/plain": [
       "0.4760184150288955"
      ]
     },
     "execution_count": 28,
     "metadata": {},
     "output_type": "execute_result"
    }
   ],
   "source": [
    "a4 = sigmoid(z4)\n",
    "a4"
   ]
  },
  {
   "cell_type": "code",
   "execution_count": 29,
   "id": "5d65812c",
   "metadata": {},
   "outputs": [
    {
     "data": {
      "text/plain": [
       "0.7705"
      ]
     },
     "execution_count": 29,
     "metadata": {},
     "output_type": "execute_result"
    }
   ],
   "source": [
    "z5 = 0.3 * 0.69 + 0.6 * 0.6225 + 0.4 * 0.475\n",
    "z5"
   ]
  },
  {
   "cell_type": "code",
   "execution_count": 30,
   "id": "a0de8449",
   "metadata": {},
   "outputs": [
    {
     "data": {
      "text/plain": [
       "0.6836290438509408"
      ]
     },
     "execution_count": 30,
     "metadata": {},
     "output_type": "execute_result"
    }
   ],
   "source": [
    "a5 = sigmoid(z5)\n",
    "a5"
   ]
  },
  {
   "cell_type": "code",
   "execution_count": 31,
   "id": "f775e4e2",
   "metadata": {},
   "outputs": [
    {
     "data": {
      "text/plain": [
       "0.7165199999999999"
      ]
     },
     "execution_count": 31,
     "metadata": {},
     "output_type": "execute_result"
    }
   ],
   "source": [
    "z6 = 0.5 * 0.476 + 0.7 * 0.6836\n",
    "z6"
   ]
  },
  {
   "cell_type": "code",
   "execution_count": 32,
   "id": "683e7ad4",
   "metadata": {},
   "outputs": [
    {
     "data": {
      "text/plain": [
       "0.6718402375328226"
      ]
     },
     "execution_count": 32,
     "metadata": {},
     "output_type": "execute_result"
    }
   ],
   "source": [
    "a6 = sigmoid(z6)\n",
    "a6"
   ]
  },
  {
   "cell_type": "markdown",
   "id": "be477010",
   "metadata": {},
   "source": [
    "Backward pass"
   ]
  },
  {
   "cell_type": "code",
   "execution_count": 33,
   "id": "ebfbe92e",
   "metadata": {},
   "outputs": [
    {
     "data": {
      "text/plain": [
       "-0.32820000000000005"
      ]
     },
     "execution_count": 33,
     "metadata": {},
     "output_type": "execute_result"
    }
   ],
   "source": [
    "delta_out = 0.6718 - 1\n",
    "delta_out"
   ]
  },
  {
   "cell_type": "code",
   "execution_count": 34,
   "id": "de463b86",
   "metadata": {},
   "outputs": [
    {
     "data": {
      "text/plain": [
       "-0.16410000000000002"
      ]
     },
     "execution_count": 34,
     "metadata": {},
     "output_type": "execute_result"
    }
   ],
   "source": [
    "sigma1 = 0.5 * delta_out\n",
    "sigma1"
   ]
  },
  {
   "cell_type": "code",
   "execution_count": 35,
   "id": "352ace05",
   "metadata": {},
   "outputs": [
    {
     "data": {
      "text/plain": [
       "-0.040930478400000005"
      ]
     },
     "execution_count": 35,
     "metadata": {},
     "output_type": "execute_result"
    }
   ],
   "source": [
    "a1 = 0.476\n",
    "delta1 = a1 * (1 - a1) * sigma1\n",
    "delta1"
   ]
  },
  {
   "cell_type": "code",
   "execution_count": 36,
   "id": "ae2114f2",
   "metadata": {},
   "outputs": [
    {
     "data": {
      "text/plain": [
       "-0.22974000000000003"
      ]
     },
     "execution_count": 36,
     "metadata": {},
     "output_type": "execute_result"
    }
   ],
   "source": [
    "sigma2 = 0.7 * delta_out\n",
    "sigma2"
   ]
  },
  {
   "cell_type": "code",
   "execution_count": 37,
   "id": "ef008855",
   "metadata": {},
   "outputs": [
    {
     "data": {
      "text/plain": [
       "-0.082294338336"
      ]
     },
     "execution_count": 37,
     "metadata": {},
     "output_type": "execute_result"
    }
   ],
   "source": [
    "a2 = 0.6836\n",
    "delta2 = a2 * (1 - a1) * sigma2\n",
    "delta2"
   ]
  },
  {
   "cell_type": "code",
   "execution_count": 38,
   "id": "7a2b1ac5",
   "metadata": {},
   "outputs": [
    {
     "data": {
      "text/plain": [
       "-0.004223062300799996"
      ]
     },
     "execution_count": 38,
     "metadata": {},
     "output_type": "execute_result"
    }
   ],
   "source": [
    "sigma3 = -0.5 * delta1 + 0.3 * delta2\n",
    "sigma3"
   ]
  },
  {
   "cell_type": "code",
   "execution_count": 39,
   "id": "8294c1eb",
   "metadata": {},
   "outputs": [
    {
     "data": {
      "text/plain": [
       "-0.0009033130261411191"
      ]
     },
     "execution_count": 39,
     "metadata": {},
     "output_type": "execute_result"
    }
   ],
   "source": [
    "a3 = 0.69\n",
    "delta3 = a3 * (1 - a3) * sigma3\n",
    "delta3"
   ]
  },
  {
   "cell_type": "code",
   "execution_count": 40,
   "id": "63da5b07",
   "metadata": {},
   "outputs": [
    {
     "data": {
      "text/plain": [
       "-0.0657487943616"
      ]
     },
     "execution_count": 40,
     "metadata": {},
     "output_type": "execute_result"
    }
   ],
   "source": [
    "sigma4 = 0.4 * delta1 + 0.6 * delta2\n",
    "sigma4"
   ]
  },
  {
   "cell_type": "code",
   "execution_count": 42,
   "id": "ddcf5451",
   "metadata": {},
   "outputs": [
    {
     "data": {
      "text/plain": [
       "-0.015450555745011238"
      ]
     },
     "execution_count": 42,
     "metadata": {},
     "output_type": "execute_result"
    }
   ],
   "source": [
    "a4 = 0.6225\n",
    "delta4 = a4 * (1 - a4) * sigma4\n",
    "delta4"
   ]
  },
  {
   "cell_type": "code",
   "execution_count": 43,
   "id": "9247da38",
   "metadata": {},
   "outputs": [
    {
     "data": {
      "text/plain": [
       "-0.032917735334400004"
      ]
     },
     "execution_count": 43,
     "metadata": {},
     "output_type": "execute_result"
    }
   ],
   "source": [
    "sigma5 = 0.4 * delta2\n",
    "sigma5"
   ]
  },
  {
   "cell_type": "code",
   "execution_count": 44,
   "id": "c6e07316",
   "metadata": {},
   "outputs": [
    {
     "data": {
      "text/plain": [
       "-0.008208860249016"
      ]
     },
     "execution_count": 44,
     "metadata": {},
     "output_type": "execute_result"
    }
   ],
   "source": [
    "a5 = 0.475\n",
    "delta5 = a5 * (1 - a5) * sigma5\n",
    "delta5"
   ]
  },
  {
   "cell_type": "markdown",
   "id": "eda4a5b8",
   "metadata": {},
   "source": [
    "Gradient Descent"
   ]
  },
  {
   "cell_type": "code",
   "execution_count": 45,
   "id": "1848b9a3",
   "metadata": {},
   "outputs": [
    {
     "data": {
      "text/plain": [
       "0.5781116"
      ]
     },
     "execution_count": 45,
     "metadata": {},
     "output_type": "execute_result"
    }
   ],
   "source": [
    "0.5 - 0.5 * (-0.3282) * 0.476"
   ]
  },
  {
   "cell_type": "code",
   "execution_count": 46,
   "id": "0dafead2",
   "metadata": {},
   "outputs": [
    {
     "data": {
      "text/plain": [
       "0.85691242"
      ]
     },
     "execution_count": 46,
     "metadata": {},
     "output_type": "execute_result"
    }
   ],
   "source": [
    "0.7 - 0.7 * (-0.3282) * 0.683"
   ]
  },
  {
   "cell_type": "code",
   "execution_count": 47,
   "id": "a231a1de",
   "metadata": {},
   "outputs": [
    {
     "data": {
      "text/plain": [
       "-0.5141105"
      ]
     },
     "execution_count": 47,
     "metadata": {},
     "output_type": "execute_result"
    }
   ],
   "source": [
    "-0.5 - (-0.5) * (-0.0409) * 0.69"
   ]
  },
  {
   "cell_type": "code",
   "execution_count": 51,
   "id": "e0b3433f",
   "metadata": {},
   "outputs": [
    {
     "data": {
      "text/plain": [
       "0.3170361"
      ]
     },
     "execution_count": 51,
     "metadata": {},
     "output_type": "execute_result"
    }
   ],
   "source": [
    "0.3 - 0.3 * (-0.0823) * 0.69"
   ]
  },
  {
   "cell_type": "code",
   "execution_count": 54,
   "id": "4a6dd211",
   "metadata": {},
   "outputs": [
    {
     "data": {
      "text/plain": [
       "0.4101841"
      ]
     },
     "execution_count": 54,
     "metadata": {},
     "output_type": "execute_result"
    }
   ],
   "source": [
    "0.4 - 0.4 * (-0.0409) * 0.6225"
   ]
  },
  {
   "cell_type": "code",
   "execution_count": 55,
   "id": "8436f7a8",
   "metadata": {},
   "outputs": [
    {
     "data": {
      "text/plain": [
       "0.63073905"
      ]
     },
     "execution_count": 55,
     "metadata": {},
     "output_type": "execute_result"
    }
   ],
   "source": [
    "0.6 - 0.6 * (-0.0823) * 0.6225"
   ]
  },
  {
   "cell_type": "code",
   "execution_count": 53,
   "id": "ccb90787",
   "metadata": {},
   "outputs": [
    {
     "data": {
      "text/plain": [
       "0.41563700000000003"
      ]
     },
     "execution_count": 53,
     "metadata": {},
     "output_type": "execute_result"
    }
   ],
   "source": [
    "0.4 - 0.4 * (-0.0823) * 0.475"
   ]
  },
  {
   "cell_type": "code",
   "execution_count": 22,
   "id": "d61881bb",
   "metadata": {},
   "outputs": [
    {
     "data": {
      "text/plain": [
       "0.50045"
      ]
     },
     "execution_count": 22,
     "metadata": {},
     "output_type": "execute_result"
    }
   ],
   "source": [
    "0.5 - 0.5 * (-0.0009) * 1"
   ]
  },
  {
   "cell_type": "code",
   "execution_count": 24,
   "id": "c80a2326",
   "metadata": {},
   "outputs": [
    {
     "data": {
      "text/plain": [
       "-0.2031"
      ]
     },
     "execution_count": 24,
     "metadata": {},
     "output_type": "execute_result"
    }
   ],
   "source": [
    "-0.2 - (-0.2) * (-0.0155) * 1"
   ]
  },
  {
   "cell_type": "code",
   "execution_count": 25,
   "id": "0df8981a",
   "metadata": {},
   "outputs": [
    {
     "data": {
      "text/plain": [
       "0.30027"
      ]
     },
     "execution_count": 25,
     "metadata": {},
     "output_type": "execute_result"
    }
   ],
   "source": [
    "0.3 - 0.3 * (-0.0009) * 1"
   ]
  },
  {
   "cell_type": "code",
   "execution_count": 26,
   "id": "5df60138",
   "metadata": {},
   "outputs": [
    {
     "data": {
      "text/plain": [
       "0.71085"
      ]
     },
     "execution_count": 26,
     "metadata": {},
     "output_type": "execute_result"
    }
   ],
   "source": [
    "0.7 - 0.7 * (-0.0155) * 1"
   ]
  },
  {
   "cell_type": "code",
   "execution_count": 27,
   "id": "5176a709",
   "metadata": {},
   "outputs": [
    {
     "data": {
      "text/plain": [
       "-0.10082"
      ]
     },
     "execution_count": 27,
     "metadata": {},
     "output_type": "execute_result"
    }
   ],
   "source": [
    "-0.1 - (-0.1) * (-0.0082) * 1"
   ]
  },
  {
   "cell_type": "markdown",
   "id": "1b94ab78",
   "metadata": {},
   "source": [
    "Forward pass"
   ]
  },
  {
   "cell_type": "code",
   "execution_count": 12,
   "id": "afc333dd",
   "metadata": {},
   "outputs": [
    {
     "data": {
      "text/plain": [
       "0.8007"
      ]
     },
     "execution_count": 12,
     "metadata": {},
     "output_type": "execute_result"
    }
   ],
   "source": [
    "z1 = 0.5004 * 1 + 0.3003 * 1\n",
    "z1"
   ]
  },
  {
   "cell_type": "code",
   "execution_count": 13,
   "id": "9a246498",
   "metadata": {},
   "outputs": [
    {
     "data": {
      "text/plain": [
       "0.6901241979993937"
      ]
     },
     "execution_count": 13,
     "metadata": {},
     "output_type": "execute_result"
    }
   ],
   "source": [
    "a1 = sigmoid(z1)\n",
    "a1"
   ]
  },
  {
   "cell_type": "code",
   "execution_count": 14,
   "id": "0305dcaa",
   "metadata": {},
   "outputs": [
    {
     "data": {
      "text/plain": [
       "0.5077"
      ]
     },
     "execution_count": 14,
     "metadata": {},
     "output_type": "execute_result"
    }
   ],
   "source": [
    "z2 = -0.2031 * 1 + 0.7108 * 1\n",
    "z2"
   ]
  },
  {
   "cell_type": "code",
   "execution_count": 15,
   "id": "ee909bcd",
   "metadata": {},
   "outputs": [
    {
     "data": {
      "text/plain": [
       "0.6242671461983245"
      ]
     },
     "execution_count": 15,
     "metadata": {},
     "output_type": "execute_result"
    }
   ],
   "source": [
    "a2 = sigmoid(z2)\n",
    "a2"
   ]
  },
  {
   "cell_type": "code",
   "execution_count": 16,
   "id": "d5b90428",
   "metadata": {},
   "outputs": [
    {
     "data": {
      "text/plain": [
       "-0.1008"
      ]
     },
     "execution_count": 16,
     "metadata": {},
     "output_type": "execute_result"
    }
   ],
   "source": [
    "z3 = -0.1008 * 1\n",
    "z3"
   ]
  },
  {
   "cell_type": "code",
   "execution_count": 17,
   "id": "17288f14",
   "metadata": {},
   "outputs": [
    {
     "data": {
      "text/plain": [
       "0.4748213156861606"
      ]
     },
     "execution_count": 17,
     "metadata": {},
     "output_type": "execute_result"
    }
   ],
   "source": [
    "a3 = sigmoid(z3)\n",
    "a3"
   ]
  },
  {
   "cell_type": "code",
   "execution_count": 60,
   "id": "da216e0f",
   "metadata": {},
   "outputs": [
    {
     "data": {
      "text/plain": [
       "-0.09875498000000005"
      ]
     },
     "execution_count": 60,
     "metadata": {},
     "output_type": "execute_result"
    }
   ],
   "source": [
    "z4 = -0.5141 * 0.6901 + 0.4101 * 0.6243\n",
    "z4"
   ]
  },
  {
   "cell_type": "code",
   "execution_count": 62,
   "id": "923c1f92",
   "metadata": {},
   "outputs": [
    {
     "data": {
      "text/plain": [
       "0.4753313002945562"
      ]
     },
     "execution_count": 62,
     "metadata": {},
     "output_type": "execute_result"
    }
   ],
   "source": [
    "a4 = sigmoid(z4)\n",
    "a4"
   ]
  },
  {
   "cell_type": "code",
   "execution_count": 58,
   "id": "875e2640",
   "metadata": {},
   "outputs": [
    {
     "data": {
      "text/plain": [
       "0.80983459"
      ]
     },
     "execution_count": 58,
     "metadata": {},
     "output_type": "execute_result"
    }
   ],
   "source": [
    "z5 = 0.317 * 0.6901 + 0.6307 * 0.6243 + 0.4156 * 0.4748\n",
    "z5"
   ]
  },
  {
   "cell_type": "code",
   "execution_count": 59,
   "id": "e51637a1",
   "metadata": {},
   "outputs": [
    {
     "data": {
      "text/plain": [
       "0.6920742553134237"
      ]
     },
     "execution_count": 59,
     "metadata": {},
     "output_type": "execute_result"
    }
   ],
   "source": [
    "a5 = sigmoid(z5)\n",
    "a5"
   ]
  },
  {
   "cell_type": "code",
   "execution_count": 63,
   "id": "ecf1a73e",
   "metadata": {},
   "outputs": [
    {
     "data": {
      "text/plain": [
       "0.86783142"
      ]
     },
     "execution_count": 63,
     "metadata": {},
     "output_type": "execute_result"
    }
   ],
   "source": [
    "z6 = 0.5781 * 0.4753 + 0.8569 * 0.6921\n",
    "z6"
   ]
  },
  {
   "cell_type": "code",
   "execution_count": 64,
   "id": "fb3104d9",
   "metadata": {},
   "outputs": [
    {
     "data": {
      "text/plain": [
       "0.7042942613440846"
      ]
     },
     "execution_count": 64,
     "metadata": {},
     "output_type": "execute_result"
    }
   ],
   "source": [
    "a6 = sigmoid(z6)\n",
    "a6"
   ]
  },
  {
   "cell_type": "code",
   "execution_count": null,
   "id": "9647806b",
   "metadata": {},
   "outputs": [],
   "source": []
  }
 ],
 "metadata": {
  "kernelspec": {
   "display_name": "Python 3 (ipykernel)",
   "language": "python",
   "name": "python3"
  },
  "language_info": {
   "codemirror_mode": {
    "name": "ipython",
    "version": 3
   },
   "file_extension": ".py",
   "mimetype": "text/x-python",
   "name": "python",
   "nbconvert_exporter": "python",
   "pygments_lexer": "ipython3",
   "version": "3.9.12"
  }
 },
 "nbformat": 4,
 "nbformat_minor": 5
}
