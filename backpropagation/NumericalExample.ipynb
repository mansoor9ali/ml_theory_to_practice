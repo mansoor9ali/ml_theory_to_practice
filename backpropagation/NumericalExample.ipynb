{
 "cells": [
  {
   "cell_type": "code",
   "execution_count": 1,
   "id": "f3d6f217",
   "metadata": {},
   "outputs": [],
   "source": [
    "import numpy as np"
   ]
  },
  {
   "cell_type": "markdown",
   "id": "12f601ef",
   "metadata": {},
   "source": [
    "Forward pass"
   ]
  },
  {
   "cell_type": "code",
   "execution_count": 2,
   "id": "477f8e6d",
   "metadata": {},
   "outputs": [],
   "source": [
    "def sigmoid(x):\n",
    "    return 1 / (1 + np.exp(-x))"
   ]
  },
  {
   "cell_type": "code",
   "execution_count": 3,
   "id": "0f9cb50a",
   "metadata": {},
   "outputs": [
    {
     "data": {
      "text/plain": [
       "0.8"
      ]
     },
     "execution_count": 3,
     "metadata": {},
     "output_type": "execute_result"
    }
   ],
   "source": [
    "z1 = 0.5 * 1 + 0.3 * 1\n",
    "z1"
   ]
  },
  {
   "cell_type": "code",
   "execution_count": 4,
   "id": "02fdce62",
   "metadata": {},
   "outputs": [
    {
     "data": {
      "text/plain": [
       "0.6899744811276125"
      ]
     },
     "execution_count": 4,
     "metadata": {},
     "output_type": "execute_result"
    }
   ],
   "source": [
    "a1 = sigmoid(z1)\n",
    "a1"
   ]
  },
  {
   "cell_type": "code",
   "execution_count": 5,
   "id": "786c0c9c",
   "metadata": {},
   "outputs": [
    {
     "data": {
      "text/plain": [
       "0.49999999999999994"
      ]
     },
     "execution_count": 5,
     "metadata": {},
     "output_type": "execute_result"
    }
   ],
   "source": [
    "z2 = -0.2 * 1 + 0.7 * 1\n",
    "z2"
   ]
  },
  {
   "cell_type": "code",
   "execution_count": 6,
   "id": "ba13ba10",
   "metadata": {},
   "outputs": [
    {
     "data": {
      "text/plain": [
       "0.6224593312018546"
      ]
     },
     "execution_count": 6,
     "metadata": {},
     "output_type": "execute_result"
    }
   ],
   "source": [
    "a2 = sigmoid(z2)\n",
    "a2"
   ]
  },
  {
   "cell_type": "code",
   "execution_count": 7,
   "id": "eadd9a0f",
   "metadata": {},
   "outputs": [
    {
     "data": {
      "text/plain": [
       "-0.1"
      ]
     },
     "execution_count": 7,
     "metadata": {},
     "output_type": "execute_result"
    }
   ],
   "source": [
    "z3 = -0.1 * 1\n",
    "z3"
   ]
  },
  {
   "cell_type": "code",
   "execution_count": 8,
   "id": "c47c9230",
   "metadata": {},
   "outputs": [
    {
     "data": {
      "text/plain": [
       "0.47502081252106"
      ]
     },
     "execution_count": 8,
     "metadata": {},
     "output_type": "execute_result"
    }
   ],
   "source": [
    "a3 = sigmoid(z3)\n",
    "a3"
   ]
  },
  {
   "cell_type": "code",
   "execution_count": 9,
   "id": "e9518c79",
   "metadata": {},
   "outputs": [
    {
     "data": {
      "text/plain": [
       "-0.09599999999999995"
      ]
     },
     "execution_count": 9,
     "metadata": {},
     "output_type": "execute_result"
    }
   ],
   "source": [
    "z4 = -0.5 * 0.69 + 0.4 * 0.6225\n",
    "z4"
   ]
  },
  {
   "cell_type": "code",
   "execution_count": 10,
   "id": "3320b80a",
   "metadata": {},
   "outputs": [
    {
     "data": {
      "text/plain": [
       "0.4760184150288955"
      ]
     },
     "execution_count": 10,
     "metadata": {},
     "output_type": "execute_result"
    }
   ],
   "source": [
    "a4 = sigmoid(z4)\n",
    "a4"
   ]
  },
  {
   "cell_type": "code",
   "execution_count": 11,
   "id": "5d65812c",
   "metadata": {},
   "outputs": [
    {
     "data": {
      "text/plain": [
       "0.7705"
      ]
     },
     "execution_count": 11,
     "metadata": {},
     "output_type": "execute_result"
    }
   ],
   "source": [
    "z5 = 0.3 * 0.69 + 0.6 * 0.6225 + 0.4 * 0.475\n",
    "z5"
   ]
  },
  {
   "cell_type": "code",
   "execution_count": 12,
   "id": "a0de8449",
   "metadata": {},
   "outputs": [
    {
     "data": {
      "text/plain": [
       "0.6836290438509408"
      ]
     },
     "execution_count": 12,
     "metadata": {},
     "output_type": "execute_result"
    }
   ],
   "source": [
    "a5 = sigmoid(z5)\n",
    "a5"
   ]
  },
  {
   "cell_type": "code",
   "execution_count": 13,
   "id": "f775e4e2",
   "metadata": {},
   "outputs": [
    {
     "data": {
      "text/plain": [
       "0.7165199999999999"
      ]
     },
     "execution_count": 13,
     "metadata": {},
     "output_type": "execute_result"
    }
   ],
   "source": [
    "z6 = 0.5 * 0.476 + 0.7 * 0.6836\n",
    "z6"
   ]
  },
  {
   "cell_type": "code",
   "execution_count": 14,
   "id": "683e7ad4",
   "metadata": {},
   "outputs": [
    {
     "data": {
      "text/plain": [
       "0.6718402375328226"
      ]
     },
     "execution_count": 14,
     "metadata": {},
     "output_type": "execute_result"
    }
   ],
   "source": [
    "a6 = sigmoid(z6)\n",
    "a6"
   ]
  },
  {
   "cell_type": "markdown",
   "id": "be477010",
   "metadata": {},
   "source": [
    "Backward pass"
   ]
  },
  {
   "cell_type": "code",
   "execution_count": 15,
   "id": "ebfbe92e",
   "metadata": {},
   "outputs": [
    {
     "data": {
      "text/plain": [
       "-0.32820000000000005"
      ]
     },
     "execution_count": 15,
     "metadata": {},
     "output_type": "execute_result"
    }
   ],
   "source": [
    "delta_out = 0.6718 - 1\n",
    "delta_out"
   ]
  },
  {
   "cell_type": "code",
   "execution_count": 16,
   "id": "de463b86",
   "metadata": {},
   "outputs": [
    {
     "data": {
      "text/plain": [
       "-0.16410000000000002"
      ]
     },
     "execution_count": 16,
     "metadata": {},
     "output_type": "execute_result"
    }
   ],
   "source": [
    "sigma1 = 0.5 * delta_out\n",
    "sigma1"
   ]
  },
  {
   "cell_type": "code",
   "execution_count": 17,
   "id": "352ace05",
   "metadata": {},
   "outputs": [
    {
     "data": {
      "text/plain": [
       "-0.040930478400000005"
      ]
     },
     "execution_count": 17,
     "metadata": {},
     "output_type": "execute_result"
    }
   ],
   "source": [
    "a1 = 0.476\n",
    "delta1 = a1 * (1 - a1) * sigma1\n",
    "delta1"
   ]
  },
  {
   "cell_type": "code",
   "execution_count": 18,
   "id": "ae2114f2",
   "metadata": {},
   "outputs": [
    {
     "data": {
      "text/plain": [
       "-0.22974000000000003"
      ]
     },
     "execution_count": 18,
     "metadata": {},
     "output_type": "execute_result"
    }
   ],
   "source": [
    "sigma2 = 0.7 * delta_out\n",
    "sigma2"
   ]
  },
  {
   "cell_type": "code",
   "execution_count": 19,
   "id": "ef008855",
   "metadata": {},
   "outputs": [
    {
     "data": {
      "text/plain": [
       "-0.04969070352960001"
      ]
     },
     "execution_count": 19,
     "metadata": {},
     "output_type": "execute_result"
    }
   ],
   "source": [
    "a2 = 0.6836\n",
    "delta2 = a2 * (1 - a2) * sigma2\n",
    "delta2"
   ]
  },
  {
   "cell_type": "code",
   "execution_count": 20,
   "id": "7a2b1ac5",
   "metadata": {},
   "outputs": [
    {
     "data": {
      "text/plain": [
       "0.005558028141119999"
      ]
     },
     "execution_count": 20,
     "metadata": {},
     "output_type": "execute_result"
    }
   ],
   "source": [
    "sigma3 = -0.5 * delta1 + 0.3 * delta2\n",
    "sigma3"
   ]
  },
  {
   "cell_type": "code",
   "execution_count": 21,
   "id": "8294c1eb",
   "metadata": {},
   "outputs": [
    {
     "data": {
      "text/plain": [
       "0.0011888622193855678"
      ]
     },
     "execution_count": 21,
     "metadata": {},
     "output_type": "execute_result"
    }
   ],
   "source": [
    "a3 = 0.69\n",
    "delta3 = a3 * (1 - a3) * sigma3\n",
    "delta3"
   ]
  },
  {
   "cell_type": "code",
   "execution_count": 22,
   "id": "63da5b07",
   "metadata": {},
   "outputs": [
    {
     "data": {
      "text/plain": [
       "-0.04618661347776001"
      ]
     },
     "execution_count": 22,
     "metadata": {},
     "output_type": "execute_result"
    }
   ],
   "source": [
    "sigma4 = 0.4 * delta1 + 0.6 * delta2\n",
    "sigma4"
   ]
  },
  {
   "cell_type": "code",
   "execution_count": 23,
   "id": "ddcf5451",
   "metadata": {},
   "outputs": [
    {
     "data": {
      "text/plain": [
       "-0.010853565500939365"
      ]
     },
     "execution_count": 23,
     "metadata": {},
     "output_type": "execute_result"
    }
   ],
   "source": [
    "a4 = 0.6225\n",
    "delta4 = a4 * (1 - a4) * sigma4\n",
    "delta4"
   ]
  },
  {
   "cell_type": "code",
   "execution_count": 24,
   "id": "9247da38",
   "metadata": {},
   "outputs": [
    {
     "data": {
      "text/plain": [
       "-0.019876281411840006"
      ]
     },
     "execution_count": 24,
     "metadata": {},
     "output_type": "execute_result"
    }
   ],
   "source": [
    "sigma5 = 0.4 * delta2\n",
    "sigma5"
   ]
  },
  {
   "cell_type": "code",
   "execution_count": 25,
   "id": "c6e07316",
   "metadata": {},
   "outputs": [
    {
     "data": {
      "text/plain": [
       "-0.004956647677077601"
      ]
     },
     "execution_count": 25,
     "metadata": {},
     "output_type": "execute_result"
    }
   ],
   "source": [
    "a5 = 0.475\n",
    "delta5 = a5 * (1 - a5) * sigma5\n",
    "delta5"
   ]
  },
  {
   "cell_type": "markdown",
   "id": "eda4a5b8",
   "metadata": {},
   "source": [
    "Gradient Descent"
   ]
  },
  {
   "cell_type": "code",
   "execution_count": 26,
   "id": "8f6827e9",
   "metadata": {},
   "outputs": [],
   "source": [
    "alpha = 0.5"
   ]
  },
  {
   "cell_type": "code",
   "execution_count": 27,
   "id": "1848b9a3",
   "metadata": {},
   "outputs": [
    {
     "data": {
      "text/plain": [
       "0.5781116"
      ]
     },
     "execution_count": 27,
     "metadata": {},
     "output_type": "execute_result"
    }
   ],
   "source": [
    "0.5 - alpha * (-0.3282) * 0.476"
   ]
  },
  {
   "cell_type": "code",
   "execution_count": 28,
   "id": "0dafead2",
   "metadata": {},
   "outputs": [
    {
     "data": {
      "text/plain": [
       "0.8120803"
      ]
     },
     "execution_count": 28,
     "metadata": {},
     "output_type": "execute_result"
    }
   ],
   "source": [
    "0.7 - alpha * (-0.3282) * 0.683"
   ]
  },
  {
   "cell_type": "code",
   "execution_count": 29,
   "id": "a231a1de",
   "metadata": {},
   "outputs": [
    {
     "data": {
      "text/plain": [
       "-0.4858895"
      ]
     },
     "execution_count": 29,
     "metadata": {},
     "output_type": "execute_result"
    }
   ],
   "source": [
    "-0.5 - alpha * (-0.0409) * 0.69"
   ]
  },
  {
   "cell_type": "code",
   "execution_count": 30,
   "id": "e0b3433f",
   "metadata": {},
   "outputs": [
    {
     "data": {
      "text/plain": [
       "0.3171465"
      ]
     },
     "execution_count": 30,
     "metadata": {},
     "output_type": "execute_result"
    }
   ],
   "source": [
    "0.3 - alpha * (-0.0497) * 0.69"
   ]
  },
  {
   "cell_type": "code",
   "execution_count": 31,
   "id": "4a6dd211",
   "metadata": {},
   "outputs": [
    {
     "data": {
      "text/plain": [
       "0.412730125"
      ]
     },
     "execution_count": 31,
     "metadata": {},
     "output_type": "execute_result"
    }
   ],
   "source": [
    "0.4 - alpha * (-0.0409) * 0.6225"
   ]
  },
  {
   "cell_type": "code",
   "execution_count": 32,
   "id": "8436f7a8",
   "metadata": {},
   "outputs": [
    {
     "data": {
      "text/plain": [
       "0.615469125"
      ]
     },
     "execution_count": 32,
     "metadata": {},
     "output_type": "execute_result"
    }
   ],
   "source": [
    "0.6 - alpha * (-0.0497) * 0.6225"
   ]
  },
  {
   "cell_type": "code",
   "execution_count": 33,
   "id": "ccb90787",
   "metadata": {},
   "outputs": [
    {
     "data": {
      "text/plain": [
       "0.41180375"
      ]
     },
     "execution_count": 33,
     "metadata": {},
     "output_type": "execute_result"
    }
   ],
   "source": [
    "0.4 - alpha * (-0.0497) * 0.475"
   ]
  },
  {
   "cell_type": "code",
   "execution_count": 34,
   "id": "d61881bb",
   "metadata": {},
   "outputs": [
    {
     "data": {
      "text/plain": [
       "0.4994"
      ]
     },
     "execution_count": 34,
     "metadata": {},
     "output_type": "execute_result"
    }
   ],
   "source": [
    "0.5 - alpha * (0.0012) * 1"
   ]
  },
  {
   "cell_type": "code",
   "execution_count": 35,
   "id": "c80a2326",
   "metadata": {},
   "outputs": [
    {
     "data": {
      "text/plain": [
       "-0.19455"
      ]
     },
     "execution_count": 35,
     "metadata": {},
     "output_type": "execute_result"
    }
   ],
   "source": [
    "-0.2 - alpha * (-0.0109) * 1"
   ]
  },
  {
   "cell_type": "code",
   "execution_count": 36,
   "id": "0df8981a",
   "metadata": {},
   "outputs": [
    {
     "data": {
      "text/plain": [
       "0.2994"
      ]
     },
     "execution_count": 36,
     "metadata": {},
     "output_type": "execute_result"
    }
   ],
   "source": [
    "0.3 - alpha * (0.0012) * 1"
   ]
  },
  {
   "cell_type": "code",
   "execution_count": 37,
   "id": "5df60138",
   "metadata": {},
   "outputs": [
    {
     "data": {
      "text/plain": [
       "0.7054499999999999"
      ]
     },
     "execution_count": 37,
     "metadata": {},
     "output_type": "execute_result"
    }
   ],
   "source": [
    "0.7 - alpha * (-0.0109) * 1"
   ]
  },
  {
   "cell_type": "code",
   "execution_count": 38,
   "id": "5176a709",
   "metadata": {},
   "outputs": [
    {
     "data": {
      "text/plain": [
       "-0.0975"
      ]
     },
     "execution_count": 38,
     "metadata": {},
     "output_type": "execute_result"
    }
   ],
   "source": [
    "-0.1 - alpha * (-0.0050) * 1"
   ]
  },
  {
   "cell_type": "markdown",
   "id": "1b94ab78",
   "metadata": {},
   "source": [
    "Forward pass"
   ]
  },
  {
   "cell_type": "code",
   "execution_count": 38,
   "id": "afc333dd",
   "metadata": {},
   "outputs": [
    {
     "data": {
      "text/plain": [
       "0.729"
      ]
     },
     "execution_count": 38,
     "metadata": {},
     "output_type": "execute_result"
    }
   ],
   "source": [
    "z1 = 0.4994 * 1 + 0.2296 * 1\n",
    "z1"
   ]
  },
  {
   "cell_type": "code",
   "execution_count": 39,
   "id": "9a246498",
   "metadata": {},
   "outputs": [
    {
     "data": {
      "text/plain": [
       "0.6745857911174089"
      ]
     },
     "execution_count": 39,
     "metadata": {},
     "output_type": "execute_result"
    }
   ],
   "source": [
    "a1 = sigmoid(z1)\n",
    "a1"
   ]
  },
  {
   "cell_type": "code",
   "execution_count": 39,
   "id": "0305dcaa",
   "metadata": {},
   "outputs": [
    {
     "data": {
      "text/plain": [
       "0.5109"
      ]
     },
     "execution_count": 39,
     "metadata": {},
     "output_type": "execute_result"
    }
   ],
   "source": [
    "z2 = -0.1945 * 1 + 0.7054 * 1\n",
    "z2"
   ]
  },
  {
   "cell_type": "code",
   "execution_count": 40,
   "id": "ee909bcd",
   "metadata": {},
   "outputs": [
    {
     "data": {
      "text/plain": [
       "0.6250174317677742"
      ]
     },
     "execution_count": 40,
     "metadata": {},
     "output_type": "execute_result"
    }
   ],
   "source": [
    "a2 = sigmoid(z2)\n",
    "a2"
   ]
  },
  {
   "cell_type": "code",
   "execution_count": 41,
   "id": "d5b90428",
   "metadata": {},
   "outputs": [
    {
     "data": {
      "text/plain": [
       "-0.0975"
      ]
     },
     "execution_count": 41,
     "metadata": {},
     "output_type": "execute_result"
    }
   ],
   "source": [
    "z3 = -0.0975 * 1\n",
    "z3"
   ]
  },
  {
   "cell_type": "code",
   "execution_count": 42,
   "id": "17288f14",
   "metadata": {},
   "outputs": [
    {
     "data": {
      "text/plain": [
       "0.47564429123179275"
      ]
     },
     "execution_count": 42,
     "metadata": {},
     "output_type": "execute_result"
    }
   ],
   "source": [
    "a3 = sigmoid(z3)\n",
    "a3"
   ]
  },
  {
   "cell_type": "code",
   "execution_count": 43,
   "id": "da216e0f",
   "metadata": {},
   "outputs": [
    {
     "data": {
      "text/plain": [
       "-0.06985064000000002"
      ]
     },
     "execution_count": 43,
     "metadata": {},
     "output_type": "execute_result"
    }
   ],
   "source": [
    "z4 = -0.4859 * 0.6746 + 0.4127 * 0.6250\n",
    "z4"
   ]
  },
  {
   "cell_type": "code",
   "execution_count": 44,
   "id": "923c1f92",
   "metadata": {},
   "outputs": [
    {
     "data": {
      "text/plain": [
       "0.48254443672681097"
      ]
     },
     "execution_count": 44,
     "metadata": {},
     "output_type": "execute_result"
    }
   ],
   "source": [
    "a4 = sigmoid(z4)\n",
    "a4"
   ]
  },
  {
   "cell_type": "code",
   "execution_count": 45,
   "id": "875e2640",
   "metadata": {},
   "outputs": [
    {
     "data": {
      "text/plain": [
       "0.79445524"
      ]
     },
     "execution_count": 45,
     "metadata": {},
     "output_type": "execute_result"
    }
   ],
   "source": [
    "z5 = 0.3171 * 0.6746 + 0.6155 * 0.6250 + 0.4118 * 0.4756\n",
    "z5"
   ]
  },
  {
   "cell_type": "code",
   "execution_count": 46,
   "id": "e51637a1",
   "metadata": {},
   "outputs": [
    {
     "data": {
      "text/plain": [
       "0.688787155555985"
      ]
     },
     "execution_count": 46,
     "metadata": {},
     "output_type": "execute_result"
    }
   ],
   "source": [
    "a5 = sigmoid(z5)\n",
    "a5"
   ]
  },
  {
   "cell_type": "code",
   "execution_count": 47,
   "id": "ecf1a73e",
   "metadata": {},
   "outputs": [
    {
     "data": {
      "text/plain": [
       "0.8383077299999999"
      ]
     },
     "execution_count": 47,
     "metadata": {},
     "output_type": "execute_result"
    }
   ],
   "source": [
    "z6 = 0.5781 * 0.4825 + 0.8121 * 0.6888\n",
    "z6"
   ]
  },
  {
   "cell_type": "code",
   "execution_count": 48,
   "id": "fb3104d9",
   "metadata": {},
   "outputs": [
    {
     "data": {
      "text/plain": [
       "0.6981086847228747"
      ]
     },
     "execution_count": 48,
     "metadata": {},
     "output_type": "execute_result"
    }
   ],
   "source": [
    "a6 = sigmoid(z6)\n",
    "a6"
   ]
  },
  {
   "cell_type": "code",
   "execution_count": null,
   "id": "9647806b",
   "metadata": {},
   "outputs": [],
   "source": []
  }
 ],
 "metadata": {
  "kernelspec": {
   "display_name": "Python 3 (ipykernel)",
   "language": "python",
   "name": "python3"
  },
  "language_info": {
   "codemirror_mode": {
    "name": "ipython",
    "version": 3
   },
   "file_extension": ".py",
   "mimetype": "text/x-python",
   "name": "python",
   "nbconvert_exporter": "python",
   "pygments_lexer": "ipython3",
   "version": "3.9.12"
  }
 },
 "nbformat": 4,
 "nbformat_minor": 5
}
